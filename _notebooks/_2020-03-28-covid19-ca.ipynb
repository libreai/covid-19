{
 "cells": [
  {
   "cell_type": "markdown",
   "metadata": {},
   "source": [
    "# Covid-19 en Centroamérica\n",
    "> Dashboard\n",
    "\n",
    "- toc: false\n",
    "- branch: master\n",
    "- badges: true\n",
    "- comments: false\n",
    "- image: images/covid-19-ca.png\n",
    "- permalink: /covid-19-ca/\n",
    "- author: \"Libre AI\"\n",
    "- categories: [centroamerica, covid19]"
   ]
  },
  {
   "cell_type": "markdown",
   "metadata": {},
   "source": [
    "> Última actualización 2020-03-28 10:24 AM CST"
   ]
  },
  {
   "cell_type": "code",
   "execution_count": 270,
   "metadata": {},
   "outputs": [],
   "source": [
    "#hide\n",
    "import math\n",
    "from IPython.display import display, HTML"
   ]
  },
  {
   "cell_type": "code",
   "execution_count": 271,
   "metadata": {},
   "outputs": [],
   "source": [
    "#hide\n",
    "\n",
    "#latest case count\n",
    "cases_by_country = {'gt': 32, 'bz': 2, 'hn': 95, 'sv': 19, 'ni': 4, 'cr': 263, 'pa': 786}"
   ]
  },
  {
   "cell_type": "code",
   "execution_count": 272,
   "metadata": {},
   "outputs": [],
   "source": [
    "#hide\n",
    "\n",
    "html_head = '''\n",
    "<!DOCTYPE html>\n",
    "<html>\n",
    "<head>\n",
    "  <title>Covid-19 en Centroamérica</title>\n",
    "  <meta charset=\"utf-8\" />\n",
    "  <meta name=\"viewport\" content=\"width=device-width, initial-scale=1.0\">\n",
    "\n",
    "  <link rel=\"shortcut icon\" type=\"image/x-icon\" href=\"docs/images/favicon.ico\" />\n",
    "\n",
    "    <link rel=\"stylesheet\" href=\"https://unpkg.com/leaflet@1.6.0/dist/leaflet.css\" integrity=\"sha512-xwE/Az9zrjBIphAcBb3F6JVqxf46+CDLwfLMHloNu6KEQCAWi6HcDUbeOfBIptF7tcCzusKFjFw2yuvEpDL9wQ==\" crossorigin=\"\"/>\n",
    "    <script src=\"https://unpkg.com/leaflet@1.6.0/dist/leaflet.js\" integrity=\"sha512-gZwIG9x3wUXg2hdXF6+rVkLF/0Vi9U8D2Ntg4Ga5I5BZpVkVxlJWbSQtXPSiUTtC0TjtGOmxa1AJPuV0CPthew==\" crossorigin=\"\"></script>\n",
    "</head>\n",
    "<body>\n",
    "\n",
    "<div id=\"covid10-map\" style=\"width: 800px; height: 600px;\"></div>\n",
    "'''\n",
    "\n",
    "html_foot = '''\n",
    "</script>\n",
    "\n",
    "</body>\n",
    "</html>\n",
    "'''"
   ]
  },
  {
   "cell_type": "code",
   "execution_count": 273,
   "metadata": {},
   "outputs": [],
   "source": [
    "#hide\n",
    "\n",
    "map_center_lat, map_center_long = (12.5, -87)\n",
    "zoom = 6\n",
    "max_zoom = 7"
   ]
  },
  {
   "cell_type": "code",
   "execution_count": 274,
   "metadata": {},
   "outputs": [],
   "source": [
    "#hide\n",
    "\n",
    "base_map_html = '''\n",
    "<script>\n",
    "  var mymap = L.map('covid10-map').setView([{}, {}], {});\n",
    "'''.format(map_center_lat, map_center_long, zoom)\n",
    "\n",
    "# base_layer = '''\n",
    "# L.tileLayer('https://{{s}}.tile.openstreetmap.org/{{z}}/{{x}}/{{y}}.png', {{\n",
    "#     attribution: '&copy; <a href=\"https://www.openstreetmap.org/copyright\">OpenStreetMap</a> contributors',\n",
    "#     subdomains: 'abcd',\n",
    "#     maxZoom: {}\n",
    "# }}).addTo(mymap);\n",
    "# '''.format(max_zoom)\n",
    "\n",
    "# base_layer = '''\n",
    "# L.tileLayer('https://server.arcgisonline.com/ArcGIS/rest/services/Canvas/World_Light_Gray_Base/MapServer/tile/{{z}}/{{y}}/{{x}}', {{\n",
    "#     attribution: '&copy; <a href=\"https://www.openstreetmap.org/copyright\">OpenStreetMap</a> contributors',\n",
    "#     maxZoom: {}\n",
    "# }}).addTo(mymap);\n",
    "# '''.format(max_zoom)\n",
    "\n",
    "base_layer = '''\n",
    "L.tileLayer('https://tiles.stadiamaps.com/tiles/osm_bright/{{z}}/{{x}}/{{y}}{{r}}.png', {{\n",
    "    attribution: '&copy; <a href=\"https://stadiamaps.com/\">Stadia Maps</a>, &copy; <a href=\"https://openmaptiles.org/\">OpenMapTiles</a> &copy; <a href=\"http://openstreetmap.org\">OpenStreetMap</a> contributors',\n",
    "    maxZoom: {}\n",
    "}}).addTo(mymap);\n",
    "'''.format(max_zoom)"
   ]
  },
  {
   "cell_type": "code",
   "execution_count": 275,
   "metadata": {},
   "outputs": [],
   "source": [
    "#hide\n",
    "\n",
    "class Country:\n",
    "    def __init__(self, name, lat, long):\n",
    "        super()\n",
    "        self.cases = 0\n",
    "        self.name = name\n",
    "        self.lat = lat\n",
    "        self.long = long\n"
   ]
  },
  {
   "cell_type": "code",
   "execution_count": 276,
   "metadata": {},
   "outputs": [],
   "source": [
    "#hide\n",
    "\n",
    "gt = Country('Guatemala', 14.63, -90.56)\n",
    "bz = Country('Belize', 17.25, -88.80)\n",
    "hn = Country('Honduras', 14.08, -87.24)\n",
    "sv = Country('El Salvador', 13.69, -89.25)\n",
    "ni = Country('Nicaragua', 12.10, -86.33)\n",
    "cr = Country('Costa Rica', 9.94, -84.15)\n",
    "pa = Country('Panama', 9.08, -79.59)\n",
    "\n",
    "countries = {'gt': gt, 'bz': bz, 'hn': hn, 'sv': sv, 'ni': ni, 'cr': cr, 'pa': pa}"
   ]
  },
  {
   "cell_type": "code",
   "execution_count": 277,
   "metadata": {},
   "outputs": [],
   "source": [
    "#hide\n",
    "\n",
    "# set latest cases\n",
    "for c in countries:\n",
    "    countries[c].cases = cases_by_country[c]"
   ]
  },
  {
   "cell_type": "code",
   "execution_count": 278,
   "metadata": {},
   "outputs": [],
   "source": [
    "#hide\n",
    "\n",
    "map_circles_html = []\n",
    "for c in countries:\n",
    "    c_circle = '''\n",
    "        L.circle([{}, {}], {}*3000, {{\n",
    "          color: 'red',\n",
    "          fillColor: '#f03',\n",
    "          fillOpacity: 0.5\n",
    "          }}).addTo(mymap)\n",
    "          .bindTooltip(\"<div><b>{}</b><br/><span style='color:red'><h3 style='display:inline'>{}</h3></span>&nbsp;personas infectadas</div>\", {{sticky: true}});'''.format(countries[c].lat,\n",
    "                                                                               countries[c].long,\n",
    "                                                                               math.sqrt(countries[c].cases),\n",
    "                                                                               countries[c].name,\n",
    "                                                                               countries[c].cases)\n",
    "    \n",
    "    map_circles_html.append(c_circle)\n",
    "    "
   ]
  },
  {
   "cell_type": "code",
   "execution_count": 280,
   "metadata": {},
   "outputs": [
    {
     "data": {
      "text/html": [
       "\n",
       "<!DOCTYPE html>\n",
       "<html>\n",
       "<head>\n",
       "  <title>Covid-19 en Centroamérica</title>\n",
       "  <meta charset=\"utf-8\" />\n",
       "  <meta name=\"viewport\" content=\"width=device-width, initial-scale=1.0\">\n",
       "\n",
       "  <link rel=\"shortcut icon\" type=\"image/x-icon\" href=\"docs/images/favicon.ico\" />\n",
       "\n",
       "    <link rel=\"stylesheet\" href=\"https://unpkg.com/leaflet@1.6.0/dist/leaflet.css\" integrity=\"sha512-xwE/Az9zrjBIphAcBb3F6JVqxf46+CDLwfLMHloNu6KEQCAWi6HcDUbeOfBIptF7tcCzusKFjFw2yuvEpDL9wQ==\" crossorigin=\"\"/>\n",
       "    <script src=\"https://unpkg.com/leaflet@1.6.0/dist/leaflet.js\" integrity=\"sha512-gZwIG9x3wUXg2hdXF6+rVkLF/0Vi9U8D2Ntg4Ga5I5BZpVkVxlJWbSQtXPSiUTtC0TjtGOmxa1AJPuV0CPthew==\" crossorigin=\"\"></script>\n",
       "</head>\n",
       "<body>\n",
       "\n",
       "<div id=\"covid10-map\" style=\"width: 800px; height: 600px;\"></div>\n",
       "\n",
       "<script>\n",
       "  var mymap = L.map('covid10-map').setView([12.5, -87], 6);\n",
       "\n",
       "L.tileLayer('https://tiles.stadiamaps.com/tiles/osm_bright/{z}/{x}/{y}{r}.png', {\n",
       "    attribution: '&copy; <a href=\"https://stadiamaps.com/\">Stadia Maps</a>, &copy; <a href=\"https://openmaptiles.org/\">OpenMapTiles</a> &copy; <a href=\"http://openstreetmap.org\">OpenStreetMap</a> contributors',\n",
       "    maxZoom: 7\n",
       "}).addTo(mymap);\n",
       "\n",
       "        L.circle([14.63, -90.56], 5.656854249492381*3000, {\n",
       "          color: 'red',\n",
       "          fillColor: '#f03',\n",
       "          fillOpacity: 0.5\n",
       "          }).addTo(mymap)\n",
       "          .bindTooltip(\"<div><b>Guatemala</b><br/><span style='color:red'><h3 style='display:inline'>32</h3></span>&nbsp;personas infectadas</div>\", {sticky: true});\n",
       "\n",
       "        L.circle([17.25, -88.8], 1.4142135623730951*3000, {\n",
       "          color: 'red',\n",
       "          fillColor: '#f03',\n",
       "          fillOpacity: 0.5\n",
       "          }).addTo(mymap)\n",
       "          .bindTooltip(\"<div><b>Belize</b><br/><span style='color:red'><h3 style='display:inline'>2</h3></span>&nbsp;personas infectadas</div>\", {sticky: true});\n",
       "\n",
       "        L.circle([14.08, -87.24], 9.746794344808963*3000, {\n",
       "          color: 'red',\n",
       "          fillColor: '#f03',\n",
       "          fillOpacity: 0.5\n",
       "          }).addTo(mymap)\n",
       "          .bindTooltip(\"<div><b>Honduras</b><br/><span style='color:red'><h3 style='display:inline'>95</h3></span>&nbsp;personas infectadas</div>\", {sticky: true});\n",
       "\n",
       "        L.circle([13.69, -89.25], 4.358898943540674*3000, {\n",
       "          color: 'red',\n",
       "          fillColor: '#f03',\n",
       "          fillOpacity: 0.5\n",
       "          }).addTo(mymap)\n",
       "          .bindTooltip(\"<div><b>El Salvador</b><br/><span style='color:red'><h3 style='display:inline'>19</h3></span>&nbsp;personas infectadas</div>\", {sticky: true});\n",
       "\n",
       "        L.circle([12.1, -86.33], 2.0*3000, {\n",
       "          color: 'red',\n",
       "          fillColor: '#f03',\n",
       "          fillOpacity: 0.5\n",
       "          }).addTo(mymap)\n",
       "          .bindTooltip(\"<div><b>Nicaragua</b><br/><span style='color:red'><h3 style='display:inline'>4</h3></span>&nbsp;personas infectadas</div>\", {sticky: true});\n",
       "\n",
       "        L.circle([9.94, -84.15], 16.217274740226856*3000, {\n",
       "          color: 'red',\n",
       "          fillColor: '#f03',\n",
       "          fillOpacity: 0.5\n",
       "          }).addTo(mymap)\n",
       "          .bindTooltip(\"<div><b>Costa Rica</b><br/><span style='color:red'><h3 style='display:inline'>263</h3></span>&nbsp;personas infectadas</div>\", {sticky: true});\n",
       "\n",
       "        L.circle([9.08, -79.59], 28.035691537752374*3000, {\n",
       "          color: 'red',\n",
       "          fillColor: '#f03',\n",
       "          fillOpacity: 0.5\n",
       "          }).addTo(mymap)\n",
       "          .bindTooltip(\"<div><b>Panama</b><br/><span style='color:red'><h3 style='display:inline'>786</h3></span>&nbsp;personas infectadas</div>\", {sticky: true});"
      ],
      "text/plain": [
       "<IPython.core.display.HTML object>"
      ]
     },
     "metadata": {},
     "output_type": "display_data"
    }
   ],
   "source": [
    "#hide_input\n",
    "\n",
    "display(HTML(html_head + base_map_html + base_layer + \"\\n\".join(map_circles_html)))"
   ]
  },
  {
   "cell_type": "code",
   "execution_count": null,
   "metadata": {},
   "outputs": [],
   "source": []
  }
 ],
 "metadata": {
  "kernelspec": {
   "display_name": "Python 3",
   "language": "python",
   "name": "python3"
  },
  "language_info": {
   "codemirror_mode": {
    "name": "ipython",
    "version": 3
   },
   "file_extension": ".py",
   "mimetype": "text/x-python",
   "name": "python",
   "nbconvert_exporter": "python",
   "pygments_lexer": "ipython3",
   "version": "3.7.5"
  }
 },
 "nbformat": 4,
 "nbformat_minor": 4
}
