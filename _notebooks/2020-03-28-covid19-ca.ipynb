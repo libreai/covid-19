{
 "cells": [
  {
   "cell_type": "markdown",
   "metadata": {},
   "source": [
    "# Covid-19 en Centroamérica\n",
    "> Dashboard\n",
    "\n",
    "- toc: false\n",
    "- branch: master\n",
    "- badges: true\n",
    "- comments: false\n",
    "- image: images/covid-19-ca.png\n",
    "- permalink: /covid-19-ca/\n",
    "- author: \"Libre AI\"\n",
    "- categories: [centroamerica, covid19]"
   ]
  },
  {
   "cell_type": "code",
   "execution_count": 17,
   "metadata": {},
   "outputs": [],
   "source": [
    "#hide\n",
    "import math\n",
    "import folium\n",
    "import pandas as pd\n",
    "import flag\n",
    "\n",
    "from IPython.display import display, display_html, HTML, IFrame, Markdown"
   ]
  },
  {
   "cell_type": "code",
   "execution_count": 18,
   "metadata": {},
   "outputs": [
    {
     "data": {
      "text/markdown": [
       "> Last updated on 2020-03-31 12:25 UTC"
      ],
      "text/plain": [
       "<IPython.core.display.Markdown object>"
      ]
     },
     "execution_count": 18,
     "metadata": {},
     "output_type": "execute_result"
    }
   ],
   "source": [
    "#hide_input\n",
    "\n",
    "from datetime import datetime\n",
    "utc_now = datetime.utcnow()\n",
    "\n",
    "Markdown('> Last updated on {} UTC'.format(utc_now.strftime(\"%Y-%m-%d %H:%M\")))"
   ]
  },
  {
   "cell_type": "code",
   "execution_count": 19,
   "metadata": {},
   "outputs": [],
   "source": [
    "#hide\n",
    "\n",
    "#latest case count\n",
    "country_code2name = {'gt': 'Guatemala',\n",
    "                     'bz': 'Belize',\n",
    "                     'hn': 'Honduras',\n",
    "                     'sv': 'El Salvador',\n",
    "                     'ni': 'Nicaragua',\n",
    "                     'cr': 'Costa Rica',\n",
    "                     'pa': 'Panama'\n",
    "                    }\n",
    "\n"
   ]
  },
  {
   "cell_type": "code",
   "execution_count": 20,
   "metadata": {},
   "outputs": [],
   "source": [
    "#hide\n",
    "confirmed = pd.read_csv('data/time_series_covid19_confirmed_global.csv')\n",
    "deaths = pd.read_csv('data/time_series_covid19_deaths_global.csv')\n",
    "recovered = pd.read_csv('data/time_series_covid19_recovered_global.csv')"
   ]
  },
  {
   "cell_type": "code",
   "execution_count": 21,
   "metadata": {},
   "outputs": [],
   "source": [
    "#hide\n",
    "def get_latest_count(df, country):\n",
    "    df_country = df[df['Country/Region'] == country]\n",
    "    # dates are columns, so we take the last column\n",
    "    latest_count_date = df_country.columns[-1]\n",
    "    latest_count = df_country[latest_count_date]\n",
    "    return latest_count.values[0]"
   ]
  },
  {
   "cell_type": "code",
   "execution_count": 22,
   "metadata": {},
   "outputs": [
    {
     "data": {
      "text/plain": [
       "('latest_deaths_by_country',\n",
       " {'gt': 1, 'bz': 0, 'hn': 7, 'sv': 0, 'ni': 1, 'cr': 2, 'pa': 24},\n",
       " 'latest_deaths_by_country',\n",
       " {'gt': 1, 'bz': 0, 'hn': 7, 'sv': 0, 'ni': 1, 'cr': 2, 'pa': 24},\n",
       " 'latest_recovered_by_country',\n",
       " {'gt': 10, 'bz': 0, 'hn': 3, 'sv': 0, 'ni': 0, 'cr': 4, 'pa': 4})"
      ]
     },
     "execution_count": 22,
     "metadata": {},
     "output_type": "execute_result"
    }
   ],
   "source": [
    "#hide \n",
    "latest_cases_by_country = {c_code:get_latest_count(confirmed, country_code2name[c_code]) for c_code in country_code2name}\n",
    "\n",
    "latest_deaths_by_country = {c_code:get_latest_count(deaths, country_code2name[c_code]) for c_code in country_code2name}\n",
    "\n",
    "latest_recovered_by_country = {c_code:get_latest_count(recovered, country_code2name[c_code]) for c_code in country_code2name}\n",
    "\n",
    "('latest_deaths_by_country', latest_deaths_by_country,\n",
    " 'latest_deaths_by_country', latest_deaths_by_country,\n",
    " 'latest_recovered_by_country', latest_recovered_by_country)"
   ]
  },
  {
   "cell_type": "code",
   "execution_count": 23,
   "metadata": {},
   "outputs": [],
   "source": [
    "#hide\n",
    "#The Map ---"
   ]
  },
  {
   "cell_type": "code",
   "execution_count": 24,
   "metadata": {},
   "outputs": [],
   "source": [
    "#hide\n",
    "\n",
    "map_center_lat, map_center_long = (12.5, -87)\n",
    "zoom = 6"
   ]
  },
  {
   "cell_type": "code",
   "execution_count": 25,
   "metadata": {},
   "outputs": [],
   "source": [
    "#hide\n",
    "\n",
    "class Country:\n",
    "    def __init__(self, name, lat, long):\n",
    "        super()\n",
    "        self.cases = 0\n",
    "        self.deaths = 0\n",
    "        self.recovered = 0\n",
    "        self.name = name\n",
    "        self.lat = lat\n",
    "        self.long = long\n"
   ]
  },
  {
   "cell_type": "code",
   "execution_count": 26,
   "metadata": {},
   "outputs": [],
   "source": [
    "#hide\n",
    "\n",
    "gt = Country(country_code2name['gt'], 14.63, -90.56)\n",
    "bz = Country(country_code2name['bz'], 17.25, -88.80)\n",
    "hn = Country(country_code2name['hn'], 14.08, -87.24)\n",
    "sv = Country(country_code2name['sv'], 13.69, -89.25)\n",
    "ni = Country(country_code2name['ni'], 12.10, -86.33)\n",
    "cr = Country(country_code2name['cr'], 9.94, -84.15)\n",
    "pa = Country(country_code2name['pa'], 9.08, -79.59)\n",
    "\n",
    "countries = {'gt': gt, 'bz': bz, 'hn': hn, 'sv': sv, 'ni': ni, 'cr': cr, 'pa': pa}"
   ]
  },
  {
   "cell_type": "code",
   "execution_count": 27,
   "metadata": {},
   "outputs": [],
   "source": [
    "#hide\n",
    "\n",
    "# set latest cases\n",
    "for c in countries:\n",
    "    countries[c].cases = latest_cases_by_country[c]\n",
    "    countries[c].deaths = latest_deaths_by_country[c]\n",
    "    countries[c].recovered = latest_recovered_by_country[c]\n",
    "    "
   ]
  },
  {
   "cell_type": "code",
   "execution_count": 28,
   "metadata": {},
   "outputs": [],
   "source": [
    "#hide\n",
    "\n",
    "m = folium.Map(location=[map_center_lat, map_center_long],\n",
    "               zoom_start=zoom,\n",
    "               max_zoom=zoom+1,\n",
    "               min_zoom=zoom-1\n",
    "              )\n",
    "\n",
    "# tiles = 'cartodbdark_matter'\n",
    "# tiles = 'cartodbpositron'\n",
    "# tiles = 'stamentoner'\n",
    "tiles = 'stamenterrain'\n",
    "\n",
    "folium.TileLayer(tiles, min_zoom=zoom-1, max_zoom=zoom+1).add_to(m)\n",
    "\n",
    "tooltip_template = '''<div>\n",
    "<b>{}</b><br/>\n",
    "<span style='color:orange'><h3 style='display:inline'>{}</h3></span>&nbsp;Diagnosticados<br/>\n",
    "<span style='color:red'><h4 style='display:inline'>{}</h4></span>&nbsp;Muertos<br/>\n",
    "<span style='color:green'><h4 style='display:inline'>{}</h4></span>&nbsp;Curados\n",
    "</div>\n",
    "'''\n",
    "\n",
    "for c in countries:\n",
    "    folium.CircleMarker(\n",
    "        location=[countries[c].lat, countries[c].long],\n",
    "        radius=math.sqrt(countries[c].cases),\n",
    "        color='red',\n",
    "        fill=True,\n",
    "        fill_color='#f03',\n",
    "        tooltip=tooltip_template.format(countries[c].name,\n",
    "                                        countries[c].cases,\n",
    "                                        countries[c].deaths,\n",
    "                                        countries[c].recovered\n",
    "                                       )\n",
    "    ).add_to(m)\n",
    "\n",
    "\n",
    "m.save('../maps/covid19-ca-map.html')"
   ]
  },
  {
   "cell_type": "code",
   "execution_count": 29,
   "metadata": {},
   "outputs": [
    {
     "data": {
      "text/html": [
       "\n",
       "        <iframe\n",
       "            width=\"800\"\n",
       "            height=\"600\"\n",
       "            src=\"../maps/covid19-ca-map.html\"\n",
       "            frameborder=\"0\"\n",
       "            allowfullscreen\n",
       "        ></iframe>\n",
       "        "
      ],
      "text/plain": [
       "<IPython.lib.display.IFrame at 0x1113c0b10>"
      ]
     },
     "execution_count": 29,
     "metadata": {},
     "output_type": "execute_result"
    }
   ],
   "source": [
    "# hide_input\n",
    "IFrame('../maps/covid19-ca-map.html', width=800, height=600)"
   ]
  },
  {
   "cell_type": "markdown",
   "metadata": {},
   "source": [
    "---"
   ]
  },
  {
   "cell_type": "code",
   "execution_count": 30,
   "metadata": {},
   "outputs": [],
   "source": [
    "#hide\n",
    "# The table ---"
   ]
  },
  {
   "cell_type": "code",
   "execution_count": 31,
   "metadata": {},
   "outputs": [],
   "source": [
    "#hide\n",
    "\n",
    "def get_summary_table():\n",
    "    country_code_name = sorted(country_code2name.items(), key=lambda x: x[1])\n",
    "    country_code = [x[0] for x in country_code_name]\n",
    "    country_name = [\"{} {}\".format(x[1], flag.flag(x[0])) for x in country_code_name]\n",
    "\n",
    "    cases_per_country = []\n",
    "    deaths_per_country = []\n",
    "    recovered_per_country = []\n",
    "\n",
    "    for c in country_code:\n",
    "        cases_per_country.append(latest_cases_by_country[c])\n",
    "        deaths_per_country.append(latest_deaths_by_country[c])\n",
    "        recovered_per_country.append(latest_recovered_by_country[c])\n",
    "    \n",
    "    x = pd.DataFrame({'País': country_name,\n",
    "                      'Diagnosticados': cases_per_country,\n",
    "                      'Muertos': deaths_per_country,\n",
    "                      'Curados': recovered_per_country\n",
    "                     })\n",
    "    return x\n",
    "\n"
   ]
  },
  {
   "cell_type": "code",
   "execution_count": 32,
   "metadata": {},
   "outputs": [
    {
     "data": {
      "text/html": [
       "<div style=\"display: flex; justify-content: center;\"><style  type=\"text/css\" >\n",
       "    #T_ab80b470_734a_11ea_94c7_dca90476276d th {\n",
       "          font-size: 22px;\n",
       "    }    #T_ab80b470_734a_11ea_94c7_dca90476276d td {\n",
       "          font-size: 18px;\n",
       "    }    #T_ab80b470_734a_11ea_94c7_dca90476276drow0_col1 {\n",
       "            background-color:  #fff5eb;\n",
       "            color:  #000000;\n",
       "        }    #T_ab80b470_734a_11ea_94c7_dca90476276drow0_col2 {\n",
       "            background-color:  #fff5f0;\n",
       "            color:  #000000;\n",
       "        }    #T_ab80b470_734a_11ea_94c7_dca90476276drow0_col3 {\n",
       "            background-color:  #f7fcf5;\n",
       "            color:  #000000;\n",
       "        }    #T_ab80b470_734a_11ea_94c7_dca90476276drow1_col1 {\n",
       "            background-color:  #fdba7f;\n",
       "            color:  #000000;\n",
       "        }    #T_ab80b470_734a_11ea_94c7_dca90476276drow1_col2 {\n",
       "            background-color:  #fee7dc;\n",
       "            color:  #000000;\n",
       "        }    #T_ab80b470_734a_11ea_94c7_dca90476276drow1_col3 {\n",
       "            background-color:  #98d594;\n",
       "            color:  #000000;\n",
       "        }    #T_ab80b470_734a_11ea_94c7_dca90476276drow2_col1 {\n",
       "            background-color:  #fff2e5;\n",
       "            color:  #000000;\n",
       "        }    #T_ab80b470_734a_11ea_94c7_dca90476276drow2_col2 {\n",
       "            background-color:  #fff5f0;\n",
       "            color:  #000000;\n",
       "        }    #T_ab80b470_734a_11ea_94c7_dca90476276drow2_col3 {\n",
       "            background-color:  #f7fcf5;\n",
       "            color:  #000000;\n",
       "        }    #T_ab80b470_734a_11ea_94c7_dca90476276drow3_col1 {\n",
       "            background-color:  #fff1e4;\n",
       "            color:  #000000;\n",
       "        }    #T_ab80b470_734a_11ea_94c7_dca90476276drow3_col2 {\n",
       "            background-color:  #ffeee7;\n",
       "            color:  #000000;\n",
       "        }    #T_ab80b470_734a_11ea_94c7_dca90476276drow3_col3 {\n",
       "            background-color:  #00441b;\n",
       "            color:  #f1f1f1;\n",
       "        }    #T_ab80b470_734a_11ea_94c7_dca90476276drow4_col1 {\n",
       "            background-color:  #fee4ca;\n",
       "            color:  #000000;\n",
       "        }    #T_ab80b470_734a_11ea_94c7_dca90476276drow4_col2 {\n",
       "            background-color:  #fcae92;\n",
       "            color:  #000000;\n",
       "        }    #T_ab80b470_734a_11ea_94c7_dca90476276drow4_col3 {\n",
       "            background-color:  #b8e3b2;\n",
       "            color:  #000000;\n",
       "        }    #T_ab80b470_734a_11ea_94c7_dca90476276drow5_col1 {\n",
       "            background-color:  #fff5eb;\n",
       "            color:  #000000;\n",
       "        }    #T_ab80b470_734a_11ea_94c7_dca90476276drow5_col2 {\n",
       "            background-color:  #ffeee7;\n",
       "            color:  #000000;\n",
       "        }    #T_ab80b470_734a_11ea_94c7_dca90476276drow5_col3 {\n",
       "            background-color:  #f7fcf5;\n",
       "            color:  #000000;\n",
       "        }    #T_ab80b470_734a_11ea_94c7_dca90476276drow6_col1 {\n",
       "            background-color:  #7f2704;\n",
       "            color:  #f1f1f1;\n",
       "        }    #T_ab80b470_734a_11ea_94c7_dca90476276drow6_col2 {\n",
       "            background-color:  #67000d;\n",
       "            color:  #f1f1f1;\n",
       "        }    #T_ab80b470_734a_11ea_94c7_dca90476276drow6_col3 {\n",
       "            background-color:  #98d594;\n",
       "            color:  #000000;\n",
       "        }</style><table id=\"T_ab80b470_734a_11ea_94c7_dca90476276d\" ><thead>    <tr>        <th class=\"col_heading level0 col0\" >País</th>        <th class=\"col_heading level0 col1\" >Diagnosticados</th>        <th class=\"col_heading level0 col2\" >Muertos</th>        <th class=\"col_heading level0 col3\" >Curados</th>    </tr></thead><tbody>\n",
       "                <tr>\n",
       "                                <td id=\"T_ab80b470_734a_11ea_94c7_dca90476276drow0_col0\" class=\"data row0 col0\" >Belize 🇧🇿</td>\n",
       "                        <td id=\"T_ab80b470_734a_11ea_94c7_dca90476276drow0_col1\" class=\"data row0 col1\" >3</td>\n",
       "                        <td id=\"T_ab80b470_734a_11ea_94c7_dca90476276drow0_col2\" class=\"data row0 col2\" >0</td>\n",
       "                        <td id=\"T_ab80b470_734a_11ea_94c7_dca90476276drow0_col3\" class=\"data row0 col3\" >0</td>\n",
       "            </tr>\n",
       "            <tr>\n",
       "                                <td id=\"T_ab80b470_734a_11ea_94c7_dca90476276drow1_col0\" class=\"data row1 col0\" >Costa Rica 🇨🇷</td>\n",
       "                        <td id=\"T_ab80b470_734a_11ea_94c7_dca90476276drow1_col1\" class=\"data row1 col1\" >330</td>\n",
       "                        <td id=\"T_ab80b470_734a_11ea_94c7_dca90476276drow1_col2\" class=\"data row1 col2\" >2</td>\n",
       "                        <td id=\"T_ab80b470_734a_11ea_94c7_dca90476276drow1_col3\" class=\"data row1 col3\" >4</td>\n",
       "            </tr>\n",
       "            <tr>\n",
       "                                <td id=\"T_ab80b470_734a_11ea_94c7_dca90476276drow2_col0\" class=\"data row2 col0\" >El Salvador 🇸🇻</td>\n",
       "                        <td id=\"T_ab80b470_734a_11ea_94c7_dca90476276drow2_col1\" class=\"data row2 col1\" >30</td>\n",
       "                        <td id=\"T_ab80b470_734a_11ea_94c7_dca90476276drow2_col2\" class=\"data row2 col2\" >0</td>\n",
       "                        <td id=\"T_ab80b470_734a_11ea_94c7_dca90476276drow2_col3\" class=\"data row2 col3\" >0</td>\n",
       "            </tr>\n",
       "            <tr>\n",
       "                                <td id=\"T_ab80b470_734a_11ea_94c7_dca90476276drow3_col0\" class=\"data row3 col0\" >Guatemala 🇬🇹</td>\n",
       "                        <td id=\"T_ab80b470_734a_11ea_94c7_dca90476276drow3_col1\" class=\"data row3 col1\" >36</td>\n",
       "                        <td id=\"T_ab80b470_734a_11ea_94c7_dca90476276drow3_col2\" class=\"data row3 col2\" >1</td>\n",
       "                        <td id=\"T_ab80b470_734a_11ea_94c7_dca90476276drow3_col3\" class=\"data row3 col3\" >10</td>\n",
       "            </tr>\n",
       "            <tr>\n",
       "                                <td id=\"T_ab80b470_734a_11ea_94c7_dca90476276drow4_col0\" class=\"data row4 col0\" >Honduras 🇭🇳</td>\n",
       "                        <td id=\"T_ab80b470_734a_11ea_94c7_dca90476276drow4_col1\" class=\"data row4 col1\" >139</td>\n",
       "                        <td id=\"T_ab80b470_734a_11ea_94c7_dca90476276drow4_col2\" class=\"data row4 col2\" >7</td>\n",
       "                        <td id=\"T_ab80b470_734a_11ea_94c7_dca90476276drow4_col3\" class=\"data row4 col3\" >3</td>\n",
       "            </tr>\n",
       "            <tr>\n",
       "                                <td id=\"T_ab80b470_734a_11ea_94c7_dca90476276drow5_col0\" class=\"data row5 col0\" >Nicaragua 🇳🇮</td>\n",
       "                        <td id=\"T_ab80b470_734a_11ea_94c7_dca90476276drow5_col1\" class=\"data row5 col1\" >4</td>\n",
       "                        <td id=\"T_ab80b470_734a_11ea_94c7_dca90476276drow5_col2\" class=\"data row5 col2\" >1</td>\n",
       "                        <td id=\"T_ab80b470_734a_11ea_94c7_dca90476276drow5_col3\" class=\"data row5 col3\" >0</td>\n",
       "            </tr>\n",
       "            <tr>\n",
       "                                <td id=\"T_ab80b470_734a_11ea_94c7_dca90476276drow6_col0\" class=\"data row6 col0\" >Panama 🇵🇦</td>\n",
       "                        <td id=\"T_ab80b470_734a_11ea_94c7_dca90476276drow6_col1\" class=\"data row6 col1\" >989</td>\n",
       "                        <td id=\"T_ab80b470_734a_11ea_94c7_dca90476276drow6_col2\" class=\"data row6 col2\" >24</td>\n",
       "                        <td id=\"T_ab80b470_734a_11ea_94c7_dca90476276drow6_col3\" class=\"data row6 col3\" >4</td>\n",
       "            </tr>\n",
       "    </tbody></table></div>"
      ],
      "text/plain": [
       "<IPython.core.display.HTML object>"
      ]
     },
     "metadata": {},
     "output_type": "display_data"
    }
   ],
   "source": [
    "#hide_input\n",
    "\n",
    "summary_df = get_summary_table()\n",
    "\n",
    "heading_properties = [('font-size', '22px')]\n",
    "cell_properties = [('font-size', '18px')]\n",
    "dfstyle = [dict(selector=\"th\", props=heading_properties), \n",
    "           dict(selector=\"td\", props=cell_properties)]\n",
    "\n",
    "df_style = summary_df.style\\\n",
    ".hide_index()\\\n",
    ".background_gradient(cmap='Oranges', subset=['Diagnosticados'])\\\n",
    ".background_gradient(cmap='Reds', subset=['Muertos'])\\\n",
    ".background_gradient(cmap='Greens', subset=['Curados'])\\\n",
    ".set_table_styles(dfstyle)\n",
    "\n",
    "display(HTML('<div style=\"display: flex; justify-content: center;\">{}</div>'.format(df_style.render())))\n",
    "\n"
   ]
  },
  {
   "cell_type": "markdown",
   "metadata": {},
   "source": [
    "---\n",
    "### Data Sources\n",
    "- 2019 Novel Coronavirus COVID-19 (2019-nCoV) Data Repository by Johns Hopkins CSSE [https://github.com/CSSEGISandData/COVID-19]\n"
   ]
  },
  {
   "cell_type": "code",
   "execution_count": null,
   "metadata": {},
   "outputs": [],
   "source": []
  }
 ],
 "metadata": {
  "kernelspec": {
   "display_name": "Python 3",
   "language": "python",
   "name": "python3"
  },
  "language_info": {
   "codemirror_mode": {
    "name": "ipython",
    "version": 3
   },
   "file_extension": ".py",
   "mimetype": "text/x-python",
   "name": "python",
   "nbconvert_exporter": "python",
   "pygments_lexer": "ipython3",
   "version": "3.7.5"
  },
  "widgets": {
   "application/vnd.jupyter.widget-state+json": {
    "state": {},
    "version_major": 2,
    "version_minor": 0
   }
  }
 },
 "nbformat": 4,
 "nbformat_minor": 4
}
