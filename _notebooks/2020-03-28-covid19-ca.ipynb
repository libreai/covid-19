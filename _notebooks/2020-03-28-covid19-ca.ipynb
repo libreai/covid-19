{
 "cells": [
  {
   "cell_type": "markdown",
   "metadata": {},
   "source": [
    "# Covid-19 en Centroamérica\n",
    "> Dashboard\n",
    "\n",
    "- toc: false\n",
    "- branch: master\n",
    "- badges: true\n",
    "- comments: false\n",
    "- image: images/covid-19-ca.png\n",
    "- permalink: /covid-19-ca/\n",
    "- author: \"Libre AI\"\n",
    "- categories: [centroamerica, covid19]"
   ]
  },
  {
   "cell_type": "markdown",
   "metadata": {},
   "source": [
    "> Última actualización 2020-03-30 00:14 CST"
   ]
  },
  {
   "cell_type": "code",
   "execution_count": 1,
   "metadata": {},
   "outputs": [],
   "source": [
    "#hide\n",
    "import math\n",
    "import folium\n",
    "import pandas as pd\n",
    "\n",
    "from IPython.display import display, display_html, HTML, IFrame"
   ]
  },
  {
   "cell_type": "code",
   "execution_count": 2,
   "metadata": {},
   "outputs": [],
   "source": [
    "#hide\n",
    "\n",
    "#latest case count\n",
    "country_code2name = {'gt': 'Guatemala',\n",
    "                     'bz': 'Belize',\n",
    "                     'hn': 'Honduras',\n",
    "                     'sv': 'El Salvador',\n",
    "                     'ni': 'Nicaragua',\n",
    "                     'cr': 'Costa Rica',\n",
    "                     'pa': 'Panama'\n",
    "                    }\n",
    "\n"
   ]
  },
  {
   "cell_type": "code",
   "execution_count": 3,
   "metadata": {},
   "outputs": [],
   "source": [
    "#hide\n",
    "confirmed = pd.read_csv('data/time_series_covid19_confirmed_global.csv')"
   ]
  },
  {
   "cell_type": "code",
   "execution_count": 4,
   "metadata": {},
   "outputs": [],
   "source": [
    "#hide\n",
    "def get_latest_count(df, country):\n",
    "    df_country = df[df['Country/Region'] == country]\n",
    "    # dates are columns, so we take the last column\n",
    "    latest_count_date = df_country.columns[-1]\n",
    "    latest_count = df_country[latest_count_date]\n",
    "    return latest_count.values[0]"
   ]
  },
  {
   "cell_type": "code",
   "execution_count": 5,
   "metadata": {},
   "outputs": [
    {
     "data": {
      "text/plain": [
       "{'gt': 34, 'bz': 2, 'hn': 110, 'sv': 24, 'ni': 4, 'cr': 314, 'pa': 901}"
      ]
     },
     "execution_count": 5,
     "metadata": {},
     "output_type": "execute_result"
    }
   ],
   "source": [
    "#hide \n",
    "cases_by_country = {c_code:get_latest_count(confirmed, country_code2name[c_code]) for c_code in country_code2name}\n",
    "cases_by_country"
   ]
  },
  {
   "cell_type": "code",
   "execution_count": 6,
   "metadata": {},
   "outputs": [],
   "source": [
    "#hide\n",
    "\n",
    "map_center_lat, map_center_long = (12.5, -87)\n",
    "zoom = 6"
   ]
  },
  {
   "cell_type": "code",
   "execution_count": 7,
   "metadata": {},
   "outputs": [],
   "source": [
    "#hide\n",
    "\n",
    "class Country:\n",
    "    def __init__(self, name, lat, long):\n",
    "        super()\n",
    "        self.cases = 0\n",
    "        self.name = name\n",
    "        self.lat = lat\n",
    "        self.long = long\n"
   ]
  },
  {
   "cell_type": "code",
   "execution_count": 8,
   "metadata": {},
   "outputs": [],
   "source": [
    "#hide\n",
    "\n",
    "gt = Country(country_code2name['gt'], 14.63, -90.56)\n",
    "bz = Country(country_code2name['bz'], 17.25, -88.80)\n",
    "hn = Country(country_code2name['hn'], 14.08, -87.24)\n",
    "sv = Country(country_code2name['sv'], 13.69, -89.25)\n",
    "ni = Country(country_code2name['ni'], 12.10, -86.33)\n",
    "cr = Country(country_code2name['cr'], 9.94, -84.15)\n",
    "pa = Country(country_code2name['pa'], 9.08, -79.59)\n",
    "\n",
    "countries = {'gt': gt, 'bz': bz, 'hn': hn, 'sv': sv, 'ni': ni, 'cr': cr, 'pa': pa}"
   ]
  },
  {
   "cell_type": "code",
   "execution_count": 9,
   "metadata": {},
   "outputs": [],
   "source": [
    "#hide\n",
    "\n",
    "# set latest cases\n",
    "for c in countries:\n",
    "    countries[c].cases = cases_by_country[c]"
   ]
  },
  {
   "cell_type": "code",
   "execution_count": 10,
   "metadata": {},
   "outputs": [],
   "source": [
    "#hide\n",
    "\n",
    "map_circles_html = []\n",
    "for c in countries:\n",
    "    c_circle = '''\n",
    "        L.circle([{}, {}], {}*3000, {{\n",
    "          color: 'red',\n",
    "          fillColor: '#f03',\n",
    "          fillOpacity: 0.5\n",
    "          }}).addTo(mymap)\n",
    "          .bindTooltip(\"<div><b>{}</b><br/><span style='color:red'><h3 style='display:inline'>{}</h3></span>&nbsp;personas infectadas</div>\", {{sticky: true}});'''.format(countries[c].lat,\n",
    "                                                                               countries[c].long,\n",
    "                                                                               math.sqrt(countries[c].cases),\n",
    "                                                                               countries[c].name,\n",
    "                                                                               countries[c].cases)\n",
    "    \n",
    "    map_circles_html.append(c_circle)\n",
    "    "
   ]
  },
  {
   "cell_type": "code",
   "execution_count": 11,
   "metadata": {},
   "outputs": [],
   "source": [
    "#hide\n",
    "\n",
    "m = folium.Map(location=[map_center_lat, map_center_long],\n",
    "               zoom_start=zoom,\n",
    "               max_zoom=zoom+1,\n",
    "               min_zoom=zoom-1\n",
    "              )\n",
    "\n",
    "for c in countries:\n",
    "    folium.CircleMarker(\n",
    "        location=[countries[c].lat, countries[c].long],\n",
    "        radius=math.sqrt(countries[c].cases),\n",
    "        color='red',\n",
    "        fill=True,\n",
    "        fill_color='#f03',\n",
    "        tooltip='''<div><b>{}</b><br/>\n",
    "        <span style='color:red'><h3 style='display:inline'>{}</h3></span>\n",
    "        &nbsp;personas infectadas</div>'''.format(countries[c].name, countries[c].cases)\n",
    "    ).add_to(m)\n",
    "\n",
    "\n",
    "m.save('../maps/covid19-ca-map.html')"
   ]
  },
  {
   "cell_type": "code",
   "execution_count": 12,
   "metadata": {},
   "outputs": [
    {
     "data": {
      "text/html": [
       "\n",
       "        <iframe\n",
       "            width=\"800\"\n",
       "            height=\"600\"\n",
       "            src=\"../maps/covid19-ca-map.html\"\n",
       "            frameborder=\"0\"\n",
       "            allowfullscreen\n",
       "        ></iframe>\n",
       "        "
      ],
      "text/plain": [
       "<IPython.lib.display.IFrame at 0x1199bd510>"
      ]
     },
     "execution_count": 12,
     "metadata": {},
     "output_type": "execute_result"
    }
   ],
   "source": [
    "# hide_input\n",
    "IFrame('../maps/covid19-ca-map.html', width=800, height=600)"
   ]
  },
  {
   "cell_type": "markdown",
   "metadata": {},
   "source": [
    "---\n",
    "### Data Sources\n",
    "- 2019 Novel Coronavirus COVID-19 (2019-nCoV) Data Repository by Johns Hopkins CSSE [https://github.com/CSSEGISandData/COVID-19]\n"
   ]
  },
  {
   "cell_type": "code",
   "execution_count": null,
   "metadata": {},
   "outputs": [],
   "source": []
  }
 ],
 "metadata": {
  "kernelspec": {
   "display_name": "Python 3",
   "language": "python",
   "name": "python3"
  },
  "language_info": {
   "codemirror_mode": {
    "name": "ipython",
    "version": 3
   },
   "file_extension": ".py",
   "mimetype": "text/x-python",
   "name": "python",
   "nbconvert_exporter": "python",
   "pygments_lexer": "ipython3",
   "version": "3.7.5"
  },
  "widgets": {
   "application/vnd.jupyter.widget-state+json": {
    "state": {},
    "version_major": 2,
    "version_minor": 0
   }
  }
 },
 "nbformat": 4,
 "nbformat_minor": 4
}
