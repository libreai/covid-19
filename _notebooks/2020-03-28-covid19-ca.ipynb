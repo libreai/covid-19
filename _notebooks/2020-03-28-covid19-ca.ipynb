{
 "cells": [
  {
   "cell_type": "markdown",
   "metadata": {},
   "source": [
    "# Covid-19 en Centroamérica\n",
    "> Dashboard\n",
    "\n",
    "- toc: false\n",
    "- branch: master\n",
    "- badges: true\n",
    "- comments: false\n",
    "- image: images/covid-19-ca.png\n",
    "- permalink: /covid-19-ca/\n",
    "- author: \"Libre AI\"\n",
    "- categories: [centroamerica, covid19]"
   ]
  },
  {
   "cell_type": "markdown",
   "metadata": {},
   "source": [
    "> Última actualización 2020-03-28 10:24 AM CST"
   ]
  },
  {
   "cell_type": "code",
   "execution_count": 2,
   "metadata": {},
   "outputs": [],
   "source": [
    "#hide\n",
    "import math\n",
    "from IPython.display import display, HTML"
   ]
  },
  {
   "cell_type": "code",
   "execution_count": 3,
   "metadata": {},
   "outputs": [],
   "source": [
    "#hide\n",
    "\n",
    "#latest case count\n",
    "cases_by_country = {'gt': 32, 'bz': 2, 'hn': 95, 'sv': 19, 'ni': 4, 'cr': 263, 'pa': 786}"
   ]
  },
  {
   "cell_type": "code",
   "execution_count": 4,
   "metadata": {},
   "outputs": [],
   "source": [
    "#hide\n",
    "\n",
    "html_head = '''\n",
    "<html>\n",
    "<head>\n",
    "  <title>Covid-19 en Centroamérica</title>\n",
    "  <meta charset=\"utf-8\" />\n",
    "  <meta name=\"viewport\" content=\"width=device-width, initial-scale=1.0\">\n",
    "\n",
    "  <link rel=\"shortcut icon\" type=\"image/x-icon\" href=\"docs/images/favicon.ico\" />\n",
    "\n",
    "    <link rel=\"stylesheet\" href=\"https://unpkg.com/leaflet@1.6.0/dist/leaflet.css\" integrity=\"sha512-xwE/Az9zrjBIphAcBb3F6JVqxf46+CDLwfLMHloNu6KEQCAWi6HcDUbeOfBIptF7tcCzusKFjFw2yuvEpDL9wQ==\" crossorigin=\"\"/>\n",
    "    <script src=\"https://unpkg.com/leaflet@1.6.0/dist/leaflet.js\" integrity=\"sha512-gZwIG9x3wUXg2hdXF6+rVkLF/0Vi9U8D2Ntg4Ga5I5BZpVkVxlJWbSQtXPSiUTtC0TjtGOmxa1AJPuV0CPthew==\" crossorigin=\"\"></script>\n",
    "</head>\n",
    "<body>\n",
    "\n",
    "<div id=\"covid10-map\" style=\"width: 800px; height: 600px;\"></div>\n",
    "'''\n",
    "\n",
    "html_foot = '''\n",
    "</script>\n",
    "\n",
    "</body>\n",
    "</html>\n",
    "'''"
   ]
  },
  {
   "cell_type": "code",
   "execution_count": 5,
   "metadata": {},
   "outputs": [],
   "source": [
    "#hide\n",
    "\n",
    "map_center_lat, map_center_long = (12.5, -87)\n",
    "zoom = 6\n",
    "max_zoom = 7"
   ]
  },
  {
   "cell_type": "code",
   "execution_count": 6,
   "metadata": {},
   "outputs": [],
   "source": [
    "#hide\n",
    "\n",
    "base_map_html = '''\n",
    "<script>\n",
    "  var mymap = L.map('covid10-map').setView([{}, {}], {});\n",
    "'''.format(map_center_lat, map_center_long, zoom)\n",
    "\n",
    "# base_layer = '''\n",
    "# L.tileLayer('https://{{s}}.tile.openstreetmap.org/{{z}}/{{x}}/{{y}}.png', {{\n",
    "#     attribution: '&copy; <a href=\"https://www.openstreetmap.org/copyright\">OpenStreetMap</a> contributors',\n",
    "#     subdomains: 'abcd',\n",
    "#     maxZoom: {}\n",
    "# }}).addTo(mymap);\n",
    "# '''.format(max_zoom)\n",
    "\n",
    "# base_layer = '''\n",
    "# L.tileLayer('https://server.arcgisonline.com/ArcGIS/rest/services/Canvas/World_Light_Gray_Base/MapServer/tile/{{z}}/{{y}}/{{x}}', {{\n",
    "#     attribution: '&copy; <a href=\"https://www.openstreetmap.org/copyright\">OpenStreetMap</a> contributors',\n",
    "#     maxZoom: {}\n",
    "# }}).addTo(mymap);\n",
    "# '''.format(max_zoom)\n",
    "\n",
    "base_layer = '''\n",
    "L.tileLayer('https://tiles.stadiamaps.com/tiles/osm_bright/{{z}}/{{x}}/{{y}}{{r}}.png', {{\n",
    "    attribution: '&copy; <a href=\"https://stadiamaps.com/\">Stadia Maps</a>, &copy; <a href=\"https://openmaptiles.org/\">OpenMapTiles</a> &copy; <a href=\"http://openstreetmap.org\">OpenStreetMap</a> contributors',\n",
    "    maxZoom: {}\n",
    "}}).addTo(mymap);\n",
    "'''.format(max_zoom)"
   ]
  },
  {
   "cell_type": "code",
   "execution_count": 7,
   "metadata": {},
   "outputs": [],
   "source": [
    "#hide\n",
    "\n",
    "class Country:\n",
    "    def __init__(self, name, lat, long):\n",
    "        super()\n",
    "        self.cases = 0\n",
    "        self.name = name\n",
    "        self.lat = lat\n",
    "        self.long = long\n"
   ]
  },
  {
   "cell_type": "code",
   "execution_count": 8,
   "metadata": {},
   "outputs": [],
   "source": [
    "#hide\n",
    "\n",
    "gt = Country('Guatemala', 14.63, -90.56)\n",
    "bz = Country('Belize', 17.25, -88.80)\n",
    "hn = Country('Honduras', 14.08, -87.24)\n",
    "sv = Country('El Salvador', 13.69, -89.25)\n",
    "ni = Country('Nicaragua', 12.10, -86.33)\n",
    "cr = Country('Costa Rica', 9.94, -84.15)\n",
    "pa = Country('Panama', 9.08, -79.59)\n",
    "\n",
    "countries = {'gt': gt, 'bz': bz, 'hn': hn, 'sv': sv, 'ni': ni, 'cr': cr, 'pa': pa}"
   ]
  },
  {
   "cell_type": "code",
   "execution_count": 9,
   "metadata": {},
   "outputs": [],
   "source": [
    "#hide\n",
    "\n",
    "# set latest cases\n",
    "for c in countries:\n",
    "    countries[c].cases = cases_by_country[c]"
   ]
  },
  {
   "cell_type": "code",
   "execution_count": 10,
   "metadata": {},
   "outputs": [],
   "source": [
    "#hide\n",
    "\n",
    "map_circles_html = []\n",
    "for c in countries:\n",
    "    c_circle = '''\n",
    "        L.circle([{}, {}], {}*3000, {{\n",
    "          color: 'red',\n",
    "          fillColor: '#f03',\n",
    "          fillOpacity: 0.5\n",
    "          }}).addTo(mymap)\n",
    "          .bindTooltip(\"<div><b>{}</b><br/><span style='color:red'><h3 style='display:inline'>{}</h3></span>&nbsp;personas infectadas</div>\", {{sticky: true}});'''.format(countries[c].lat,\n",
    "                                                                               countries[c].long,\n",
    "                                                                               math.sqrt(countries[c].cases),\n",
    "                                                                               countries[c].name,\n",
    "                                                                               countries[c].cases)\n",
    "    \n",
    "    map_circles_html.append(c_circle)\n",
    "    "
   ]
  },
  {
   "cell_type": "code",
   "execution_count": 11,
   "metadata": {},
   "outputs": [
    {
     "data": {
      "text/html": [
       "\n",
       "<html>\n",
       "<head>\n",
       "  <title>Covid-19 en Centroamérica</title>\n",
       "  <meta charset=\"utf-8\" />\n",
       "  <meta name=\"viewport\" content=\"width=device-width, initial-scale=1.0\">\n",
       "\n",
       "  <link rel=\"shortcut icon\" type=\"image/x-icon\" href=\"docs/images/favicon.ico\" />\n",
       "\n",
       "    <link rel=\"stylesheet\" href=\"https://unpkg.com/leaflet@1.6.0/dist/leaflet.css\" integrity=\"sha512-xwE/Az9zrjBIphAcBb3F6JVqxf46+CDLwfLMHloNu6KEQCAWi6HcDUbeOfBIptF7tcCzusKFjFw2yuvEpDL9wQ==\" crossorigin=\"\"/>\n",
       "    <script src=\"https://unpkg.com/leaflet@1.6.0/dist/leaflet.js\" integrity=\"sha512-gZwIG9x3wUXg2hdXF6+rVkLF/0Vi9U8D2Ntg4Ga5I5BZpVkVxlJWbSQtXPSiUTtC0TjtGOmxa1AJPuV0CPthew==\" crossorigin=\"\"></script>\n",
       "</head>\n",
       "<body>\n",
       "\n",
       "<div id=\"covid10-map\" style=\"width: 800px; height: 600px;\"></div>\n",
       "\n",
       "<script>\n",
       "  var mymap = L.map('covid10-map').setView([12.5, -87], 6);\n",
       "\n",
       "L.tileLayer('https://tiles.stadiamaps.com/tiles/osm_bright/{z}/{x}/{y}{r}.png', {\n",
       "    attribution: '&copy; <a href=\"https://stadiamaps.com/\">Stadia Maps</a>, &copy; <a href=\"https://openmaptiles.org/\">OpenMapTiles</a> &copy; <a href=\"http://openstreetmap.org\">OpenStreetMap</a> contributors',\n",
       "    maxZoom: 7\n",
       "}).addTo(mymap);\n",
       "\n",
       "        L.circle([14.63, -90.56], 5.656854249492381*3000, {\n",
       "          color: 'red',\n",
       "          fillColor: '#f03',\n",
       "          fillOpacity: 0.5\n",
       "          }).addTo(mymap)\n",
       "          .bindTooltip(\"<div><b>Guatemala</b><br/><span style='color:red'><h3 style='display:inline'>32</h3></span>&nbsp;personas infectadas</div>\", {sticky: true});\n",
       "\n",
       "        L.circle([17.25, -88.8], 1.4142135623730951*3000, {\n",
       "          color: 'red',\n",
       "          fillColor: '#f03',\n",
       "          fillOpacity: 0.5\n",
       "          }).addTo(mymap)\n",
       "          .bindTooltip(\"<div><b>Belize</b><br/><span style='color:red'><h3 style='display:inline'>2</h3></span>&nbsp;personas infectadas</div>\", {sticky: true});\n",
       "\n",
       "        L.circle([14.08, -87.24], 9.746794344808963*3000, {\n",
       "          color: 'red',\n",
       "          fillColor: '#f03',\n",
       "          fillOpacity: 0.5\n",
       "          }).addTo(mymap)\n",
       "          .bindTooltip(\"<div><b>Honduras</b><br/><span style='color:red'><h3 style='display:inline'>95</h3></span>&nbsp;personas infectadas</div>\", {sticky: true});\n",
       "\n",
       "        L.circle([13.69, -89.25], 4.358898943540674*3000, {\n",
       "          color: 'red',\n",
       "          fillColor: '#f03',\n",
       "          fillOpacity: 0.5\n",
       "          }).addTo(mymap)\n",
       "          .bindTooltip(\"<div><b>El Salvador</b><br/><span style='color:red'><h3 style='display:inline'>19</h3></span>&nbsp;personas infectadas</div>\", {sticky: true});\n",
       "\n",
       "        L.circle([12.1, -86.33], 2.0*3000, {\n",
       "          color: 'red',\n",
       "          fillColor: '#f03',\n",
       "          fillOpacity: 0.5\n",
       "          }).addTo(mymap)\n",
       "          .bindTooltip(\"<div><b>Nicaragua</b><br/><span style='color:red'><h3 style='display:inline'>4</h3></span>&nbsp;personas infectadas</div>\", {sticky: true});\n",
       "\n",
       "        L.circle([9.94, -84.15], 16.217274740226856*3000, {\n",
       "          color: 'red',\n",
       "          fillColor: '#f03',\n",
       "          fillOpacity: 0.5\n",
       "          }).addTo(mymap)\n",
       "          .bindTooltip(\"<div><b>Costa Rica</b><br/><span style='color:red'><h3 style='display:inline'>263</h3></span>&nbsp;personas infectadas</div>\", {sticky: true});\n",
       "\n",
       "        L.circle([9.08, -79.59], 28.035691537752374*3000, {\n",
       "          color: 'red',\n",
       "          fillColor: '#f03',\n",
       "          fillOpacity: 0.5\n",
       "          }).addTo(mymap)\n",
       "          .bindTooltip(\"<div><b>Panama</b><br/><span style='color:red'><h3 style='display:inline'>786</h3></span>&nbsp;personas infectadas</div>\", {sticky: true});"
      ],
      "text/plain": [
       "<IPython.core.display.HTML object>"
      ]
     },
     "metadata": {},
     "output_type": "display_data"
    }
   ],
   "source": [
    "#hide\n",
    "display(HTML(html_head + base_map_html + base_layer + \"\\n\".join(map_circles_html)))"
   ]
  },
  {
   "cell_type": "code",
   "execution_count": 13,
   "metadata": {},
   "outputs": [
    {
     "data": {
      "text/html": [
       "<div style=\"width:100%;\"><div style=\"position:relative;width:100%;height:0;padding-bottom:60%;\"><iframe src=\"data:text/html;charset=utf-8;base64,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\" style=\"position:absolute;width:100%;height:100%;left:0;top:0;border:none !important;\" allowfullscreen webkitallowfullscreen mozallowfullscreen></iframe></div></div>"
      ],
      "text/plain": [
       "<folium.folium.Map at 0x115056090>"
      ]
     },
     "execution_count": 13,
     "metadata": {},
     "output_type": "execute_result"
    }
   ],
   "source": [
    "#hide_input\n",
    "\n",
    "import folium\n",
    "\n",
    "\n",
    "m = folium.Map(location=[map_center_lat, map_center_long],\n",
    "               zoom_start=zoom\n",
    "              )\n",
    "\n",
    "folium.CircleMarker(\n",
    "    location=[14.63, -90.56],\n",
    "    radius=math.sqrt(32),\n",
    "    color='red',\n",
    "    fill=True,\n",
    "    fill_color='#f03',\n",
    "    tooltip=\"<div><b>Guatemala</b><br/><span style=\\'color:red\\'><h3 style=\\'display:inline\\'>32</h3></span>&nbsp;personas infectadas</div>\"\n",
    ").add_to(m)\n",
    "\n",
    "m\n"
   ]
  },
  {
   "cell_type": "code",
   "execution_count": null,
   "metadata": {},
   "outputs": [],
   "source": []
  }
 ],
 "metadata": {
  "kernelspec": {
   "display_name": "Python 3",
   "language": "python",
   "name": "python3"
  },
  "language_info": {
   "codemirror_mode": {
    "name": "ipython",
    "version": 3
   },
   "file_extension": ".py",
   "mimetype": "text/x-python",
   "name": "python",
   "nbconvert_exporter": "python",
   "pygments_lexer": "ipython3",
   "version": "3.7.5"
  }
 },
 "nbformat": 4,
 "nbformat_minor": 4
}
