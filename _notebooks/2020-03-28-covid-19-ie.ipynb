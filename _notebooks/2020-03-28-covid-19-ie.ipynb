{
 "cells": [
  {
   "cell_type": "markdown",
   "metadata": {},
   "source": [
    "# COVID-19 in Ireland\n",
    "> Dashboard\n",
    "\n",
    "- toc: false\n",
    "- branch: master\n",
    "- badges: true\n",
    "- comments: false\n",
    "- image: images/covid-19-ie-cases-per-m.png\n",
    "- permalink: /covid-19-dashboard-ie/\n",
    "- author: \"Libre AI\"\n",
    "- categories: [ireland, covid19]"
   ]
  },
  {
   "cell_type": "code",
   "execution_count": 67,
   "metadata": {},
   "outputs": [],
   "source": [
    "#hide\n",
    "import altair as alt\n",
    "import pandas as pd\n",
    "import numpy as np\n",
    "import math\n",
    "\n",
    "from IPython.display import Markdown, HTML"
   ]
  },
  {
   "cell_type": "code",
   "execution_count": 68,
   "metadata": {},
   "outputs": [],
   "source": [
    "#hide\n",
    "confirmed_all = pd.read_csv('data/time_series_covid19_confirmed_global.csv')\n",
    "deaths_all = pd.read_csv('data/time_series_covid19_deaths_global.csv')\n",
    "recovered_all = pd.read_csv('data/time_series_covid19_recovered_global.csv')"
   ]
  },
  {
   "cell_type": "code",
   "execution_count": 69,
   "metadata": {},
   "outputs": [],
   "source": [
    "#hide\n",
    "\n",
    "def dmy_to_isodate(dmy):\n",
    "    m, d, y = dmy.split('/')\n",
    "    return '{}-{:02d}-{:02d}'.format(2000 + int(y), int(m), int(d))\n",
    "    \n",
    "def get_count_data(df_all, country, start_count):\n",
    "    df = df_all[df_all['Country/Region'] == country]\n",
    "    counts = list(enumerate([(dmy_to_isodate(x[0]), x[1]) for x in list(zip(df.columns[4:], list(df.values[0][4:]))) if x[1] >= start_count]))\n",
    "    days_since = [x for x,(_, _) in counts]\n",
    "    dates = [x for _,(x, _)  in counts]\n",
    "    freqs = [x for _,(_,x) in counts]\n",
    "    return dates, freqs, days_since\n",
    "\n",
    "def get_count_df(df_all, country, start_count, metric):\n",
    "    dates, freqs, days_since = get_count_data(df_all, country, start_count)\n",
    "    x = pd.DataFrame({\n",
    "        'date': dates,\n",
    "        'country': country,\n",
    "        metric: freqs,\n",
    "        'new_{}'.format(metric): np.hstack((np.array([0]), np.diff(freqs))),\n",
    "        'days_since_{}_{}'.format(start_count, metric): days_since\n",
    "    })\n",
    "    return x\n",
    "    \n",
    "def get_confirmed_df(df_all, country, start_count=10):\n",
    "    return get_count_df(df_all, country, start_count, 'cases')\n",
    "\n",
    "def get_deaths_df(df_all, country, start_count=0):\n",
    "    return get_count_df(df_all, country, start_count, 'deaths')\n",
    "\n",
    "def get_recovered_df(df_all, country, start_count=0):\n",
    "    return get_count_df(df_all, country, start_count, 'recovered')\n",
    "    \n",
    "def get_metrics_for_country(confirmed_all, deaths_all, recovered_all, country):\n",
    "    cases = get_confirmed_df(confirmed_all, country)\n",
    "    deaths = get_deaths_df(deaths_all, country)\n",
    "    recovered = get_recovered_df(recovered_all, country)\n",
    "    \n",
    "    cd = pd.merge(cases, deaths, on=['date', 'country'], how='left')\n",
    "    cdr = pd.merge(cd, recovered, on=['date', 'country'], how='left')\n",
    "    return cdr\n",
    "    \n",
    "    \n",
    "    "
   ]
  },
  {
   "cell_type": "code",
   "execution_count": 70,
   "metadata": {},
   "outputs": [],
   "source": [
    "#hide\n",
    "# confirmed, deaths, recovered (cdr) for each country\n",
    "cdr_ie = get_metrics_for_country(confirmed_all, deaths_all, recovered_all, 'Ireland')\n",
    "cdr_it = get_metrics_for_country(confirmed_all, deaths_all, recovered_all, 'Italy')\n",
    "cdr_es = get_metrics_for_country(confirmed_all, deaths_all, recovered_all, 'Spain')"
   ]
  },
  {
   "cell_type": "code",
   "execution_count": 71,
   "metadata": {},
   "outputs": [
    {
     "data": {
      "text/html": [
       "<div>\n",
       "<style scoped>\n",
       "    .dataframe tbody tr th:only-of-type {\n",
       "        vertical-align: middle;\n",
       "    }\n",
       "\n",
       "    .dataframe tbody tr th {\n",
       "        vertical-align: top;\n",
       "    }\n",
       "\n",
       "    .dataframe thead th {\n",
       "        text-align: right;\n",
       "    }\n",
       "</style>\n",
       "<table border=\"1\" class=\"dataframe\">\n",
       "  <thead>\n",
       "    <tr style=\"text-align: right;\">\n",
       "      <th></th>\n",
       "      <th>date</th>\n",
       "      <th>country</th>\n",
       "      <th>cases</th>\n",
       "      <th>new_cases</th>\n",
       "      <th>days_since_10_cases</th>\n",
       "      <th>deaths</th>\n",
       "      <th>new_deaths</th>\n",
       "      <th>days_since_0_deaths</th>\n",
       "      <th>recovered</th>\n",
       "      <th>new_recovered</th>\n",
       "      <th>days_since_0_recovered</th>\n",
       "    </tr>\n",
       "  </thead>\n",
       "  <tbody>\n",
       "    <tr>\n",
       "      <th>58</th>\n",
       "      <td>2020-05-03</td>\n",
       "      <td>Ireland</td>\n",
       "      <td>21506</td>\n",
       "      <td>330</td>\n",
       "      <td>58</td>\n",
       "      <td>1303</td>\n",
       "      <td>17</td>\n",
       "      <td>102</td>\n",
       "      <td>13386</td>\n",
       "      <td>0</td>\n",
       "      <td>102</td>\n",
       "    </tr>\n",
       "  </tbody>\n",
       "</table>\n",
       "</div>"
      ],
      "text/plain": [
       "          date  country  cases  new_cases  days_since_10_cases  deaths  \\\n",
       "58  2020-05-03  Ireland  21506        330                   58    1303   \n",
       "\n",
       "    new_deaths  days_since_0_deaths  recovered  new_recovered  \\\n",
       "58          17                  102      13386              0   \n",
       "\n",
       "    days_since_0_recovered  \n",
       "58                     102  "
      ]
     },
     "execution_count": 71,
     "metadata": {},
     "output_type": "execute_result"
    }
   ],
   "source": [
    "#hide\n",
    "cdr_ie_latest = cdr_ie.tail(1)\n",
    "\n",
    "cdr_ie_latest"
   ]
  },
  {
   "cell_type": "code",
   "execution_count": 72,
   "metadata": {},
   "outputs": [
    {
     "data": {
      "text/plain": [
       "(21506, 1303, 13386)"
      ]
     },
     "execution_count": 72,
     "metadata": {},
     "output_type": "execute_result"
    }
   ],
   "source": [
    "#hide\n",
    "\n",
    "total_confirmed_ie = cdr_ie_latest['cases'].values[0]\n",
    "total_deaths_ie = cdr_ie_latest['deaths'].values[0]\n",
    "total_recovered_ie = cdr_ie_latest['recovered'].values[0]\n",
    "(total_confirmed_ie, total_deaths_ie, total_recovered_ie)"
   ]
  },
  {
   "cell_type": "markdown",
   "metadata": {},
   "source": [
    "---"
   ]
  },
  {
   "cell_type": "code",
   "execution_count": 73,
   "metadata": {},
   "outputs": [
    {
     "data": {
      "text/html": [
       "\n",
       "<h1>Total Confirmed: <span style=\"color:red\">21506</span></h1>\n",
       "<h1>Total Deaths: <span style=\"color:red\">1303</span></h1>\n",
       "<h1>Total Recovered: <span style=\"color:green\">13386</span></h1>\n"
      ],
      "text/plain": [
       "<IPython.core.display.HTML object>"
      ]
     },
     "execution_count": 73,
     "metadata": {},
     "output_type": "execute_result"
    }
   ],
   "source": [
    "#hide_input\n",
    "html_ie = '''\n",
    "<h1>Total Confirmed: <span style=\"color:red\">{}</span></h1>\n",
    "<h1>Total Deaths: <span style=\"color:red\">{}</span></h1>\n",
    "<h1>Total Recovered: <span style=\"color:green\">{}</span></h1>\n",
    "'''.format(total_confirmed_ie, total_deaths_ie, total_recovered_ie)\n",
    "\n",
    "HTML(html_ie)"
   ]
  },
  {
   "cell_type": "markdown",
   "metadata": {},
   "source": [
    "---"
   ]
  },
  {
   "cell_type": "code",
   "execution_count": 74,
   "metadata": {},
   "outputs": [
    {
     "data": {
      "text/markdown": [
       "> Last updated on 2020-05-04 09:53 UTC"
      ],
      "text/plain": [
       "<IPython.core.display.Markdown object>"
      ]
     },
     "execution_count": 74,
     "metadata": {},
     "output_type": "execute_result"
    }
   ],
   "source": [
    "#hide_input\n",
    "\n",
    "from datetime import datetime\n",
    "utc_now = datetime.utcnow()\n",
    "\n",
    "Markdown('> Last updated on {} UTC'.format(utc_now.strftime(\"%Y-%m-%d %H:%M\")))"
   ]
  },
  {
   "cell_type": "code",
   "execution_count": 75,
   "metadata": {},
   "outputs": [
    {
     "data": {
      "text/html": [
       "<div>\n",
       "<style scoped>\n",
       "    .dataframe tbody tr th:only-of-type {\n",
       "        vertical-align: middle;\n",
       "    }\n",
       "\n",
       "    .dataframe tbody tr th {\n",
       "        vertical-align: top;\n",
       "    }\n",
       "\n",
       "    .dataframe thead th {\n",
       "        text-align: right;\n",
       "    }\n",
       "</style>\n",
       "<table border=\"1\" class=\"dataframe\">\n",
       "  <thead>\n",
       "    <tr style=\"text-align: right;\">\n",
       "      <th></th>\n",
       "      <th>date</th>\n",
       "      <th>country</th>\n",
       "      <th>cases</th>\n",
       "      <th>new_cases</th>\n",
       "      <th>days_since_10_cases</th>\n",
       "      <th>deaths</th>\n",
       "      <th>new_deaths</th>\n",
       "      <th>days_since_0_deaths</th>\n",
       "      <th>recovered</th>\n",
       "      <th>new_recovered</th>\n",
       "      <th>days_since_0_recovered</th>\n",
       "    </tr>\n",
       "  </thead>\n",
       "  <tbody>\n",
       "    <tr>\n",
       "      <th>72</th>\n",
       "      <td>2020-05-03</td>\n",
       "      <td>Italy</td>\n",
       "      <td>210717</td>\n",
       "      <td>1389</td>\n",
       "      <td>72</td>\n",
       "      <td>28884</td>\n",
       "      <td>174</td>\n",
       "      <td>102</td>\n",
       "      <td>81654</td>\n",
       "      <td>1740</td>\n",
       "      <td>102</td>\n",
       "    </tr>\n",
       "  </tbody>\n",
       "</table>\n",
       "</div>"
      ],
      "text/plain": [
       "          date country   cases  new_cases  days_since_10_cases  deaths  \\\n",
       "72  2020-05-03   Italy  210717       1389                   72   28884   \n",
       "\n",
       "    new_deaths  days_since_0_deaths  recovered  new_recovered  \\\n",
       "72         174                  102      81654           1740   \n",
       "\n",
       "    days_since_0_recovered  \n",
       "72                     102  "
      ]
     },
     "execution_count": 75,
     "metadata": {},
     "output_type": "execute_result"
    }
   ],
   "source": [
    "#hide\n",
    "cdr_it.tail(1)"
   ]
  },
  {
   "cell_type": "code",
   "execution_count": 76,
   "metadata": {},
   "outputs": [
    {
     "data": {
      "text/html": [
       "<div>\n",
       "<style scoped>\n",
       "    .dataframe tbody tr th:only-of-type {\n",
       "        vertical-align: middle;\n",
       "    }\n",
       "\n",
       "    .dataframe tbody tr th {\n",
       "        vertical-align: top;\n",
       "    }\n",
       "\n",
       "    .dataframe thead th {\n",
       "        text-align: right;\n",
       "    }\n",
       "</style>\n",
       "<table border=\"1\" class=\"dataframe\">\n",
       "  <thead>\n",
       "    <tr style=\"text-align: right;\">\n",
       "      <th></th>\n",
       "      <th>date</th>\n",
       "      <th>country</th>\n",
       "      <th>cases</th>\n",
       "      <th>new_cases</th>\n",
       "      <th>days_since_10_cases</th>\n",
       "      <th>deaths</th>\n",
       "      <th>new_deaths</th>\n",
       "      <th>days_since_0_deaths</th>\n",
       "      <th>recovered</th>\n",
       "      <th>new_recovered</th>\n",
       "      <th>days_since_0_recovered</th>\n",
       "    </tr>\n",
       "  </thead>\n",
       "  <tbody>\n",
       "    <tr>\n",
       "      <th>67</th>\n",
       "      <td>2020-05-03</td>\n",
       "      <td>Spain</td>\n",
       "      <td>217466</td>\n",
       "      <td>884</td>\n",
       "      <td>67</td>\n",
       "      <td>25264</td>\n",
       "      <td>164</td>\n",
       "      <td>102</td>\n",
       "      <td>118902</td>\n",
       "      <td>1654</td>\n",
       "      <td>102</td>\n",
       "    </tr>\n",
       "  </tbody>\n",
       "</table>\n",
       "</div>"
      ],
      "text/plain": [
       "          date country   cases  new_cases  days_since_10_cases  deaths  \\\n",
       "67  2020-05-03   Spain  217466        884                   67   25264   \n",
       "\n",
       "    new_deaths  days_since_0_deaths  recovered  new_recovered  \\\n",
       "67         164                  102     118902           1654   \n",
       "\n",
       "    days_since_0_recovered  \n",
       "67                     102  "
      ]
     },
     "execution_count": 76,
     "metadata": {},
     "output_type": "execute_result"
    }
   ],
   "source": [
    "#hide\n",
    "cdr_es.tail(1)"
   ]
  },
  {
   "cell_type": "code",
   "execution_count": 77,
   "metadata": {},
   "outputs": [],
   "source": [
    "#hide\n",
    "\n",
    "#figures from https://en.wikipedia.org/wiki/List_of_countries_and_dependencies_by_population\n",
    "population_in_m_ie = 4.9\n",
    "population_in_m_it = 60.2\n",
    "population_in_m_es = 47.1"
   ]
  },
  {
   "cell_type": "code",
   "execution_count": 78,
   "metadata": {},
   "outputs": [],
   "source": [
    "#hide\n",
    "\n",
    "def get_data_source(country, cdr, population_in_m):\n",
    "    x = pd.DataFrame({\n",
    "    'country': country,\n",
    "    'date': cdr['date'],\n",
    "    'days_since_10_cases': cdr['days_since_10_cases'],\n",
    "    'confirmed_cases': cdr['cases'],\n",
    "    'confirmed_cases_per_million': np.round(cdr['cases']/population_in_m),\n",
    "    'new_cases': cdr['new_cases'],\n",
    "    'new_deaths': cdr['new_deaths'],\n",
    "    'new_recovered': cdr['new_recovered']\n",
    "    })\n",
    "    return x\n",
    "\n",
    "source_ie = get_data_source('Ireland', cdr_ie, population_in_m_ie)\n",
    "\n",
    "source_it = get_data_source('Italy', cdr_it, population_in_m_it)\n",
    "\n",
    "source_es = get_data_source('Spain', cdr_es, population_in_m_es)\n"
   ]
  },
  {
   "cell_type": "code",
   "execution_count": 79,
   "metadata": {},
   "outputs": [
    {
     "data": {
      "text/html": [
       "\n",
       "<div id=\"altair-viz-f7b4081f462e490fb76d07fb72dbd542\"></div>\n",
       "<script type=\"text/javascript\">\n",
       "  (function(spec, embedOpt){\n",
       "    const outputDiv = document.getElementById(\"altair-viz-f7b4081f462e490fb76d07fb72dbd542\");\n",
       "    const paths = {\n",
       "      \"vega\": \"https://cdn.jsdelivr.net/npm//vega@5?noext\",\n",
       "      \"vega-lib\": \"https://cdn.jsdelivr.net/npm//vega-lib?noext\",\n",
       "      \"vega-lite\": \"https://cdn.jsdelivr.net/npm//vega-lite@4.0.2?noext\",\n",
       "      \"vega-embed\": \"https://cdn.jsdelivr.net/npm//vega-embed@6?noext\",\n",
       "    };\n",
       "\n",
       "    function loadScript(lib) {\n",
       "      return new Promise(function(resolve, reject) {\n",
       "        var s = document.createElement('script');\n",
       "        s.src = paths[lib];\n",
       "        s.async = true;\n",
       "        s.onload = () => resolve(paths[lib]);\n",
       "        s.onerror = () => reject(`Error loading script: ${paths[lib]}`);\n",
       "        document.getElementsByTagName(\"head\")[0].appendChild(s);\n",
       "      });\n",
       "    }\n",
       "\n",
       "    function showError(err) {\n",
       "      outputDiv.innerHTML = `<div class=\"error\" style=\"color:red;\">${err}</div>`;\n",
       "      throw err;\n",
       "    }\n",
       "\n",
       "    function displayChart(vegaEmbed) {\n",
       "      vegaEmbed(outputDiv, spec, embedOpt)\n",
       "        .catch(err => showError(`Javascript Error: ${err.message}<br>This usually means there's a typo in your chart specification. See the javascript console for the full traceback.`));\n",
       "    }\n",
       "\n",
       "    if(typeof define === \"function\" && define.amd) {\n",
       "      requirejs.config({paths});\n",
       "      require([\"vega-embed\"], displayChart, err => showError(`Error loading script: ${err.message}`));\n",
       "    } else if (typeof vegaEmbed === \"function\") {\n",
       "      displayChart(vegaEmbed);\n",
       "    } else {\n",
       "      loadScript(\"vega\")\n",
       "        .then(() => loadScript(\"vega-lite\"))\n",
       "        .then(() => loadScript(\"vega-embed\"))\n",
       "        .catch(showError)\n",
       "        .then(() => displayChart(vegaEmbed));\n",
       "    }\n",
       "  })({\"config\": {\"view\": {\"continuousWidth\": 400, \"continuousHeight\": 300}}, \"data\": {\"name\": \"data-51484490e82d8d99c47779b551f58f51\"}, \"mark\": {\"type\": \"circle\", \"color\": \"green\", \"opacity\": 0.7}, \"encoding\": {\"size\": {\"type\": \"quantitative\", \"field\": \"new_cases\", \"title\": \"Number of new cases in Ireland\"}, \"tooltip\": [{\"type\": \"nominal\", \"field\": \"country\"}, {\"type\": \"temporal\", \"field\": \"date\"}, {\"type\": \"quantitative\", \"field\": \"confirmed_cases\"}, {\"type\": \"quantitative\", \"field\": \"new_cases\"}, {\"type\": \"quantitative\", \"field\": \"new_deaths\"}], \"x\": {\"type\": \"quantitative\", \"field\": \"days_since_10_cases\"}, \"y\": {\"type\": \"quantitative\", \"field\": \"confirmed_cases\", \"scale\": {\"type\": \"sqrt\"}}}, \"$schema\": \"https://vega.github.io/schema/vega-lite/v4.0.2.json\", \"datasets\": {\"data-51484490e82d8d99c47779b551f58f51\": [{\"country\": \"Ireland\", \"date\": \"2020-03-06\", \"days_since_10_cases\": 0, \"confirmed_cases\": 18, \"confirmed_cases_per_million\": 4.0, \"new_cases\": 0, \"new_deaths\": 0, \"new_recovered\": 0}, {\"country\": \"Ireland\", \"date\": \"2020-03-07\", \"days_since_10_cases\": 1, \"confirmed_cases\": 18, \"confirmed_cases_per_million\": 4.0, \"new_cases\": 0, \"new_deaths\": 0, \"new_recovered\": 0}, {\"country\": \"Ireland\", \"date\": \"2020-03-08\", \"days_since_10_cases\": 2, \"confirmed_cases\": 19, \"confirmed_cases_per_million\": 4.0, \"new_cases\": 1, \"new_deaths\": 0, \"new_recovered\": 0}, {\"country\": \"Ireland\", \"date\": \"2020-03-09\", \"days_since_10_cases\": 3, \"confirmed_cases\": 21, \"confirmed_cases_per_million\": 4.0, \"new_cases\": 2, \"new_deaths\": 0, \"new_recovered\": 0}, {\"country\": \"Ireland\", \"date\": \"2020-03-10\", \"days_since_10_cases\": 4, \"confirmed_cases\": 34, \"confirmed_cases_per_million\": 7.0, \"new_cases\": 13, \"new_deaths\": 0, \"new_recovered\": 0}, {\"country\": \"Ireland\", \"date\": \"2020-03-11\", \"days_since_10_cases\": 5, \"confirmed_cases\": 43, \"confirmed_cases_per_million\": 9.0, \"new_cases\": 9, \"new_deaths\": 1, \"new_recovered\": 0}, {\"country\": \"Ireland\", \"date\": \"2020-03-12\", \"days_since_10_cases\": 6, \"confirmed_cases\": 43, \"confirmed_cases_per_million\": 9.0, \"new_cases\": 0, \"new_deaths\": 0, \"new_recovered\": 0}, {\"country\": \"Ireland\", \"date\": \"2020-03-13\", \"days_since_10_cases\": 7, \"confirmed_cases\": 90, \"confirmed_cases_per_million\": 18.0, \"new_cases\": 47, \"new_deaths\": 0, \"new_recovered\": 0}, {\"country\": \"Ireland\", \"date\": \"2020-03-14\", \"days_since_10_cases\": 8, \"confirmed_cases\": 129, \"confirmed_cases_per_million\": 26.0, \"new_cases\": 39, \"new_deaths\": 1, \"new_recovered\": 0}, {\"country\": \"Ireland\", \"date\": \"2020-03-15\", \"days_since_10_cases\": 9, \"confirmed_cases\": 129, \"confirmed_cases_per_million\": 26.0, \"new_cases\": 0, \"new_deaths\": 0, \"new_recovered\": 0}, {\"country\": \"Ireland\", \"date\": \"2020-03-16\", \"days_since_10_cases\": 10, \"confirmed_cases\": 169, \"confirmed_cases_per_million\": 34.0, \"new_cases\": 40, \"new_deaths\": 0, \"new_recovered\": 0}, {\"country\": \"Ireland\", \"date\": \"2020-03-17\", \"days_since_10_cases\": 11, \"confirmed_cases\": 223, \"confirmed_cases_per_million\": 46.0, \"new_cases\": 54, \"new_deaths\": 0, \"new_recovered\": 5}, {\"country\": \"Ireland\", \"date\": \"2020-03-18\", \"days_since_10_cases\": 12, \"confirmed_cases\": 292, \"confirmed_cases_per_million\": 60.0, \"new_cases\": 69, \"new_deaths\": 0, \"new_recovered\": 0}, {\"country\": \"Ireland\", \"date\": \"2020-03-19\", \"days_since_10_cases\": 13, \"confirmed_cases\": 557, \"confirmed_cases_per_million\": 114.0, \"new_cases\": 265, \"new_deaths\": 1, \"new_recovered\": 0}, {\"country\": \"Ireland\", \"date\": \"2020-03-20\", \"days_since_10_cases\": 14, \"confirmed_cases\": 683, \"confirmed_cases_per_million\": 139.0, \"new_cases\": 126, \"new_deaths\": 0, \"new_recovered\": 0}, {\"country\": \"Ireland\", \"date\": \"2020-03-21\", \"days_since_10_cases\": 15, \"confirmed_cases\": 785, \"confirmed_cases_per_million\": 160.0, \"new_cases\": 102, \"new_deaths\": 0, \"new_recovered\": 0}, {\"country\": \"Ireland\", \"date\": \"2020-03-22\", \"days_since_10_cases\": 16, \"confirmed_cases\": 906, \"confirmed_cases_per_million\": 185.0, \"new_cases\": 121, \"new_deaths\": 1, \"new_recovered\": 0}, {\"country\": \"Ireland\", \"date\": \"2020-03-23\", \"days_since_10_cases\": 17, \"confirmed_cases\": 1125, \"confirmed_cases_per_million\": 230.0, \"new_cases\": 219, \"new_deaths\": 2, \"new_recovered\": 0}, {\"country\": \"Ireland\", \"date\": \"2020-03-24\", \"days_since_10_cases\": 18, \"confirmed_cases\": 1329, \"confirmed_cases_per_million\": 271.0, \"new_cases\": 204, \"new_deaths\": 1, \"new_recovered\": 0}, {\"country\": \"Ireland\", \"date\": \"2020-03-25\", \"days_since_10_cases\": 19, \"confirmed_cases\": 1564, \"confirmed_cases_per_million\": 319.0, \"new_cases\": 235, \"new_deaths\": 2, \"new_recovered\": 0}, {\"country\": \"Ireland\", \"date\": \"2020-03-26\", \"days_since_10_cases\": 20, \"confirmed_cases\": 1819, \"confirmed_cases_per_million\": 371.0, \"new_cases\": 255, \"new_deaths\": 10, \"new_recovered\": 0}, {\"country\": \"Ireland\", \"date\": \"2020-03-27\", \"days_since_10_cases\": 21, \"confirmed_cases\": 2121, \"confirmed_cases_per_million\": 433.0, \"new_cases\": 302, \"new_deaths\": 3, \"new_recovered\": 0}, {\"country\": \"Ireland\", \"date\": \"2020-03-28\", \"days_since_10_cases\": 22, \"confirmed_cases\": 2415, \"confirmed_cases_per_million\": 493.0, \"new_cases\": 294, \"new_deaths\": 14, \"new_recovered\": 0}, {\"country\": \"Ireland\", \"date\": \"2020-03-29\", \"days_since_10_cases\": 23, \"confirmed_cases\": 2615, \"confirmed_cases_per_million\": 534.0, \"new_cases\": 200, \"new_deaths\": 10, \"new_recovered\": 0}, {\"country\": \"Ireland\", \"date\": \"2020-03-30\", \"days_since_10_cases\": 24, \"confirmed_cases\": 2910, \"confirmed_cases_per_million\": 594.0, \"new_cases\": 295, \"new_deaths\": 8, \"new_recovered\": 0}, {\"country\": \"Ireland\", \"date\": \"2020-03-31\", \"days_since_10_cases\": 25, \"confirmed_cases\": 3235, \"confirmed_cases_per_million\": 660.0, \"new_cases\": 325, \"new_deaths\": 17, \"new_recovered\": 0}, {\"country\": \"Ireland\", \"date\": \"2020-04-01\", \"days_since_10_cases\": 26, \"confirmed_cases\": 3447, \"confirmed_cases_per_million\": 703.0, \"new_cases\": 212, \"new_deaths\": 14, \"new_recovered\": 0}, {\"country\": \"Ireland\", \"date\": \"2020-04-02\", \"days_since_10_cases\": 27, \"confirmed_cases\": 3849, \"confirmed_cases_per_million\": 786.0, \"new_cases\": 402, \"new_deaths\": 13, \"new_recovered\": 0}, {\"country\": \"Ireland\", \"date\": \"2020-04-03\", \"days_since_10_cases\": 28, \"confirmed_cases\": 4273, \"confirmed_cases_per_million\": 872.0, \"new_cases\": 424, \"new_deaths\": 22, \"new_recovered\": 0}, {\"country\": \"Ireland\", \"date\": \"2020-04-04\", \"days_since_10_cases\": 29, \"confirmed_cases\": 4604, \"confirmed_cases_per_million\": 940.0, \"new_cases\": 331, \"new_deaths\": 17, \"new_recovered\": 20}, {\"country\": \"Ireland\", \"date\": \"2020-04-05\", \"days_since_10_cases\": 30, \"confirmed_cases\": 4994, \"confirmed_cases_per_million\": 1019.0, \"new_cases\": 390, \"new_deaths\": 21, \"new_recovered\": 0}, {\"country\": \"Ireland\", \"date\": \"2020-04-06\", \"days_since_10_cases\": 31, \"confirmed_cases\": 5364, \"confirmed_cases_per_million\": 1095.0, \"new_cases\": 370, \"new_deaths\": 16, \"new_recovered\": 0}, {\"country\": \"Ireland\", \"date\": \"2020-04-07\", \"days_since_10_cases\": 32, \"confirmed_cases\": 5709, \"confirmed_cases_per_million\": 1165.0, \"new_cases\": 345, \"new_deaths\": 36, \"new_recovered\": 0}, {\"country\": \"Ireland\", \"date\": \"2020-04-08\", \"days_since_10_cases\": 33, \"confirmed_cases\": 6074, \"confirmed_cases_per_million\": 1240.0, \"new_cases\": 365, \"new_deaths\": 25, \"new_recovered\": 0}, {\"country\": \"Ireland\", \"date\": \"2020-04-09\", \"days_since_10_cases\": 34, \"confirmed_cases\": 6574, \"confirmed_cases_per_million\": 1342.0, \"new_cases\": 500, \"new_deaths\": 28, \"new_recovered\": 0}, {\"country\": \"Ireland\", \"date\": \"2020-04-10\", \"days_since_10_cases\": 35, \"confirmed_cases\": 8089, \"confirmed_cases_per_million\": 1651.0, \"new_cases\": 1515, \"new_deaths\": 24, \"new_recovered\": 0}, {\"country\": \"Ireland\", \"date\": \"2020-04-11\", \"days_since_10_cases\": 36, \"confirmed_cases\": 8928, \"confirmed_cases_per_million\": 1822.0, \"new_cases\": 839, \"new_deaths\": 33, \"new_recovered\": 0}, {\"country\": \"Ireland\", \"date\": \"2020-04-12\", \"days_since_10_cases\": 37, \"confirmed_cases\": 9655, \"confirmed_cases_per_million\": 1970.0, \"new_cases\": 727, \"new_deaths\": 14, \"new_recovered\": 0}, {\"country\": \"Ireland\", \"date\": \"2020-04-13\", \"days_since_10_cases\": 38, \"confirmed_cases\": 10647, \"confirmed_cases_per_million\": 2173.0, \"new_cases\": 992, \"new_deaths\": 31, \"new_recovered\": 0}, {\"country\": \"Ireland\", \"date\": \"2020-04-14\", \"days_since_10_cases\": 39, \"confirmed_cases\": 11479, \"confirmed_cases_per_million\": 2343.0, \"new_cases\": 832, \"new_deaths\": 41, \"new_recovered\": 0}, {\"country\": \"Ireland\", \"date\": \"2020-04-15\", \"days_since_10_cases\": 40, \"confirmed_cases\": 12547, \"confirmed_cases_per_million\": 2561.0, \"new_cases\": 1068, \"new_deaths\": 38, \"new_recovered\": 52}, {\"country\": \"Ireland\", \"date\": \"2020-04-16\", \"days_since_10_cases\": 41, \"confirmed_cases\": 13271, \"confirmed_cases_per_million\": 2708.0, \"new_cases\": 724, \"new_deaths\": 42, \"new_recovered\": 0}, {\"country\": \"Ireland\", \"date\": \"2020-04-17\", \"days_since_10_cases\": 42, \"confirmed_cases\": 13980, \"confirmed_cases_per_million\": 2853.0, \"new_cases\": 709, \"new_deaths\": 44, \"new_recovered\": 0}, {\"country\": \"Ireland\", \"date\": \"2020-04-18\", \"days_since_10_cases\": 43, \"confirmed_cases\": 14758, \"confirmed_cases_per_million\": 3012.0, \"new_cases\": 778, \"new_deaths\": 41, \"new_recovered\": 0}, {\"country\": \"Ireland\", \"date\": \"2020-04-19\", \"days_since_10_cases\": 44, \"confirmed_cases\": 15251, \"confirmed_cases_per_million\": 3112.0, \"new_cases\": 493, \"new_deaths\": 39, \"new_recovered\": 0}, {\"country\": \"Ireland\", \"date\": \"2020-04-20\", \"days_since_10_cases\": 45, \"confirmed_cases\": 15652, \"confirmed_cases_per_million\": 3194.0, \"new_cases\": 401, \"new_deaths\": 77, \"new_recovered\": 0}, {\"country\": \"Ireland\", \"date\": \"2020-04-21\", \"days_since_10_cases\": 46, \"confirmed_cases\": 16040, \"confirmed_cases_per_million\": 3273.0, \"new_cases\": 388, \"new_deaths\": 43, \"new_recovered\": 9156}, {\"country\": \"Ireland\", \"date\": \"2020-04-22\", \"days_since_10_cases\": 47, \"confirmed_cases\": 16671, \"confirmed_cases_per_million\": 3402.0, \"new_cases\": 631, \"new_deaths\": 39, \"new_recovered\": 0}, {\"country\": \"Ireland\", \"date\": \"2020-04-23\", \"days_since_10_cases\": 48, \"confirmed_cases\": 17607, \"confirmed_cases_per_million\": 3593.0, \"new_cases\": 936, \"new_deaths\": 25, \"new_recovered\": 0}, {\"country\": \"Ireland\", \"date\": \"2020-04-24\", \"days_since_10_cases\": 49, \"confirmed_cases\": 18184, \"confirmed_cases_per_million\": 3711.0, \"new_cases\": 577, \"new_deaths\": 220, \"new_recovered\": 0}, {\"country\": \"Ireland\", \"date\": \"2020-04-25\", \"days_since_10_cases\": 50, \"confirmed_cases\": 18561, \"confirmed_cases_per_million\": 3788.0, \"new_cases\": 377, \"new_deaths\": 49, \"new_recovered\": 0}, {\"country\": \"Ireland\", \"date\": \"2020-04-26\", \"days_since_10_cases\": 51, \"confirmed_cases\": 19262, \"confirmed_cases_per_million\": 3931.0, \"new_cases\": 701, \"new_deaths\": 24, \"new_recovered\": 0}, {\"country\": \"Ireland\", \"date\": \"2020-04-27\", \"days_since_10_cases\": 52, \"confirmed_cases\": 19648, \"confirmed_cases_per_million\": 4010.0, \"new_cases\": 386, \"new_deaths\": 15, \"new_recovered\": 0}, {\"country\": \"Ireland\", \"date\": \"2020-04-28\", \"days_since_10_cases\": 53, \"confirmed_cases\": 19877, \"confirmed_cases_per_million\": 4057.0, \"new_cases\": 229, \"new_deaths\": 57, \"new_recovered\": 0}, {\"country\": \"Ireland\", \"date\": \"2020-04-29\", \"days_since_10_cases\": 54, \"confirmed_cases\": 20253, \"confirmed_cases_per_million\": 4133.0, \"new_cases\": 376, \"new_deaths\": 31, \"new_recovered\": 4153}, {\"country\": \"Ireland\", \"date\": \"2020-04-30\", \"days_since_10_cases\": 55, \"confirmed_cases\": 20612, \"confirmed_cases_per_million\": 4207.0, \"new_cases\": 359, \"new_deaths\": 42, \"new_recovered\": 0}, {\"country\": \"Ireland\", \"date\": \"2020-05-01\", \"days_since_10_cases\": 56, \"confirmed_cases\": 20833, \"confirmed_cases_per_million\": 4252.0, \"new_cases\": 221, \"new_deaths\": 33, \"new_recovered\": 0}, {\"country\": \"Ireland\", \"date\": \"2020-05-02\", \"days_since_10_cases\": 57, \"confirmed_cases\": 21176, \"confirmed_cases_per_million\": 4322.0, \"new_cases\": 343, \"new_deaths\": 21, \"new_recovered\": 0}, {\"country\": \"Ireland\", \"date\": \"2020-05-03\", \"days_since_10_cases\": 58, \"confirmed_cases\": 21506, \"confirmed_cases_per_million\": 4389.0, \"new_cases\": 330, \"new_deaths\": 17, \"new_recovered\": 0}]}}, {\"mode\": \"vega-lite\"});\n",
       "</script>"
      ],
      "text/plain": [
       "alt.Chart(...)"
      ]
     },
     "execution_count": 79,
     "metadata": {},
     "output_type": "execute_result"
    }
   ],
   "source": [
    "#hide\n",
    "\n",
    "cases_ie_plot = alt.Chart(source_ie).mark_circle(\n",
    "    color='green',\n",
    "    opacity=0.7).encode(\n",
    "    x='days_since_10_cases:Q',\n",
    "#     y='confirmed_cases:Q',\n",
    "    y=alt.Y('confirmed_cases:Q', scale=alt.Scale(type='sqrt')),\n",
    "    size=alt.Size('new_cases:Q', title=\"Number of new cases in Ireland\"),\n",
    "    tooltip=['country', 'date:T', 'confirmed_cases', 'new_cases', 'new_deaths']\n",
    ")#.interactive()\n",
    "\n",
    "cases_ie_plot"
   ]
  },
  {
   "cell_type": "code",
   "execution_count": 80,
   "metadata": {},
   "outputs": [
    {
     "data": {
      "text/html": [
       "\n",
       "<div id=\"altair-viz-c7abf5202af547de80ae93f18ebbebe9\"></div>\n",
       "<script type=\"text/javascript\">\n",
       "  (function(spec, embedOpt){\n",
       "    const outputDiv = document.getElementById(\"altair-viz-c7abf5202af547de80ae93f18ebbebe9\");\n",
       "    const paths = {\n",
       "      \"vega\": \"https://cdn.jsdelivr.net/npm//vega@5?noext\",\n",
       "      \"vega-lib\": \"https://cdn.jsdelivr.net/npm//vega-lib?noext\",\n",
       "      \"vega-lite\": \"https://cdn.jsdelivr.net/npm//vega-lite@4.0.2?noext\",\n",
       "      \"vega-embed\": \"https://cdn.jsdelivr.net/npm//vega-embed@6?noext\",\n",
       "    };\n",
       "\n",
       "    function loadScript(lib) {\n",
       "      return new Promise(function(resolve, reject) {\n",
       "        var s = document.createElement('script');\n",
       "        s.src = paths[lib];\n",
       "        s.async = true;\n",
       "        s.onload = () => resolve(paths[lib]);\n",
       "        s.onerror = () => reject(`Error loading script: ${paths[lib]}`);\n",
       "        document.getElementsByTagName(\"head\")[0].appendChild(s);\n",
       "      });\n",
       "    }\n",
       "\n",
       "    function showError(err) {\n",
       "      outputDiv.innerHTML = `<div class=\"error\" style=\"color:red;\">${err}</div>`;\n",
       "      throw err;\n",
       "    }\n",
       "\n",
       "    function displayChart(vegaEmbed) {\n",
       "      vegaEmbed(outputDiv, spec, embedOpt)\n",
       "        .catch(err => showError(`Javascript Error: ${err.message}<br>This usually means there's a typo in your chart specification. See the javascript console for the full traceback.`));\n",
       "    }\n",
       "\n",
       "    if(typeof define === \"function\" && define.amd) {\n",
       "      requirejs.config({paths});\n",
       "      require([\"vega-embed\"], displayChart, err => showError(`Error loading script: ${err.message}`));\n",
       "    } else if (typeof vegaEmbed === \"function\") {\n",
       "      displayChart(vegaEmbed);\n",
       "    } else {\n",
       "      loadScript(\"vega\")\n",
       "        .then(() => loadScript(\"vega-lite\"))\n",
       "        .then(() => loadScript(\"vega-embed\"))\n",
       "        .catch(showError)\n",
       "        .then(() => displayChart(vegaEmbed));\n",
       "    }\n",
       "  })({\"config\": {\"view\": {\"continuousWidth\": 400, \"continuousHeight\": 300}}, \"data\": {\"name\": \"data-2c457a4d3401c9c6ef9b5db568ad130b\"}, \"mark\": {\"type\": \"line\", \"color\": \"blue\", \"opacity\": 0.5, \"point\": true, \"strokeDash\": [4, 4], \"strokeWidth\": 3}, \"encoding\": {\"color\": {\"type\": \"nominal\", \"field\": \"country\", \"scale\": {\"domain\": [\"Italy\"], \"range\": [\"blue\"]}, \"title\": \"Country\"}, \"tooltip\": [{\"type\": \"nominal\", \"field\": \"country\"}, {\"type\": \"temporal\", \"field\": \"date\"}, {\"type\": \"quantitative\", \"field\": \"confirmed_cases\"}, {\"type\": \"quantitative\", \"field\": \"new_cases\"}, {\"type\": \"quantitative\", \"field\": \"new_deaths\"}], \"x\": {\"type\": \"quantitative\", \"field\": \"days_since_10_cases\"}, \"y\": {\"type\": \"quantitative\", \"field\": \"confirmed_cases\", \"scale\": {\"type\": \"sqrt\"}}}, \"$schema\": \"https://vega.github.io/schema/vega-lite/v4.0.2.json\", \"datasets\": {\"data-2c457a4d3401c9c6ef9b5db568ad130b\": [{\"country\": \"Italy\", \"date\": \"2020-02-21\", \"days_since_10_cases\": 0, \"confirmed_cases\": 20, \"confirmed_cases_per_million\": 0.0, \"new_cases\": 0, \"new_deaths\": 1, \"new_recovered\": 0}, {\"country\": \"Italy\", \"date\": \"2020-02-22\", \"days_since_10_cases\": 1, \"confirmed_cases\": 62, \"confirmed_cases_per_million\": 1.0, \"new_cases\": 42, \"new_deaths\": 1, \"new_recovered\": 1}, {\"country\": \"Italy\", \"date\": \"2020-02-23\", \"days_since_10_cases\": 2, \"confirmed_cases\": 155, \"confirmed_cases_per_million\": 3.0, \"new_cases\": 93, \"new_deaths\": 1, \"new_recovered\": 1}, {\"country\": \"Italy\", \"date\": \"2020-02-24\", \"days_since_10_cases\": 3, \"confirmed_cases\": 229, \"confirmed_cases_per_million\": 4.0, \"new_cases\": 74, \"new_deaths\": 4, \"new_recovered\": -1}, {\"country\": \"Italy\", \"date\": \"2020-02-25\", \"days_since_10_cases\": 4, \"confirmed_cases\": 322, \"confirmed_cases_per_million\": 5.0, \"new_cases\": 93, \"new_deaths\": 3, \"new_recovered\": 0}, {\"country\": \"Italy\", \"date\": \"2020-02-26\", \"days_since_10_cases\": 5, \"confirmed_cases\": 453, \"confirmed_cases_per_million\": 8.0, \"new_cases\": 131, \"new_deaths\": 2, \"new_recovered\": 2}, {\"country\": \"Italy\", \"date\": \"2020-02-27\", \"days_since_10_cases\": 6, \"confirmed_cases\": 655, \"confirmed_cases_per_million\": 11.0, \"new_cases\": 202, \"new_deaths\": 5, \"new_recovered\": 42}, {\"country\": \"Italy\", \"date\": \"2020-02-28\", \"days_since_10_cases\": 7, \"confirmed_cases\": 888, \"confirmed_cases_per_million\": 15.0, \"new_cases\": 233, \"new_deaths\": 4, \"new_recovered\": 1}, {\"country\": \"Italy\", \"date\": \"2020-02-29\", \"days_since_10_cases\": 8, \"confirmed_cases\": 1128, \"confirmed_cases_per_million\": 19.0, \"new_cases\": 240, \"new_deaths\": 8, \"new_recovered\": 0}, {\"country\": \"Italy\", \"date\": \"2020-03-01\", \"days_since_10_cases\": 9, \"confirmed_cases\": 1694, \"confirmed_cases_per_million\": 28.0, \"new_cases\": 566, \"new_deaths\": 5, \"new_recovered\": 37}, {\"country\": \"Italy\", \"date\": \"2020-03-02\", \"days_since_10_cases\": 10, \"confirmed_cases\": 2036, \"confirmed_cases_per_million\": 34.0, \"new_cases\": 342, \"new_deaths\": 18, \"new_recovered\": 66}, {\"country\": \"Italy\", \"date\": \"2020-03-03\", \"days_since_10_cases\": 11, \"confirmed_cases\": 2502, \"confirmed_cases_per_million\": 42.0, \"new_cases\": 466, \"new_deaths\": 27, \"new_recovered\": 11}, {\"country\": \"Italy\", \"date\": \"2020-03-04\", \"days_since_10_cases\": 12, \"confirmed_cases\": 3089, \"confirmed_cases_per_million\": 51.0, \"new_cases\": 587, \"new_deaths\": 28, \"new_recovered\": 116}, {\"country\": \"Italy\", \"date\": \"2020-03-05\", \"days_since_10_cases\": 13, \"confirmed_cases\": 3858, \"confirmed_cases_per_million\": 64.0, \"new_cases\": 769, \"new_deaths\": 41, \"new_recovered\": 138}, {\"country\": \"Italy\", \"date\": \"2020-03-06\", \"days_since_10_cases\": 14, \"confirmed_cases\": 4636, \"confirmed_cases_per_million\": 77.0, \"new_cases\": 778, \"new_deaths\": 49, \"new_recovered\": 109}, {\"country\": \"Italy\", \"date\": \"2020-03-07\", \"days_since_10_cases\": 15, \"confirmed_cases\": 5883, \"confirmed_cases_per_million\": 98.0, \"new_cases\": 1247, \"new_deaths\": 36, \"new_recovered\": 66}, {\"country\": \"Italy\", \"date\": \"2020-03-08\", \"days_since_10_cases\": 16, \"confirmed_cases\": 7375, \"confirmed_cases_per_million\": 123.0, \"new_cases\": 1492, \"new_deaths\": 133, \"new_recovered\": 33}, {\"country\": \"Italy\", \"date\": \"2020-03-09\", \"days_since_10_cases\": 17, \"confirmed_cases\": 9172, \"confirmed_cases_per_million\": 152.0, \"new_cases\": 1797, \"new_deaths\": 97, \"new_recovered\": 102}, {\"country\": \"Italy\", \"date\": \"2020-03-10\", \"days_since_10_cases\": 18, \"confirmed_cases\": 10149, \"confirmed_cases_per_million\": 169.0, \"new_cases\": 977, \"new_deaths\": 168, \"new_recovered\": 0}, {\"country\": \"Italy\", \"date\": \"2020-03-11\", \"days_since_10_cases\": 19, \"confirmed_cases\": 12462, \"confirmed_cases_per_million\": 207.0, \"new_cases\": 2313, \"new_deaths\": 196, \"new_recovered\": 321}, {\"country\": \"Italy\", \"date\": \"2020-03-12\", \"days_since_10_cases\": 20, \"confirmed_cases\": 12462, \"confirmed_cases_per_million\": 207.0, \"new_cases\": 0, \"new_deaths\": 0, \"new_recovered\": 0}, {\"country\": \"Italy\", \"date\": \"2020-03-13\", \"days_since_10_cases\": 21, \"confirmed_cases\": 17660, \"confirmed_cases_per_million\": 293.0, \"new_cases\": 5198, \"new_deaths\": 439, \"new_recovered\": 394}, {\"country\": \"Italy\", \"date\": \"2020-03-14\", \"days_since_10_cases\": 22, \"confirmed_cases\": 21157, \"confirmed_cases_per_million\": 351.0, \"new_cases\": 3497, \"new_deaths\": 175, \"new_recovered\": 527}, {\"country\": \"Italy\", \"date\": \"2020-03-15\", \"days_since_10_cases\": 23, \"confirmed_cases\": 24747, \"confirmed_cases_per_million\": 411.0, \"new_cases\": 3590, \"new_deaths\": 368, \"new_recovered\": 369}, {\"country\": \"Italy\", \"date\": \"2020-03-16\", \"days_since_10_cases\": 24, \"confirmed_cases\": 27980, \"confirmed_cases_per_million\": 465.0, \"new_cases\": 3233, \"new_deaths\": 349, \"new_recovered\": 414}, {\"country\": \"Italy\", \"date\": \"2020-03-17\", \"days_since_10_cases\": 25, \"confirmed_cases\": 31506, \"confirmed_cases_per_million\": 523.0, \"new_cases\": 3526, \"new_deaths\": 345, \"new_recovered\": 192}, {\"country\": \"Italy\", \"date\": \"2020-03-18\", \"days_since_10_cases\": 26, \"confirmed_cases\": 35713, \"confirmed_cases_per_million\": 593.0, \"new_cases\": 4207, \"new_deaths\": 475, \"new_recovered\": 1084}, {\"country\": \"Italy\", \"date\": \"2020-03-19\", \"days_since_10_cases\": 27, \"confirmed_cases\": 41035, \"confirmed_cases_per_million\": 682.0, \"new_cases\": 5322, \"new_deaths\": 427, \"new_recovered\": 415}, {\"country\": \"Italy\", \"date\": \"2020-03-20\", \"days_since_10_cases\": 28, \"confirmed_cases\": 47021, \"confirmed_cases_per_million\": 781.0, \"new_cases\": 5986, \"new_deaths\": 627, \"new_recovered\": 0}, {\"country\": \"Italy\", \"date\": \"2020-03-21\", \"days_since_10_cases\": 29, \"confirmed_cases\": 53578, \"confirmed_cases_per_million\": 890.0, \"new_cases\": 6557, \"new_deaths\": 793, \"new_recovered\": 1632}, {\"country\": \"Italy\", \"date\": \"2020-03-22\", \"days_since_10_cases\": 30, \"confirmed_cases\": 59138, \"confirmed_cases_per_million\": 982.0, \"new_cases\": 5560, \"new_deaths\": 651, \"new_recovered\": 952}, {\"country\": \"Italy\", \"date\": \"2020-03-23\", \"days_since_10_cases\": 31, \"confirmed_cases\": 63927, \"confirmed_cases_per_million\": 1062.0, \"new_cases\": 4789, \"new_deaths\": 601, \"new_recovered\": 0}, {\"country\": \"Italy\", \"date\": \"2020-03-24\", \"days_since_10_cases\": 32, \"confirmed_cases\": 69176, \"confirmed_cases_per_million\": 1149.0, \"new_cases\": 5249, \"new_deaths\": 743, \"new_recovered\": 1302}, {\"country\": \"Italy\", \"date\": \"2020-03-25\", \"days_since_10_cases\": 33, \"confirmed_cases\": 74386, \"confirmed_cases_per_million\": 1236.0, \"new_cases\": 5210, \"new_deaths\": 683, \"new_recovered\": 1036}, {\"country\": \"Italy\", \"date\": \"2020-03-26\", \"days_since_10_cases\": 34, \"confirmed_cases\": 80589, \"confirmed_cases_per_million\": 1339.0, \"new_cases\": 6203, \"new_deaths\": 712, \"new_recovered\": 999}, {\"country\": \"Italy\", \"date\": \"2020-03-27\", \"days_since_10_cases\": 35, \"confirmed_cases\": 86498, \"confirmed_cases_per_million\": 1437.0, \"new_cases\": 5909, \"new_deaths\": 919, \"new_recovered\": 589}, {\"country\": \"Italy\", \"date\": \"2020-03-28\", \"days_since_10_cases\": 36, \"confirmed_cases\": 92472, \"confirmed_cases_per_million\": 1536.0, \"new_cases\": 5974, \"new_deaths\": 889, \"new_recovered\": 1434}, {\"country\": \"Italy\", \"date\": \"2020-03-29\", \"days_since_10_cases\": 37, \"confirmed_cases\": 97689, \"confirmed_cases_per_million\": 1623.0, \"new_cases\": 5217, \"new_deaths\": 756, \"new_recovered\": 646}, {\"country\": \"Italy\", \"date\": \"2020-03-30\", \"days_since_10_cases\": 38, \"confirmed_cases\": 101739, \"confirmed_cases_per_million\": 1690.0, \"new_cases\": 4050, \"new_deaths\": 812, \"new_recovered\": 1590}, {\"country\": \"Italy\", \"date\": \"2020-03-31\", \"days_since_10_cases\": 39, \"confirmed_cases\": 105792, \"confirmed_cases_per_million\": 1757.0, \"new_cases\": 4053, \"new_deaths\": 837, \"new_recovered\": 1109}, {\"country\": \"Italy\", \"date\": \"2020-04-01\", \"days_since_10_cases\": 40, \"confirmed_cases\": 110574, \"confirmed_cases_per_million\": 1837.0, \"new_cases\": 4782, \"new_deaths\": 727, \"new_recovered\": 1118}, {\"country\": \"Italy\", \"date\": \"2020-04-02\", \"days_since_10_cases\": 41, \"confirmed_cases\": 115242, \"confirmed_cases_per_million\": 1914.0, \"new_cases\": 4668, \"new_deaths\": 760, \"new_recovered\": 1431}, {\"country\": \"Italy\", \"date\": \"2020-04-03\", \"days_since_10_cases\": 42, \"confirmed_cases\": 119827, \"confirmed_cases_per_million\": 1990.0, \"new_cases\": 4585, \"new_deaths\": 766, \"new_recovered\": 1480}, {\"country\": \"Italy\", \"date\": \"2020-04-04\", \"days_since_10_cases\": 43, \"confirmed_cases\": 124632, \"confirmed_cases_per_million\": 2070.0, \"new_cases\": 4805, \"new_deaths\": 681, \"new_recovered\": 1238}, {\"country\": \"Italy\", \"date\": \"2020-04-05\", \"days_since_10_cases\": 44, \"confirmed_cases\": 128948, \"confirmed_cases_per_million\": 2142.0, \"new_cases\": 4316, \"new_deaths\": 525, \"new_recovered\": 819}, {\"country\": \"Italy\", \"date\": \"2020-04-06\", \"days_since_10_cases\": 45, \"confirmed_cases\": 132547, \"confirmed_cases_per_million\": 2202.0, \"new_cases\": 3599, \"new_deaths\": 636, \"new_recovered\": 1022}, {\"country\": \"Italy\", \"date\": \"2020-04-07\", \"days_since_10_cases\": 46, \"confirmed_cases\": 135586, \"confirmed_cases_per_million\": 2252.0, \"new_cases\": 3039, \"new_deaths\": 604, \"new_recovered\": 1555}, {\"country\": \"Italy\", \"date\": \"2020-04-08\", \"days_since_10_cases\": 47, \"confirmed_cases\": 139422, \"confirmed_cases_per_million\": 2316.0, \"new_cases\": 3836, \"new_deaths\": 542, \"new_recovered\": 2099}, {\"country\": \"Italy\", \"date\": \"2020-04-09\", \"days_since_10_cases\": 48, \"confirmed_cases\": 143626, \"confirmed_cases_per_million\": 2386.0, \"new_cases\": 4204, \"new_deaths\": 610, \"new_recovered\": 1979}, {\"country\": \"Italy\", \"date\": \"2020-04-10\", \"days_since_10_cases\": 49, \"confirmed_cases\": 147577, \"confirmed_cases_per_million\": 2451.0, \"new_cases\": 3951, \"new_deaths\": 570, \"new_recovered\": 1985}, {\"country\": \"Italy\", \"date\": \"2020-04-11\", \"days_since_10_cases\": 50, \"confirmed_cases\": 152271, \"confirmed_cases_per_million\": 2529.0, \"new_cases\": 4694, \"new_deaths\": 619, \"new_recovered\": 2079}, {\"country\": \"Italy\", \"date\": \"2020-04-12\", \"days_since_10_cases\": 51, \"confirmed_cases\": 156363, \"confirmed_cases_per_million\": 2597.0, \"new_cases\": 4092, \"new_deaths\": 431, \"new_recovered\": 1677}, {\"country\": \"Italy\", \"date\": \"2020-04-13\", \"days_since_10_cases\": 52, \"confirmed_cases\": 159516, \"confirmed_cases_per_million\": 2650.0, \"new_cases\": 3153, \"new_deaths\": 566, \"new_recovered\": 1224}, {\"country\": \"Italy\", \"date\": \"2020-04-14\", \"days_since_10_cases\": 53, \"confirmed_cases\": 162488, \"confirmed_cases_per_million\": 2699.0, \"new_cases\": 2972, \"new_deaths\": 602, \"new_recovered\": 1695}, {\"country\": \"Italy\", \"date\": \"2020-04-15\", \"days_since_10_cases\": 54, \"confirmed_cases\": 165155, \"confirmed_cases_per_million\": 2743.0, \"new_cases\": 2667, \"new_deaths\": 578, \"new_recovered\": 962}, {\"country\": \"Italy\", \"date\": \"2020-04-16\", \"days_since_10_cases\": 55, \"confirmed_cases\": 168941, \"confirmed_cases_per_million\": 2806.0, \"new_cases\": 3786, \"new_deaths\": 525, \"new_recovered\": 2072}, {\"country\": \"Italy\", \"date\": \"2020-04-17\", \"days_since_10_cases\": 56, \"confirmed_cases\": 172434, \"confirmed_cases_per_million\": 2864.0, \"new_cases\": 3493, \"new_deaths\": 575, \"new_recovered\": 2563}, {\"country\": \"Italy\", \"date\": \"2020-04-18\", \"days_since_10_cases\": 57, \"confirmed_cases\": 175925, \"confirmed_cases_per_million\": 2922.0, \"new_cases\": 3491, \"new_deaths\": 482, \"new_recovered\": 2200}, {\"country\": \"Italy\", \"date\": \"2020-04-19\", \"days_since_10_cases\": 58, \"confirmed_cases\": 178972, \"confirmed_cases_per_million\": 2973.0, \"new_cases\": 3047, \"new_deaths\": 433, \"new_recovered\": 2128}, {\"country\": \"Italy\", \"date\": \"2020-04-20\", \"days_since_10_cases\": 59, \"confirmed_cases\": 181228, \"confirmed_cases_per_million\": 3010.0, \"new_cases\": 2256, \"new_deaths\": 454, \"new_recovered\": 1822}, {\"country\": \"Italy\", \"date\": \"2020-04-21\", \"days_since_10_cases\": 60, \"confirmed_cases\": 183957, \"confirmed_cases_per_million\": 3056.0, \"new_cases\": 2729, \"new_deaths\": 534, \"new_recovered\": 2723}, {\"country\": \"Italy\", \"date\": \"2020-04-22\", \"days_since_10_cases\": 61, \"confirmed_cases\": 187327, \"confirmed_cases_per_million\": 3112.0, \"new_cases\": 3370, \"new_deaths\": 437, \"new_recovered\": 2943}, {\"country\": \"Italy\", \"date\": \"2020-04-23\", \"days_since_10_cases\": 62, \"confirmed_cases\": 189973, \"confirmed_cases_per_million\": 3156.0, \"new_cases\": 2646, \"new_deaths\": 464, \"new_recovered\": 3033}, {\"country\": \"Italy\", \"date\": \"2020-04-24\", \"days_since_10_cases\": 63, \"confirmed_cases\": 192994, \"confirmed_cases_per_million\": 3206.0, \"new_cases\": 3021, \"new_deaths\": 420, \"new_recovered\": 2922}, {\"country\": \"Italy\", \"date\": \"2020-04-25\", \"days_since_10_cases\": 64, \"confirmed_cases\": 195351, \"confirmed_cases_per_million\": 3245.0, \"new_cases\": 2357, \"new_deaths\": 415, \"new_recovered\": 2622}, {\"country\": \"Italy\", \"date\": \"2020-04-26\", \"days_since_10_cases\": 65, \"confirmed_cases\": 197675, \"confirmed_cases_per_million\": 3284.0, \"new_cases\": 2324, \"new_deaths\": 260, \"new_recovered\": 1808}, {\"country\": \"Italy\", \"date\": \"2020-04-27\", \"days_since_10_cases\": 66, \"confirmed_cases\": 199414, \"confirmed_cases_per_million\": 3313.0, \"new_cases\": 1739, \"new_deaths\": 333, \"new_recovered\": 1696}, {\"country\": \"Italy\", \"date\": \"2020-04-28\", \"days_since_10_cases\": 67, \"confirmed_cases\": 201505, \"confirmed_cases_per_million\": 3347.0, \"new_cases\": 2091, \"new_deaths\": 382, \"new_recovered\": 2317}, {\"country\": \"Italy\", \"date\": \"2020-04-29\", \"days_since_10_cases\": 68, \"confirmed_cases\": 203591, \"confirmed_cases_per_million\": 3382.0, \"new_cases\": 2086, \"new_deaths\": 323, \"new_recovered\": 2311}, {\"country\": \"Italy\", \"date\": \"2020-04-30\", \"days_since_10_cases\": 69, \"confirmed_cases\": 205463, \"confirmed_cases_per_million\": 3413.0, \"new_cases\": 1872, \"new_deaths\": 285, \"new_recovered\": 4693}, {\"country\": \"Italy\", \"date\": \"2020-05-01\", \"days_since_10_cases\": 70, \"confirmed_cases\": 207428, \"confirmed_cases_per_million\": 3446.0, \"new_cases\": 1965, \"new_deaths\": 269, \"new_recovered\": 2304}, {\"country\": \"Italy\", \"date\": \"2020-05-02\", \"days_since_10_cases\": 71, \"confirmed_cases\": 209328, \"confirmed_cases_per_million\": 3477.0, \"new_cases\": 1900, \"new_deaths\": 474, \"new_recovered\": 1665}, {\"country\": \"Italy\", \"date\": \"2020-05-03\", \"days_since_10_cases\": 72, \"confirmed_cases\": 210717, \"confirmed_cases_per_million\": 3500.0, \"new_cases\": 1389, \"new_deaths\": 174, \"new_recovered\": 1740}]}}, {\"mode\": \"vega-lite\"});\n",
       "</script>"
      ],
      "text/plain": [
       "alt.Chart(...)"
      ]
     },
     "execution_count": 80,
     "metadata": {},
     "output_type": "execute_result"
    }
   ],
   "source": [
    "#hide\n",
    "\n",
    "cases_it_plot = alt.Chart(source_it).mark_line(\n",
    "    color='blue',\n",
    "    opacity=0.5,\n",
    "    strokeDash=[4, 4],\n",
    "    strokeWidth=3,\n",
    "    point=True\n",
    ").encode(\n",
    "    x='days_since_10_cases:Q',\n",
    "#     y='confirmed_cases:Q',\n",
    "    y=alt.Y('confirmed_cases:Q', scale=alt.Scale(type='sqrt')),\n",
    "#     size='new_cases:Q',\n",
    "    tooltip=['country', 'date:T', 'confirmed_cases', 'new_cases', 'new_deaths'],\n",
    "    color=alt.Color('country', scale=alt.Scale(range=['blue'], domain=['Italy']), title=\"Country\")\n",
    ")\n",
    "\n",
    "\n",
    "\n",
    "cases_it_plot"
   ]
  },
  {
   "cell_type": "code",
   "execution_count": 81,
   "metadata": {},
   "outputs": [
    {
     "data": {
      "text/html": [
       "\n",
       "<div id=\"altair-viz-1381a87d038b486dbfee5257353d7479\"></div>\n",
       "<script type=\"text/javascript\">\n",
       "  (function(spec, embedOpt){\n",
       "    const outputDiv = document.getElementById(\"altair-viz-1381a87d038b486dbfee5257353d7479\");\n",
       "    const paths = {\n",
       "      \"vega\": \"https://cdn.jsdelivr.net/npm//vega@5?noext\",\n",
       "      \"vega-lib\": \"https://cdn.jsdelivr.net/npm//vega-lib?noext\",\n",
       "      \"vega-lite\": \"https://cdn.jsdelivr.net/npm//vega-lite@4.0.2?noext\",\n",
       "      \"vega-embed\": \"https://cdn.jsdelivr.net/npm//vega-embed@6?noext\",\n",
       "    };\n",
       "\n",
       "    function loadScript(lib) {\n",
       "      return new Promise(function(resolve, reject) {\n",
       "        var s = document.createElement('script');\n",
       "        s.src = paths[lib];\n",
       "        s.async = true;\n",
       "        s.onload = () => resolve(paths[lib]);\n",
       "        s.onerror = () => reject(`Error loading script: ${paths[lib]}`);\n",
       "        document.getElementsByTagName(\"head\")[0].appendChild(s);\n",
       "      });\n",
       "    }\n",
       "\n",
       "    function showError(err) {\n",
       "      outputDiv.innerHTML = `<div class=\"error\" style=\"color:red;\">${err}</div>`;\n",
       "      throw err;\n",
       "    }\n",
       "\n",
       "    function displayChart(vegaEmbed) {\n",
       "      vegaEmbed(outputDiv, spec, embedOpt)\n",
       "        .catch(err => showError(`Javascript Error: ${err.message}<br>This usually means there's a typo in your chart specification. See the javascript console for the full traceback.`));\n",
       "    }\n",
       "\n",
       "    if(typeof define === \"function\" && define.amd) {\n",
       "      requirejs.config({paths});\n",
       "      require([\"vega-embed\"], displayChart, err => showError(`Error loading script: ${err.message}`));\n",
       "    } else if (typeof vegaEmbed === \"function\") {\n",
       "      displayChart(vegaEmbed);\n",
       "    } else {\n",
       "      loadScript(\"vega\")\n",
       "        .then(() => loadScript(\"vega-lite\"))\n",
       "        .then(() => loadScript(\"vega-embed\"))\n",
       "        .catch(showError)\n",
       "        .then(() => displayChart(vegaEmbed));\n",
       "    }\n",
       "  })({\"config\": {\"view\": {\"continuousWidth\": 400, \"continuousHeight\": 300}}, \"data\": {\"name\": \"data-daf2fe332b3ad6e12c8cae97ceea7859\"}, \"mark\": {\"type\": \"line\", \"color\": \"red\", \"opacity\": 0.5, \"point\": true, \"strokeDash\": [4, 4], \"strokeWidth\": 3}, \"encoding\": {\"color\": {\"type\": \"nominal\", \"field\": \"country\", \"scale\": {\"domain\": [\"Spain\"], \"range\": [\"red\"]}, \"title\": \"\"}, \"tooltip\": [{\"type\": \"nominal\", \"field\": \"country\"}, {\"type\": \"temporal\", \"field\": \"date\"}, {\"type\": \"quantitative\", \"field\": \"confirmed_cases\"}, {\"type\": \"quantitative\", \"field\": \"new_cases\"}, {\"type\": \"quantitative\", \"field\": \"new_deaths\"}], \"x\": {\"type\": \"quantitative\", \"field\": \"days_since_10_cases\"}, \"y\": {\"type\": \"quantitative\", \"field\": \"confirmed_cases\", \"scale\": {\"type\": \"sqrt\"}}}, \"$schema\": \"https://vega.github.io/schema/vega-lite/v4.0.2.json\", \"datasets\": {\"data-daf2fe332b3ad6e12c8cae97ceea7859\": [{\"country\": \"Spain\", \"date\": \"2020-02-26\", \"days_since_10_cases\": 0, \"confirmed_cases\": 13, \"confirmed_cases_per_million\": 0.0, \"new_cases\": 0, \"new_deaths\": 0, \"new_recovered\": 0}, {\"country\": \"Spain\", \"date\": \"2020-02-27\", \"days_since_10_cases\": 1, \"confirmed_cases\": 15, \"confirmed_cases_per_million\": 0.0, \"new_cases\": 2, \"new_deaths\": 0, \"new_recovered\": 0}, {\"country\": \"Spain\", \"date\": \"2020-02-28\", \"days_since_10_cases\": 2, \"confirmed_cases\": 32, \"confirmed_cases_per_million\": 1.0, \"new_cases\": 17, \"new_deaths\": 0, \"new_recovered\": 0}, {\"country\": \"Spain\", \"date\": \"2020-02-29\", \"days_since_10_cases\": 3, \"confirmed_cases\": 45, \"confirmed_cases_per_million\": 1.0, \"new_cases\": 13, \"new_deaths\": 0, \"new_recovered\": 0}, {\"country\": \"Spain\", \"date\": \"2020-03-01\", \"days_since_10_cases\": 4, \"confirmed_cases\": 84, \"confirmed_cases_per_million\": 2.0, \"new_cases\": 39, \"new_deaths\": 0, \"new_recovered\": 0}, {\"country\": \"Spain\", \"date\": \"2020-03-02\", \"days_since_10_cases\": 5, \"confirmed_cases\": 120, \"confirmed_cases_per_million\": 3.0, \"new_cases\": 36, \"new_deaths\": 0, \"new_recovered\": 0}, {\"country\": \"Spain\", \"date\": \"2020-03-03\", \"days_since_10_cases\": 6, \"confirmed_cases\": 165, \"confirmed_cases_per_million\": 4.0, \"new_cases\": 45, \"new_deaths\": 1, \"new_recovered\": 0}, {\"country\": \"Spain\", \"date\": \"2020-03-04\", \"days_since_10_cases\": 7, \"confirmed_cases\": 222, \"confirmed_cases_per_million\": 5.0, \"new_cases\": 57, \"new_deaths\": 1, \"new_recovered\": 0}, {\"country\": \"Spain\", \"date\": \"2020-03-05\", \"days_since_10_cases\": 8, \"confirmed_cases\": 259, \"confirmed_cases_per_million\": 5.0, \"new_cases\": 37, \"new_deaths\": 1, \"new_recovered\": 0}, {\"country\": \"Spain\", \"date\": \"2020-03-06\", \"days_since_10_cases\": 9, \"confirmed_cases\": 400, \"confirmed_cases_per_million\": 8.0, \"new_cases\": 141, \"new_deaths\": 2, \"new_recovered\": 0}, {\"country\": \"Spain\", \"date\": \"2020-03-07\", \"days_since_10_cases\": 10, \"confirmed_cases\": 500, \"confirmed_cases_per_million\": 11.0, \"new_cases\": 100, \"new_deaths\": 5, \"new_recovered\": 28}, {\"country\": \"Spain\", \"date\": \"2020-03-08\", \"days_since_10_cases\": 11, \"confirmed_cases\": 673, \"confirmed_cases_per_million\": 14.0, \"new_cases\": 173, \"new_deaths\": 7, \"new_recovered\": 0}, {\"country\": \"Spain\", \"date\": \"2020-03-09\", \"days_since_10_cases\": 12, \"confirmed_cases\": 1073, \"confirmed_cases_per_million\": 23.0, \"new_cases\": 400, \"new_deaths\": 11, \"new_recovered\": 2}, {\"country\": \"Spain\", \"date\": \"2020-03-10\", \"days_since_10_cases\": 13, \"confirmed_cases\": 1695, \"confirmed_cases_per_million\": 36.0, \"new_cases\": 622, \"new_deaths\": 7, \"new_recovered\": 0}, {\"country\": \"Spain\", \"date\": \"2020-03-11\", \"days_since_10_cases\": 14, \"confirmed_cases\": 2277, \"confirmed_cases_per_million\": 48.0, \"new_cases\": 582, \"new_deaths\": 19, \"new_recovered\": 151}, {\"country\": \"Spain\", \"date\": \"2020-03-12\", \"days_since_10_cases\": 15, \"confirmed_cases\": 2277, \"confirmed_cases_per_million\": 48.0, \"new_cases\": 0, \"new_deaths\": 1, \"new_recovered\": 0}, {\"country\": \"Spain\", \"date\": \"2020-03-13\", \"days_since_10_cases\": 16, \"confirmed_cases\": 5232, \"confirmed_cases_per_million\": 111.0, \"new_cases\": 2955, \"new_deaths\": 78, \"new_recovered\": 10}, {\"country\": \"Spain\", \"date\": \"2020-03-14\", \"days_since_10_cases\": 17, \"confirmed_cases\": 6391, \"confirmed_cases_per_million\": 136.0, \"new_cases\": 1159, \"new_deaths\": 62, \"new_recovered\": 324}, {\"country\": \"Spain\", \"date\": \"2020-03-15\", \"days_since_10_cases\": 18, \"confirmed_cases\": 7798, \"confirmed_cases_per_million\": 166.0, \"new_cases\": 1407, \"new_deaths\": 94, \"new_recovered\": 0}, {\"country\": \"Spain\", \"date\": \"2020-03-16\", \"days_since_10_cases\": 19, \"confirmed_cases\": 9942, \"confirmed_cases_per_million\": 211.0, \"new_cases\": 2144, \"new_deaths\": 53, \"new_recovered\": 13}, {\"country\": \"Spain\", \"date\": \"2020-03-17\", \"days_since_10_cases\": 20, \"confirmed_cases\": 11748, \"confirmed_cases_per_million\": 249.0, \"new_cases\": 1806, \"new_deaths\": 191, \"new_recovered\": 498}, {\"country\": \"Spain\", \"date\": \"2020-03-18\", \"days_since_10_cases\": 21, \"confirmed_cases\": 13910, \"confirmed_cases_per_million\": 295.0, \"new_cases\": 2162, \"new_deaths\": 90, \"new_recovered\": 53}, {\"country\": \"Spain\", \"date\": \"2020-03-19\", \"days_since_10_cases\": 22, \"confirmed_cases\": 17963, \"confirmed_cases_per_million\": 381.0, \"new_cases\": 4053, \"new_deaths\": 207, \"new_recovered\": 26}, {\"country\": \"Spain\", \"date\": \"2020-03-20\", \"days_since_10_cases\": 23, \"confirmed_cases\": 20410, \"confirmed_cases_per_million\": 433.0, \"new_cases\": 2447, \"new_deaths\": 213, \"new_recovered\": 481}, {\"country\": \"Spain\", \"date\": \"2020-03-21\", \"days_since_10_cases\": 24, \"confirmed_cases\": 25374, \"confirmed_cases_per_million\": 539.0, \"new_cases\": 4964, \"new_deaths\": 332, \"new_recovered\": 537}, {\"country\": \"Spain\", \"date\": \"2020-03-22\", \"days_since_10_cases\": 25, \"confirmed_cases\": 28768, \"confirmed_cases_per_million\": 611.0, \"new_cases\": 3394, \"new_deaths\": 397, \"new_recovered\": 450}, {\"country\": \"Spain\", \"date\": \"2020-03-23\", \"days_since_10_cases\": 26, \"confirmed_cases\": 35136, \"confirmed_cases_per_million\": 746.0, \"new_cases\": 6368, \"new_deaths\": 539, \"new_recovered\": 0}, {\"country\": \"Spain\", \"date\": \"2020-03-24\", \"days_since_10_cases\": 27, \"confirmed_cases\": 39885, \"confirmed_cases_per_million\": 847.0, \"new_cases\": 4749, \"new_deaths\": 497, \"new_recovered\": 1219}, {\"country\": \"Spain\", \"date\": \"2020-03-25\", \"days_since_10_cases\": 28, \"confirmed_cases\": 49515, \"confirmed_cases_per_million\": 1051.0, \"new_cases\": 9630, \"new_deaths\": 839, \"new_recovered\": 1573}, {\"country\": \"Spain\", \"date\": \"2020-03-26\", \"days_since_10_cases\": 29, \"confirmed_cases\": 57786, \"confirmed_cases_per_million\": 1227.0, \"new_cases\": 8271, \"new_deaths\": 718, \"new_recovered\": 1648}, {\"country\": \"Spain\", \"date\": \"2020-03-27\", \"days_since_10_cases\": 30, \"confirmed_cases\": 65719, \"confirmed_cases_per_million\": 1395.0, \"new_cases\": 7933, \"new_deaths\": 773, \"new_recovered\": 2342}, {\"country\": \"Spain\", \"date\": \"2020-03-28\", \"days_since_10_cases\": 31, \"confirmed_cases\": 73235, \"confirmed_cases_per_million\": 1555.0, \"new_cases\": 7516, \"new_deaths\": 844, \"new_recovered\": 2928}, {\"country\": \"Spain\", \"date\": \"2020-03-29\", \"days_since_10_cases\": 32, \"confirmed_cases\": 80110, \"confirmed_cases_per_million\": 1701.0, \"new_cases\": 6875, \"new_deaths\": 821, \"new_recovered\": 2424}, {\"country\": \"Spain\", \"date\": \"2020-03-30\", \"days_since_10_cases\": 33, \"confirmed_cases\": 87956, \"confirmed_cases_per_million\": 1867.0, \"new_cases\": 7846, \"new_deaths\": 913, \"new_recovered\": 2071}, {\"country\": \"Spain\", \"date\": \"2020-03-31\", \"days_since_10_cases\": 34, \"confirmed_cases\": 95923, \"confirmed_cases_per_million\": 2037.0, \"new_cases\": 7967, \"new_deaths\": 748, \"new_recovered\": 2479}, {\"country\": \"Spain\", \"date\": \"2020-04-01\", \"days_since_10_cases\": 35, \"confirmed_cases\": 104118, \"confirmed_cases_per_million\": 2211.0, \"new_cases\": 8195, \"new_deaths\": 923, \"new_recovered\": 3388}, {\"country\": \"Spain\", \"date\": \"2020-04-02\", \"days_since_10_cases\": 36, \"confirmed_cases\": 112065, \"confirmed_cases_per_million\": 2379.0, \"new_cases\": 7947, \"new_deaths\": 961, \"new_recovered\": 4096}, {\"country\": \"Spain\", \"date\": \"2020-04-03\", \"days_since_10_cases\": 37, \"confirmed_cases\": 119199, \"confirmed_cases_per_million\": 2531.0, \"new_cases\": 7134, \"new_deaths\": 850, \"new_recovered\": 3770}, {\"country\": \"Spain\", \"date\": \"2020-04-04\", \"days_since_10_cases\": 38, \"confirmed_cases\": 126168, \"confirmed_cases_per_million\": 2679.0, \"new_cases\": 6969, \"new_deaths\": 749, \"new_recovered\": 3706}, {\"country\": \"Spain\", \"date\": \"2020-04-05\", \"days_since_10_cases\": 39, \"confirmed_cases\": 131646, \"confirmed_cases_per_million\": 2795.0, \"new_cases\": 5478, \"new_deaths\": 694, \"new_recovered\": 3861}, {\"country\": \"Spain\", \"date\": \"2020-04-06\", \"days_since_10_cases\": 40, \"confirmed_cases\": 136675, \"confirmed_cases_per_million\": 2902.0, \"new_cases\": 5029, \"new_deaths\": 700, \"new_recovered\": 2357}, {\"country\": \"Spain\", \"date\": \"2020-04-07\", \"days_since_10_cases\": 41, \"confirmed_cases\": 141942, \"confirmed_cases_per_million\": 3014.0, \"new_cases\": 5267, \"new_deaths\": 704, \"new_recovered\": 2771}, {\"country\": \"Spain\", \"date\": \"2020-04-08\", \"days_since_10_cases\": 42, \"confirmed_cases\": 148220, \"confirmed_cases_per_million\": 3147.0, \"new_cases\": 6278, \"new_deaths\": 747, \"new_recovered\": 4813}, {\"country\": \"Spain\", \"date\": \"2020-04-09\", \"days_since_10_cases\": 43, \"confirmed_cases\": 153222, \"confirmed_cases_per_million\": 3253.0, \"new_cases\": 5002, \"new_deaths\": 655, \"new_recovered\": 4144}, {\"country\": \"Spain\", \"date\": \"2020-04-10\", \"days_since_10_cases\": 44, \"confirmed_cases\": 158273, \"confirmed_cases_per_million\": 3360.0, \"new_cases\": 5051, \"new_deaths\": 634, \"new_recovered\": 3503}, {\"country\": \"Spain\", \"date\": \"2020-04-11\", \"days_since_10_cases\": 45, \"confirmed_cases\": 163027, \"confirmed_cases_per_million\": 3461.0, \"new_cases\": 4754, \"new_deaths\": 525, \"new_recovered\": 3441}, {\"country\": \"Spain\", \"date\": \"2020-04-12\", \"days_since_10_cases\": 46, \"confirmed_cases\": 166831, \"confirmed_cases_per_million\": 3542.0, \"new_cases\": 3804, \"new_deaths\": 603, \"new_recovered\": 3282}, {\"country\": \"Spain\", \"date\": \"2020-04-13\", \"days_since_10_cases\": 47, \"confirmed_cases\": 170099, \"confirmed_cases_per_million\": 3611.0, \"new_cases\": 3268, \"new_deaths\": 547, \"new_recovered\": 2336}, {\"country\": \"Spain\", \"date\": \"2020-04-14\", \"days_since_10_cases\": 48, \"confirmed_cases\": 172541, \"confirmed_cases_per_million\": 3663.0, \"new_cases\": 2442, \"new_deaths\": 300, \"new_recovered\": 2777}, {\"country\": \"Spain\", \"date\": \"2020-04-15\", \"days_since_10_cases\": 49, \"confirmed_cases\": 177644, \"confirmed_cases_per_million\": 3772.0, \"new_cases\": 5103, \"new_deaths\": 652, \"new_recovered\": 3349}, {\"country\": \"Spain\", \"date\": \"2020-04-16\", \"days_since_10_cases\": 50, \"confirmed_cases\": 184948, \"confirmed_cases_per_million\": 3927.0, \"new_cases\": 7304, \"new_deaths\": 607, \"new_recovered\": 3944}, {\"country\": \"Spain\", \"date\": \"2020-04-17\", \"days_since_10_cases\": 51, \"confirmed_cases\": 190839, \"confirmed_cases_per_million\": 4052.0, \"new_cases\": 5891, \"new_deaths\": 687, \"new_recovered\": 0}, {\"country\": \"Spain\", \"date\": \"2020-04-18\", \"days_since_10_cases\": 52, \"confirmed_cases\": 191726, \"confirmed_cases_per_million\": 4071.0, \"new_cases\": 887, \"new_deaths\": 41, \"new_recovered\": 0}, {\"country\": \"Spain\", \"date\": \"2020-04-19\", \"days_since_10_cases\": 53, \"confirmed_cases\": 198674, \"confirmed_cases_per_million\": 4218.0, \"new_cases\": 6948, \"new_deaths\": 410, \"new_recovered\": 2560}, {\"country\": \"Spain\", \"date\": \"2020-04-20\", \"days_since_10_cases\": 54, \"confirmed_cases\": 200210, \"confirmed_cases_per_million\": 4251.0, \"new_cases\": 1536, \"new_deaths\": 399, \"new_recovered\": 3230}, {\"country\": \"Spain\", \"date\": \"2020-04-21\", \"days_since_10_cases\": 55, \"confirmed_cases\": 204178, \"confirmed_cases_per_million\": 4335.0, \"new_cases\": 3968, \"new_deaths\": 430, \"new_recovered\": 1927}, {\"country\": \"Spain\", \"date\": \"2020-04-22\", \"days_since_10_cases\": 56, \"confirmed_cases\": 208389, \"confirmed_cases_per_million\": 4424.0, \"new_cases\": 4211, \"new_deaths\": 435, \"new_recovered\": 3401}, {\"country\": \"Spain\", \"date\": \"2020-04-23\", \"days_since_10_cases\": 57, \"confirmed_cases\": 213024, \"confirmed_cases_per_million\": 4523.0, \"new_cases\": 4635, \"new_deaths\": 440, \"new_recovered\": 3335}, {\"country\": \"Spain\", \"date\": \"2020-04-24\", \"days_since_10_cases\": 58, \"confirmed_cases\": 202990, \"confirmed_cases_per_million\": 4310.0, \"new_cases\": -10034, \"new_deaths\": 367, \"new_recovered\": 3105}, {\"country\": \"Spain\", \"date\": \"2020-04-25\", \"days_since_10_cases\": 59, \"confirmed_cases\": 205905, \"confirmed_cases_per_million\": 4372.0, \"new_cases\": 2915, \"new_deaths\": 378, \"new_recovered\": 3353}, {\"country\": \"Spain\", \"date\": \"2020-04-26\", \"days_since_10_cases\": 60, \"confirmed_cases\": 207634, \"confirmed_cases_per_million\": 4408.0, \"new_cases\": 1729, \"new_deaths\": 288, \"new_recovered\": 2664}, {\"country\": \"Spain\", \"date\": \"2020-04-27\", \"days_since_10_cases\": 61, \"confirmed_cases\": 209465, \"confirmed_cases_per_million\": 4447.0, \"new_cases\": 1831, \"new_deaths\": 331, \"new_recovered\": 2503}, {\"country\": \"Spain\", \"date\": \"2020-04-28\", \"days_since_10_cases\": 62, \"confirmed_cases\": 210773, \"confirmed_cases_per_million\": 4475.0, \"new_cases\": 1308, \"new_deaths\": 301, \"new_recovered\": 1673}, {\"country\": \"Spain\", \"date\": \"2020-04-29\", \"days_since_10_cases\": 63, \"confirmed_cases\": 212917, \"confirmed_cases_per_million\": 4521.0, \"new_cases\": 2144, \"new_deaths\": 453, \"new_recovered\": 6399}, {\"country\": \"Spain\", \"date\": \"2020-04-30\", \"days_since_10_cases\": 64, \"confirmed_cases\": 213435, \"confirmed_cases_per_million\": 4532.0, \"new_cases\": 518, \"new_deaths\": 268, \"new_recovered\": 3103}, {\"country\": \"Spain\", \"date\": \"2020-05-01\", \"days_since_10_cases\": 65, \"confirmed_cases\": 213435, \"confirmed_cases_per_million\": 4532.0, \"new_cases\": 0, \"new_deaths\": 0, \"new_recovered\": 0}, {\"country\": \"Spain\", \"date\": \"2020-05-02\", \"days_since_10_cases\": 66, \"confirmed_cases\": 216582, \"confirmed_cases_per_million\": 4598.0, \"new_cases\": 3147, \"new_deaths\": 557, \"new_recovered\": 5198}, {\"country\": \"Spain\", \"date\": \"2020-05-03\", \"days_since_10_cases\": 67, \"confirmed_cases\": 217466, \"confirmed_cases_per_million\": 4617.0, \"new_cases\": 884, \"new_deaths\": 164, \"new_recovered\": 1654}]}}, {\"mode\": \"vega-lite\"});\n",
       "</script>"
      ],
      "text/plain": [
       "alt.Chart(...)"
      ]
     },
     "execution_count": 81,
     "metadata": {},
     "output_type": "execute_result"
    }
   ],
   "source": [
    "#hide\n",
    "\n",
    "cases_es_plot = alt.Chart(source_es).mark_line(\n",
    "    color='red',\n",
    "    opacity=0.5,\n",
    "    strokeDash=[4,4],\n",
    "    strokeWidth=3,\n",
    "    point=True\n",
    ").encode(\n",
    "    x='days_since_10_cases:Q',\n",
    "#     y='confirmed_cases:Q',\n",
    "    y=alt.Y('confirmed_cases:Q', scale=alt.Scale(type='sqrt')),\n",
    "#     size='new_cases:Q',\n",
    "    tooltip=['country', 'date:T', 'confirmed_cases', 'new_cases', 'new_deaths'],\n",
    "    color=alt.Color('country', scale=alt.Scale(range=['red'], domain=['Spain']), title=\"\")\n",
    ")\n",
    "\n",
    "cases_es_plot"
   ]
  },
  {
   "cell_type": "code",
   "execution_count": 82,
   "metadata": {},
   "outputs": [],
   "source": [
    "#hide\n",
    "# # Number of persons tested positive for Covid-19 in Ireland\n",
    "# The figure below shows the total number of persons who tested positive for Covid-19 (_cases_) in Ireland, Italy, and Spain. The `x` axis corresponds to the number of days since at least 10 cases were detected. This allow us to compare Ireland's current situation to the observed in Italy and Spain earlier. The comparison using Italy and Spain is because those countries are still in a critical situation fighting the pandemia, and no country would like to be the next one in such situation. \n",
    "\n",
    "# For Ireland, the size of the circles for each day denotes the number of new persons confirmed infected that day.\n",
    "\n",
    "# **If we consider only the absolute numbers, we can see that the confirmed cases for Covid-19 in Ireland are below the ones observed in Italy and Spain at early stages. However, the populations of the three countries are very different and we have to account for that as well.**"
   ]
  },
  {
   "cell_type": "code",
   "execution_count": 83,
   "metadata": {},
   "outputs": [
    {
     "data": {
      "text/html": [
       "\n",
       "<div id=\"altair-viz-1c0e2c6bab2547c3ac7905e1d430f32c\"></div>\n",
       "<script type=\"text/javascript\">\n",
       "  (function(spec, embedOpt){\n",
       "    const outputDiv = document.getElementById(\"altair-viz-1c0e2c6bab2547c3ac7905e1d430f32c\");\n",
       "    const paths = {\n",
       "      \"vega\": \"https://cdn.jsdelivr.net/npm//vega@5?noext\",\n",
       "      \"vega-lib\": \"https://cdn.jsdelivr.net/npm//vega-lib?noext\",\n",
       "      \"vega-lite\": \"https://cdn.jsdelivr.net/npm//vega-lite@4.0.2?noext\",\n",
       "      \"vega-embed\": \"https://cdn.jsdelivr.net/npm//vega-embed@6?noext\",\n",
       "    };\n",
       "\n",
       "    function loadScript(lib) {\n",
       "      return new Promise(function(resolve, reject) {\n",
       "        var s = document.createElement('script');\n",
       "        s.src = paths[lib];\n",
       "        s.async = true;\n",
       "        s.onload = () => resolve(paths[lib]);\n",
       "        s.onerror = () => reject(`Error loading script: ${paths[lib]}`);\n",
       "        document.getElementsByTagName(\"head\")[0].appendChild(s);\n",
       "      });\n",
       "    }\n",
       "\n",
       "    function showError(err) {\n",
       "      outputDiv.innerHTML = `<div class=\"error\" style=\"color:red;\">${err}</div>`;\n",
       "      throw err;\n",
       "    }\n",
       "\n",
       "    function displayChart(vegaEmbed) {\n",
       "      vegaEmbed(outputDiv, spec, embedOpt)\n",
       "        .catch(err => showError(`Javascript Error: ${err.message}<br>This usually means there's a typo in your chart specification. See the javascript console for the full traceback.`));\n",
       "    }\n",
       "\n",
       "    if(typeof define === \"function\" && define.amd) {\n",
       "      requirejs.config({paths});\n",
       "      require([\"vega-embed\"], displayChart, err => showError(`Error loading script: ${err.message}`));\n",
       "    } else if (typeof vegaEmbed === \"function\") {\n",
       "      displayChart(vegaEmbed);\n",
       "    } else {\n",
       "      loadScript(\"vega\")\n",
       "        .then(() => loadScript(\"vega-lite\"))\n",
       "        .then(() => loadScript(\"vega-embed\"))\n",
       "        .catch(showError)\n",
       "        .then(() => displayChart(vegaEmbed));\n",
       "    }\n",
       "  })({\"config\": {\"view\": {\"continuousWidth\": 400, \"continuousHeight\": 300}}, \"layer\": [{\"data\": {\"name\": \"data-2c457a4d3401c9c6ef9b5db568ad130b\"}, \"mark\": {\"type\": \"line\", \"color\": \"blue\", \"opacity\": 0.5, \"point\": true, \"strokeDash\": [4, 4], \"strokeWidth\": 3}, \"encoding\": {\"color\": {\"type\": \"nominal\", \"field\": \"country\", \"scale\": {\"domain\": [\"Italy\"], \"range\": [\"blue\"]}, \"title\": \"Country\"}, \"tooltip\": [{\"type\": \"nominal\", \"field\": \"country\"}, {\"type\": \"temporal\", \"field\": \"date\"}, {\"type\": \"quantitative\", \"field\": \"confirmed_cases\"}, {\"type\": \"quantitative\", \"field\": \"new_cases\"}, {\"type\": \"quantitative\", \"field\": \"new_deaths\"}], \"x\": {\"type\": \"quantitative\", \"field\": \"days_since_10_cases\"}, \"y\": {\"type\": \"quantitative\", \"field\": \"confirmed_cases\", \"scale\": {\"type\": \"sqrt\"}}}}, {\"data\": {\"name\": \"data-daf2fe332b3ad6e12c8cae97ceea7859\"}, \"mark\": {\"type\": \"line\", \"color\": \"red\", \"opacity\": 0.5, \"point\": true, \"strokeDash\": [4, 4], \"strokeWidth\": 3}, \"encoding\": {\"color\": {\"type\": \"nominal\", \"field\": \"country\", \"scale\": {\"domain\": [\"Spain\"], \"range\": [\"red\"]}, \"title\": \"\"}, \"tooltip\": [{\"type\": \"nominal\", \"field\": \"country\"}, {\"type\": \"temporal\", \"field\": \"date\"}, {\"type\": \"quantitative\", \"field\": \"confirmed_cases\"}, {\"type\": \"quantitative\", \"field\": \"new_cases\"}, {\"type\": \"quantitative\", \"field\": \"new_deaths\"}], \"x\": {\"type\": \"quantitative\", \"field\": \"days_since_10_cases\"}, \"y\": {\"type\": \"quantitative\", \"field\": \"confirmed_cases\", \"scale\": {\"type\": \"sqrt\"}}}}, {\"data\": {\"name\": \"data-51484490e82d8d99c47779b551f58f51\"}, \"mark\": {\"type\": \"circle\", \"color\": \"green\", \"opacity\": 0.7}, \"encoding\": {\"size\": {\"type\": \"quantitative\", \"field\": \"new_cases\", \"title\": \"Number of new cases in Ireland\"}, \"tooltip\": [{\"type\": \"nominal\", \"field\": \"country\"}, {\"type\": \"temporal\", \"field\": \"date\"}, {\"type\": \"quantitative\", \"field\": \"confirmed_cases\"}, {\"type\": \"quantitative\", \"field\": \"new_cases\"}, {\"type\": \"quantitative\", \"field\": \"new_deaths\"}], \"x\": {\"type\": \"quantitative\", \"field\": \"days_since_10_cases\"}, \"y\": {\"type\": \"quantitative\", \"field\": \"confirmed_cases\", \"scale\": {\"type\": \"sqrt\"}}}}], \"resolve\": {\"scale\": {\"color\": \"independent\", \"shape\": \"independent\"}}, \"$schema\": \"https://vega.github.io/schema/vega-lite/v4.0.2.json\", \"datasets\": {\"data-2c457a4d3401c9c6ef9b5db568ad130b\": [{\"country\": \"Italy\", \"date\": \"2020-02-21\", \"days_since_10_cases\": 0, \"confirmed_cases\": 20, \"confirmed_cases_per_million\": 0.0, \"new_cases\": 0, \"new_deaths\": 1, \"new_recovered\": 0}, {\"country\": \"Italy\", \"date\": \"2020-02-22\", \"days_since_10_cases\": 1, \"confirmed_cases\": 62, \"confirmed_cases_per_million\": 1.0, \"new_cases\": 42, \"new_deaths\": 1, \"new_recovered\": 1}, {\"country\": \"Italy\", \"date\": \"2020-02-23\", \"days_since_10_cases\": 2, \"confirmed_cases\": 155, \"confirmed_cases_per_million\": 3.0, \"new_cases\": 93, \"new_deaths\": 1, \"new_recovered\": 1}, {\"country\": \"Italy\", \"date\": \"2020-02-24\", \"days_since_10_cases\": 3, \"confirmed_cases\": 229, \"confirmed_cases_per_million\": 4.0, \"new_cases\": 74, \"new_deaths\": 4, \"new_recovered\": -1}, {\"country\": \"Italy\", \"date\": \"2020-02-25\", \"days_since_10_cases\": 4, \"confirmed_cases\": 322, \"confirmed_cases_per_million\": 5.0, \"new_cases\": 93, \"new_deaths\": 3, \"new_recovered\": 0}, {\"country\": \"Italy\", \"date\": \"2020-02-26\", \"days_since_10_cases\": 5, \"confirmed_cases\": 453, \"confirmed_cases_per_million\": 8.0, \"new_cases\": 131, \"new_deaths\": 2, \"new_recovered\": 2}, {\"country\": \"Italy\", \"date\": \"2020-02-27\", \"days_since_10_cases\": 6, \"confirmed_cases\": 655, \"confirmed_cases_per_million\": 11.0, \"new_cases\": 202, \"new_deaths\": 5, \"new_recovered\": 42}, {\"country\": \"Italy\", \"date\": \"2020-02-28\", \"days_since_10_cases\": 7, \"confirmed_cases\": 888, \"confirmed_cases_per_million\": 15.0, \"new_cases\": 233, \"new_deaths\": 4, \"new_recovered\": 1}, {\"country\": \"Italy\", \"date\": \"2020-02-29\", \"days_since_10_cases\": 8, \"confirmed_cases\": 1128, \"confirmed_cases_per_million\": 19.0, \"new_cases\": 240, \"new_deaths\": 8, \"new_recovered\": 0}, {\"country\": \"Italy\", \"date\": \"2020-03-01\", \"days_since_10_cases\": 9, \"confirmed_cases\": 1694, \"confirmed_cases_per_million\": 28.0, \"new_cases\": 566, \"new_deaths\": 5, \"new_recovered\": 37}, {\"country\": \"Italy\", \"date\": \"2020-03-02\", \"days_since_10_cases\": 10, \"confirmed_cases\": 2036, \"confirmed_cases_per_million\": 34.0, \"new_cases\": 342, \"new_deaths\": 18, \"new_recovered\": 66}, {\"country\": \"Italy\", \"date\": \"2020-03-03\", \"days_since_10_cases\": 11, \"confirmed_cases\": 2502, \"confirmed_cases_per_million\": 42.0, \"new_cases\": 466, \"new_deaths\": 27, \"new_recovered\": 11}, {\"country\": \"Italy\", \"date\": \"2020-03-04\", \"days_since_10_cases\": 12, \"confirmed_cases\": 3089, \"confirmed_cases_per_million\": 51.0, \"new_cases\": 587, \"new_deaths\": 28, \"new_recovered\": 116}, {\"country\": \"Italy\", \"date\": \"2020-03-05\", \"days_since_10_cases\": 13, \"confirmed_cases\": 3858, \"confirmed_cases_per_million\": 64.0, \"new_cases\": 769, \"new_deaths\": 41, \"new_recovered\": 138}, {\"country\": \"Italy\", \"date\": \"2020-03-06\", \"days_since_10_cases\": 14, \"confirmed_cases\": 4636, \"confirmed_cases_per_million\": 77.0, \"new_cases\": 778, \"new_deaths\": 49, \"new_recovered\": 109}, {\"country\": \"Italy\", \"date\": \"2020-03-07\", \"days_since_10_cases\": 15, \"confirmed_cases\": 5883, \"confirmed_cases_per_million\": 98.0, \"new_cases\": 1247, \"new_deaths\": 36, \"new_recovered\": 66}, {\"country\": \"Italy\", \"date\": \"2020-03-08\", \"days_since_10_cases\": 16, \"confirmed_cases\": 7375, \"confirmed_cases_per_million\": 123.0, \"new_cases\": 1492, \"new_deaths\": 133, \"new_recovered\": 33}, {\"country\": \"Italy\", \"date\": \"2020-03-09\", \"days_since_10_cases\": 17, \"confirmed_cases\": 9172, \"confirmed_cases_per_million\": 152.0, \"new_cases\": 1797, \"new_deaths\": 97, \"new_recovered\": 102}, {\"country\": \"Italy\", \"date\": \"2020-03-10\", \"days_since_10_cases\": 18, \"confirmed_cases\": 10149, \"confirmed_cases_per_million\": 169.0, \"new_cases\": 977, \"new_deaths\": 168, \"new_recovered\": 0}, {\"country\": \"Italy\", \"date\": \"2020-03-11\", \"days_since_10_cases\": 19, \"confirmed_cases\": 12462, \"confirmed_cases_per_million\": 207.0, \"new_cases\": 2313, \"new_deaths\": 196, \"new_recovered\": 321}, {\"country\": \"Italy\", \"date\": \"2020-03-12\", \"days_since_10_cases\": 20, \"confirmed_cases\": 12462, \"confirmed_cases_per_million\": 207.0, \"new_cases\": 0, \"new_deaths\": 0, \"new_recovered\": 0}, {\"country\": \"Italy\", \"date\": \"2020-03-13\", \"days_since_10_cases\": 21, \"confirmed_cases\": 17660, \"confirmed_cases_per_million\": 293.0, \"new_cases\": 5198, \"new_deaths\": 439, \"new_recovered\": 394}, {\"country\": \"Italy\", \"date\": \"2020-03-14\", \"days_since_10_cases\": 22, \"confirmed_cases\": 21157, \"confirmed_cases_per_million\": 351.0, \"new_cases\": 3497, \"new_deaths\": 175, \"new_recovered\": 527}, {\"country\": \"Italy\", \"date\": \"2020-03-15\", \"days_since_10_cases\": 23, \"confirmed_cases\": 24747, \"confirmed_cases_per_million\": 411.0, \"new_cases\": 3590, \"new_deaths\": 368, \"new_recovered\": 369}, {\"country\": \"Italy\", \"date\": \"2020-03-16\", \"days_since_10_cases\": 24, \"confirmed_cases\": 27980, \"confirmed_cases_per_million\": 465.0, \"new_cases\": 3233, \"new_deaths\": 349, \"new_recovered\": 414}, {\"country\": \"Italy\", \"date\": \"2020-03-17\", \"days_since_10_cases\": 25, \"confirmed_cases\": 31506, \"confirmed_cases_per_million\": 523.0, \"new_cases\": 3526, \"new_deaths\": 345, \"new_recovered\": 192}, {\"country\": \"Italy\", \"date\": \"2020-03-18\", \"days_since_10_cases\": 26, \"confirmed_cases\": 35713, \"confirmed_cases_per_million\": 593.0, \"new_cases\": 4207, \"new_deaths\": 475, \"new_recovered\": 1084}, {\"country\": \"Italy\", \"date\": \"2020-03-19\", \"days_since_10_cases\": 27, \"confirmed_cases\": 41035, \"confirmed_cases_per_million\": 682.0, \"new_cases\": 5322, \"new_deaths\": 427, \"new_recovered\": 415}, {\"country\": \"Italy\", \"date\": \"2020-03-20\", \"days_since_10_cases\": 28, \"confirmed_cases\": 47021, \"confirmed_cases_per_million\": 781.0, \"new_cases\": 5986, \"new_deaths\": 627, \"new_recovered\": 0}, {\"country\": \"Italy\", \"date\": \"2020-03-21\", \"days_since_10_cases\": 29, \"confirmed_cases\": 53578, \"confirmed_cases_per_million\": 890.0, \"new_cases\": 6557, \"new_deaths\": 793, \"new_recovered\": 1632}, {\"country\": \"Italy\", \"date\": \"2020-03-22\", \"days_since_10_cases\": 30, \"confirmed_cases\": 59138, \"confirmed_cases_per_million\": 982.0, \"new_cases\": 5560, \"new_deaths\": 651, \"new_recovered\": 952}, {\"country\": \"Italy\", \"date\": \"2020-03-23\", \"days_since_10_cases\": 31, \"confirmed_cases\": 63927, \"confirmed_cases_per_million\": 1062.0, \"new_cases\": 4789, \"new_deaths\": 601, \"new_recovered\": 0}, {\"country\": \"Italy\", \"date\": \"2020-03-24\", \"days_since_10_cases\": 32, \"confirmed_cases\": 69176, \"confirmed_cases_per_million\": 1149.0, \"new_cases\": 5249, \"new_deaths\": 743, \"new_recovered\": 1302}, {\"country\": \"Italy\", \"date\": \"2020-03-25\", \"days_since_10_cases\": 33, \"confirmed_cases\": 74386, \"confirmed_cases_per_million\": 1236.0, \"new_cases\": 5210, \"new_deaths\": 683, \"new_recovered\": 1036}, {\"country\": \"Italy\", \"date\": \"2020-03-26\", \"days_since_10_cases\": 34, \"confirmed_cases\": 80589, \"confirmed_cases_per_million\": 1339.0, \"new_cases\": 6203, \"new_deaths\": 712, \"new_recovered\": 999}, {\"country\": \"Italy\", \"date\": \"2020-03-27\", \"days_since_10_cases\": 35, \"confirmed_cases\": 86498, \"confirmed_cases_per_million\": 1437.0, \"new_cases\": 5909, \"new_deaths\": 919, \"new_recovered\": 589}, {\"country\": \"Italy\", \"date\": \"2020-03-28\", \"days_since_10_cases\": 36, \"confirmed_cases\": 92472, \"confirmed_cases_per_million\": 1536.0, \"new_cases\": 5974, \"new_deaths\": 889, \"new_recovered\": 1434}, {\"country\": \"Italy\", \"date\": \"2020-03-29\", \"days_since_10_cases\": 37, \"confirmed_cases\": 97689, \"confirmed_cases_per_million\": 1623.0, \"new_cases\": 5217, \"new_deaths\": 756, \"new_recovered\": 646}, {\"country\": \"Italy\", \"date\": \"2020-03-30\", \"days_since_10_cases\": 38, \"confirmed_cases\": 101739, \"confirmed_cases_per_million\": 1690.0, \"new_cases\": 4050, \"new_deaths\": 812, \"new_recovered\": 1590}, {\"country\": \"Italy\", \"date\": \"2020-03-31\", \"days_since_10_cases\": 39, \"confirmed_cases\": 105792, \"confirmed_cases_per_million\": 1757.0, \"new_cases\": 4053, \"new_deaths\": 837, \"new_recovered\": 1109}, {\"country\": \"Italy\", \"date\": \"2020-04-01\", \"days_since_10_cases\": 40, \"confirmed_cases\": 110574, \"confirmed_cases_per_million\": 1837.0, \"new_cases\": 4782, \"new_deaths\": 727, \"new_recovered\": 1118}, {\"country\": \"Italy\", \"date\": \"2020-04-02\", \"days_since_10_cases\": 41, \"confirmed_cases\": 115242, \"confirmed_cases_per_million\": 1914.0, \"new_cases\": 4668, \"new_deaths\": 760, \"new_recovered\": 1431}, {\"country\": \"Italy\", \"date\": \"2020-04-03\", \"days_since_10_cases\": 42, \"confirmed_cases\": 119827, \"confirmed_cases_per_million\": 1990.0, \"new_cases\": 4585, \"new_deaths\": 766, \"new_recovered\": 1480}, {\"country\": \"Italy\", \"date\": \"2020-04-04\", \"days_since_10_cases\": 43, \"confirmed_cases\": 124632, \"confirmed_cases_per_million\": 2070.0, \"new_cases\": 4805, \"new_deaths\": 681, \"new_recovered\": 1238}, {\"country\": \"Italy\", \"date\": \"2020-04-05\", \"days_since_10_cases\": 44, \"confirmed_cases\": 128948, \"confirmed_cases_per_million\": 2142.0, \"new_cases\": 4316, \"new_deaths\": 525, \"new_recovered\": 819}, {\"country\": \"Italy\", \"date\": \"2020-04-06\", \"days_since_10_cases\": 45, \"confirmed_cases\": 132547, \"confirmed_cases_per_million\": 2202.0, \"new_cases\": 3599, \"new_deaths\": 636, \"new_recovered\": 1022}, {\"country\": \"Italy\", \"date\": \"2020-04-07\", \"days_since_10_cases\": 46, \"confirmed_cases\": 135586, \"confirmed_cases_per_million\": 2252.0, \"new_cases\": 3039, \"new_deaths\": 604, \"new_recovered\": 1555}, {\"country\": \"Italy\", \"date\": \"2020-04-08\", \"days_since_10_cases\": 47, \"confirmed_cases\": 139422, \"confirmed_cases_per_million\": 2316.0, \"new_cases\": 3836, \"new_deaths\": 542, \"new_recovered\": 2099}, {\"country\": \"Italy\", \"date\": \"2020-04-09\", \"days_since_10_cases\": 48, \"confirmed_cases\": 143626, \"confirmed_cases_per_million\": 2386.0, \"new_cases\": 4204, \"new_deaths\": 610, \"new_recovered\": 1979}, {\"country\": \"Italy\", \"date\": \"2020-04-10\", \"days_since_10_cases\": 49, \"confirmed_cases\": 147577, \"confirmed_cases_per_million\": 2451.0, \"new_cases\": 3951, \"new_deaths\": 570, \"new_recovered\": 1985}, {\"country\": \"Italy\", \"date\": \"2020-04-11\", \"days_since_10_cases\": 50, \"confirmed_cases\": 152271, \"confirmed_cases_per_million\": 2529.0, \"new_cases\": 4694, \"new_deaths\": 619, \"new_recovered\": 2079}, {\"country\": \"Italy\", \"date\": \"2020-04-12\", \"days_since_10_cases\": 51, \"confirmed_cases\": 156363, \"confirmed_cases_per_million\": 2597.0, \"new_cases\": 4092, \"new_deaths\": 431, \"new_recovered\": 1677}, {\"country\": \"Italy\", \"date\": \"2020-04-13\", \"days_since_10_cases\": 52, \"confirmed_cases\": 159516, \"confirmed_cases_per_million\": 2650.0, \"new_cases\": 3153, \"new_deaths\": 566, \"new_recovered\": 1224}, {\"country\": \"Italy\", \"date\": \"2020-04-14\", \"days_since_10_cases\": 53, \"confirmed_cases\": 162488, \"confirmed_cases_per_million\": 2699.0, \"new_cases\": 2972, \"new_deaths\": 602, \"new_recovered\": 1695}, {\"country\": \"Italy\", \"date\": \"2020-04-15\", \"days_since_10_cases\": 54, \"confirmed_cases\": 165155, \"confirmed_cases_per_million\": 2743.0, \"new_cases\": 2667, \"new_deaths\": 578, \"new_recovered\": 962}, {\"country\": \"Italy\", \"date\": \"2020-04-16\", \"days_since_10_cases\": 55, \"confirmed_cases\": 168941, \"confirmed_cases_per_million\": 2806.0, \"new_cases\": 3786, \"new_deaths\": 525, \"new_recovered\": 2072}, {\"country\": \"Italy\", \"date\": \"2020-04-17\", \"days_since_10_cases\": 56, \"confirmed_cases\": 172434, \"confirmed_cases_per_million\": 2864.0, \"new_cases\": 3493, \"new_deaths\": 575, \"new_recovered\": 2563}, {\"country\": \"Italy\", \"date\": \"2020-04-18\", \"days_since_10_cases\": 57, \"confirmed_cases\": 175925, \"confirmed_cases_per_million\": 2922.0, \"new_cases\": 3491, \"new_deaths\": 482, \"new_recovered\": 2200}, {\"country\": \"Italy\", \"date\": \"2020-04-19\", \"days_since_10_cases\": 58, \"confirmed_cases\": 178972, \"confirmed_cases_per_million\": 2973.0, \"new_cases\": 3047, \"new_deaths\": 433, \"new_recovered\": 2128}, {\"country\": \"Italy\", \"date\": \"2020-04-20\", \"days_since_10_cases\": 59, \"confirmed_cases\": 181228, \"confirmed_cases_per_million\": 3010.0, \"new_cases\": 2256, \"new_deaths\": 454, \"new_recovered\": 1822}, {\"country\": \"Italy\", \"date\": \"2020-04-21\", \"days_since_10_cases\": 60, \"confirmed_cases\": 183957, \"confirmed_cases_per_million\": 3056.0, \"new_cases\": 2729, \"new_deaths\": 534, \"new_recovered\": 2723}, {\"country\": \"Italy\", \"date\": \"2020-04-22\", \"days_since_10_cases\": 61, \"confirmed_cases\": 187327, \"confirmed_cases_per_million\": 3112.0, \"new_cases\": 3370, \"new_deaths\": 437, \"new_recovered\": 2943}, {\"country\": \"Italy\", \"date\": \"2020-04-23\", \"days_since_10_cases\": 62, \"confirmed_cases\": 189973, \"confirmed_cases_per_million\": 3156.0, \"new_cases\": 2646, \"new_deaths\": 464, \"new_recovered\": 3033}, {\"country\": \"Italy\", \"date\": \"2020-04-24\", \"days_since_10_cases\": 63, \"confirmed_cases\": 192994, \"confirmed_cases_per_million\": 3206.0, \"new_cases\": 3021, \"new_deaths\": 420, \"new_recovered\": 2922}, {\"country\": \"Italy\", \"date\": \"2020-04-25\", \"days_since_10_cases\": 64, \"confirmed_cases\": 195351, \"confirmed_cases_per_million\": 3245.0, \"new_cases\": 2357, \"new_deaths\": 415, \"new_recovered\": 2622}, {\"country\": \"Italy\", \"date\": \"2020-04-26\", \"days_since_10_cases\": 65, \"confirmed_cases\": 197675, \"confirmed_cases_per_million\": 3284.0, \"new_cases\": 2324, \"new_deaths\": 260, \"new_recovered\": 1808}, {\"country\": \"Italy\", \"date\": \"2020-04-27\", \"days_since_10_cases\": 66, \"confirmed_cases\": 199414, \"confirmed_cases_per_million\": 3313.0, \"new_cases\": 1739, \"new_deaths\": 333, \"new_recovered\": 1696}, {\"country\": \"Italy\", \"date\": \"2020-04-28\", \"days_since_10_cases\": 67, \"confirmed_cases\": 201505, \"confirmed_cases_per_million\": 3347.0, \"new_cases\": 2091, \"new_deaths\": 382, \"new_recovered\": 2317}, {\"country\": \"Italy\", \"date\": \"2020-04-29\", \"days_since_10_cases\": 68, \"confirmed_cases\": 203591, \"confirmed_cases_per_million\": 3382.0, \"new_cases\": 2086, \"new_deaths\": 323, \"new_recovered\": 2311}, {\"country\": \"Italy\", \"date\": \"2020-04-30\", \"days_since_10_cases\": 69, \"confirmed_cases\": 205463, \"confirmed_cases_per_million\": 3413.0, \"new_cases\": 1872, \"new_deaths\": 285, \"new_recovered\": 4693}, {\"country\": \"Italy\", \"date\": \"2020-05-01\", \"days_since_10_cases\": 70, \"confirmed_cases\": 207428, \"confirmed_cases_per_million\": 3446.0, \"new_cases\": 1965, \"new_deaths\": 269, \"new_recovered\": 2304}, {\"country\": \"Italy\", \"date\": \"2020-05-02\", \"days_since_10_cases\": 71, \"confirmed_cases\": 209328, \"confirmed_cases_per_million\": 3477.0, \"new_cases\": 1900, \"new_deaths\": 474, \"new_recovered\": 1665}, {\"country\": \"Italy\", \"date\": \"2020-05-03\", \"days_since_10_cases\": 72, \"confirmed_cases\": 210717, \"confirmed_cases_per_million\": 3500.0, \"new_cases\": 1389, \"new_deaths\": 174, \"new_recovered\": 1740}], \"data-daf2fe332b3ad6e12c8cae97ceea7859\": [{\"country\": \"Spain\", \"date\": \"2020-02-26\", \"days_since_10_cases\": 0, \"confirmed_cases\": 13, \"confirmed_cases_per_million\": 0.0, \"new_cases\": 0, \"new_deaths\": 0, \"new_recovered\": 0}, {\"country\": \"Spain\", \"date\": \"2020-02-27\", \"days_since_10_cases\": 1, \"confirmed_cases\": 15, \"confirmed_cases_per_million\": 0.0, \"new_cases\": 2, \"new_deaths\": 0, \"new_recovered\": 0}, {\"country\": \"Spain\", \"date\": \"2020-02-28\", \"days_since_10_cases\": 2, \"confirmed_cases\": 32, \"confirmed_cases_per_million\": 1.0, \"new_cases\": 17, \"new_deaths\": 0, \"new_recovered\": 0}, {\"country\": \"Spain\", \"date\": \"2020-02-29\", \"days_since_10_cases\": 3, \"confirmed_cases\": 45, \"confirmed_cases_per_million\": 1.0, \"new_cases\": 13, \"new_deaths\": 0, \"new_recovered\": 0}, {\"country\": \"Spain\", \"date\": \"2020-03-01\", \"days_since_10_cases\": 4, \"confirmed_cases\": 84, \"confirmed_cases_per_million\": 2.0, \"new_cases\": 39, \"new_deaths\": 0, \"new_recovered\": 0}, {\"country\": \"Spain\", \"date\": \"2020-03-02\", \"days_since_10_cases\": 5, \"confirmed_cases\": 120, \"confirmed_cases_per_million\": 3.0, \"new_cases\": 36, \"new_deaths\": 0, \"new_recovered\": 0}, {\"country\": \"Spain\", \"date\": \"2020-03-03\", \"days_since_10_cases\": 6, \"confirmed_cases\": 165, \"confirmed_cases_per_million\": 4.0, \"new_cases\": 45, \"new_deaths\": 1, \"new_recovered\": 0}, {\"country\": \"Spain\", \"date\": \"2020-03-04\", \"days_since_10_cases\": 7, \"confirmed_cases\": 222, \"confirmed_cases_per_million\": 5.0, \"new_cases\": 57, \"new_deaths\": 1, \"new_recovered\": 0}, {\"country\": \"Spain\", \"date\": \"2020-03-05\", \"days_since_10_cases\": 8, \"confirmed_cases\": 259, \"confirmed_cases_per_million\": 5.0, \"new_cases\": 37, \"new_deaths\": 1, \"new_recovered\": 0}, {\"country\": \"Spain\", \"date\": \"2020-03-06\", \"days_since_10_cases\": 9, \"confirmed_cases\": 400, \"confirmed_cases_per_million\": 8.0, \"new_cases\": 141, \"new_deaths\": 2, \"new_recovered\": 0}, {\"country\": \"Spain\", \"date\": \"2020-03-07\", \"days_since_10_cases\": 10, \"confirmed_cases\": 500, \"confirmed_cases_per_million\": 11.0, \"new_cases\": 100, \"new_deaths\": 5, \"new_recovered\": 28}, {\"country\": \"Spain\", \"date\": \"2020-03-08\", \"days_since_10_cases\": 11, \"confirmed_cases\": 673, \"confirmed_cases_per_million\": 14.0, \"new_cases\": 173, \"new_deaths\": 7, \"new_recovered\": 0}, {\"country\": \"Spain\", \"date\": \"2020-03-09\", \"days_since_10_cases\": 12, \"confirmed_cases\": 1073, \"confirmed_cases_per_million\": 23.0, \"new_cases\": 400, \"new_deaths\": 11, \"new_recovered\": 2}, {\"country\": \"Spain\", \"date\": \"2020-03-10\", \"days_since_10_cases\": 13, \"confirmed_cases\": 1695, \"confirmed_cases_per_million\": 36.0, \"new_cases\": 622, \"new_deaths\": 7, \"new_recovered\": 0}, {\"country\": \"Spain\", \"date\": \"2020-03-11\", \"days_since_10_cases\": 14, \"confirmed_cases\": 2277, \"confirmed_cases_per_million\": 48.0, \"new_cases\": 582, \"new_deaths\": 19, \"new_recovered\": 151}, {\"country\": \"Spain\", \"date\": \"2020-03-12\", \"days_since_10_cases\": 15, \"confirmed_cases\": 2277, \"confirmed_cases_per_million\": 48.0, \"new_cases\": 0, \"new_deaths\": 1, \"new_recovered\": 0}, {\"country\": \"Spain\", \"date\": \"2020-03-13\", \"days_since_10_cases\": 16, \"confirmed_cases\": 5232, \"confirmed_cases_per_million\": 111.0, \"new_cases\": 2955, \"new_deaths\": 78, \"new_recovered\": 10}, {\"country\": \"Spain\", \"date\": \"2020-03-14\", \"days_since_10_cases\": 17, \"confirmed_cases\": 6391, \"confirmed_cases_per_million\": 136.0, \"new_cases\": 1159, \"new_deaths\": 62, \"new_recovered\": 324}, {\"country\": \"Spain\", \"date\": \"2020-03-15\", \"days_since_10_cases\": 18, \"confirmed_cases\": 7798, \"confirmed_cases_per_million\": 166.0, \"new_cases\": 1407, \"new_deaths\": 94, \"new_recovered\": 0}, {\"country\": \"Spain\", \"date\": \"2020-03-16\", \"days_since_10_cases\": 19, \"confirmed_cases\": 9942, \"confirmed_cases_per_million\": 211.0, \"new_cases\": 2144, \"new_deaths\": 53, \"new_recovered\": 13}, {\"country\": \"Spain\", \"date\": \"2020-03-17\", \"days_since_10_cases\": 20, \"confirmed_cases\": 11748, \"confirmed_cases_per_million\": 249.0, \"new_cases\": 1806, \"new_deaths\": 191, \"new_recovered\": 498}, {\"country\": \"Spain\", \"date\": \"2020-03-18\", \"days_since_10_cases\": 21, \"confirmed_cases\": 13910, \"confirmed_cases_per_million\": 295.0, \"new_cases\": 2162, \"new_deaths\": 90, \"new_recovered\": 53}, {\"country\": \"Spain\", \"date\": \"2020-03-19\", \"days_since_10_cases\": 22, \"confirmed_cases\": 17963, \"confirmed_cases_per_million\": 381.0, \"new_cases\": 4053, \"new_deaths\": 207, \"new_recovered\": 26}, {\"country\": \"Spain\", \"date\": \"2020-03-20\", \"days_since_10_cases\": 23, \"confirmed_cases\": 20410, \"confirmed_cases_per_million\": 433.0, \"new_cases\": 2447, \"new_deaths\": 213, \"new_recovered\": 481}, {\"country\": \"Spain\", \"date\": \"2020-03-21\", \"days_since_10_cases\": 24, \"confirmed_cases\": 25374, \"confirmed_cases_per_million\": 539.0, \"new_cases\": 4964, \"new_deaths\": 332, \"new_recovered\": 537}, {\"country\": \"Spain\", \"date\": \"2020-03-22\", \"days_since_10_cases\": 25, \"confirmed_cases\": 28768, \"confirmed_cases_per_million\": 611.0, \"new_cases\": 3394, \"new_deaths\": 397, \"new_recovered\": 450}, {\"country\": \"Spain\", \"date\": \"2020-03-23\", \"days_since_10_cases\": 26, \"confirmed_cases\": 35136, \"confirmed_cases_per_million\": 746.0, \"new_cases\": 6368, \"new_deaths\": 539, \"new_recovered\": 0}, {\"country\": \"Spain\", \"date\": \"2020-03-24\", \"days_since_10_cases\": 27, \"confirmed_cases\": 39885, \"confirmed_cases_per_million\": 847.0, \"new_cases\": 4749, \"new_deaths\": 497, \"new_recovered\": 1219}, {\"country\": \"Spain\", \"date\": \"2020-03-25\", \"days_since_10_cases\": 28, \"confirmed_cases\": 49515, \"confirmed_cases_per_million\": 1051.0, \"new_cases\": 9630, \"new_deaths\": 839, \"new_recovered\": 1573}, {\"country\": \"Spain\", \"date\": \"2020-03-26\", \"days_since_10_cases\": 29, \"confirmed_cases\": 57786, \"confirmed_cases_per_million\": 1227.0, \"new_cases\": 8271, \"new_deaths\": 718, \"new_recovered\": 1648}, {\"country\": \"Spain\", \"date\": \"2020-03-27\", \"days_since_10_cases\": 30, \"confirmed_cases\": 65719, \"confirmed_cases_per_million\": 1395.0, \"new_cases\": 7933, \"new_deaths\": 773, \"new_recovered\": 2342}, {\"country\": \"Spain\", \"date\": \"2020-03-28\", \"days_since_10_cases\": 31, \"confirmed_cases\": 73235, \"confirmed_cases_per_million\": 1555.0, \"new_cases\": 7516, \"new_deaths\": 844, \"new_recovered\": 2928}, {\"country\": \"Spain\", \"date\": \"2020-03-29\", \"days_since_10_cases\": 32, \"confirmed_cases\": 80110, \"confirmed_cases_per_million\": 1701.0, \"new_cases\": 6875, \"new_deaths\": 821, \"new_recovered\": 2424}, {\"country\": \"Spain\", \"date\": \"2020-03-30\", \"days_since_10_cases\": 33, \"confirmed_cases\": 87956, \"confirmed_cases_per_million\": 1867.0, \"new_cases\": 7846, \"new_deaths\": 913, \"new_recovered\": 2071}, {\"country\": \"Spain\", \"date\": \"2020-03-31\", \"days_since_10_cases\": 34, \"confirmed_cases\": 95923, \"confirmed_cases_per_million\": 2037.0, \"new_cases\": 7967, \"new_deaths\": 748, \"new_recovered\": 2479}, {\"country\": \"Spain\", \"date\": \"2020-04-01\", \"days_since_10_cases\": 35, \"confirmed_cases\": 104118, \"confirmed_cases_per_million\": 2211.0, \"new_cases\": 8195, \"new_deaths\": 923, \"new_recovered\": 3388}, {\"country\": \"Spain\", \"date\": \"2020-04-02\", \"days_since_10_cases\": 36, \"confirmed_cases\": 112065, \"confirmed_cases_per_million\": 2379.0, \"new_cases\": 7947, \"new_deaths\": 961, \"new_recovered\": 4096}, {\"country\": \"Spain\", \"date\": \"2020-04-03\", \"days_since_10_cases\": 37, \"confirmed_cases\": 119199, \"confirmed_cases_per_million\": 2531.0, \"new_cases\": 7134, \"new_deaths\": 850, \"new_recovered\": 3770}, {\"country\": \"Spain\", \"date\": \"2020-04-04\", \"days_since_10_cases\": 38, \"confirmed_cases\": 126168, \"confirmed_cases_per_million\": 2679.0, \"new_cases\": 6969, \"new_deaths\": 749, \"new_recovered\": 3706}, {\"country\": \"Spain\", \"date\": \"2020-04-05\", \"days_since_10_cases\": 39, \"confirmed_cases\": 131646, \"confirmed_cases_per_million\": 2795.0, \"new_cases\": 5478, \"new_deaths\": 694, \"new_recovered\": 3861}, {\"country\": \"Spain\", \"date\": \"2020-04-06\", \"days_since_10_cases\": 40, \"confirmed_cases\": 136675, \"confirmed_cases_per_million\": 2902.0, \"new_cases\": 5029, \"new_deaths\": 700, \"new_recovered\": 2357}, {\"country\": \"Spain\", \"date\": \"2020-04-07\", \"days_since_10_cases\": 41, \"confirmed_cases\": 141942, \"confirmed_cases_per_million\": 3014.0, \"new_cases\": 5267, \"new_deaths\": 704, \"new_recovered\": 2771}, {\"country\": \"Spain\", \"date\": \"2020-04-08\", \"days_since_10_cases\": 42, \"confirmed_cases\": 148220, \"confirmed_cases_per_million\": 3147.0, \"new_cases\": 6278, \"new_deaths\": 747, \"new_recovered\": 4813}, {\"country\": \"Spain\", \"date\": \"2020-04-09\", \"days_since_10_cases\": 43, \"confirmed_cases\": 153222, \"confirmed_cases_per_million\": 3253.0, \"new_cases\": 5002, \"new_deaths\": 655, \"new_recovered\": 4144}, {\"country\": \"Spain\", \"date\": \"2020-04-10\", \"days_since_10_cases\": 44, \"confirmed_cases\": 158273, \"confirmed_cases_per_million\": 3360.0, \"new_cases\": 5051, \"new_deaths\": 634, \"new_recovered\": 3503}, {\"country\": \"Spain\", \"date\": \"2020-04-11\", \"days_since_10_cases\": 45, \"confirmed_cases\": 163027, \"confirmed_cases_per_million\": 3461.0, \"new_cases\": 4754, \"new_deaths\": 525, \"new_recovered\": 3441}, {\"country\": \"Spain\", \"date\": \"2020-04-12\", \"days_since_10_cases\": 46, \"confirmed_cases\": 166831, \"confirmed_cases_per_million\": 3542.0, \"new_cases\": 3804, \"new_deaths\": 603, \"new_recovered\": 3282}, {\"country\": \"Spain\", \"date\": \"2020-04-13\", \"days_since_10_cases\": 47, \"confirmed_cases\": 170099, \"confirmed_cases_per_million\": 3611.0, \"new_cases\": 3268, \"new_deaths\": 547, \"new_recovered\": 2336}, {\"country\": \"Spain\", \"date\": \"2020-04-14\", \"days_since_10_cases\": 48, \"confirmed_cases\": 172541, \"confirmed_cases_per_million\": 3663.0, \"new_cases\": 2442, \"new_deaths\": 300, \"new_recovered\": 2777}, {\"country\": \"Spain\", \"date\": \"2020-04-15\", \"days_since_10_cases\": 49, \"confirmed_cases\": 177644, \"confirmed_cases_per_million\": 3772.0, \"new_cases\": 5103, \"new_deaths\": 652, \"new_recovered\": 3349}, {\"country\": \"Spain\", \"date\": \"2020-04-16\", \"days_since_10_cases\": 50, \"confirmed_cases\": 184948, \"confirmed_cases_per_million\": 3927.0, \"new_cases\": 7304, \"new_deaths\": 607, \"new_recovered\": 3944}, {\"country\": \"Spain\", \"date\": \"2020-04-17\", \"days_since_10_cases\": 51, \"confirmed_cases\": 190839, \"confirmed_cases_per_million\": 4052.0, \"new_cases\": 5891, \"new_deaths\": 687, \"new_recovered\": 0}, {\"country\": \"Spain\", \"date\": \"2020-04-18\", \"days_since_10_cases\": 52, \"confirmed_cases\": 191726, \"confirmed_cases_per_million\": 4071.0, \"new_cases\": 887, \"new_deaths\": 41, \"new_recovered\": 0}, {\"country\": \"Spain\", \"date\": \"2020-04-19\", \"days_since_10_cases\": 53, \"confirmed_cases\": 198674, \"confirmed_cases_per_million\": 4218.0, \"new_cases\": 6948, \"new_deaths\": 410, \"new_recovered\": 2560}, {\"country\": \"Spain\", \"date\": \"2020-04-20\", \"days_since_10_cases\": 54, \"confirmed_cases\": 200210, \"confirmed_cases_per_million\": 4251.0, \"new_cases\": 1536, \"new_deaths\": 399, \"new_recovered\": 3230}, {\"country\": \"Spain\", \"date\": \"2020-04-21\", \"days_since_10_cases\": 55, \"confirmed_cases\": 204178, \"confirmed_cases_per_million\": 4335.0, \"new_cases\": 3968, \"new_deaths\": 430, \"new_recovered\": 1927}, {\"country\": \"Spain\", \"date\": \"2020-04-22\", \"days_since_10_cases\": 56, \"confirmed_cases\": 208389, \"confirmed_cases_per_million\": 4424.0, \"new_cases\": 4211, \"new_deaths\": 435, \"new_recovered\": 3401}, {\"country\": \"Spain\", \"date\": \"2020-04-23\", \"days_since_10_cases\": 57, \"confirmed_cases\": 213024, \"confirmed_cases_per_million\": 4523.0, \"new_cases\": 4635, \"new_deaths\": 440, \"new_recovered\": 3335}, {\"country\": \"Spain\", \"date\": \"2020-04-24\", \"days_since_10_cases\": 58, \"confirmed_cases\": 202990, \"confirmed_cases_per_million\": 4310.0, \"new_cases\": -10034, \"new_deaths\": 367, \"new_recovered\": 3105}, {\"country\": \"Spain\", \"date\": \"2020-04-25\", \"days_since_10_cases\": 59, \"confirmed_cases\": 205905, \"confirmed_cases_per_million\": 4372.0, \"new_cases\": 2915, \"new_deaths\": 378, \"new_recovered\": 3353}, {\"country\": \"Spain\", \"date\": \"2020-04-26\", \"days_since_10_cases\": 60, \"confirmed_cases\": 207634, \"confirmed_cases_per_million\": 4408.0, \"new_cases\": 1729, \"new_deaths\": 288, \"new_recovered\": 2664}, {\"country\": \"Spain\", \"date\": \"2020-04-27\", \"days_since_10_cases\": 61, \"confirmed_cases\": 209465, \"confirmed_cases_per_million\": 4447.0, \"new_cases\": 1831, \"new_deaths\": 331, \"new_recovered\": 2503}, {\"country\": \"Spain\", \"date\": \"2020-04-28\", \"days_since_10_cases\": 62, \"confirmed_cases\": 210773, \"confirmed_cases_per_million\": 4475.0, \"new_cases\": 1308, \"new_deaths\": 301, \"new_recovered\": 1673}, {\"country\": \"Spain\", \"date\": \"2020-04-29\", \"days_since_10_cases\": 63, \"confirmed_cases\": 212917, \"confirmed_cases_per_million\": 4521.0, \"new_cases\": 2144, \"new_deaths\": 453, \"new_recovered\": 6399}, {\"country\": \"Spain\", \"date\": \"2020-04-30\", \"days_since_10_cases\": 64, \"confirmed_cases\": 213435, \"confirmed_cases_per_million\": 4532.0, \"new_cases\": 518, \"new_deaths\": 268, \"new_recovered\": 3103}, {\"country\": \"Spain\", \"date\": \"2020-05-01\", \"days_since_10_cases\": 65, \"confirmed_cases\": 213435, \"confirmed_cases_per_million\": 4532.0, \"new_cases\": 0, \"new_deaths\": 0, \"new_recovered\": 0}, {\"country\": \"Spain\", \"date\": \"2020-05-02\", \"days_since_10_cases\": 66, \"confirmed_cases\": 216582, \"confirmed_cases_per_million\": 4598.0, \"new_cases\": 3147, \"new_deaths\": 557, \"new_recovered\": 5198}, {\"country\": \"Spain\", \"date\": \"2020-05-03\", \"days_since_10_cases\": 67, \"confirmed_cases\": 217466, \"confirmed_cases_per_million\": 4617.0, \"new_cases\": 884, \"new_deaths\": 164, \"new_recovered\": 1654}], \"data-51484490e82d8d99c47779b551f58f51\": [{\"country\": \"Ireland\", \"date\": \"2020-03-06\", \"days_since_10_cases\": 0, \"confirmed_cases\": 18, \"confirmed_cases_per_million\": 4.0, \"new_cases\": 0, \"new_deaths\": 0, \"new_recovered\": 0}, {\"country\": \"Ireland\", \"date\": \"2020-03-07\", \"days_since_10_cases\": 1, \"confirmed_cases\": 18, \"confirmed_cases_per_million\": 4.0, \"new_cases\": 0, \"new_deaths\": 0, \"new_recovered\": 0}, {\"country\": \"Ireland\", \"date\": \"2020-03-08\", \"days_since_10_cases\": 2, \"confirmed_cases\": 19, \"confirmed_cases_per_million\": 4.0, \"new_cases\": 1, \"new_deaths\": 0, \"new_recovered\": 0}, {\"country\": \"Ireland\", \"date\": \"2020-03-09\", \"days_since_10_cases\": 3, \"confirmed_cases\": 21, \"confirmed_cases_per_million\": 4.0, \"new_cases\": 2, \"new_deaths\": 0, \"new_recovered\": 0}, {\"country\": \"Ireland\", \"date\": \"2020-03-10\", \"days_since_10_cases\": 4, \"confirmed_cases\": 34, \"confirmed_cases_per_million\": 7.0, \"new_cases\": 13, \"new_deaths\": 0, \"new_recovered\": 0}, {\"country\": \"Ireland\", \"date\": \"2020-03-11\", \"days_since_10_cases\": 5, \"confirmed_cases\": 43, \"confirmed_cases_per_million\": 9.0, \"new_cases\": 9, \"new_deaths\": 1, \"new_recovered\": 0}, {\"country\": \"Ireland\", \"date\": \"2020-03-12\", \"days_since_10_cases\": 6, \"confirmed_cases\": 43, \"confirmed_cases_per_million\": 9.0, \"new_cases\": 0, \"new_deaths\": 0, \"new_recovered\": 0}, {\"country\": \"Ireland\", \"date\": \"2020-03-13\", \"days_since_10_cases\": 7, \"confirmed_cases\": 90, \"confirmed_cases_per_million\": 18.0, \"new_cases\": 47, \"new_deaths\": 0, \"new_recovered\": 0}, {\"country\": \"Ireland\", \"date\": \"2020-03-14\", \"days_since_10_cases\": 8, \"confirmed_cases\": 129, \"confirmed_cases_per_million\": 26.0, \"new_cases\": 39, \"new_deaths\": 1, \"new_recovered\": 0}, {\"country\": \"Ireland\", \"date\": \"2020-03-15\", \"days_since_10_cases\": 9, \"confirmed_cases\": 129, \"confirmed_cases_per_million\": 26.0, \"new_cases\": 0, \"new_deaths\": 0, \"new_recovered\": 0}, {\"country\": \"Ireland\", \"date\": \"2020-03-16\", \"days_since_10_cases\": 10, \"confirmed_cases\": 169, \"confirmed_cases_per_million\": 34.0, \"new_cases\": 40, \"new_deaths\": 0, \"new_recovered\": 0}, {\"country\": \"Ireland\", \"date\": \"2020-03-17\", \"days_since_10_cases\": 11, \"confirmed_cases\": 223, \"confirmed_cases_per_million\": 46.0, \"new_cases\": 54, \"new_deaths\": 0, \"new_recovered\": 5}, {\"country\": \"Ireland\", \"date\": \"2020-03-18\", \"days_since_10_cases\": 12, \"confirmed_cases\": 292, \"confirmed_cases_per_million\": 60.0, \"new_cases\": 69, \"new_deaths\": 0, \"new_recovered\": 0}, {\"country\": \"Ireland\", \"date\": \"2020-03-19\", \"days_since_10_cases\": 13, \"confirmed_cases\": 557, \"confirmed_cases_per_million\": 114.0, \"new_cases\": 265, \"new_deaths\": 1, \"new_recovered\": 0}, {\"country\": \"Ireland\", \"date\": \"2020-03-20\", \"days_since_10_cases\": 14, \"confirmed_cases\": 683, \"confirmed_cases_per_million\": 139.0, \"new_cases\": 126, \"new_deaths\": 0, \"new_recovered\": 0}, {\"country\": \"Ireland\", \"date\": \"2020-03-21\", \"days_since_10_cases\": 15, \"confirmed_cases\": 785, \"confirmed_cases_per_million\": 160.0, \"new_cases\": 102, \"new_deaths\": 0, \"new_recovered\": 0}, {\"country\": \"Ireland\", \"date\": \"2020-03-22\", \"days_since_10_cases\": 16, \"confirmed_cases\": 906, \"confirmed_cases_per_million\": 185.0, \"new_cases\": 121, \"new_deaths\": 1, \"new_recovered\": 0}, {\"country\": \"Ireland\", \"date\": \"2020-03-23\", \"days_since_10_cases\": 17, \"confirmed_cases\": 1125, \"confirmed_cases_per_million\": 230.0, \"new_cases\": 219, \"new_deaths\": 2, \"new_recovered\": 0}, {\"country\": \"Ireland\", \"date\": \"2020-03-24\", \"days_since_10_cases\": 18, \"confirmed_cases\": 1329, \"confirmed_cases_per_million\": 271.0, \"new_cases\": 204, \"new_deaths\": 1, \"new_recovered\": 0}, {\"country\": \"Ireland\", \"date\": \"2020-03-25\", \"days_since_10_cases\": 19, \"confirmed_cases\": 1564, \"confirmed_cases_per_million\": 319.0, \"new_cases\": 235, \"new_deaths\": 2, \"new_recovered\": 0}, {\"country\": \"Ireland\", \"date\": \"2020-03-26\", \"days_since_10_cases\": 20, \"confirmed_cases\": 1819, \"confirmed_cases_per_million\": 371.0, \"new_cases\": 255, \"new_deaths\": 10, \"new_recovered\": 0}, {\"country\": \"Ireland\", \"date\": \"2020-03-27\", \"days_since_10_cases\": 21, \"confirmed_cases\": 2121, \"confirmed_cases_per_million\": 433.0, \"new_cases\": 302, \"new_deaths\": 3, \"new_recovered\": 0}, {\"country\": \"Ireland\", \"date\": \"2020-03-28\", \"days_since_10_cases\": 22, \"confirmed_cases\": 2415, \"confirmed_cases_per_million\": 493.0, \"new_cases\": 294, \"new_deaths\": 14, \"new_recovered\": 0}, {\"country\": \"Ireland\", \"date\": \"2020-03-29\", \"days_since_10_cases\": 23, \"confirmed_cases\": 2615, \"confirmed_cases_per_million\": 534.0, \"new_cases\": 200, \"new_deaths\": 10, \"new_recovered\": 0}, {\"country\": \"Ireland\", \"date\": \"2020-03-30\", \"days_since_10_cases\": 24, \"confirmed_cases\": 2910, \"confirmed_cases_per_million\": 594.0, \"new_cases\": 295, \"new_deaths\": 8, \"new_recovered\": 0}, {\"country\": \"Ireland\", \"date\": \"2020-03-31\", \"days_since_10_cases\": 25, \"confirmed_cases\": 3235, \"confirmed_cases_per_million\": 660.0, \"new_cases\": 325, \"new_deaths\": 17, \"new_recovered\": 0}, {\"country\": \"Ireland\", \"date\": \"2020-04-01\", \"days_since_10_cases\": 26, \"confirmed_cases\": 3447, \"confirmed_cases_per_million\": 703.0, \"new_cases\": 212, \"new_deaths\": 14, \"new_recovered\": 0}, {\"country\": \"Ireland\", \"date\": \"2020-04-02\", \"days_since_10_cases\": 27, \"confirmed_cases\": 3849, \"confirmed_cases_per_million\": 786.0, \"new_cases\": 402, \"new_deaths\": 13, \"new_recovered\": 0}, {\"country\": \"Ireland\", \"date\": \"2020-04-03\", \"days_since_10_cases\": 28, \"confirmed_cases\": 4273, \"confirmed_cases_per_million\": 872.0, \"new_cases\": 424, \"new_deaths\": 22, \"new_recovered\": 0}, {\"country\": \"Ireland\", \"date\": \"2020-04-04\", \"days_since_10_cases\": 29, \"confirmed_cases\": 4604, \"confirmed_cases_per_million\": 940.0, \"new_cases\": 331, \"new_deaths\": 17, \"new_recovered\": 20}, {\"country\": \"Ireland\", \"date\": \"2020-04-05\", \"days_since_10_cases\": 30, \"confirmed_cases\": 4994, \"confirmed_cases_per_million\": 1019.0, \"new_cases\": 390, \"new_deaths\": 21, \"new_recovered\": 0}, {\"country\": \"Ireland\", \"date\": \"2020-04-06\", \"days_since_10_cases\": 31, \"confirmed_cases\": 5364, \"confirmed_cases_per_million\": 1095.0, \"new_cases\": 370, \"new_deaths\": 16, \"new_recovered\": 0}, {\"country\": \"Ireland\", \"date\": \"2020-04-07\", \"days_since_10_cases\": 32, \"confirmed_cases\": 5709, \"confirmed_cases_per_million\": 1165.0, \"new_cases\": 345, \"new_deaths\": 36, \"new_recovered\": 0}, {\"country\": \"Ireland\", \"date\": \"2020-04-08\", \"days_since_10_cases\": 33, \"confirmed_cases\": 6074, \"confirmed_cases_per_million\": 1240.0, \"new_cases\": 365, \"new_deaths\": 25, \"new_recovered\": 0}, {\"country\": \"Ireland\", \"date\": \"2020-04-09\", \"days_since_10_cases\": 34, \"confirmed_cases\": 6574, \"confirmed_cases_per_million\": 1342.0, \"new_cases\": 500, \"new_deaths\": 28, \"new_recovered\": 0}, {\"country\": \"Ireland\", \"date\": \"2020-04-10\", \"days_since_10_cases\": 35, \"confirmed_cases\": 8089, \"confirmed_cases_per_million\": 1651.0, \"new_cases\": 1515, \"new_deaths\": 24, \"new_recovered\": 0}, {\"country\": \"Ireland\", \"date\": \"2020-04-11\", \"days_since_10_cases\": 36, \"confirmed_cases\": 8928, \"confirmed_cases_per_million\": 1822.0, \"new_cases\": 839, \"new_deaths\": 33, \"new_recovered\": 0}, {\"country\": \"Ireland\", \"date\": \"2020-04-12\", \"days_since_10_cases\": 37, \"confirmed_cases\": 9655, \"confirmed_cases_per_million\": 1970.0, \"new_cases\": 727, \"new_deaths\": 14, \"new_recovered\": 0}, {\"country\": \"Ireland\", \"date\": \"2020-04-13\", \"days_since_10_cases\": 38, \"confirmed_cases\": 10647, \"confirmed_cases_per_million\": 2173.0, \"new_cases\": 992, \"new_deaths\": 31, \"new_recovered\": 0}, {\"country\": \"Ireland\", \"date\": \"2020-04-14\", \"days_since_10_cases\": 39, \"confirmed_cases\": 11479, \"confirmed_cases_per_million\": 2343.0, \"new_cases\": 832, \"new_deaths\": 41, \"new_recovered\": 0}, {\"country\": \"Ireland\", \"date\": \"2020-04-15\", \"days_since_10_cases\": 40, \"confirmed_cases\": 12547, \"confirmed_cases_per_million\": 2561.0, \"new_cases\": 1068, \"new_deaths\": 38, \"new_recovered\": 52}, {\"country\": \"Ireland\", \"date\": \"2020-04-16\", \"days_since_10_cases\": 41, \"confirmed_cases\": 13271, \"confirmed_cases_per_million\": 2708.0, \"new_cases\": 724, \"new_deaths\": 42, \"new_recovered\": 0}, {\"country\": \"Ireland\", \"date\": \"2020-04-17\", \"days_since_10_cases\": 42, \"confirmed_cases\": 13980, \"confirmed_cases_per_million\": 2853.0, \"new_cases\": 709, \"new_deaths\": 44, \"new_recovered\": 0}, {\"country\": \"Ireland\", \"date\": \"2020-04-18\", \"days_since_10_cases\": 43, \"confirmed_cases\": 14758, \"confirmed_cases_per_million\": 3012.0, \"new_cases\": 778, \"new_deaths\": 41, \"new_recovered\": 0}, {\"country\": \"Ireland\", \"date\": \"2020-04-19\", \"days_since_10_cases\": 44, \"confirmed_cases\": 15251, \"confirmed_cases_per_million\": 3112.0, \"new_cases\": 493, \"new_deaths\": 39, \"new_recovered\": 0}, {\"country\": \"Ireland\", \"date\": \"2020-04-20\", \"days_since_10_cases\": 45, \"confirmed_cases\": 15652, \"confirmed_cases_per_million\": 3194.0, \"new_cases\": 401, \"new_deaths\": 77, \"new_recovered\": 0}, {\"country\": \"Ireland\", \"date\": \"2020-04-21\", \"days_since_10_cases\": 46, \"confirmed_cases\": 16040, \"confirmed_cases_per_million\": 3273.0, \"new_cases\": 388, \"new_deaths\": 43, \"new_recovered\": 9156}, {\"country\": \"Ireland\", \"date\": \"2020-04-22\", \"days_since_10_cases\": 47, \"confirmed_cases\": 16671, \"confirmed_cases_per_million\": 3402.0, \"new_cases\": 631, \"new_deaths\": 39, \"new_recovered\": 0}, {\"country\": \"Ireland\", \"date\": \"2020-04-23\", \"days_since_10_cases\": 48, \"confirmed_cases\": 17607, \"confirmed_cases_per_million\": 3593.0, \"new_cases\": 936, \"new_deaths\": 25, \"new_recovered\": 0}, {\"country\": \"Ireland\", \"date\": \"2020-04-24\", \"days_since_10_cases\": 49, \"confirmed_cases\": 18184, \"confirmed_cases_per_million\": 3711.0, \"new_cases\": 577, \"new_deaths\": 220, \"new_recovered\": 0}, {\"country\": \"Ireland\", \"date\": \"2020-04-25\", \"days_since_10_cases\": 50, \"confirmed_cases\": 18561, \"confirmed_cases_per_million\": 3788.0, \"new_cases\": 377, \"new_deaths\": 49, \"new_recovered\": 0}, {\"country\": \"Ireland\", \"date\": \"2020-04-26\", \"days_since_10_cases\": 51, \"confirmed_cases\": 19262, \"confirmed_cases_per_million\": 3931.0, \"new_cases\": 701, \"new_deaths\": 24, \"new_recovered\": 0}, {\"country\": \"Ireland\", \"date\": \"2020-04-27\", \"days_since_10_cases\": 52, \"confirmed_cases\": 19648, \"confirmed_cases_per_million\": 4010.0, \"new_cases\": 386, \"new_deaths\": 15, \"new_recovered\": 0}, {\"country\": \"Ireland\", \"date\": \"2020-04-28\", \"days_since_10_cases\": 53, \"confirmed_cases\": 19877, \"confirmed_cases_per_million\": 4057.0, \"new_cases\": 229, \"new_deaths\": 57, \"new_recovered\": 0}, {\"country\": \"Ireland\", \"date\": \"2020-04-29\", \"days_since_10_cases\": 54, \"confirmed_cases\": 20253, \"confirmed_cases_per_million\": 4133.0, \"new_cases\": 376, \"new_deaths\": 31, \"new_recovered\": 4153}, {\"country\": \"Ireland\", \"date\": \"2020-04-30\", \"days_since_10_cases\": 55, \"confirmed_cases\": 20612, \"confirmed_cases_per_million\": 4207.0, \"new_cases\": 359, \"new_deaths\": 42, \"new_recovered\": 0}, {\"country\": \"Ireland\", \"date\": \"2020-05-01\", \"days_since_10_cases\": 56, \"confirmed_cases\": 20833, \"confirmed_cases_per_million\": 4252.0, \"new_cases\": 221, \"new_deaths\": 33, \"new_recovered\": 0}, {\"country\": \"Ireland\", \"date\": \"2020-05-02\", \"days_since_10_cases\": 57, \"confirmed_cases\": 21176, \"confirmed_cases_per_million\": 4322.0, \"new_cases\": 343, \"new_deaths\": 21, \"new_recovered\": 0}, {\"country\": \"Ireland\", \"date\": \"2020-05-03\", \"days_since_10_cases\": 58, \"confirmed_cases\": 21506, \"confirmed_cases_per_million\": 4389.0, \"new_cases\": 330, \"new_deaths\": 17, \"new_recovered\": 0}]}}, {\"mode\": \"vega-lite\"});\n",
       "</script>"
      ],
      "text/plain": [
       "alt.LayerChart(...)"
      ]
     },
     "execution_count": 83,
     "metadata": {},
     "output_type": "execute_result"
    }
   ],
   "source": [
    "#hide\n",
    "\n",
    "alt.layer(cases_it_plot, cases_es_plot, cases_ie_plot).resolve_scale(\n",
    "    color='independent',\n",
    "    shape='independent'\n",
    ")"
   ]
  },
  {
   "cell_type": "markdown",
   "metadata": {},
   "source": [
    "---"
   ]
  },
  {
   "cell_type": "code",
   "execution_count": 84,
   "metadata": {},
   "outputs": [],
   "source": [
    "#hide\n",
    "# Number of Covid-19 cases per million"
   ]
  },
  {
   "cell_type": "markdown",
   "metadata": {},
   "source": [
    "# Number of Covid-19 cases per million\n",
    "The respective population of Ireland, Italy, and Spain is as follows (in millions) [\\[source\\]](https://en.wikipedia.org/wiki/List_of_countries_and_dependencies_by_population):\n",
    "\n",
    "- **Ireland** : 4.9M\n",
    "- **Italy** : 60.2M\n",
    "- **Spain** : 47.1M\n",
    "\n",
    "If we plot a figure dividing the total number of cases reported daily by the population (in millions) we can find how many persons are infected per 1 million, which give us a normalized value we could use to understand the severity of the outbreak."
   ]
  },
  {
   "cell_type": "code",
   "execution_count": 85,
   "metadata": {},
   "outputs": [
    {
     "data": {
      "text/html": [
       "\n",
       "<div id=\"altair-viz-a01251118a1a46a39658eb5fff6e0531\"></div>\n",
       "<script type=\"text/javascript\">\n",
       "  (function(spec, embedOpt){\n",
       "    const outputDiv = document.getElementById(\"altair-viz-a01251118a1a46a39658eb5fff6e0531\");\n",
       "    const paths = {\n",
       "      \"vega\": \"https://cdn.jsdelivr.net/npm//vega@5?noext\",\n",
       "      \"vega-lib\": \"https://cdn.jsdelivr.net/npm//vega-lib?noext\",\n",
       "      \"vega-lite\": \"https://cdn.jsdelivr.net/npm//vega-lite@4.0.2?noext\",\n",
       "      \"vega-embed\": \"https://cdn.jsdelivr.net/npm//vega-embed@6?noext\",\n",
       "    };\n",
       "\n",
       "    function loadScript(lib) {\n",
       "      return new Promise(function(resolve, reject) {\n",
       "        var s = document.createElement('script');\n",
       "        s.src = paths[lib];\n",
       "        s.async = true;\n",
       "        s.onload = () => resolve(paths[lib]);\n",
       "        s.onerror = () => reject(`Error loading script: ${paths[lib]}`);\n",
       "        document.getElementsByTagName(\"head\")[0].appendChild(s);\n",
       "      });\n",
       "    }\n",
       "\n",
       "    function showError(err) {\n",
       "      outputDiv.innerHTML = `<div class=\"error\" style=\"color:red;\">${err}</div>`;\n",
       "      throw err;\n",
       "    }\n",
       "\n",
       "    function displayChart(vegaEmbed) {\n",
       "      vegaEmbed(outputDiv, spec, embedOpt)\n",
       "        .catch(err => showError(`Javascript Error: ${err.message}<br>This usually means there's a typo in your chart specification. See the javascript console for the full traceback.`));\n",
       "    }\n",
       "\n",
       "    if(typeof define === \"function\" && define.amd) {\n",
       "      requirejs.config({paths});\n",
       "      require([\"vega-embed\"], displayChart, err => showError(`Error loading script: ${err.message}`));\n",
       "    } else if (typeof vegaEmbed === \"function\") {\n",
       "      displayChart(vegaEmbed);\n",
       "    } else {\n",
       "      loadScript(\"vega\")\n",
       "        .then(() => loadScript(\"vega-lite\"))\n",
       "        .then(() => loadScript(\"vega-embed\"))\n",
       "        .catch(showError)\n",
       "        .then(() => displayChart(vegaEmbed));\n",
       "    }\n",
       "  })({\"config\": {\"view\": {\"continuousWidth\": 400, \"continuousHeight\": 300}}, \"data\": {\"name\": \"data-51484490e82d8d99c47779b551f58f51\"}, \"mark\": {\"type\": \"circle\", \"color\": \"green\", \"opacity\": 0.7}, \"encoding\": {\"size\": {\"type\": \"quantitative\", \"field\": \"new_cases\", \"title\": \"Number of new cases in Ireland\"}, \"tooltip\": [{\"type\": \"nominal\", \"field\": \"country\"}, {\"type\": \"temporal\", \"field\": \"date\"}, {\"type\": \"quantitative\", \"field\": \"confirmed_cases\"}, {\"type\": \"quantitative\", \"field\": \"confirmed_cases_per_million\"}, {\"type\": \"quantitative\", \"field\": \"new_cases\"}, {\"type\": \"quantitative\", \"field\": \"new_deaths\"}], \"x\": {\"type\": \"quantitative\", \"field\": \"days_since_10_cases\"}, \"y\": {\"type\": \"quantitative\", \"field\": \"confirmed_cases_per_million\", \"scale\": {\"type\": \"sqrt\"}}}, \"$schema\": \"https://vega.github.io/schema/vega-lite/v4.0.2.json\", \"datasets\": {\"data-51484490e82d8d99c47779b551f58f51\": [{\"country\": \"Ireland\", \"date\": \"2020-03-06\", \"days_since_10_cases\": 0, \"confirmed_cases\": 18, \"confirmed_cases_per_million\": 4.0, \"new_cases\": 0, \"new_deaths\": 0, \"new_recovered\": 0}, {\"country\": \"Ireland\", \"date\": \"2020-03-07\", \"days_since_10_cases\": 1, \"confirmed_cases\": 18, \"confirmed_cases_per_million\": 4.0, \"new_cases\": 0, \"new_deaths\": 0, \"new_recovered\": 0}, {\"country\": \"Ireland\", \"date\": \"2020-03-08\", \"days_since_10_cases\": 2, \"confirmed_cases\": 19, \"confirmed_cases_per_million\": 4.0, \"new_cases\": 1, \"new_deaths\": 0, \"new_recovered\": 0}, {\"country\": \"Ireland\", \"date\": \"2020-03-09\", \"days_since_10_cases\": 3, \"confirmed_cases\": 21, \"confirmed_cases_per_million\": 4.0, \"new_cases\": 2, \"new_deaths\": 0, \"new_recovered\": 0}, {\"country\": \"Ireland\", \"date\": \"2020-03-10\", \"days_since_10_cases\": 4, \"confirmed_cases\": 34, \"confirmed_cases_per_million\": 7.0, \"new_cases\": 13, \"new_deaths\": 0, \"new_recovered\": 0}, {\"country\": \"Ireland\", \"date\": \"2020-03-11\", \"days_since_10_cases\": 5, \"confirmed_cases\": 43, \"confirmed_cases_per_million\": 9.0, \"new_cases\": 9, \"new_deaths\": 1, \"new_recovered\": 0}, {\"country\": \"Ireland\", \"date\": \"2020-03-12\", \"days_since_10_cases\": 6, \"confirmed_cases\": 43, \"confirmed_cases_per_million\": 9.0, \"new_cases\": 0, \"new_deaths\": 0, \"new_recovered\": 0}, {\"country\": \"Ireland\", \"date\": \"2020-03-13\", \"days_since_10_cases\": 7, \"confirmed_cases\": 90, \"confirmed_cases_per_million\": 18.0, \"new_cases\": 47, \"new_deaths\": 0, \"new_recovered\": 0}, {\"country\": \"Ireland\", \"date\": \"2020-03-14\", \"days_since_10_cases\": 8, \"confirmed_cases\": 129, \"confirmed_cases_per_million\": 26.0, \"new_cases\": 39, \"new_deaths\": 1, \"new_recovered\": 0}, {\"country\": \"Ireland\", \"date\": \"2020-03-15\", \"days_since_10_cases\": 9, \"confirmed_cases\": 129, \"confirmed_cases_per_million\": 26.0, \"new_cases\": 0, \"new_deaths\": 0, \"new_recovered\": 0}, {\"country\": \"Ireland\", \"date\": \"2020-03-16\", \"days_since_10_cases\": 10, \"confirmed_cases\": 169, \"confirmed_cases_per_million\": 34.0, \"new_cases\": 40, \"new_deaths\": 0, \"new_recovered\": 0}, {\"country\": \"Ireland\", \"date\": \"2020-03-17\", \"days_since_10_cases\": 11, \"confirmed_cases\": 223, \"confirmed_cases_per_million\": 46.0, \"new_cases\": 54, \"new_deaths\": 0, \"new_recovered\": 5}, {\"country\": \"Ireland\", \"date\": \"2020-03-18\", \"days_since_10_cases\": 12, \"confirmed_cases\": 292, \"confirmed_cases_per_million\": 60.0, \"new_cases\": 69, \"new_deaths\": 0, \"new_recovered\": 0}, {\"country\": \"Ireland\", \"date\": \"2020-03-19\", \"days_since_10_cases\": 13, \"confirmed_cases\": 557, \"confirmed_cases_per_million\": 114.0, \"new_cases\": 265, \"new_deaths\": 1, \"new_recovered\": 0}, {\"country\": \"Ireland\", \"date\": \"2020-03-20\", \"days_since_10_cases\": 14, \"confirmed_cases\": 683, \"confirmed_cases_per_million\": 139.0, \"new_cases\": 126, \"new_deaths\": 0, \"new_recovered\": 0}, {\"country\": \"Ireland\", \"date\": \"2020-03-21\", \"days_since_10_cases\": 15, \"confirmed_cases\": 785, \"confirmed_cases_per_million\": 160.0, \"new_cases\": 102, \"new_deaths\": 0, \"new_recovered\": 0}, {\"country\": \"Ireland\", \"date\": \"2020-03-22\", \"days_since_10_cases\": 16, \"confirmed_cases\": 906, \"confirmed_cases_per_million\": 185.0, \"new_cases\": 121, \"new_deaths\": 1, \"new_recovered\": 0}, {\"country\": \"Ireland\", \"date\": \"2020-03-23\", \"days_since_10_cases\": 17, \"confirmed_cases\": 1125, \"confirmed_cases_per_million\": 230.0, \"new_cases\": 219, \"new_deaths\": 2, \"new_recovered\": 0}, {\"country\": \"Ireland\", \"date\": \"2020-03-24\", \"days_since_10_cases\": 18, \"confirmed_cases\": 1329, \"confirmed_cases_per_million\": 271.0, \"new_cases\": 204, \"new_deaths\": 1, \"new_recovered\": 0}, {\"country\": \"Ireland\", \"date\": \"2020-03-25\", \"days_since_10_cases\": 19, \"confirmed_cases\": 1564, \"confirmed_cases_per_million\": 319.0, \"new_cases\": 235, \"new_deaths\": 2, \"new_recovered\": 0}, {\"country\": \"Ireland\", \"date\": \"2020-03-26\", \"days_since_10_cases\": 20, \"confirmed_cases\": 1819, \"confirmed_cases_per_million\": 371.0, \"new_cases\": 255, \"new_deaths\": 10, \"new_recovered\": 0}, {\"country\": \"Ireland\", \"date\": \"2020-03-27\", \"days_since_10_cases\": 21, \"confirmed_cases\": 2121, \"confirmed_cases_per_million\": 433.0, \"new_cases\": 302, \"new_deaths\": 3, \"new_recovered\": 0}, {\"country\": \"Ireland\", \"date\": \"2020-03-28\", \"days_since_10_cases\": 22, \"confirmed_cases\": 2415, \"confirmed_cases_per_million\": 493.0, \"new_cases\": 294, \"new_deaths\": 14, \"new_recovered\": 0}, {\"country\": \"Ireland\", \"date\": \"2020-03-29\", \"days_since_10_cases\": 23, \"confirmed_cases\": 2615, \"confirmed_cases_per_million\": 534.0, \"new_cases\": 200, \"new_deaths\": 10, \"new_recovered\": 0}, {\"country\": \"Ireland\", \"date\": \"2020-03-30\", \"days_since_10_cases\": 24, \"confirmed_cases\": 2910, \"confirmed_cases_per_million\": 594.0, \"new_cases\": 295, \"new_deaths\": 8, \"new_recovered\": 0}, {\"country\": \"Ireland\", \"date\": \"2020-03-31\", \"days_since_10_cases\": 25, \"confirmed_cases\": 3235, \"confirmed_cases_per_million\": 660.0, \"new_cases\": 325, \"new_deaths\": 17, \"new_recovered\": 0}, {\"country\": \"Ireland\", \"date\": \"2020-04-01\", \"days_since_10_cases\": 26, \"confirmed_cases\": 3447, \"confirmed_cases_per_million\": 703.0, \"new_cases\": 212, \"new_deaths\": 14, \"new_recovered\": 0}, {\"country\": \"Ireland\", \"date\": \"2020-04-02\", \"days_since_10_cases\": 27, \"confirmed_cases\": 3849, \"confirmed_cases_per_million\": 786.0, \"new_cases\": 402, \"new_deaths\": 13, \"new_recovered\": 0}, {\"country\": \"Ireland\", \"date\": \"2020-04-03\", \"days_since_10_cases\": 28, \"confirmed_cases\": 4273, \"confirmed_cases_per_million\": 872.0, \"new_cases\": 424, \"new_deaths\": 22, \"new_recovered\": 0}, {\"country\": \"Ireland\", \"date\": \"2020-04-04\", \"days_since_10_cases\": 29, \"confirmed_cases\": 4604, \"confirmed_cases_per_million\": 940.0, \"new_cases\": 331, \"new_deaths\": 17, \"new_recovered\": 20}, {\"country\": \"Ireland\", \"date\": \"2020-04-05\", \"days_since_10_cases\": 30, \"confirmed_cases\": 4994, \"confirmed_cases_per_million\": 1019.0, \"new_cases\": 390, \"new_deaths\": 21, \"new_recovered\": 0}, {\"country\": \"Ireland\", \"date\": \"2020-04-06\", \"days_since_10_cases\": 31, \"confirmed_cases\": 5364, \"confirmed_cases_per_million\": 1095.0, \"new_cases\": 370, \"new_deaths\": 16, \"new_recovered\": 0}, {\"country\": \"Ireland\", \"date\": \"2020-04-07\", \"days_since_10_cases\": 32, \"confirmed_cases\": 5709, \"confirmed_cases_per_million\": 1165.0, \"new_cases\": 345, \"new_deaths\": 36, \"new_recovered\": 0}, {\"country\": \"Ireland\", \"date\": \"2020-04-08\", \"days_since_10_cases\": 33, \"confirmed_cases\": 6074, \"confirmed_cases_per_million\": 1240.0, \"new_cases\": 365, \"new_deaths\": 25, \"new_recovered\": 0}, {\"country\": \"Ireland\", \"date\": \"2020-04-09\", \"days_since_10_cases\": 34, \"confirmed_cases\": 6574, \"confirmed_cases_per_million\": 1342.0, \"new_cases\": 500, \"new_deaths\": 28, \"new_recovered\": 0}, {\"country\": \"Ireland\", \"date\": \"2020-04-10\", \"days_since_10_cases\": 35, \"confirmed_cases\": 8089, \"confirmed_cases_per_million\": 1651.0, \"new_cases\": 1515, \"new_deaths\": 24, \"new_recovered\": 0}, {\"country\": \"Ireland\", \"date\": \"2020-04-11\", \"days_since_10_cases\": 36, \"confirmed_cases\": 8928, \"confirmed_cases_per_million\": 1822.0, \"new_cases\": 839, \"new_deaths\": 33, \"new_recovered\": 0}, {\"country\": \"Ireland\", \"date\": \"2020-04-12\", \"days_since_10_cases\": 37, \"confirmed_cases\": 9655, \"confirmed_cases_per_million\": 1970.0, \"new_cases\": 727, \"new_deaths\": 14, \"new_recovered\": 0}, {\"country\": \"Ireland\", \"date\": \"2020-04-13\", \"days_since_10_cases\": 38, \"confirmed_cases\": 10647, \"confirmed_cases_per_million\": 2173.0, \"new_cases\": 992, \"new_deaths\": 31, \"new_recovered\": 0}, {\"country\": \"Ireland\", \"date\": \"2020-04-14\", \"days_since_10_cases\": 39, \"confirmed_cases\": 11479, \"confirmed_cases_per_million\": 2343.0, \"new_cases\": 832, \"new_deaths\": 41, \"new_recovered\": 0}, {\"country\": \"Ireland\", \"date\": \"2020-04-15\", \"days_since_10_cases\": 40, \"confirmed_cases\": 12547, \"confirmed_cases_per_million\": 2561.0, \"new_cases\": 1068, \"new_deaths\": 38, \"new_recovered\": 52}, {\"country\": \"Ireland\", \"date\": \"2020-04-16\", \"days_since_10_cases\": 41, \"confirmed_cases\": 13271, \"confirmed_cases_per_million\": 2708.0, \"new_cases\": 724, \"new_deaths\": 42, \"new_recovered\": 0}, {\"country\": \"Ireland\", \"date\": \"2020-04-17\", \"days_since_10_cases\": 42, \"confirmed_cases\": 13980, \"confirmed_cases_per_million\": 2853.0, \"new_cases\": 709, \"new_deaths\": 44, \"new_recovered\": 0}, {\"country\": \"Ireland\", \"date\": \"2020-04-18\", \"days_since_10_cases\": 43, \"confirmed_cases\": 14758, \"confirmed_cases_per_million\": 3012.0, \"new_cases\": 778, \"new_deaths\": 41, \"new_recovered\": 0}, {\"country\": \"Ireland\", \"date\": \"2020-04-19\", \"days_since_10_cases\": 44, \"confirmed_cases\": 15251, \"confirmed_cases_per_million\": 3112.0, \"new_cases\": 493, \"new_deaths\": 39, \"new_recovered\": 0}, {\"country\": \"Ireland\", \"date\": \"2020-04-20\", \"days_since_10_cases\": 45, \"confirmed_cases\": 15652, \"confirmed_cases_per_million\": 3194.0, \"new_cases\": 401, \"new_deaths\": 77, \"new_recovered\": 0}, {\"country\": \"Ireland\", \"date\": \"2020-04-21\", \"days_since_10_cases\": 46, \"confirmed_cases\": 16040, \"confirmed_cases_per_million\": 3273.0, \"new_cases\": 388, \"new_deaths\": 43, \"new_recovered\": 9156}, {\"country\": \"Ireland\", \"date\": \"2020-04-22\", \"days_since_10_cases\": 47, \"confirmed_cases\": 16671, \"confirmed_cases_per_million\": 3402.0, \"new_cases\": 631, \"new_deaths\": 39, \"new_recovered\": 0}, {\"country\": \"Ireland\", \"date\": \"2020-04-23\", \"days_since_10_cases\": 48, \"confirmed_cases\": 17607, \"confirmed_cases_per_million\": 3593.0, \"new_cases\": 936, \"new_deaths\": 25, \"new_recovered\": 0}, {\"country\": \"Ireland\", \"date\": \"2020-04-24\", \"days_since_10_cases\": 49, \"confirmed_cases\": 18184, \"confirmed_cases_per_million\": 3711.0, \"new_cases\": 577, \"new_deaths\": 220, \"new_recovered\": 0}, {\"country\": \"Ireland\", \"date\": \"2020-04-25\", \"days_since_10_cases\": 50, \"confirmed_cases\": 18561, \"confirmed_cases_per_million\": 3788.0, \"new_cases\": 377, \"new_deaths\": 49, \"new_recovered\": 0}, {\"country\": \"Ireland\", \"date\": \"2020-04-26\", \"days_since_10_cases\": 51, \"confirmed_cases\": 19262, \"confirmed_cases_per_million\": 3931.0, \"new_cases\": 701, \"new_deaths\": 24, \"new_recovered\": 0}, {\"country\": \"Ireland\", \"date\": \"2020-04-27\", \"days_since_10_cases\": 52, \"confirmed_cases\": 19648, \"confirmed_cases_per_million\": 4010.0, \"new_cases\": 386, \"new_deaths\": 15, \"new_recovered\": 0}, {\"country\": \"Ireland\", \"date\": \"2020-04-28\", \"days_since_10_cases\": 53, \"confirmed_cases\": 19877, \"confirmed_cases_per_million\": 4057.0, \"new_cases\": 229, \"new_deaths\": 57, \"new_recovered\": 0}, {\"country\": \"Ireland\", \"date\": \"2020-04-29\", \"days_since_10_cases\": 54, \"confirmed_cases\": 20253, \"confirmed_cases_per_million\": 4133.0, \"new_cases\": 376, \"new_deaths\": 31, \"new_recovered\": 4153}, {\"country\": \"Ireland\", \"date\": \"2020-04-30\", \"days_since_10_cases\": 55, \"confirmed_cases\": 20612, \"confirmed_cases_per_million\": 4207.0, \"new_cases\": 359, \"new_deaths\": 42, \"new_recovered\": 0}, {\"country\": \"Ireland\", \"date\": \"2020-05-01\", \"days_since_10_cases\": 56, \"confirmed_cases\": 20833, \"confirmed_cases_per_million\": 4252.0, \"new_cases\": 221, \"new_deaths\": 33, \"new_recovered\": 0}, {\"country\": \"Ireland\", \"date\": \"2020-05-02\", \"days_since_10_cases\": 57, \"confirmed_cases\": 21176, \"confirmed_cases_per_million\": 4322.0, \"new_cases\": 343, \"new_deaths\": 21, \"new_recovered\": 0}, {\"country\": \"Ireland\", \"date\": \"2020-05-03\", \"days_since_10_cases\": 58, \"confirmed_cases\": 21506, \"confirmed_cases_per_million\": 4389.0, \"new_cases\": 330, \"new_deaths\": 17, \"new_recovered\": 0}]}}, {\"mode\": \"vega-lite\"});\n",
       "</script>"
      ],
      "text/plain": [
       "alt.Chart(...)"
      ]
     },
     "execution_count": 85,
     "metadata": {},
     "output_type": "execute_result"
    }
   ],
   "source": [
    "#hide\n",
    "\n",
    "cases_per_million_ie_plot = alt.Chart(source_ie).mark_circle(\n",
    "    color='green',\n",
    "    opacity=0.7).encode(\n",
    "    x='days_since_10_cases:Q',\n",
    "#     y='confirmed_cases:Q',\n",
    "    y=alt.Y('confirmed_cases_per_million:Q', scale=alt.Scale(type='sqrt')),\n",
    "    size=alt.Size('new_cases:Q', title=\"Number of new cases in Ireland\"),\n",
    "    tooltip=['country', 'date:T', 'confirmed_cases:Q', 'confirmed_cases_per_million:Q', 'new_cases', 'new_deaths']\n",
    ")#.interactive()\n",
    "\n",
    "cases_per_million_ie_plot"
   ]
  },
  {
   "cell_type": "code",
   "execution_count": 86,
   "metadata": {},
   "outputs": [
    {
     "data": {
      "text/html": [
       "\n",
       "<div id=\"altair-viz-c747cecdfbb24fa2b9a91e94b8a1b3b9\"></div>\n",
       "<script type=\"text/javascript\">\n",
       "  (function(spec, embedOpt){\n",
       "    const outputDiv = document.getElementById(\"altair-viz-c747cecdfbb24fa2b9a91e94b8a1b3b9\");\n",
       "    const paths = {\n",
       "      \"vega\": \"https://cdn.jsdelivr.net/npm//vega@5?noext\",\n",
       "      \"vega-lib\": \"https://cdn.jsdelivr.net/npm//vega-lib?noext\",\n",
       "      \"vega-lite\": \"https://cdn.jsdelivr.net/npm//vega-lite@4.0.2?noext\",\n",
       "      \"vega-embed\": \"https://cdn.jsdelivr.net/npm//vega-embed@6?noext\",\n",
       "    };\n",
       "\n",
       "    function loadScript(lib) {\n",
       "      return new Promise(function(resolve, reject) {\n",
       "        var s = document.createElement('script');\n",
       "        s.src = paths[lib];\n",
       "        s.async = true;\n",
       "        s.onload = () => resolve(paths[lib]);\n",
       "        s.onerror = () => reject(`Error loading script: ${paths[lib]}`);\n",
       "        document.getElementsByTagName(\"head\")[0].appendChild(s);\n",
       "      });\n",
       "    }\n",
       "\n",
       "    function showError(err) {\n",
       "      outputDiv.innerHTML = `<div class=\"error\" style=\"color:red;\">${err}</div>`;\n",
       "      throw err;\n",
       "    }\n",
       "\n",
       "    function displayChart(vegaEmbed) {\n",
       "      vegaEmbed(outputDiv, spec, embedOpt)\n",
       "        .catch(err => showError(`Javascript Error: ${err.message}<br>This usually means there's a typo in your chart specification. See the javascript console for the full traceback.`));\n",
       "    }\n",
       "\n",
       "    if(typeof define === \"function\" && define.amd) {\n",
       "      requirejs.config({paths});\n",
       "      require([\"vega-embed\"], displayChart, err => showError(`Error loading script: ${err.message}`));\n",
       "    } else if (typeof vegaEmbed === \"function\") {\n",
       "      displayChart(vegaEmbed);\n",
       "    } else {\n",
       "      loadScript(\"vega\")\n",
       "        .then(() => loadScript(\"vega-lite\"))\n",
       "        .then(() => loadScript(\"vega-embed\"))\n",
       "        .catch(showError)\n",
       "        .then(() => displayChart(vegaEmbed));\n",
       "    }\n",
       "  })({\"config\": {\"view\": {\"continuousWidth\": 400, \"continuousHeight\": 300}}, \"data\": {\"name\": \"data-2c457a4d3401c9c6ef9b5db568ad130b\"}, \"mark\": {\"type\": \"line\", \"color\": \"blue\", \"opacity\": 0.5, \"point\": true, \"strokeDash\": [4, 4], \"strokeWidth\": 3}, \"encoding\": {\"color\": {\"type\": \"nominal\", \"field\": \"country\", \"scale\": {\"domain\": [\"Italy\"], \"range\": [\"blue\"]}, \"title\": \"Country\"}, \"tooltip\": [{\"type\": \"nominal\", \"field\": \"country\"}, {\"type\": \"temporal\", \"field\": \"date\"}, {\"type\": \"quantitative\", \"field\": \"confirmed_cases\"}, {\"type\": \"quantitative\", \"field\": \"confirmed_cases_per_million\"}, {\"type\": \"quantitative\", \"field\": \"new_cases\"}, {\"type\": \"quantitative\", \"field\": \"new_deaths\"}], \"x\": {\"type\": \"quantitative\", \"field\": \"days_since_10_cases\"}, \"y\": {\"type\": \"quantitative\", \"field\": \"confirmed_cases_per_million\", \"scale\": {\"type\": \"sqrt\"}}}, \"$schema\": \"https://vega.github.io/schema/vega-lite/v4.0.2.json\", \"datasets\": {\"data-2c457a4d3401c9c6ef9b5db568ad130b\": [{\"country\": \"Italy\", \"date\": \"2020-02-21\", \"days_since_10_cases\": 0, \"confirmed_cases\": 20, \"confirmed_cases_per_million\": 0.0, \"new_cases\": 0, \"new_deaths\": 1, \"new_recovered\": 0}, {\"country\": \"Italy\", \"date\": \"2020-02-22\", \"days_since_10_cases\": 1, \"confirmed_cases\": 62, \"confirmed_cases_per_million\": 1.0, \"new_cases\": 42, \"new_deaths\": 1, \"new_recovered\": 1}, {\"country\": \"Italy\", \"date\": \"2020-02-23\", \"days_since_10_cases\": 2, \"confirmed_cases\": 155, \"confirmed_cases_per_million\": 3.0, \"new_cases\": 93, \"new_deaths\": 1, \"new_recovered\": 1}, {\"country\": \"Italy\", \"date\": \"2020-02-24\", \"days_since_10_cases\": 3, \"confirmed_cases\": 229, \"confirmed_cases_per_million\": 4.0, \"new_cases\": 74, \"new_deaths\": 4, \"new_recovered\": -1}, {\"country\": \"Italy\", \"date\": \"2020-02-25\", \"days_since_10_cases\": 4, \"confirmed_cases\": 322, \"confirmed_cases_per_million\": 5.0, \"new_cases\": 93, \"new_deaths\": 3, \"new_recovered\": 0}, {\"country\": \"Italy\", \"date\": \"2020-02-26\", \"days_since_10_cases\": 5, \"confirmed_cases\": 453, \"confirmed_cases_per_million\": 8.0, \"new_cases\": 131, \"new_deaths\": 2, \"new_recovered\": 2}, {\"country\": \"Italy\", \"date\": \"2020-02-27\", \"days_since_10_cases\": 6, \"confirmed_cases\": 655, \"confirmed_cases_per_million\": 11.0, \"new_cases\": 202, \"new_deaths\": 5, \"new_recovered\": 42}, {\"country\": \"Italy\", \"date\": \"2020-02-28\", \"days_since_10_cases\": 7, \"confirmed_cases\": 888, \"confirmed_cases_per_million\": 15.0, \"new_cases\": 233, \"new_deaths\": 4, \"new_recovered\": 1}, {\"country\": \"Italy\", \"date\": \"2020-02-29\", \"days_since_10_cases\": 8, \"confirmed_cases\": 1128, \"confirmed_cases_per_million\": 19.0, \"new_cases\": 240, \"new_deaths\": 8, \"new_recovered\": 0}, {\"country\": \"Italy\", \"date\": \"2020-03-01\", \"days_since_10_cases\": 9, \"confirmed_cases\": 1694, \"confirmed_cases_per_million\": 28.0, \"new_cases\": 566, \"new_deaths\": 5, \"new_recovered\": 37}, {\"country\": \"Italy\", \"date\": \"2020-03-02\", \"days_since_10_cases\": 10, \"confirmed_cases\": 2036, \"confirmed_cases_per_million\": 34.0, \"new_cases\": 342, \"new_deaths\": 18, \"new_recovered\": 66}, {\"country\": \"Italy\", \"date\": \"2020-03-03\", \"days_since_10_cases\": 11, \"confirmed_cases\": 2502, \"confirmed_cases_per_million\": 42.0, \"new_cases\": 466, \"new_deaths\": 27, \"new_recovered\": 11}, {\"country\": \"Italy\", \"date\": \"2020-03-04\", \"days_since_10_cases\": 12, \"confirmed_cases\": 3089, \"confirmed_cases_per_million\": 51.0, \"new_cases\": 587, \"new_deaths\": 28, \"new_recovered\": 116}, {\"country\": \"Italy\", \"date\": \"2020-03-05\", \"days_since_10_cases\": 13, \"confirmed_cases\": 3858, \"confirmed_cases_per_million\": 64.0, \"new_cases\": 769, \"new_deaths\": 41, \"new_recovered\": 138}, {\"country\": \"Italy\", \"date\": \"2020-03-06\", \"days_since_10_cases\": 14, \"confirmed_cases\": 4636, \"confirmed_cases_per_million\": 77.0, \"new_cases\": 778, \"new_deaths\": 49, \"new_recovered\": 109}, {\"country\": \"Italy\", \"date\": \"2020-03-07\", \"days_since_10_cases\": 15, \"confirmed_cases\": 5883, \"confirmed_cases_per_million\": 98.0, \"new_cases\": 1247, \"new_deaths\": 36, \"new_recovered\": 66}, {\"country\": \"Italy\", \"date\": \"2020-03-08\", \"days_since_10_cases\": 16, \"confirmed_cases\": 7375, \"confirmed_cases_per_million\": 123.0, \"new_cases\": 1492, \"new_deaths\": 133, \"new_recovered\": 33}, {\"country\": \"Italy\", \"date\": \"2020-03-09\", \"days_since_10_cases\": 17, \"confirmed_cases\": 9172, \"confirmed_cases_per_million\": 152.0, \"new_cases\": 1797, \"new_deaths\": 97, \"new_recovered\": 102}, {\"country\": \"Italy\", \"date\": \"2020-03-10\", \"days_since_10_cases\": 18, \"confirmed_cases\": 10149, \"confirmed_cases_per_million\": 169.0, \"new_cases\": 977, \"new_deaths\": 168, \"new_recovered\": 0}, {\"country\": \"Italy\", \"date\": \"2020-03-11\", \"days_since_10_cases\": 19, \"confirmed_cases\": 12462, \"confirmed_cases_per_million\": 207.0, \"new_cases\": 2313, \"new_deaths\": 196, \"new_recovered\": 321}, {\"country\": \"Italy\", \"date\": \"2020-03-12\", \"days_since_10_cases\": 20, \"confirmed_cases\": 12462, \"confirmed_cases_per_million\": 207.0, \"new_cases\": 0, \"new_deaths\": 0, \"new_recovered\": 0}, {\"country\": \"Italy\", \"date\": \"2020-03-13\", \"days_since_10_cases\": 21, \"confirmed_cases\": 17660, \"confirmed_cases_per_million\": 293.0, \"new_cases\": 5198, \"new_deaths\": 439, \"new_recovered\": 394}, {\"country\": \"Italy\", \"date\": \"2020-03-14\", \"days_since_10_cases\": 22, \"confirmed_cases\": 21157, \"confirmed_cases_per_million\": 351.0, \"new_cases\": 3497, \"new_deaths\": 175, \"new_recovered\": 527}, {\"country\": \"Italy\", \"date\": \"2020-03-15\", \"days_since_10_cases\": 23, \"confirmed_cases\": 24747, \"confirmed_cases_per_million\": 411.0, \"new_cases\": 3590, \"new_deaths\": 368, \"new_recovered\": 369}, {\"country\": \"Italy\", \"date\": \"2020-03-16\", \"days_since_10_cases\": 24, \"confirmed_cases\": 27980, \"confirmed_cases_per_million\": 465.0, \"new_cases\": 3233, \"new_deaths\": 349, \"new_recovered\": 414}, {\"country\": \"Italy\", \"date\": \"2020-03-17\", \"days_since_10_cases\": 25, \"confirmed_cases\": 31506, \"confirmed_cases_per_million\": 523.0, \"new_cases\": 3526, \"new_deaths\": 345, \"new_recovered\": 192}, {\"country\": \"Italy\", \"date\": \"2020-03-18\", \"days_since_10_cases\": 26, \"confirmed_cases\": 35713, \"confirmed_cases_per_million\": 593.0, \"new_cases\": 4207, \"new_deaths\": 475, \"new_recovered\": 1084}, {\"country\": \"Italy\", \"date\": \"2020-03-19\", \"days_since_10_cases\": 27, \"confirmed_cases\": 41035, \"confirmed_cases_per_million\": 682.0, \"new_cases\": 5322, \"new_deaths\": 427, \"new_recovered\": 415}, {\"country\": \"Italy\", \"date\": \"2020-03-20\", \"days_since_10_cases\": 28, \"confirmed_cases\": 47021, \"confirmed_cases_per_million\": 781.0, \"new_cases\": 5986, \"new_deaths\": 627, \"new_recovered\": 0}, {\"country\": \"Italy\", \"date\": \"2020-03-21\", \"days_since_10_cases\": 29, \"confirmed_cases\": 53578, \"confirmed_cases_per_million\": 890.0, \"new_cases\": 6557, \"new_deaths\": 793, \"new_recovered\": 1632}, {\"country\": \"Italy\", \"date\": \"2020-03-22\", \"days_since_10_cases\": 30, \"confirmed_cases\": 59138, \"confirmed_cases_per_million\": 982.0, \"new_cases\": 5560, \"new_deaths\": 651, \"new_recovered\": 952}, {\"country\": \"Italy\", \"date\": \"2020-03-23\", \"days_since_10_cases\": 31, \"confirmed_cases\": 63927, \"confirmed_cases_per_million\": 1062.0, \"new_cases\": 4789, \"new_deaths\": 601, \"new_recovered\": 0}, {\"country\": \"Italy\", \"date\": \"2020-03-24\", \"days_since_10_cases\": 32, \"confirmed_cases\": 69176, \"confirmed_cases_per_million\": 1149.0, \"new_cases\": 5249, \"new_deaths\": 743, \"new_recovered\": 1302}, {\"country\": \"Italy\", \"date\": \"2020-03-25\", \"days_since_10_cases\": 33, \"confirmed_cases\": 74386, \"confirmed_cases_per_million\": 1236.0, \"new_cases\": 5210, \"new_deaths\": 683, \"new_recovered\": 1036}, {\"country\": \"Italy\", \"date\": \"2020-03-26\", \"days_since_10_cases\": 34, \"confirmed_cases\": 80589, \"confirmed_cases_per_million\": 1339.0, \"new_cases\": 6203, \"new_deaths\": 712, \"new_recovered\": 999}, {\"country\": \"Italy\", \"date\": \"2020-03-27\", \"days_since_10_cases\": 35, \"confirmed_cases\": 86498, \"confirmed_cases_per_million\": 1437.0, \"new_cases\": 5909, \"new_deaths\": 919, \"new_recovered\": 589}, {\"country\": \"Italy\", \"date\": \"2020-03-28\", \"days_since_10_cases\": 36, \"confirmed_cases\": 92472, \"confirmed_cases_per_million\": 1536.0, \"new_cases\": 5974, \"new_deaths\": 889, \"new_recovered\": 1434}, {\"country\": \"Italy\", \"date\": \"2020-03-29\", \"days_since_10_cases\": 37, \"confirmed_cases\": 97689, \"confirmed_cases_per_million\": 1623.0, \"new_cases\": 5217, \"new_deaths\": 756, \"new_recovered\": 646}, {\"country\": \"Italy\", \"date\": \"2020-03-30\", \"days_since_10_cases\": 38, \"confirmed_cases\": 101739, \"confirmed_cases_per_million\": 1690.0, \"new_cases\": 4050, \"new_deaths\": 812, \"new_recovered\": 1590}, {\"country\": \"Italy\", \"date\": \"2020-03-31\", \"days_since_10_cases\": 39, \"confirmed_cases\": 105792, \"confirmed_cases_per_million\": 1757.0, \"new_cases\": 4053, \"new_deaths\": 837, \"new_recovered\": 1109}, {\"country\": \"Italy\", \"date\": \"2020-04-01\", \"days_since_10_cases\": 40, \"confirmed_cases\": 110574, \"confirmed_cases_per_million\": 1837.0, \"new_cases\": 4782, \"new_deaths\": 727, \"new_recovered\": 1118}, {\"country\": \"Italy\", \"date\": \"2020-04-02\", \"days_since_10_cases\": 41, \"confirmed_cases\": 115242, \"confirmed_cases_per_million\": 1914.0, \"new_cases\": 4668, \"new_deaths\": 760, \"new_recovered\": 1431}, {\"country\": \"Italy\", \"date\": \"2020-04-03\", \"days_since_10_cases\": 42, \"confirmed_cases\": 119827, \"confirmed_cases_per_million\": 1990.0, \"new_cases\": 4585, \"new_deaths\": 766, \"new_recovered\": 1480}, {\"country\": \"Italy\", \"date\": \"2020-04-04\", \"days_since_10_cases\": 43, \"confirmed_cases\": 124632, \"confirmed_cases_per_million\": 2070.0, \"new_cases\": 4805, \"new_deaths\": 681, \"new_recovered\": 1238}, {\"country\": \"Italy\", \"date\": \"2020-04-05\", \"days_since_10_cases\": 44, \"confirmed_cases\": 128948, \"confirmed_cases_per_million\": 2142.0, \"new_cases\": 4316, \"new_deaths\": 525, \"new_recovered\": 819}, {\"country\": \"Italy\", \"date\": \"2020-04-06\", \"days_since_10_cases\": 45, \"confirmed_cases\": 132547, \"confirmed_cases_per_million\": 2202.0, \"new_cases\": 3599, \"new_deaths\": 636, \"new_recovered\": 1022}, {\"country\": \"Italy\", \"date\": \"2020-04-07\", \"days_since_10_cases\": 46, \"confirmed_cases\": 135586, \"confirmed_cases_per_million\": 2252.0, \"new_cases\": 3039, \"new_deaths\": 604, \"new_recovered\": 1555}, {\"country\": \"Italy\", \"date\": \"2020-04-08\", \"days_since_10_cases\": 47, \"confirmed_cases\": 139422, \"confirmed_cases_per_million\": 2316.0, \"new_cases\": 3836, \"new_deaths\": 542, \"new_recovered\": 2099}, {\"country\": \"Italy\", \"date\": \"2020-04-09\", \"days_since_10_cases\": 48, \"confirmed_cases\": 143626, \"confirmed_cases_per_million\": 2386.0, \"new_cases\": 4204, \"new_deaths\": 610, \"new_recovered\": 1979}, {\"country\": \"Italy\", \"date\": \"2020-04-10\", \"days_since_10_cases\": 49, \"confirmed_cases\": 147577, \"confirmed_cases_per_million\": 2451.0, \"new_cases\": 3951, \"new_deaths\": 570, \"new_recovered\": 1985}, {\"country\": \"Italy\", \"date\": \"2020-04-11\", \"days_since_10_cases\": 50, \"confirmed_cases\": 152271, \"confirmed_cases_per_million\": 2529.0, \"new_cases\": 4694, \"new_deaths\": 619, \"new_recovered\": 2079}, {\"country\": \"Italy\", \"date\": \"2020-04-12\", \"days_since_10_cases\": 51, \"confirmed_cases\": 156363, \"confirmed_cases_per_million\": 2597.0, \"new_cases\": 4092, \"new_deaths\": 431, \"new_recovered\": 1677}, {\"country\": \"Italy\", \"date\": \"2020-04-13\", \"days_since_10_cases\": 52, \"confirmed_cases\": 159516, \"confirmed_cases_per_million\": 2650.0, \"new_cases\": 3153, \"new_deaths\": 566, \"new_recovered\": 1224}, {\"country\": \"Italy\", \"date\": \"2020-04-14\", \"days_since_10_cases\": 53, \"confirmed_cases\": 162488, \"confirmed_cases_per_million\": 2699.0, \"new_cases\": 2972, \"new_deaths\": 602, \"new_recovered\": 1695}, {\"country\": \"Italy\", \"date\": \"2020-04-15\", \"days_since_10_cases\": 54, \"confirmed_cases\": 165155, \"confirmed_cases_per_million\": 2743.0, \"new_cases\": 2667, \"new_deaths\": 578, \"new_recovered\": 962}, {\"country\": \"Italy\", \"date\": \"2020-04-16\", \"days_since_10_cases\": 55, \"confirmed_cases\": 168941, \"confirmed_cases_per_million\": 2806.0, \"new_cases\": 3786, \"new_deaths\": 525, \"new_recovered\": 2072}, {\"country\": \"Italy\", \"date\": \"2020-04-17\", \"days_since_10_cases\": 56, \"confirmed_cases\": 172434, \"confirmed_cases_per_million\": 2864.0, \"new_cases\": 3493, \"new_deaths\": 575, \"new_recovered\": 2563}, {\"country\": \"Italy\", \"date\": \"2020-04-18\", \"days_since_10_cases\": 57, \"confirmed_cases\": 175925, \"confirmed_cases_per_million\": 2922.0, \"new_cases\": 3491, \"new_deaths\": 482, \"new_recovered\": 2200}, {\"country\": \"Italy\", \"date\": \"2020-04-19\", \"days_since_10_cases\": 58, \"confirmed_cases\": 178972, \"confirmed_cases_per_million\": 2973.0, \"new_cases\": 3047, \"new_deaths\": 433, \"new_recovered\": 2128}, {\"country\": \"Italy\", \"date\": \"2020-04-20\", \"days_since_10_cases\": 59, \"confirmed_cases\": 181228, \"confirmed_cases_per_million\": 3010.0, \"new_cases\": 2256, \"new_deaths\": 454, \"new_recovered\": 1822}, {\"country\": \"Italy\", \"date\": \"2020-04-21\", \"days_since_10_cases\": 60, \"confirmed_cases\": 183957, \"confirmed_cases_per_million\": 3056.0, \"new_cases\": 2729, \"new_deaths\": 534, \"new_recovered\": 2723}, {\"country\": \"Italy\", \"date\": \"2020-04-22\", \"days_since_10_cases\": 61, \"confirmed_cases\": 187327, \"confirmed_cases_per_million\": 3112.0, \"new_cases\": 3370, \"new_deaths\": 437, \"new_recovered\": 2943}, {\"country\": \"Italy\", \"date\": \"2020-04-23\", \"days_since_10_cases\": 62, \"confirmed_cases\": 189973, \"confirmed_cases_per_million\": 3156.0, \"new_cases\": 2646, \"new_deaths\": 464, \"new_recovered\": 3033}, {\"country\": \"Italy\", \"date\": \"2020-04-24\", \"days_since_10_cases\": 63, \"confirmed_cases\": 192994, \"confirmed_cases_per_million\": 3206.0, \"new_cases\": 3021, \"new_deaths\": 420, \"new_recovered\": 2922}, {\"country\": \"Italy\", \"date\": \"2020-04-25\", \"days_since_10_cases\": 64, \"confirmed_cases\": 195351, \"confirmed_cases_per_million\": 3245.0, \"new_cases\": 2357, \"new_deaths\": 415, \"new_recovered\": 2622}, {\"country\": \"Italy\", \"date\": \"2020-04-26\", \"days_since_10_cases\": 65, \"confirmed_cases\": 197675, \"confirmed_cases_per_million\": 3284.0, \"new_cases\": 2324, \"new_deaths\": 260, \"new_recovered\": 1808}, {\"country\": \"Italy\", \"date\": \"2020-04-27\", \"days_since_10_cases\": 66, \"confirmed_cases\": 199414, \"confirmed_cases_per_million\": 3313.0, \"new_cases\": 1739, \"new_deaths\": 333, \"new_recovered\": 1696}, {\"country\": \"Italy\", \"date\": \"2020-04-28\", \"days_since_10_cases\": 67, \"confirmed_cases\": 201505, \"confirmed_cases_per_million\": 3347.0, \"new_cases\": 2091, \"new_deaths\": 382, \"new_recovered\": 2317}, {\"country\": \"Italy\", \"date\": \"2020-04-29\", \"days_since_10_cases\": 68, \"confirmed_cases\": 203591, \"confirmed_cases_per_million\": 3382.0, \"new_cases\": 2086, \"new_deaths\": 323, \"new_recovered\": 2311}, {\"country\": \"Italy\", \"date\": \"2020-04-30\", \"days_since_10_cases\": 69, \"confirmed_cases\": 205463, \"confirmed_cases_per_million\": 3413.0, \"new_cases\": 1872, \"new_deaths\": 285, \"new_recovered\": 4693}, {\"country\": \"Italy\", \"date\": \"2020-05-01\", \"days_since_10_cases\": 70, \"confirmed_cases\": 207428, \"confirmed_cases_per_million\": 3446.0, \"new_cases\": 1965, \"new_deaths\": 269, \"new_recovered\": 2304}, {\"country\": \"Italy\", \"date\": \"2020-05-02\", \"days_since_10_cases\": 71, \"confirmed_cases\": 209328, \"confirmed_cases_per_million\": 3477.0, \"new_cases\": 1900, \"new_deaths\": 474, \"new_recovered\": 1665}, {\"country\": \"Italy\", \"date\": \"2020-05-03\", \"days_since_10_cases\": 72, \"confirmed_cases\": 210717, \"confirmed_cases_per_million\": 3500.0, \"new_cases\": 1389, \"new_deaths\": 174, \"new_recovered\": 1740}]}}, {\"mode\": \"vega-lite\"});\n",
       "</script>"
      ],
      "text/plain": [
       "alt.Chart(...)"
      ]
     },
     "execution_count": 86,
     "metadata": {},
     "output_type": "execute_result"
    }
   ],
   "source": [
    "#hide\n",
    "\n",
    "cases_per_million_it_plot = alt.Chart(source_it).mark_line(\n",
    "    color='blue',\n",
    "    opacity=0.5,\n",
    "    strokeDash=[4, 4],\n",
    "    strokeWidth=3,\n",
    "    point=True\n",
    ").encode(\n",
    "    x='days_since_10_cases:Q',\n",
    "#     y='confirmed_cases:Q',\n",
    "    y=alt.Y('confirmed_cases_per_million:Q', scale=alt.Scale(type='sqrt')),\n",
    "#     size='new_cases:Q',\n",
    "    tooltip=['country', 'date:T', 'confirmed_cases:Q', 'confirmed_cases_per_million:Q', 'new_cases', 'new_deaths'],\n",
    "    color=alt.Color('country', scale=alt.Scale(range=['blue'], domain=['Italy']), title=\"Country\")\n",
    ")\n",
    "\n",
    "cases_per_million_it_plot"
   ]
  },
  {
   "cell_type": "code",
   "execution_count": 87,
   "metadata": {},
   "outputs": [
    {
     "data": {
      "text/html": [
       "\n",
       "<div id=\"altair-viz-cff66575f9814f8c9b36fac90c4a918b\"></div>\n",
       "<script type=\"text/javascript\">\n",
       "  (function(spec, embedOpt){\n",
       "    const outputDiv = document.getElementById(\"altair-viz-cff66575f9814f8c9b36fac90c4a918b\");\n",
       "    const paths = {\n",
       "      \"vega\": \"https://cdn.jsdelivr.net/npm//vega@5?noext\",\n",
       "      \"vega-lib\": \"https://cdn.jsdelivr.net/npm//vega-lib?noext\",\n",
       "      \"vega-lite\": \"https://cdn.jsdelivr.net/npm//vega-lite@4.0.2?noext\",\n",
       "      \"vega-embed\": \"https://cdn.jsdelivr.net/npm//vega-embed@6?noext\",\n",
       "    };\n",
       "\n",
       "    function loadScript(lib) {\n",
       "      return new Promise(function(resolve, reject) {\n",
       "        var s = document.createElement('script');\n",
       "        s.src = paths[lib];\n",
       "        s.async = true;\n",
       "        s.onload = () => resolve(paths[lib]);\n",
       "        s.onerror = () => reject(`Error loading script: ${paths[lib]}`);\n",
       "        document.getElementsByTagName(\"head\")[0].appendChild(s);\n",
       "      });\n",
       "    }\n",
       "\n",
       "    function showError(err) {\n",
       "      outputDiv.innerHTML = `<div class=\"error\" style=\"color:red;\">${err}</div>`;\n",
       "      throw err;\n",
       "    }\n",
       "\n",
       "    function displayChart(vegaEmbed) {\n",
       "      vegaEmbed(outputDiv, spec, embedOpt)\n",
       "        .catch(err => showError(`Javascript Error: ${err.message}<br>This usually means there's a typo in your chart specification. See the javascript console for the full traceback.`));\n",
       "    }\n",
       "\n",
       "    if(typeof define === \"function\" && define.amd) {\n",
       "      requirejs.config({paths});\n",
       "      require([\"vega-embed\"], displayChart, err => showError(`Error loading script: ${err.message}`));\n",
       "    } else if (typeof vegaEmbed === \"function\") {\n",
       "      displayChart(vegaEmbed);\n",
       "    } else {\n",
       "      loadScript(\"vega\")\n",
       "        .then(() => loadScript(\"vega-lite\"))\n",
       "        .then(() => loadScript(\"vega-embed\"))\n",
       "        .catch(showError)\n",
       "        .then(() => displayChart(vegaEmbed));\n",
       "    }\n",
       "  })({\"config\": {\"view\": {\"continuousWidth\": 400, \"continuousHeight\": 300}}, \"data\": {\"name\": \"data-daf2fe332b3ad6e12c8cae97ceea7859\"}, \"mark\": {\"type\": \"line\", \"color\": \"red\", \"opacity\": 0.5, \"point\": true, \"strokeDash\": [4, 4], \"strokeWidth\": 3}, \"encoding\": {\"color\": {\"type\": \"nominal\", \"field\": \"country\", \"scale\": {\"domain\": [\"Spain\"], \"range\": [\"red\"]}, \"title\": \"\"}, \"tooltip\": [{\"type\": \"nominal\", \"field\": \"country\"}, {\"type\": \"temporal\", \"field\": \"date\"}, {\"type\": \"quantitative\", \"field\": \"confirmed_cases\"}, {\"type\": \"quantitative\", \"field\": \"confirmed_cases_per_million\"}, {\"type\": \"quantitative\", \"field\": \"new_cases\"}, {\"type\": \"quantitative\", \"field\": \"new_deaths\"}], \"x\": {\"type\": \"quantitative\", \"field\": \"days_since_10_cases\"}, \"y\": {\"type\": \"quantitative\", \"field\": \"confirmed_cases_per_million\", \"scale\": {\"type\": \"sqrt\"}}}, \"$schema\": \"https://vega.github.io/schema/vega-lite/v4.0.2.json\", \"datasets\": {\"data-daf2fe332b3ad6e12c8cae97ceea7859\": [{\"country\": \"Spain\", \"date\": \"2020-02-26\", \"days_since_10_cases\": 0, \"confirmed_cases\": 13, \"confirmed_cases_per_million\": 0.0, \"new_cases\": 0, \"new_deaths\": 0, \"new_recovered\": 0}, {\"country\": \"Spain\", \"date\": \"2020-02-27\", \"days_since_10_cases\": 1, \"confirmed_cases\": 15, \"confirmed_cases_per_million\": 0.0, \"new_cases\": 2, \"new_deaths\": 0, \"new_recovered\": 0}, {\"country\": \"Spain\", \"date\": \"2020-02-28\", \"days_since_10_cases\": 2, \"confirmed_cases\": 32, \"confirmed_cases_per_million\": 1.0, \"new_cases\": 17, \"new_deaths\": 0, \"new_recovered\": 0}, {\"country\": \"Spain\", \"date\": \"2020-02-29\", \"days_since_10_cases\": 3, \"confirmed_cases\": 45, \"confirmed_cases_per_million\": 1.0, \"new_cases\": 13, \"new_deaths\": 0, \"new_recovered\": 0}, {\"country\": \"Spain\", \"date\": \"2020-03-01\", \"days_since_10_cases\": 4, \"confirmed_cases\": 84, \"confirmed_cases_per_million\": 2.0, \"new_cases\": 39, \"new_deaths\": 0, \"new_recovered\": 0}, {\"country\": \"Spain\", \"date\": \"2020-03-02\", \"days_since_10_cases\": 5, \"confirmed_cases\": 120, \"confirmed_cases_per_million\": 3.0, \"new_cases\": 36, \"new_deaths\": 0, \"new_recovered\": 0}, {\"country\": \"Spain\", \"date\": \"2020-03-03\", \"days_since_10_cases\": 6, \"confirmed_cases\": 165, \"confirmed_cases_per_million\": 4.0, \"new_cases\": 45, \"new_deaths\": 1, \"new_recovered\": 0}, {\"country\": \"Spain\", \"date\": \"2020-03-04\", \"days_since_10_cases\": 7, \"confirmed_cases\": 222, \"confirmed_cases_per_million\": 5.0, \"new_cases\": 57, \"new_deaths\": 1, \"new_recovered\": 0}, {\"country\": \"Spain\", \"date\": \"2020-03-05\", \"days_since_10_cases\": 8, \"confirmed_cases\": 259, \"confirmed_cases_per_million\": 5.0, \"new_cases\": 37, \"new_deaths\": 1, \"new_recovered\": 0}, {\"country\": \"Spain\", \"date\": \"2020-03-06\", \"days_since_10_cases\": 9, \"confirmed_cases\": 400, \"confirmed_cases_per_million\": 8.0, \"new_cases\": 141, \"new_deaths\": 2, \"new_recovered\": 0}, {\"country\": \"Spain\", \"date\": \"2020-03-07\", \"days_since_10_cases\": 10, \"confirmed_cases\": 500, \"confirmed_cases_per_million\": 11.0, \"new_cases\": 100, \"new_deaths\": 5, \"new_recovered\": 28}, {\"country\": \"Spain\", \"date\": \"2020-03-08\", \"days_since_10_cases\": 11, \"confirmed_cases\": 673, \"confirmed_cases_per_million\": 14.0, \"new_cases\": 173, \"new_deaths\": 7, \"new_recovered\": 0}, {\"country\": \"Spain\", \"date\": \"2020-03-09\", \"days_since_10_cases\": 12, \"confirmed_cases\": 1073, \"confirmed_cases_per_million\": 23.0, \"new_cases\": 400, \"new_deaths\": 11, \"new_recovered\": 2}, {\"country\": \"Spain\", \"date\": \"2020-03-10\", \"days_since_10_cases\": 13, \"confirmed_cases\": 1695, \"confirmed_cases_per_million\": 36.0, \"new_cases\": 622, \"new_deaths\": 7, \"new_recovered\": 0}, {\"country\": \"Spain\", \"date\": \"2020-03-11\", \"days_since_10_cases\": 14, \"confirmed_cases\": 2277, \"confirmed_cases_per_million\": 48.0, \"new_cases\": 582, \"new_deaths\": 19, \"new_recovered\": 151}, {\"country\": \"Spain\", \"date\": \"2020-03-12\", \"days_since_10_cases\": 15, \"confirmed_cases\": 2277, \"confirmed_cases_per_million\": 48.0, \"new_cases\": 0, \"new_deaths\": 1, \"new_recovered\": 0}, {\"country\": \"Spain\", \"date\": \"2020-03-13\", \"days_since_10_cases\": 16, \"confirmed_cases\": 5232, \"confirmed_cases_per_million\": 111.0, \"new_cases\": 2955, \"new_deaths\": 78, \"new_recovered\": 10}, {\"country\": \"Spain\", \"date\": \"2020-03-14\", \"days_since_10_cases\": 17, \"confirmed_cases\": 6391, \"confirmed_cases_per_million\": 136.0, \"new_cases\": 1159, \"new_deaths\": 62, \"new_recovered\": 324}, {\"country\": \"Spain\", \"date\": \"2020-03-15\", \"days_since_10_cases\": 18, \"confirmed_cases\": 7798, \"confirmed_cases_per_million\": 166.0, \"new_cases\": 1407, \"new_deaths\": 94, \"new_recovered\": 0}, {\"country\": \"Spain\", \"date\": \"2020-03-16\", \"days_since_10_cases\": 19, \"confirmed_cases\": 9942, \"confirmed_cases_per_million\": 211.0, \"new_cases\": 2144, \"new_deaths\": 53, \"new_recovered\": 13}, {\"country\": \"Spain\", \"date\": \"2020-03-17\", \"days_since_10_cases\": 20, \"confirmed_cases\": 11748, \"confirmed_cases_per_million\": 249.0, \"new_cases\": 1806, \"new_deaths\": 191, \"new_recovered\": 498}, {\"country\": \"Spain\", \"date\": \"2020-03-18\", \"days_since_10_cases\": 21, \"confirmed_cases\": 13910, \"confirmed_cases_per_million\": 295.0, \"new_cases\": 2162, \"new_deaths\": 90, \"new_recovered\": 53}, {\"country\": \"Spain\", \"date\": \"2020-03-19\", \"days_since_10_cases\": 22, \"confirmed_cases\": 17963, \"confirmed_cases_per_million\": 381.0, \"new_cases\": 4053, \"new_deaths\": 207, \"new_recovered\": 26}, {\"country\": \"Spain\", \"date\": \"2020-03-20\", \"days_since_10_cases\": 23, \"confirmed_cases\": 20410, \"confirmed_cases_per_million\": 433.0, \"new_cases\": 2447, \"new_deaths\": 213, \"new_recovered\": 481}, {\"country\": \"Spain\", \"date\": \"2020-03-21\", \"days_since_10_cases\": 24, \"confirmed_cases\": 25374, \"confirmed_cases_per_million\": 539.0, \"new_cases\": 4964, \"new_deaths\": 332, \"new_recovered\": 537}, {\"country\": \"Spain\", \"date\": \"2020-03-22\", \"days_since_10_cases\": 25, \"confirmed_cases\": 28768, \"confirmed_cases_per_million\": 611.0, \"new_cases\": 3394, \"new_deaths\": 397, \"new_recovered\": 450}, {\"country\": \"Spain\", \"date\": \"2020-03-23\", \"days_since_10_cases\": 26, \"confirmed_cases\": 35136, \"confirmed_cases_per_million\": 746.0, \"new_cases\": 6368, \"new_deaths\": 539, \"new_recovered\": 0}, {\"country\": \"Spain\", \"date\": \"2020-03-24\", \"days_since_10_cases\": 27, \"confirmed_cases\": 39885, \"confirmed_cases_per_million\": 847.0, \"new_cases\": 4749, \"new_deaths\": 497, \"new_recovered\": 1219}, {\"country\": \"Spain\", \"date\": \"2020-03-25\", \"days_since_10_cases\": 28, \"confirmed_cases\": 49515, \"confirmed_cases_per_million\": 1051.0, \"new_cases\": 9630, \"new_deaths\": 839, \"new_recovered\": 1573}, {\"country\": \"Spain\", \"date\": \"2020-03-26\", \"days_since_10_cases\": 29, \"confirmed_cases\": 57786, \"confirmed_cases_per_million\": 1227.0, \"new_cases\": 8271, \"new_deaths\": 718, \"new_recovered\": 1648}, {\"country\": \"Spain\", \"date\": \"2020-03-27\", \"days_since_10_cases\": 30, \"confirmed_cases\": 65719, \"confirmed_cases_per_million\": 1395.0, \"new_cases\": 7933, \"new_deaths\": 773, \"new_recovered\": 2342}, {\"country\": \"Spain\", \"date\": \"2020-03-28\", \"days_since_10_cases\": 31, \"confirmed_cases\": 73235, \"confirmed_cases_per_million\": 1555.0, \"new_cases\": 7516, \"new_deaths\": 844, \"new_recovered\": 2928}, {\"country\": \"Spain\", \"date\": \"2020-03-29\", \"days_since_10_cases\": 32, \"confirmed_cases\": 80110, \"confirmed_cases_per_million\": 1701.0, \"new_cases\": 6875, \"new_deaths\": 821, \"new_recovered\": 2424}, {\"country\": \"Spain\", \"date\": \"2020-03-30\", \"days_since_10_cases\": 33, \"confirmed_cases\": 87956, \"confirmed_cases_per_million\": 1867.0, \"new_cases\": 7846, \"new_deaths\": 913, \"new_recovered\": 2071}, {\"country\": \"Spain\", \"date\": \"2020-03-31\", \"days_since_10_cases\": 34, \"confirmed_cases\": 95923, \"confirmed_cases_per_million\": 2037.0, \"new_cases\": 7967, \"new_deaths\": 748, \"new_recovered\": 2479}, {\"country\": \"Spain\", \"date\": \"2020-04-01\", \"days_since_10_cases\": 35, \"confirmed_cases\": 104118, \"confirmed_cases_per_million\": 2211.0, \"new_cases\": 8195, \"new_deaths\": 923, \"new_recovered\": 3388}, {\"country\": \"Spain\", \"date\": \"2020-04-02\", \"days_since_10_cases\": 36, \"confirmed_cases\": 112065, \"confirmed_cases_per_million\": 2379.0, \"new_cases\": 7947, \"new_deaths\": 961, \"new_recovered\": 4096}, {\"country\": \"Spain\", \"date\": \"2020-04-03\", \"days_since_10_cases\": 37, \"confirmed_cases\": 119199, \"confirmed_cases_per_million\": 2531.0, \"new_cases\": 7134, \"new_deaths\": 850, \"new_recovered\": 3770}, {\"country\": \"Spain\", \"date\": \"2020-04-04\", \"days_since_10_cases\": 38, \"confirmed_cases\": 126168, \"confirmed_cases_per_million\": 2679.0, \"new_cases\": 6969, \"new_deaths\": 749, \"new_recovered\": 3706}, {\"country\": \"Spain\", \"date\": \"2020-04-05\", \"days_since_10_cases\": 39, \"confirmed_cases\": 131646, \"confirmed_cases_per_million\": 2795.0, \"new_cases\": 5478, \"new_deaths\": 694, \"new_recovered\": 3861}, {\"country\": \"Spain\", \"date\": \"2020-04-06\", \"days_since_10_cases\": 40, \"confirmed_cases\": 136675, \"confirmed_cases_per_million\": 2902.0, \"new_cases\": 5029, \"new_deaths\": 700, \"new_recovered\": 2357}, {\"country\": \"Spain\", \"date\": \"2020-04-07\", \"days_since_10_cases\": 41, \"confirmed_cases\": 141942, \"confirmed_cases_per_million\": 3014.0, \"new_cases\": 5267, \"new_deaths\": 704, \"new_recovered\": 2771}, {\"country\": \"Spain\", \"date\": \"2020-04-08\", \"days_since_10_cases\": 42, \"confirmed_cases\": 148220, \"confirmed_cases_per_million\": 3147.0, \"new_cases\": 6278, \"new_deaths\": 747, \"new_recovered\": 4813}, {\"country\": \"Spain\", \"date\": \"2020-04-09\", \"days_since_10_cases\": 43, \"confirmed_cases\": 153222, \"confirmed_cases_per_million\": 3253.0, \"new_cases\": 5002, \"new_deaths\": 655, \"new_recovered\": 4144}, {\"country\": \"Spain\", \"date\": \"2020-04-10\", \"days_since_10_cases\": 44, \"confirmed_cases\": 158273, \"confirmed_cases_per_million\": 3360.0, \"new_cases\": 5051, \"new_deaths\": 634, \"new_recovered\": 3503}, {\"country\": \"Spain\", \"date\": \"2020-04-11\", \"days_since_10_cases\": 45, \"confirmed_cases\": 163027, \"confirmed_cases_per_million\": 3461.0, \"new_cases\": 4754, \"new_deaths\": 525, \"new_recovered\": 3441}, {\"country\": \"Spain\", \"date\": \"2020-04-12\", \"days_since_10_cases\": 46, \"confirmed_cases\": 166831, \"confirmed_cases_per_million\": 3542.0, \"new_cases\": 3804, \"new_deaths\": 603, \"new_recovered\": 3282}, {\"country\": \"Spain\", \"date\": \"2020-04-13\", \"days_since_10_cases\": 47, \"confirmed_cases\": 170099, \"confirmed_cases_per_million\": 3611.0, \"new_cases\": 3268, \"new_deaths\": 547, \"new_recovered\": 2336}, {\"country\": \"Spain\", \"date\": \"2020-04-14\", \"days_since_10_cases\": 48, \"confirmed_cases\": 172541, \"confirmed_cases_per_million\": 3663.0, \"new_cases\": 2442, \"new_deaths\": 300, \"new_recovered\": 2777}, {\"country\": \"Spain\", \"date\": \"2020-04-15\", \"days_since_10_cases\": 49, \"confirmed_cases\": 177644, \"confirmed_cases_per_million\": 3772.0, \"new_cases\": 5103, \"new_deaths\": 652, \"new_recovered\": 3349}, {\"country\": \"Spain\", \"date\": \"2020-04-16\", \"days_since_10_cases\": 50, \"confirmed_cases\": 184948, \"confirmed_cases_per_million\": 3927.0, \"new_cases\": 7304, \"new_deaths\": 607, \"new_recovered\": 3944}, {\"country\": \"Spain\", \"date\": \"2020-04-17\", \"days_since_10_cases\": 51, \"confirmed_cases\": 190839, \"confirmed_cases_per_million\": 4052.0, \"new_cases\": 5891, \"new_deaths\": 687, \"new_recovered\": 0}, {\"country\": \"Spain\", \"date\": \"2020-04-18\", \"days_since_10_cases\": 52, \"confirmed_cases\": 191726, \"confirmed_cases_per_million\": 4071.0, \"new_cases\": 887, \"new_deaths\": 41, \"new_recovered\": 0}, {\"country\": \"Spain\", \"date\": \"2020-04-19\", \"days_since_10_cases\": 53, \"confirmed_cases\": 198674, \"confirmed_cases_per_million\": 4218.0, \"new_cases\": 6948, \"new_deaths\": 410, \"new_recovered\": 2560}, {\"country\": \"Spain\", \"date\": \"2020-04-20\", \"days_since_10_cases\": 54, \"confirmed_cases\": 200210, \"confirmed_cases_per_million\": 4251.0, \"new_cases\": 1536, \"new_deaths\": 399, \"new_recovered\": 3230}, {\"country\": \"Spain\", \"date\": \"2020-04-21\", \"days_since_10_cases\": 55, \"confirmed_cases\": 204178, \"confirmed_cases_per_million\": 4335.0, \"new_cases\": 3968, \"new_deaths\": 430, \"new_recovered\": 1927}, {\"country\": \"Spain\", \"date\": \"2020-04-22\", \"days_since_10_cases\": 56, \"confirmed_cases\": 208389, \"confirmed_cases_per_million\": 4424.0, \"new_cases\": 4211, \"new_deaths\": 435, \"new_recovered\": 3401}, {\"country\": \"Spain\", \"date\": \"2020-04-23\", \"days_since_10_cases\": 57, \"confirmed_cases\": 213024, \"confirmed_cases_per_million\": 4523.0, \"new_cases\": 4635, \"new_deaths\": 440, \"new_recovered\": 3335}, {\"country\": \"Spain\", \"date\": \"2020-04-24\", \"days_since_10_cases\": 58, \"confirmed_cases\": 202990, \"confirmed_cases_per_million\": 4310.0, \"new_cases\": -10034, \"new_deaths\": 367, \"new_recovered\": 3105}, {\"country\": \"Spain\", \"date\": \"2020-04-25\", \"days_since_10_cases\": 59, \"confirmed_cases\": 205905, \"confirmed_cases_per_million\": 4372.0, \"new_cases\": 2915, \"new_deaths\": 378, \"new_recovered\": 3353}, {\"country\": \"Spain\", \"date\": \"2020-04-26\", \"days_since_10_cases\": 60, \"confirmed_cases\": 207634, \"confirmed_cases_per_million\": 4408.0, \"new_cases\": 1729, \"new_deaths\": 288, \"new_recovered\": 2664}, {\"country\": \"Spain\", \"date\": \"2020-04-27\", \"days_since_10_cases\": 61, \"confirmed_cases\": 209465, \"confirmed_cases_per_million\": 4447.0, \"new_cases\": 1831, \"new_deaths\": 331, \"new_recovered\": 2503}, {\"country\": \"Spain\", \"date\": \"2020-04-28\", \"days_since_10_cases\": 62, \"confirmed_cases\": 210773, \"confirmed_cases_per_million\": 4475.0, \"new_cases\": 1308, \"new_deaths\": 301, \"new_recovered\": 1673}, {\"country\": \"Spain\", \"date\": \"2020-04-29\", \"days_since_10_cases\": 63, \"confirmed_cases\": 212917, \"confirmed_cases_per_million\": 4521.0, \"new_cases\": 2144, \"new_deaths\": 453, \"new_recovered\": 6399}, {\"country\": \"Spain\", \"date\": \"2020-04-30\", \"days_since_10_cases\": 64, \"confirmed_cases\": 213435, \"confirmed_cases_per_million\": 4532.0, \"new_cases\": 518, \"new_deaths\": 268, \"new_recovered\": 3103}, {\"country\": \"Spain\", \"date\": \"2020-05-01\", \"days_since_10_cases\": 65, \"confirmed_cases\": 213435, \"confirmed_cases_per_million\": 4532.0, \"new_cases\": 0, \"new_deaths\": 0, \"new_recovered\": 0}, {\"country\": \"Spain\", \"date\": \"2020-05-02\", \"days_since_10_cases\": 66, \"confirmed_cases\": 216582, \"confirmed_cases_per_million\": 4598.0, \"new_cases\": 3147, \"new_deaths\": 557, \"new_recovered\": 5198}, {\"country\": \"Spain\", \"date\": \"2020-05-03\", \"days_since_10_cases\": 67, \"confirmed_cases\": 217466, \"confirmed_cases_per_million\": 4617.0, \"new_cases\": 884, \"new_deaths\": 164, \"new_recovered\": 1654}]}}, {\"mode\": \"vega-lite\"});\n",
       "</script>"
      ],
      "text/plain": [
       "alt.Chart(...)"
      ]
     },
     "execution_count": 87,
     "metadata": {},
     "output_type": "execute_result"
    }
   ],
   "source": [
    "#hide\n",
    "\n",
    "cases_per_million_es_plot = alt.Chart(source_es).mark_line(\n",
    "    color='red',\n",
    "    opacity=0.5,\n",
    "    strokeDash=[4,4],\n",
    "    strokeWidth=3,\n",
    "    point=True\n",
    ").encode(\n",
    "    x='days_since_10_cases:Q',\n",
    "#     y='confirmed_cases:Q',\n",
    "    y=alt.Y('confirmed_cases_per_million:Q', scale=alt.Scale(type='sqrt')),\n",
    "#     size='new_cases:Q',\n",
    "    tooltip=['country', 'date:T', 'confirmed_cases:Q', 'confirmed_cases_per_million:Q', 'new_cases', 'new_deaths'],\n",
    "    color=alt.Color('country', scale=alt.Scale(range=['red'], domain=['Spain']), title=\"\")\n",
    ")\n",
    "\n",
    "cases_per_million_es_plot"
   ]
  },
  {
   "cell_type": "code",
   "execution_count": 88,
   "metadata": {},
   "outputs": [
    {
     "data": {
      "text/html": [
       "\n",
       "<div id=\"altair-viz-82a75c10699c4ccfbf4fd09e08dd50a7\"></div>\n",
       "<script type=\"text/javascript\">\n",
       "  (function(spec, embedOpt){\n",
       "    const outputDiv = document.getElementById(\"altair-viz-82a75c10699c4ccfbf4fd09e08dd50a7\");\n",
       "    const paths = {\n",
       "      \"vega\": \"https://cdn.jsdelivr.net/npm//vega@5?noext\",\n",
       "      \"vega-lib\": \"https://cdn.jsdelivr.net/npm//vega-lib?noext\",\n",
       "      \"vega-lite\": \"https://cdn.jsdelivr.net/npm//vega-lite@4.0.2?noext\",\n",
       "      \"vega-embed\": \"https://cdn.jsdelivr.net/npm//vega-embed@6?noext\",\n",
       "    };\n",
       "\n",
       "    function loadScript(lib) {\n",
       "      return new Promise(function(resolve, reject) {\n",
       "        var s = document.createElement('script');\n",
       "        s.src = paths[lib];\n",
       "        s.async = true;\n",
       "        s.onload = () => resolve(paths[lib]);\n",
       "        s.onerror = () => reject(`Error loading script: ${paths[lib]}`);\n",
       "        document.getElementsByTagName(\"head\")[0].appendChild(s);\n",
       "      });\n",
       "    }\n",
       "\n",
       "    function showError(err) {\n",
       "      outputDiv.innerHTML = `<div class=\"error\" style=\"color:red;\">${err}</div>`;\n",
       "      throw err;\n",
       "    }\n",
       "\n",
       "    function displayChart(vegaEmbed) {\n",
       "      vegaEmbed(outputDiv, spec, embedOpt)\n",
       "        .catch(err => showError(`Javascript Error: ${err.message}<br>This usually means there's a typo in your chart specification. See the javascript console for the full traceback.`));\n",
       "    }\n",
       "\n",
       "    if(typeof define === \"function\" && define.amd) {\n",
       "      requirejs.config({paths});\n",
       "      require([\"vega-embed\"], displayChart, err => showError(`Error loading script: ${err.message}`));\n",
       "    } else if (typeof vegaEmbed === \"function\") {\n",
       "      displayChart(vegaEmbed);\n",
       "    } else {\n",
       "      loadScript(\"vega\")\n",
       "        .then(() => loadScript(\"vega-lite\"))\n",
       "        .then(() => loadScript(\"vega-embed\"))\n",
       "        .catch(showError)\n",
       "        .then(() => displayChart(vegaEmbed));\n",
       "    }\n",
       "  })({\"config\": {\"view\": {\"continuousWidth\": 400, \"continuousHeight\": 300}}, \"layer\": [{\"data\": {\"name\": \"data-51484490e82d8d99c47779b551f58f51\"}, \"mark\": {\"type\": \"circle\", \"color\": \"green\", \"opacity\": 0.7}, \"encoding\": {\"size\": {\"type\": \"quantitative\", \"field\": \"new_cases\", \"title\": \"Number of new cases in Ireland\"}, \"tooltip\": [{\"type\": \"nominal\", \"field\": \"country\"}, {\"type\": \"temporal\", \"field\": \"date\"}, {\"type\": \"quantitative\", \"field\": \"confirmed_cases\"}, {\"type\": \"quantitative\", \"field\": \"confirmed_cases_per_million\"}, {\"type\": \"quantitative\", \"field\": \"new_cases\"}, {\"type\": \"quantitative\", \"field\": \"new_deaths\"}], \"x\": {\"type\": \"quantitative\", \"field\": \"days_since_10_cases\"}, \"y\": {\"type\": \"quantitative\", \"field\": \"confirmed_cases_per_million\", \"scale\": {\"type\": \"sqrt\"}}}}, {\"data\": {\"name\": \"data-2c457a4d3401c9c6ef9b5db568ad130b\"}, \"mark\": {\"type\": \"line\", \"color\": \"blue\", \"opacity\": 0.5, \"point\": true, \"strokeDash\": [4, 4], \"strokeWidth\": 3}, \"encoding\": {\"color\": {\"type\": \"nominal\", \"field\": \"country\", \"scale\": {\"domain\": [\"Italy\"], \"range\": [\"blue\"]}, \"title\": \"Country\"}, \"tooltip\": [{\"type\": \"nominal\", \"field\": \"country\"}, {\"type\": \"temporal\", \"field\": \"date\"}, {\"type\": \"quantitative\", \"field\": \"confirmed_cases\"}, {\"type\": \"quantitative\", \"field\": \"confirmed_cases_per_million\"}, {\"type\": \"quantitative\", \"field\": \"new_cases\"}, {\"type\": \"quantitative\", \"field\": \"new_deaths\"}], \"x\": {\"type\": \"quantitative\", \"field\": \"days_since_10_cases\"}, \"y\": {\"type\": \"quantitative\", \"field\": \"confirmed_cases_per_million\", \"scale\": {\"type\": \"sqrt\"}}}}, {\"data\": {\"name\": \"data-daf2fe332b3ad6e12c8cae97ceea7859\"}, \"mark\": {\"type\": \"line\", \"color\": \"red\", \"opacity\": 0.5, \"point\": true, \"strokeDash\": [4, 4], \"strokeWidth\": 3}, \"encoding\": {\"color\": {\"type\": \"nominal\", \"field\": \"country\", \"scale\": {\"domain\": [\"Spain\"], \"range\": [\"red\"]}, \"title\": \"\"}, \"tooltip\": [{\"type\": \"nominal\", \"field\": \"country\"}, {\"type\": \"temporal\", \"field\": \"date\"}, {\"type\": \"quantitative\", \"field\": \"confirmed_cases\"}, {\"type\": \"quantitative\", \"field\": \"confirmed_cases_per_million\"}, {\"type\": \"quantitative\", \"field\": \"new_cases\"}, {\"type\": \"quantitative\", \"field\": \"new_deaths\"}], \"x\": {\"type\": \"quantitative\", \"field\": \"days_since_10_cases\"}, \"y\": {\"type\": \"quantitative\", \"field\": \"confirmed_cases_per_million\", \"scale\": {\"type\": \"sqrt\"}}}}], \"height\": 600, \"resolve\": {\"scale\": {\"color\": \"independent\", \"shape\": \"independent\"}}, \"width\": 800, \"$schema\": \"https://vega.github.io/schema/vega-lite/v4.0.2.json\", \"datasets\": {\"data-51484490e82d8d99c47779b551f58f51\": [{\"country\": \"Ireland\", \"date\": \"2020-03-06\", \"days_since_10_cases\": 0, \"confirmed_cases\": 18, \"confirmed_cases_per_million\": 4.0, \"new_cases\": 0, \"new_deaths\": 0, \"new_recovered\": 0}, {\"country\": \"Ireland\", \"date\": \"2020-03-07\", \"days_since_10_cases\": 1, \"confirmed_cases\": 18, \"confirmed_cases_per_million\": 4.0, \"new_cases\": 0, \"new_deaths\": 0, \"new_recovered\": 0}, {\"country\": \"Ireland\", \"date\": \"2020-03-08\", \"days_since_10_cases\": 2, \"confirmed_cases\": 19, \"confirmed_cases_per_million\": 4.0, \"new_cases\": 1, \"new_deaths\": 0, \"new_recovered\": 0}, {\"country\": \"Ireland\", \"date\": \"2020-03-09\", \"days_since_10_cases\": 3, \"confirmed_cases\": 21, \"confirmed_cases_per_million\": 4.0, \"new_cases\": 2, \"new_deaths\": 0, \"new_recovered\": 0}, {\"country\": \"Ireland\", \"date\": \"2020-03-10\", \"days_since_10_cases\": 4, \"confirmed_cases\": 34, \"confirmed_cases_per_million\": 7.0, \"new_cases\": 13, \"new_deaths\": 0, \"new_recovered\": 0}, {\"country\": \"Ireland\", \"date\": \"2020-03-11\", \"days_since_10_cases\": 5, \"confirmed_cases\": 43, \"confirmed_cases_per_million\": 9.0, \"new_cases\": 9, \"new_deaths\": 1, \"new_recovered\": 0}, {\"country\": \"Ireland\", \"date\": \"2020-03-12\", \"days_since_10_cases\": 6, \"confirmed_cases\": 43, \"confirmed_cases_per_million\": 9.0, \"new_cases\": 0, \"new_deaths\": 0, \"new_recovered\": 0}, {\"country\": \"Ireland\", \"date\": \"2020-03-13\", \"days_since_10_cases\": 7, \"confirmed_cases\": 90, \"confirmed_cases_per_million\": 18.0, \"new_cases\": 47, \"new_deaths\": 0, \"new_recovered\": 0}, {\"country\": \"Ireland\", \"date\": \"2020-03-14\", \"days_since_10_cases\": 8, \"confirmed_cases\": 129, \"confirmed_cases_per_million\": 26.0, \"new_cases\": 39, \"new_deaths\": 1, \"new_recovered\": 0}, {\"country\": \"Ireland\", \"date\": \"2020-03-15\", \"days_since_10_cases\": 9, \"confirmed_cases\": 129, \"confirmed_cases_per_million\": 26.0, \"new_cases\": 0, \"new_deaths\": 0, \"new_recovered\": 0}, {\"country\": \"Ireland\", \"date\": \"2020-03-16\", \"days_since_10_cases\": 10, \"confirmed_cases\": 169, \"confirmed_cases_per_million\": 34.0, \"new_cases\": 40, \"new_deaths\": 0, \"new_recovered\": 0}, {\"country\": \"Ireland\", \"date\": \"2020-03-17\", \"days_since_10_cases\": 11, \"confirmed_cases\": 223, \"confirmed_cases_per_million\": 46.0, \"new_cases\": 54, \"new_deaths\": 0, \"new_recovered\": 5}, {\"country\": \"Ireland\", \"date\": \"2020-03-18\", \"days_since_10_cases\": 12, \"confirmed_cases\": 292, \"confirmed_cases_per_million\": 60.0, \"new_cases\": 69, \"new_deaths\": 0, \"new_recovered\": 0}, {\"country\": \"Ireland\", \"date\": \"2020-03-19\", \"days_since_10_cases\": 13, \"confirmed_cases\": 557, \"confirmed_cases_per_million\": 114.0, \"new_cases\": 265, \"new_deaths\": 1, \"new_recovered\": 0}, {\"country\": \"Ireland\", \"date\": \"2020-03-20\", \"days_since_10_cases\": 14, \"confirmed_cases\": 683, \"confirmed_cases_per_million\": 139.0, \"new_cases\": 126, \"new_deaths\": 0, \"new_recovered\": 0}, {\"country\": \"Ireland\", \"date\": \"2020-03-21\", \"days_since_10_cases\": 15, \"confirmed_cases\": 785, \"confirmed_cases_per_million\": 160.0, \"new_cases\": 102, \"new_deaths\": 0, \"new_recovered\": 0}, {\"country\": \"Ireland\", \"date\": \"2020-03-22\", \"days_since_10_cases\": 16, \"confirmed_cases\": 906, \"confirmed_cases_per_million\": 185.0, \"new_cases\": 121, \"new_deaths\": 1, \"new_recovered\": 0}, {\"country\": \"Ireland\", \"date\": \"2020-03-23\", \"days_since_10_cases\": 17, \"confirmed_cases\": 1125, \"confirmed_cases_per_million\": 230.0, \"new_cases\": 219, \"new_deaths\": 2, \"new_recovered\": 0}, {\"country\": \"Ireland\", \"date\": \"2020-03-24\", \"days_since_10_cases\": 18, \"confirmed_cases\": 1329, \"confirmed_cases_per_million\": 271.0, \"new_cases\": 204, \"new_deaths\": 1, \"new_recovered\": 0}, {\"country\": \"Ireland\", \"date\": \"2020-03-25\", \"days_since_10_cases\": 19, \"confirmed_cases\": 1564, \"confirmed_cases_per_million\": 319.0, \"new_cases\": 235, \"new_deaths\": 2, \"new_recovered\": 0}, {\"country\": \"Ireland\", \"date\": \"2020-03-26\", \"days_since_10_cases\": 20, \"confirmed_cases\": 1819, \"confirmed_cases_per_million\": 371.0, \"new_cases\": 255, \"new_deaths\": 10, \"new_recovered\": 0}, {\"country\": \"Ireland\", \"date\": \"2020-03-27\", \"days_since_10_cases\": 21, \"confirmed_cases\": 2121, \"confirmed_cases_per_million\": 433.0, \"new_cases\": 302, \"new_deaths\": 3, \"new_recovered\": 0}, {\"country\": \"Ireland\", \"date\": \"2020-03-28\", \"days_since_10_cases\": 22, \"confirmed_cases\": 2415, \"confirmed_cases_per_million\": 493.0, \"new_cases\": 294, \"new_deaths\": 14, \"new_recovered\": 0}, {\"country\": \"Ireland\", \"date\": \"2020-03-29\", \"days_since_10_cases\": 23, \"confirmed_cases\": 2615, \"confirmed_cases_per_million\": 534.0, \"new_cases\": 200, \"new_deaths\": 10, \"new_recovered\": 0}, {\"country\": \"Ireland\", \"date\": \"2020-03-30\", \"days_since_10_cases\": 24, \"confirmed_cases\": 2910, \"confirmed_cases_per_million\": 594.0, \"new_cases\": 295, \"new_deaths\": 8, \"new_recovered\": 0}, {\"country\": \"Ireland\", \"date\": \"2020-03-31\", \"days_since_10_cases\": 25, \"confirmed_cases\": 3235, \"confirmed_cases_per_million\": 660.0, \"new_cases\": 325, \"new_deaths\": 17, \"new_recovered\": 0}, {\"country\": \"Ireland\", \"date\": \"2020-04-01\", \"days_since_10_cases\": 26, \"confirmed_cases\": 3447, \"confirmed_cases_per_million\": 703.0, \"new_cases\": 212, \"new_deaths\": 14, \"new_recovered\": 0}, {\"country\": \"Ireland\", \"date\": \"2020-04-02\", \"days_since_10_cases\": 27, \"confirmed_cases\": 3849, \"confirmed_cases_per_million\": 786.0, \"new_cases\": 402, \"new_deaths\": 13, \"new_recovered\": 0}, {\"country\": \"Ireland\", \"date\": \"2020-04-03\", \"days_since_10_cases\": 28, \"confirmed_cases\": 4273, \"confirmed_cases_per_million\": 872.0, \"new_cases\": 424, \"new_deaths\": 22, \"new_recovered\": 0}, {\"country\": \"Ireland\", \"date\": \"2020-04-04\", \"days_since_10_cases\": 29, \"confirmed_cases\": 4604, \"confirmed_cases_per_million\": 940.0, \"new_cases\": 331, \"new_deaths\": 17, \"new_recovered\": 20}, {\"country\": \"Ireland\", \"date\": \"2020-04-05\", \"days_since_10_cases\": 30, \"confirmed_cases\": 4994, \"confirmed_cases_per_million\": 1019.0, \"new_cases\": 390, \"new_deaths\": 21, \"new_recovered\": 0}, {\"country\": \"Ireland\", \"date\": \"2020-04-06\", \"days_since_10_cases\": 31, \"confirmed_cases\": 5364, \"confirmed_cases_per_million\": 1095.0, \"new_cases\": 370, \"new_deaths\": 16, \"new_recovered\": 0}, {\"country\": \"Ireland\", \"date\": \"2020-04-07\", \"days_since_10_cases\": 32, \"confirmed_cases\": 5709, \"confirmed_cases_per_million\": 1165.0, \"new_cases\": 345, \"new_deaths\": 36, \"new_recovered\": 0}, {\"country\": \"Ireland\", \"date\": \"2020-04-08\", \"days_since_10_cases\": 33, \"confirmed_cases\": 6074, \"confirmed_cases_per_million\": 1240.0, \"new_cases\": 365, \"new_deaths\": 25, \"new_recovered\": 0}, {\"country\": \"Ireland\", \"date\": \"2020-04-09\", \"days_since_10_cases\": 34, \"confirmed_cases\": 6574, \"confirmed_cases_per_million\": 1342.0, \"new_cases\": 500, \"new_deaths\": 28, \"new_recovered\": 0}, {\"country\": \"Ireland\", \"date\": \"2020-04-10\", \"days_since_10_cases\": 35, \"confirmed_cases\": 8089, \"confirmed_cases_per_million\": 1651.0, \"new_cases\": 1515, \"new_deaths\": 24, \"new_recovered\": 0}, {\"country\": \"Ireland\", \"date\": \"2020-04-11\", \"days_since_10_cases\": 36, \"confirmed_cases\": 8928, \"confirmed_cases_per_million\": 1822.0, \"new_cases\": 839, \"new_deaths\": 33, \"new_recovered\": 0}, {\"country\": \"Ireland\", \"date\": \"2020-04-12\", \"days_since_10_cases\": 37, \"confirmed_cases\": 9655, \"confirmed_cases_per_million\": 1970.0, \"new_cases\": 727, \"new_deaths\": 14, \"new_recovered\": 0}, {\"country\": \"Ireland\", \"date\": \"2020-04-13\", \"days_since_10_cases\": 38, \"confirmed_cases\": 10647, \"confirmed_cases_per_million\": 2173.0, \"new_cases\": 992, \"new_deaths\": 31, \"new_recovered\": 0}, {\"country\": \"Ireland\", \"date\": \"2020-04-14\", \"days_since_10_cases\": 39, \"confirmed_cases\": 11479, \"confirmed_cases_per_million\": 2343.0, \"new_cases\": 832, \"new_deaths\": 41, \"new_recovered\": 0}, {\"country\": \"Ireland\", \"date\": \"2020-04-15\", \"days_since_10_cases\": 40, \"confirmed_cases\": 12547, \"confirmed_cases_per_million\": 2561.0, \"new_cases\": 1068, \"new_deaths\": 38, \"new_recovered\": 52}, {\"country\": \"Ireland\", \"date\": \"2020-04-16\", \"days_since_10_cases\": 41, \"confirmed_cases\": 13271, \"confirmed_cases_per_million\": 2708.0, \"new_cases\": 724, \"new_deaths\": 42, \"new_recovered\": 0}, {\"country\": \"Ireland\", \"date\": \"2020-04-17\", \"days_since_10_cases\": 42, \"confirmed_cases\": 13980, \"confirmed_cases_per_million\": 2853.0, \"new_cases\": 709, \"new_deaths\": 44, \"new_recovered\": 0}, {\"country\": \"Ireland\", \"date\": \"2020-04-18\", \"days_since_10_cases\": 43, \"confirmed_cases\": 14758, \"confirmed_cases_per_million\": 3012.0, \"new_cases\": 778, \"new_deaths\": 41, \"new_recovered\": 0}, {\"country\": \"Ireland\", \"date\": \"2020-04-19\", \"days_since_10_cases\": 44, \"confirmed_cases\": 15251, \"confirmed_cases_per_million\": 3112.0, \"new_cases\": 493, \"new_deaths\": 39, \"new_recovered\": 0}, {\"country\": \"Ireland\", \"date\": \"2020-04-20\", \"days_since_10_cases\": 45, \"confirmed_cases\": 15652, \"confirmed_cases_per_million\": 3194.0, \"new_cases\": 401, \"new_deaths\": 77, \"new_recovered\": 0}, {\"country\": \"Ireland\", \"date\": \"2020-04-21\", \"days_since_10_cases\": 46, \"confirmed_cases\": 16040, \"confirmed_cases_per_million\": 3273.0, \"new_cases\": 388, \"new_deaths\": 43, \"new_recovered\": 9156}, {\"country\": \"Ireland\", \"date\": \"2020-04-22\", \"days_since_10_cases\": 47, \"confirmed_cases\": 16671, \"confirmed_cases_per_million\": 3402.0, \"new_cases\": 631, \"new_deaths\": 39, \"new_recovered\": 0}, {\"country\": \"Ireland\", \"date\": \"2020-04-23\", \"days_since_10_cases\": 48, \"confirmed_cases\": 17607, \"confirmed_cases_per_million\": 3593.0, \"new_cases\": 936, \"new_deaths\": 25, \"new_recovered\": 0}, {\"country\": \"Ireland\", \"date\": \"2020-04-24\", \"days_since_10_cases\": 49, \"confirmed_cases\": 18184, \"confirmed_cases_per_million\": 3711.0, \"new_cases\": 577, \"new_deaths\": 220, \"new_recovered\": 0}, {\"country\": \"Ireland\", \"date\": \"2020-04-25\", \"days_since_10_cases\": 50, \"confirmed_cases\": 18561, \"confirmed_cases_per_million\": 3788.0, \"new_cases\": 377, \"new_deaths\": 49, \"new_recovered\": 0}, {\"country\": \"Ireland\", \"date\": \"2020-04-26\", \"days_since_10_cases\": 51, \"confirmed_cases\": 19262, \"confirmed_cases_per_million\": 3931.0, \"new_cases\": 701, \"new_deaths\": 24, \"new_recovered\": 0}, {\"country\": \"Ireland\", \"date\": \"2020-04-27\", \"days_since_10_cases\": 52, \"confirmed_cases\": 19648, \"confirmed_cases_per_million\": 4010.0, \"new_cases\": 386, \"new_deaths\": 15, \"new_recovered\": 0}, {\"country\": \"Ireland\", \"date\": \"2020-04-28\", \"days_since_10_cases\": 53, \"confirmed_cases\": 19877, \"confirmed_cases_per_million\": 4057.0, \"new_cases\": 229, \"new_deaths\": 57, \"new_recovered\": 0}, {\"country\": \"Ireland\", \"date\": \"2020-04-29\", \"days_since_10_cases\": 54, \"confirmed_cases\": 20253, \"confirmed_cases_per_million\": 4133.0, \"new_cases\": 376, \"new_deaths\": 31, \"new_recovered\": 4153}, {\"country\": \"Ireland\", \"date\": \"2020-04-30\", \"days_since_10_cases\": 55, \"confirmed_cases\": 20612, \"confirmed_cases_per_million\": 4207.0, \"new_cases\": 359, \"new_deaths\": 42, \"new_recovered\": 0}, {\"country\": \"Ireland\", \"date\": \"2020-05-01\", \"days_since_10_cases\": 56, \"confirmed_cases\": 20833, \"confirmed_cases_per_million\": 4252.0, \"new_cases\": 221, \"new_deaths\": 33, \"new_recovered\": 0}, {\"country\": \"Ireland\", \"date\": \"2020-05-02\", \"days_since_10_cases\": 57, \"confirmed_cases\": 21176, \"confirmed_cases_per_million\": 4322.0, \"new_cases\": 343, \"new_deaths\": 21, \"new_recovered\": 0}, {\"country\": \"Ireland\", \"date\": \"2020-05-03\", \"days_since_10_cases\": 58, \"confirmed_cases\": 21506, \"confirmed_cases_per_million\": 4389.0, \"new_cases\": 330, \"new_deaths\": 17, \"new_recovered\": 0}], \"data-2c457a4d3401c9c6ef9b5db568ad130b\": [{\"country\": \"Italy\", \"date\": \"2020-02-21\", \"days_since_10_cases\": 0, \"confirmed_cases\": 20, \"confirmed_cases_per_million\": 0.0, \"new_cases\": 0, \"new_deaths\": 1, \"new_recovered\": 0}, {\"country\": \"Italy\", \"date\": \"2020-02-22\", \"days_since_10_cases\": 1, \"confirmed_cases\": 62, \"confirmed_cases_per_million\": 1.0, \"new_cases\": 42, \"new_deaths\": 1, \"new_recovered\": 1}, {\"country\": \"Italy\", \"date\": \"2020-02-23\", \"days_since_10_cases\": 2, \"confirmed_cases\": 155, \"confirmed_cases_per_million\": 3.0, \"new_cases\": 93, \"new_deaths\": 1, \"new_recovered\": 1}, {\"country\": \"Italy\", \"date\": \"2020-02-24\", \"days_since_10_cases\": 3, \"confirmed_cases\": 229, \"confirmed_cases_per_million\": 4.0, \"new_cases\": 74, \"new_deaths\": 4, \"new_recovered\": -1}, {\"country\": \"Italy\", \"date\": \"2020-02-25\", \"days_since_10_cases\": 4, \"confirmed_cases\": 322, \"confirmed_cases_per_million\": 5.0, \"new_cases\": 93, \"new_deaths\": 3, \"new_recovered\": 0}, {\"country\": \"Italy\", \"date\": \"2020-02-26\", \"days_since_10_cases\": 5, \"confirmed_cases\": 453, \"confirmed_cases_per_million\": 8.0, \"new_cases\": 131, \"new_deaths\": 2, \"new_recovered\": 2}, {\"country\": \"Italy\", \"date\": \"2020-02-27\", \"days_since_10_cases\": 6, \"confirmed_cases\": 655, \"confirmed_cases_per_million\": 11.0, \"new_cases\": 202, \"new_deaths\": 5, \"new_recovered\": 42}, {\"country\": \"Italy\", \"date\": \"2020-02-28\", \"days_since_10_cases\": 7, \"confirmed_cases\": 888, \"confirmed_cases_per_million\": 15.0, \"new_cases\": 233, \"new_deaths\": 4, \"new_recovered\": 1}, {\"country\": \"Italy\", \"date\": \"2020-02-29\", \"days_since_10_cases\": 8, \"confirmed_cases\": 1128, \"confirmed_cases_per_million\": 19.0, \"new_cases\": 240, \"new_deaths\": 8, \"new_recovered\": 0}, {\"country\": \"Italy\", \"date\": \"2020-03-01\", \"days_since_10_cases\": 9, \"confirmed_cases\": 1694, \"confirmed_cases_per_million\": 28.0, \"new_cases\": 566, \"new_deaths\": 5, \"new_recovered\": 37}, {\"country\": \"Italy\", \"date\": \"2020-03-02\", \"days_since_10_cases\": 10, \"confirmed_cases\": 2036, \"confirmed_cases_per_million\": 34.0, \"new_cases\": 342, \"new_deaths\": 18, \"new_recovered\": 66}, {\"country\": \"Italy\", \"date\": \"2020-03-03\", \"days_since_10_cases\": 11, \"confirmed_cases\": 2502, \"confirmed_cases_per_million\": 42.0, \"new_cases\": 466, \"new_deaths\": 27, \"new_recovered\": 11}, {\"country\": \"Italy\", \"date\": \"2020-03-04\", \"days_since_10_cases\": 12, \"confirmed_cases\": 3089, \"confirmed_cases_per_million\": 51.0, \"new_cases\": 587, \"new_deaths\": 28, \"new_recovered\": 116}, {\"country\": \"Italy\", \"date\": \"2020-03-05\", \"days_since_10_cases\": 13, \"confirmed_cases\": 3858, \"confirmed_cases_per_million\": 64.0, \"new_cases\": 769, \"new_deaths\": 41, \"new_recovered\": 138}, {\"country\": \"Italy\", \"date\": \"2020-03-06\", \"days_since_10_cases\": 14, \"confirmed_cases\": 4636, \"confirmed_cases_per_million\": 77.0, \"new_cases\": 778, \"new_deaths\": 49, \"new_recovered\": 109}, {\"country\": \"Italy\", \"date\": \"2020-03-07\", \"days_since_10_cases\": 15, \"confirmed_cases\": 5883, \"confirmed_cases_per_million\": 98.0, \"new_cases\": 1247, \"new_deaths\": 36, \"new_recovered\": 66}, {\"country\": \"Italy\", \"date\": \"2020-03-08\", \"days_since_10_cases\": 16, \"confirmed_cases\": 7375, \"confirmed_cases_per_million\": 123.0, \"new_cases\": 1492, \"new_deaths\": 133, \"new_recovered\": 33}, {\"country\": \"Italy\", \"date\": \"2020-03-09\", \"days_since_10_cases\": 17, \"confirmed_cases\": 9172, \"confirmed_cases_per_million\": 152.0, \"new_cases\": 1797, \"new_deaths\": 97, \"new_recovered\": 102}, {\"country\": \"Italy\", \"date\": \"2020-03-10\", \"days_since_10_cases\": 18, \"confirmed_cases\": 10149, \"confirmed_cases_per_million\": 169.0, \"new_cases\": 977, \"new_deaths\": 168, \"new_recovered\": 0}, {\"country\": \"Italy\", \"date\": \"2020-03-11\", \"days_since_10_cases\": 19, \"confirmed_cases\": 12462, \"confirmed_cases_per_million\": 207.0, \"new_cases\": 2313, \"new_deaths\": 196, \"new_recovered\": 321}, {\"country\": \"Italy\", \"date\": \"2020-03-12\", \"days_since_10_cases\": 20, \"confirmed_cases\": 12462, \"confirmed_cases_per_million\": 207.0, \"new_cases\": 0, \"new_deaths\": 0, \"new_recovered\": 0}, {\"country\": \"Italy\", \"date\": \"2020-03-13\", \"days_since_10_cases\": 21, \"confirmed_cases\": 17660, \"confirmed_cases_per_million\": 293.0, \"new_cases\": 5198, \"new_deaths\": 439, \"new_recovered\": 394}, {\"country\": \"Italy\", \"date\": \"2020-03-14\", \"days_since_10_cases\": 22, \"confirmed_cases\": 21157, \"confirmed_cases_per_million\": 351.0, \"new_cases\": 3497, \"new_deaths\": 175, \"new_recovered\": 527}, {\"country\": \"Italy\", \"date\": \"2020-03-15\", \"days_since_10_cases\": 23, \"confirmed_cases\": 24747, \"confirmed_cases_per_million\": 411.0, \"new_cases\": 3590, \"new_deaths\": 368, \"new_recovered\": 369}, {\"country\": \"Italy\", \"date\": \"2020-03-16\", \"days_since_10_cases\": 24, \"confirmed_cases\": 27980, \"confirmed_cases_per_million\": 465.0, \"new_cases\": 3233, \"new_deaths\": 349, \"new_recovered\": 414}, {\"country\": \"Italy\", \"date\": \"2020-03-17\", \"days_since_10_cases\": 25, \"confirmed_cases\": 31506, \"confirmed_cases_per_million\": 523.0, \"new_cases\": 3526, \"new_deaths\": 345, \"new_recovered\": 192}, {\"country\": \"Italy\", \"date\": \"2020-03-18\", \"days_since_10_cases\": 26, \"confirmed_cases\": 35713, \"confirmed_cases_per_million\": 593.0, \"new_cases\": 4207, \"new_deaths\": 475, \"new_recovered\": 1084}, {\"country\": \"Italy\", \"date\": \"2020-03-19\", \"days_since_10_cases\": 27, \"confirmed_cases\": 41035, \"confirmed_cases_per_million\": 682.0, \"new_cases\": 5322, \"new_deaths\": 427, \"new_recovered\": 415}, {\"country\": \"Italy\", \"date\": \"2020-03-20\", \"days_since_10_cases\": 28, \"confirmed_cases\": 47021, \"confirmed_cases_per_million\": 781.0, \"new_cases\": 5986, \"new_deaths\": 627, \"new_recovered\": 0}, {\"country\": \"Italy\", \"date\": \"2020-03-21\", \"days_since_10_cases\": 29, \"confirmed_cases\": 53578, \"confirmed_cases_per_million\": 890.0, \"new_cases\": 6557, \"new_deaths\": 793, \"new_recovered\": 1632}, {\"country\": \"Italy\", \"date\": \"2020-03-22\", \"days_since_10_cases\": 30, \"confirmed_cases\": 59138, \"confirmed_cases_per_million\": 982.0, \"new_cases\": 5560, \"new_deaths\": 651, \"new_recovered\": 952}, {\"country\": \"Italy\", \"date\": \"2020-03-23\", \"days_since_10_cases\": 31, \"confirmed_cases\": 63927, \"confirmed_cases_per_million\": 1062.0, \"new_cases\": 4789, \"new_deaths\": 601, \"new_recovered\": 0}, {\"country\": \"Italy\", \"date\": \"2020-03-24\", \"days_since_10_cases\": 32, \"confirmed_cases\": 69176, \"confirmed_cases_per_million\": 1149.0, \"new_cases\": 5249, \"new_deaths\": 743, \"new_recovered\": 1302}, {\"country\": \"Italy\", \"date\": \"2020-03-25\", \"days_since_10_cases\": 33, \"confirmed_cases\": 74386, \"confirmed_cases_per_million\": 1236.0, \"new_cases\": 5210, \"new_deaths\": 683, \"new_recovered\": 1036}, {\"country\": \"Italy\", \"date\": \"2020-03-26\", \"days_since_10_cases\": 34, \"confirmed_cases\": 80589, \"confirmed_cases_per_million\": 1339.0, \"new_cases\": 6203, \"new_deaths\": 712, \"new_recovered\": 999}, {\"country\": \"Italy\", \"date\": \"2020-03-27\", \"days_since_10_cases\": 35, \"confirmed_cases\": 86498, \"confirmed_cases_per_million\": 1437.0, \"new_cases\": 5909, \"new_deaths\": 919, \"new_recovered\": 589}, {\"country\": \"Italy\", \"date\": \"2020-03-28\", \"days_since_10_cases\": 36, \"confirmed_cases\": 92472, \"confirmed_cases_per_million\": 1536.0, \"new_cases\": 5974, \"new_deaths\": 889, \"new_recovered\": 1434}, {\"country\": \"Italy\", \"date\": \"2020-03-29\", \"days_since_10_cases\": 37, \"confirmed_cases\": 97689, \"confirmed_cases_per_million\": 1623.0, \"new_cases\": 5217, \"new_deaths\": 756, \"new_recovered\": 646}, {\"country\": \"Italy\", \"date\": \"2020-03-30\", \"days_since_10_cases\": 38, \"confirmed_cases\": 101739, \"confirmed_cases_per_million\": 1690.0, \"new_cases\": 4050, \"new_deaths\": 812, \"new_recovered\": 1590}, {\"country\": \"Italy\", \"date\": \"2020-03-31\", \"days_since_10_cases\": 39, \"confirmed_cases\": 105792, \"confirmed_cases_per_million\": 1757.0, \"new_cases\": 4053, \"new_deaths\": 837, \"new_recovered\": 1109}, {\"country\": \"Italy\", \"date\": \"2020-04-01\", \"days_since_10_cases\": 40, \"confirmed_cases\": 110574, \"confirmed_cases_per_million\": 1837.0, \"new_cases\": 4782, \"new_deaths\": 727, \"new_recovered\": 1118}, {\"country\": \"Italy\", \"date\": \"2020-04-02\", \"days_since_10_cases\": 41, \"confirmed_cases\": 115242, \"confirmed_cases_per_million\": 1914.0, \"new_cases\": 4668, \"new_deaths\": 760, \"new_recovered\": 1431}, {\"country\": \"Italy\", \"date\": \"2020-04-03\", \"days_since_10_cases\": 42, \"confirmed_cases\": 119827, \"confirmed_cases_per_million\": 1990.0, \"new_cases\": 4585, \"new_deaths\": 766, \"new_recovered\": 1480}, {\"country\": \"Italy\", \"date\": \"2020-04-04\", \"days_since_10_cases\": 43, \"confirmed_cases\": 124632, \"confirmed_cases_per_million\": 2070.0, \"new_cases\": 4805, \"new_deaths\": 681, \"new_recovered\": 1238}, {\"country\": \"Italy\", \"date\": \"2020-04-05\", \"days_since_10_cases\": 44, \"confirmed_cases\": 128948, \"confirmed_cases_per_million\": 2142.0, \"new_cases\": 4316, \"new_deaths\": 525, \"new_recovered\": 819}, {\"country\": \"Italy\", \"date\": \"2020-04-06\", \"days_since_10_cases\": 45, \"confirmed_cases\": 132547, \"confirmed_cases_per_million\": 2202.0, \"new_cases\": 3599, \"new_deaths\": 636, \"new_recovered\": 1022}, {\"country\": \"Italy\", \"date\": \"2020-04-07\", \"days_since_10_cases\": 46, \"confirmed_cases\": 135586, \"confirmed_cases_per_million\": 2252.0, \"new_cases\": 3039, \"new_deaths\": 604, \"new_recovered\": 1555}, {\"country\": \"Italy\", \"date\": \"2020-04-08\", \"days_since_10_cases\": 47, \"confirmed_cases\": 139422, \"confirmed_cases_per_million\": 2316.0, \"new_cases\": 3836, \"new_deaths\": 542, \"new_recovered\": 2099}, {\"country\": \"Italy\", \"date\": \"2020-04-09\", \"days_since_10_cases\": 48, \"confirmed_cases\": 143626, \"confirmed_cases_per_million\": 2386.0, \"new_cases\": 4204, \"new_deaths\": 610, \"new_recovered\": 1979}, {\"country\": \"Italy\", \"date\": \"2020-04-10\", \"days_since_10_cases\": 49, \"confirmed_cases\": 147577, \"confirmed_cases_per_million\": 2451.0, \"new_cases\": 3951, \"new_deaths\": 570, \"new_recovered\": 1985}, {\"country\": \"Italy\", \"date\": \"2020-04-11\", \"days_since_10_cases\": 50, \"confirmed_cases\": 152271, \"confirmed_cases_per_million\": 2529.0, \"new_cases\": 4694, \"new_deaths\": 619, \"new_recovered\": 2079}, {\"country\": \"Italy\", \"date\": \"2020-04-12\", \"days_since_10_cases\": 51, \"confirmed_cases\": 156363, \"confirmed_cases_per_million\": 2597.0, \"new_cases\": 4092, \"new_deaths\": 431, \"new_recovered\": 1677}, {\"country\": \"Italy\", \"date\": \"2020-04-13\", \"days_since_10_cases\": 52, \"confirmed_cases\": 159516, \"confirmed_cases_per_million\": 2650.0, \"new_cases\": 3153, \"new_deaths\": 566, \"new_recovered\": 1224}, {\"country\": \"Italy\", \"date\": \"2020-04-14\", \"days_since_10_cases\": 53, \"confirmed_cases\": 162488, \"confirmed_cases_per_million\": 2699.0, \"new_cases\": 2972, \"new_deaths\": 602, \"new_recovered\": 1695}, {\"country\": \"Italy\", \"date\": \"2020-04-15\", \"days_since_10_cases\": 54, \"confirmed_cases\": 165155, \"confirmed_cases_per_million\": 2743.0, \"new_cases\": 2667, \"new_deaths\": 578, \"new_recovered\": 962}, {\"country\": \"Italy\", \"date\": \"2020-04-16\", \"days_since_10_cases\": 55, \"confirmed_cases\": 168941, \"confirmed_cases_per_million\": 2806.0, \"new_cases\": 3786, \"new_deaths\": 525, \"new_recovered\": 2072}, {\"country\": \"Italy\", \"date\": \"2020-04-17\", \"days_since_10_cases\": 56, \"confirmed_cases\": 172434, \"confirmed_cases_per_million\": 2864.0, \"new_cases\": 3493, \"new_deaths\": 575, \"new_recovered\": 2563}, {\"country\": \"Italy\", \"date\": \"2020-04-18\", \"days_since_10_cases\": 57, \"confirmed_cases\": 175925, \"confirmed_cases_per_million\": 2922.0, \"new_cases\": 3491, \"new_deaths\": 482, \"new_recovered\": 2200}, {\"country\": \"Italy\", \"date\": \"2020-04-19\", \"days_since_10_cases\": 58, \"confirmed_cases\": 178972, \"confirmed_cases_per_million\": 2973.0, \"new_cases\": 3047, \"new_deaths\": 433, \"new_recovered\": 2128}, {\"country\": \"Italy\", \"date\": \"2020-04-20\", \"days_since_10_cases\": 59, \"confirmed_cases\": 181228, \"confirmed_cases_per_million\": 3010.0, \"new_cases\": 2256, \"new_deaths\": 454, \"new_recovered\": 1822}, {\"country\": \"Italy\", \"date\": \"2020-04-21\", \"days_since_10_cases\": 60, \"confirmed_cases\": 183957, \"confirmed_cases_per_million\": 3056.0, \"new_cases\": 2729, \"new_deaths\": 534, \"new_recovered\": 2723}, {\"country\": \"Italy\", \"date\": \"2020-04-22\", \"days_since_10_cases\": 61, \"confirmed_cases\": 187327, \"confirmed_cases_per_million\": 3112.0, \"new_cases\": 3370, \"new_deaths\": 437, \"new_recovered\": 2943}, {\"country\": \"Italy\", \"date\": \"2020-04-23\", \"days_since_10_cases\": 62, \"confirmed_cases\": 189973, \"confirmed_cases_per_million\": 3156.0, \"new_cases\": 2646, \"new_deaths\": 464, \"new_recovered\": 3033}, {\"country\": \"Italy\", \"date\": \"2020-04-24\", \"days_since_10_cases\": 63, \"confirmed_cases\": 192994, \"confirmed_cases_per_million\": 3206.0, \"new_cases\": 3021, \"new_deaths\": 420, \"new_recovered\": 2922}, {\"country\": \"Italy\", \"date\": \"2020-04-25\", \"days_since_10_cases\": 64, \"confirmed_cases\": 195351, \"confirmed_cases_per_million\": 3245.0, \"new_cases\": 2357, \"new_deaths\": 415, \"new_recovered\": 2622}, {\"country\": \"Italy\", \"date\": \"2020-04-26\", \"days_since_10_cases\": 65, \"confirmed_cases\": 197675, \"confirmed_cases_per_million\": 3284.0, \"new_cases\": 2324, \"new_deaths\": 260, \"new_recovered\": 1808}, {\"country\": \"Italy\", \"date\": \"2020-04-27\", \"days_since_10_cases\": 66, \"confirmed_cases\": 199414, \"confirmed_cases_per_million\": 3313.0, \"new_cases\": 1739, \"new_deaths\": 333, \"new_recovered\": 1696}, {\"country\": \"Italy\", \"date\": \"2020-04-28\", \"days_since_10_cases\": 67, \"confirmed_cases\": 201505, \"confirmed_cases_per_million\": 3347.0, \"new_cases\": 2091, \"new_deaths\": 382, \"new_recovered\": 2317}, {\"country\": \"Italy\", \"date\": \"2020-04-29\", \"days_since_10_cases\": 68, \"confirmed_cases\": 203591, \"confirmed_cases_per_million\": 3382.0, \"new_cases\": 2086, \"new_deaths\": 323, \"new_recovered\": 2311}, {\"country\": \"Italy\", \"date\": \"2020-04-30\", \"days_since_10_cases\": 69, \"confirmed_cases\": 205463, \"confirmed_cases_per_million\": 3413.0, \"new_cases\": 1872, \"new_deaths\": 285, \"new_recovered\": 4693}, {\"country\": \"Italy\", \"date\": \"2020-05-01\", \"days_since_10_cases\": 70, \"confirmed_cases\": 207428, \"confirmed_cases_per_million\": 3446.0, \"new_cases\": 1965, \"new_deaths\": 269, \"new_recovered\": 2304}, {\"country\": \"Italy\", \"date\": \"2020-05-02\", \"days_since_10_cases\": 71, \"confirmed_cases\": 209328, \"confirmed_cases_per_million\": 3477.0, \"new_cases\": 1900, \"new_deaths\": 474, \"new_recovered\": 1665}, {\"country\": \"Italy\", \"date\": \"2020-05-03\", \"days_since_10_cases\": 72, \"confirmed_cases\": 210717, \"confirmed_cases_per_million\": 3500.0, \"new_cases\": 1389, \"new_deaths\": 174, \"new_recovered\": 1740}], \"data-daf2fe332b3ad6e12c8cae97ceea7859\": [{\"country\": \"Spain\", \"date\": \"2020-02-26\", \"days_since_10_cases\": 0, \"confirmed_cases\": 13, \"confirmed_cases_per_million\": 0.0, \"new_cases\": 0, \"new_deaths\": 0, \"new_recovered\": 0}, {\"country\": \"Spain\", \"date\": \"2020-02-27\", \"days_since_10_cases\": 1, \"confirmed_cases\": 15, \"confirmed_cases_per_million\": 0.0, \"new_cases\": 2, \"new_deaths\": 0, \"new_recovered\": 0}, {\"country\": \"Spain\", \"date\": \"2020-02-28\", \"days_since_10_cases\": 2, \"confirmed_cases\": 32, \"confirmed_cases_per_million\": 1.0, \"new_cases\": 17, \"new_deaths\": 0, \"new_recovered\": 0}, {\"country\": \"Spain\", \"date\": \"2020-02-29\", \"days_since_10_cases\": 3, \"confirmed_cases\": 45, \"confirmed_cases_per_million\": 1.0, \"new_cases\": 13, \"new_deaths\": 0, \"new_recovered\": 0}, {\"country\": \"Spain\", \"date\": \"2020-03-01\", \"days_since_10_cases\": 4, \"confirmed_cases\": 84, \"confirmed_cases_per_million\": 2.0, \"new_cases\": 39, \"new_deaths\": 0, \"new_recovered\": 0}, {\"country\": \"Spain\", \"date\": \"2020-03-02\", \"days_since_10_cases\": 5, \"confirmed_cases\": 120, \"confirmed_cases_per_million\": 3.0, \"new_cases\": 36, \"new_deaths\": 0, \"new_recovered\": 0}, {\"country\": \"Spain\", \"date\": \"2020-03-03\", \"days_since_10_cases\": 6, \"confirmed_cases\": 165, \"confirmed_cases_per_million\": 4.0, \"new_cases\": 45, \"new_deaths\": 1, \"new_recovered\": 0}, {\"country\": \"Spain\", \"date\": \"2020-03-04\", \"days_since_10_cases\": 7, \"confirmed_cases\": 222, \"confirmed_cases_per_million\": 5.0, \"new_cases\": 57, \"new_deaths\": 1, \"new_recovered\": 0}, {\"country\": \"Spain\", \"date\": \"2020-03-05\", \"days_since_10_cases\": 8, \"confirmed_cases\": 259, \"confirmed_cases_per_million\": 5.0, \"new_cases\": 37, \"new_deaths\": 1, \"new_recovered\": 0}, {\"country\": \"Spain\", \"date\": \"2020-03-06\", \"days_since_10_cases\": 9, \"confirmed_cases\": 400, \"confirmed_cases_per_million\": 8.0, \"new_cases\": 141, \"new_deaths\": 2, \"new_recovered\": 0}, {\"country\": \"Spain\", \"date\": \"2020-03-07\", \"days_since_10_cases\": 10, \"confirmed_cases\": 500, \"confirmed_cases_per_million\": 11.0, \"new_cases\": 100, \"new_deaths\": 5, \"new_recovered\": 28}, {\"country\": \"Spain\", \"date\": \"2020-03-08\", \"days_since_10_cases\": 11, \"confirmed_cases\": 673, \"confirmed_cases_per_million\": 14.0, \"new_cases\": 173, \"new_deaths\": 7, \"new_recovered\": 0}, {\"country\": \"Spain\", \"date\": \"2020-03-09\", \"days_since_10_cases\": 12, \"confirmed_cases\": 1073, \"confirmed_cases_per_million\": 23.0, \"new_cases\": 400, \"new_deaths\": 11, \"new_recovered\": 2}, {\"country\": \"Spain\", \"date\": \"2020-03-10\", \"days_since_10_cases\": 13, \"confirmed_cases\": 1695, \"confirmed_cases_per_million\": 36.0, \"new_cases\": 622, \"new_deaths\": 7, \"new_recovered\": 0}, {\"country\": \"Spain\", \"date\": \"2020-03-11\", \"days_since_10_cases\": 14, \"confirmed_cases\": 2277, \"confirmed_cases_per_million\": 48.0, \"new_cases\": 582, \"new_deaths\": 19, \"new_recovered\": 151}, {\"country\": \"Spain\", \"date\": \"2020-03-12\", \"days_since_10_cases\": 15, \"confirmed_cases\": 2277, \"confirmed_cases_per_million\": 48.0, \"new_cases\": 0, \"new_deaths\": 1, \"new_recovered\": 0}, {\"country\": \"Spain\", \"date\": \"2020-03-13\", \"days_since_10_cases\": 16, \"confirmed_cases\": 5232, \"confirmed_cases_per_million\": 111.0, \"new_cases\": 2955, \"new_deaths\": 78, \"new_recovered\": 10}, {\"country\": \"Spain\", \"date\": \"2020-03-14\", \"days_since_10_cases\": 17, \"confirmed_cases\": 6391, \"confirmed_cases_per_million\": 136.0, \"new_cases\": 1159, \"new_deaths\": 62, \"new_recovered\": 324}, {\"country\": \"Spain\", \"date\": \"2020-03-15\", \"days_since_10_cases\": 18, \"confirmed_cases\": 7798, \"confirmed_cases_per_million\": 166.0, \"new_cases\": 1407, \"new_deaths\": 94, \"new_recovered\": 0}, {\"country\": \"Spain\", \"date\": \"2020-03-16\", \"days_since_10_cases\": 19, \"confirmed_cases\": 9942, \"confirmed_cases_per_million\": 211.0, \"new_cases\": 2144, \"new_deaths\": 53, \"new_recovered\": 13}, {\"country\": \"Spain\", \"date\": \"2020-03-17\", \"days_since_10_cases\": 20, \"confirmed_cases\": 11748, \"confirmed_cases_per_million\": 249.0, \"new_cases\": 1806, \"new_deaths\": 191, \"new_recovered\": 498}, {\"country\": \"Spain\", \"date\": \"2020-03-18\", \"days_since_10_cases\": 21, \"confirmed_cases\": 13910, \"confirmed_cases_per_million\": 295.0, \"new_cases\": 2162, \"new_deaths\": 90, \"new_recovered\": 53}, {\"country\": \"Spain\", \"date\": \"2020-03-19\", \"days_since_10_cases\": 22, \"confirmed_cases\": 17963, \"confirmed_cases_per_million\": 381.0, \"new_cases\": 4053, \"new_deaths\": 207, \"new_recovered\": 26}, {\"country\": \"Spain\", \"date\": \"2020-03-20\", \"days_since_10_cases\": 23, \"confirmed_cases\": 20410, \"confirmed_cases_per_million\": 433.0, \"new_cases\": 2447, \"new_deaths\": 213, \"new_recovered\": 481}, {\"country\": \"Spain\", \"date\": \"2020-03-21\", \"days_since_10_cases\": 24, \"confirmed_cases\": 25374, \"confirmed_cases_per_million\": 539.0, \"new_cases\": 4964, \"new_deaths\": 332, \"new_recovered\": 537}, {\"country\": \"Spain\", \"date\": \"2020-03-22\", \"days_since_10_cases\": 25, \"confirmed_cases\": 28768, \"confirmed_cases_per_million\": 611.0, \"new_cases\": 3394, \"new_deaths\": 397, \"new_recovered\": 450}, {\"country\": \"Spain\", \"date\": \"2020-03-23\", \"days_since_10_cases\": 26, \"confirmed_cases\": 35136, \"confirmed_cases_per_million\": 746.0, \"new_cases\": 6368, \"new_deaths\": 539, \"new_recovered\": 0}, {\"country\": \"Spain\", \"date\": \"2020-03-24\", \"days_since_10_cases\": 27, \"confirmed_cases\": 39885, \"confirmed_cases_per_million\": 847.0, \"new_cases\": 4749, \"new_deaths\": 497, \"new_recovered\": 1219}, {\"country\": \"Spain\", \"date\": \"2020-03-25\", \"days_since_10_cases\": 28, \"confirmed_cases\": 49515, \"confirmed_cases_per_million\": 1051.0, \"new_cases\": 9630, \"new_deaths\": 839, \"new_recovered\": 1573}, {\"country\": \"Spain\", \"date\": \"2020-03-26\", \"days_since_10_cases\": 29, \"confirmed_cases\": 57786, \"confirmed_cases_per_million\": 1227.0, \"new_cases\": 8271, \"new_deaths\": 718, \"new_recovered\": 1648}, {\"country\": \"Spain\", \"date\": \"2020-03-27\", \"days_since_10_cases\": 30, \"confirmed_cases\": 65719, \"confirmed_cases_per_million\": 1395.0, \"new_cases\": 7933, \"new_deaths\": 773, \"new_recovered\": 2342}, {\"country\": \"Spain\", \"date\": \"2020-03-28\", \"days_since_10_cases\": 31, \"confirmed_cases\": 73235, \"confirmed_cases_per_million\": 1555.0, \"new_cases\": 7516, \"new_deaths\": 844, \"new_recovered\": 2928}, {\"country\": \"Spain\", \"date\": \"2020-03-29\", \"days_since_10_cases\": 32, \"confirmed_cases\": 80110, \"confirmed_cases_per_million\": 1701.0, \"new_cases\": 6875, \"new_deaths\": 821, \"new_recovered\": 2424}, {\"country\": \"Spain\", \"date\": \"2020-03-30\", \"days_since_10_cases\": 33, \"confirmed_cases\": 87956, \"confirmed_cases_per_million\": 1867.0, \"new_cases\": 7846, \"new_deaths\": 913, \"new_recovered\": 2071}, {\"country\": \"Spain\", \"date\": \"2020-03-31\", \"days_since_10_cases\": 34, \"confirmed_cases\": 95923, \"confirmed_cases_per_million\": 2037.0, \"new_cases\": 7967, \"new_deaths\": 748, \"new_recovered\": 2479}, {\"country\": \"Spain\", \"date\": \"2020-04-01\", \"days_since_10_cases\": 35, \"confirmed_cases\": 104118, \"confirmed_cases_per_million\": 2211.0, \"new_cases\": 8195, \"new_deaths\": 923, \"new_recovered\": 3388}, {\"country\": \"Spain\", \"date\": \"2020-04-02\", \"days_since_10_cases\": 36, \"confirmed_cases\": 112065, \"confirmed_cases_per_million\": 2379.0, \"new_cases\": 7947, \"new_deaths\": 961, \"new_recovered\": 4096}, {\"country\": \"Spain\", \"date\": \"2020-04-03\", \"days_since_10_cases\": 37, \"confirmed_cases\": 119199, \"confirmed_cases_per_million\": 2531.0, \"new_cases\": 7134, \"new_deaths\": 850, \"new_recovered\": 3770}, {\"country\": \"Spain\", \"date\": \"2020-04-04\", \"days_since_10_cases\": 38, \"confirmed_cases\": 126168, \"confirmed_cases_per_million\": 2679.0, \"new_cases\": 6969, \"new_deaths\": 749, \"new_recovered\": 3706}, {\"country\": \"Spain\", \"date\": \"2020-04-05\", \"days_since_10_cases\": 39, \"confirmed_cases\": 131646, \"confirmed_cases_per_million\": 2795.0, \"new_cases\": 5478, \"new_deaths\": 694, \"new_recovered\": 3861}, {\"country\": \"Spain\", \"date\": \"2020-04-06\", \"days_since_10_cases\": 40, \"confirmed_cases\": 136675, \"confirmed_cases_per_million\": 2902.0, \"new_cases\": 5029, \"new_deaths\": 700, \"new_recovered\": 2357}, {\"country\": \"Spain\", \"date\": \"2020-04-07\", \"days_since_10_cases\": 41, \"confirmed_cases\": 141942, \"confirmed_cases_per_million\": 3014.0, \"new_cases\": 5267, \"new_deaths\": 704, \"new_recovered\": 2771}, {\"country\": \"Spain\", \"date\": \"2020-04-08\", \"days_since_10_cases\": 42, \"confirmed_cases\": 148220, \"confirmed_cases_per_million\": 3147.0, \"new_cases\": 6278, \"new_deaths\": 747, \"new_recovered\": 4813}, {\"country\": \"Spain\", \"date\": \"2020-04-09\", \"days_since_10_cases\": 43, \"confirmed_cases\": 153222, \"confirmed_cases_per_million\": 3253.0, \"new_cases\": 5002, \"new_deaths\": 655, \"new_recovered\": 4144}, {\"country\": \"Spain\", \"date\": \"2020-04-10\", \"days_since_10_cases\": 44, \"confirmed_cases\": 158273, \"confirmed_cases_per_million\": 3360.0, \"new_cases\": 5051, \"new_deaths\": 634, \"new_recovered\": 3503}, {\"country\": \"Spain\", \"date\": \"2020-04-11\", \"days_since_10_cases\": 45, \"confirmed_cases\": 163027, \"confirmed_cases_per_million\": 3461.0, \"new_cases\": 4754, \"new_deaths\": 525, \"new_recovered\": 3441}, {\"country\": \"Spain\", \"date\": \"2020-04-12\", \"days_since_10_cases\": 46, \"confirmed_cases\": 166831, \"confirmed_cases_per_million\": 3542.0, \"new_cases\": 3804, \"new_deaths\": 603, \"new_recovered\": 3282}, {\"country\": \"Spain\", \"date\": \"2020-04-13\", \"days_since_10_cases\": 47, \"confirmed_cases\": 170099, \"confirmed_cases_per_million\": 3611.0, \"new_cases\": 3268, \"new_deaths\": 547, \"new_recovered\": 2336}, {\"country\": \"Spain\", \"date\": \"2020-04-14\", \"days_since_10_cases\": 48, \"confirmed_cases\": 172541, \"confirmed_cases_per_million\": 3663.0, \"new_cases\": 2442, \"new_deaths\": 300, \"new_recovered\": 2777}, {\"country\": \"Spain\", \"date\": \"2020-04-15\", \"days_since_10_cases\": 49, \"confirmed_cases\": 177644, \"confirmed_cases_per_million\": 3772.0, \"new_cases\": 5103, \"new_deaths\": 652, \"new_recovered\": 3349}, {\"country\": \"Spain\", \"date\": \"2020-04-16\", \"days_since_10_cases\": 50, \"confirmed_cases\": 184948, \"confirmed_cases_per_million\": 3927.0, \"new_cases\": 7304, \"new_deaths\": 607, \"new_recovered\": 3944}, {\"country\": \"Spain\", \"date\": \"2020-04-17\", \"days_since_10_cases\": 51, \"confirmed_cases\": 190839, \"confirmed_cases_per_million\": 4052.0, \"new_cases\": 5891, \"new_deaths\": 687, \"new_recovered\": 0}, {\"country\": \"Spain\", \"date\": \"2020-04-18\", \"days_since_10_cases\": 52, \"confirmed_cases\": 191726, \"confirmed_cases_per_million\": 4071.0, \"new_cases\": 887, \"new_deaths\": 41, \"new_recovered\": 0}, {\"country\": \"Spain\", \"date\": \"2020-04-19\", \"days_since_10_cases\": 53, \"confirmed_cases\": 198674, \"confirmed_cases_per_million\": 4218.0, \"new_cases\": 6948, \"new_deaths\": 410, \"new_recovered\": 2560}, {\"country\": \"Spain\", \"date\": \"2020-04-20\", \"days_since_10_cases\": 54, \"confirmed_cases\": 200210, \"confirmed_cases_per_million\": 4251.0, \"new_cases\": 1536, \"new_deaths\": 399, \"new_recovered\": 3230}, {\"country\": \"Spain\", \"date\": \"2020-04-21\", \"days_since_10_cases\": 55, \"confirmed_cases\": 204178, \"confirmed_cases_per_million\": 4335.0, \"new_cases\": 3968, \"new_deaths\": 430, \"new_recovered\": 1927}, {\"country\": \"Spain\", \"date\": \"2020-04-22\", \"days_since_10_cases\": 56, \"confirmed_cases\": 208389, \"confirmed_cases_per_million\": 4424.0, \"new_cases\": 4211, \"new_deaths\": 435, \"new_recovered\": 3401}, {\"country\": \"Spain\", \"date\": \"2020-04-23\", \"days_since_10_cases\": 57, \"confirmed_cases\": 213024, \"confirmed_cases_per_million\": 4523.0, \"new_cases\": 4635, \"new_deaths\": 440, \"new_recovered\": 3335}, {\"country\": \"Spain\", \"date\": \"2020-04-24\", \"days_since_10_cases\": 58, \"confirmed_cases\": 202990, \"confirmed_cases_per_million\": 4310.0, \"new_cases\": -10034, \"new_deaths\": 367, \"new_recovered\": 3105}, {\"country\": \"Spain\", \"date\": \"2020-04-25\", \"days_since_10_cases\": 59, \"confirmed_cases\": 205905, \"confirmed_cases_per_million\": 4372.0, \"new_cases\": 2915, \"new_deaths\": 378, \"new_recovered\": 3353}, {\"country\": \"Spain\", \"date\": \"2020-04-26\", \"days_since_10_cases\": 60, \"confirmed_cases\": 207634, \"confirmed_cases_per_million\": 4408.0, \"new_cases\": 1729, \"new_deaths\": 288, \"new_recovered\": 2664}, {\"country\": \"Spain\", \"date\": \"2020-04-27\", \"days_since_10_cases\": 61, \"confirmed_cases\": 209465, \"confirmed_cases_per_million\": 4447.0, \"new_cases\": 1831, \"new_deaths\": 331, \"new_recovered\": 2503}, {\"country\": \"Spain\", \"date\": \"2020-04-28\", \"days_since_10_cases\": 62, \"confirmed_cases\": 210773, \"confirmed_cases_per_million\": 4475.0, \"new_cases\": 1308, \"new_deaths\": 301, \"new_recovered\": 1673}, {\"country\": \"Spain\", \"date\": \"2020-04-29\", \"days_since_10_cases\": 63, \"confirmed_cases\": 212917, \"confirmed_cases_per_million\": 4521.0, \"new_cases\": 2144, \"new_deaths\": 453, \"new_recovered\": 6399}, {\"country\": \"Spain\", \"date\": \"2020-04-30\", \"days_since_10_cases\": 64, \"confirmed_cases\": 213435, \"confirmed_cases_per_million\": 4532.0, \"new_cases\": 518, \"new_deaths\": 268, \"new_recovered\": 3103}, {\"country\": \"Spain\", \"date\": \"2020-05-01\", \"days_since_10_cases\": 65, \"confirmed_cases\": 213435, \"confirmed_cases_per_million\": 4532.0, \"new_cases\": 0, \"new_deaths\": 0, \"new_recovered\": 0}, {\"country\": \"Spain\", \"date\": \"2020-05-02\", \"days_since_10_cases\": 66, \"confirmed_cases\": 216582, \"confirmed_cases_per_million\": 4598.0, \"new_cases\": 3147, \"new_deaths\": 557, \"new_recovered\": 5198}, {\"country\": \"Spain\", \"date\": \"2020-05-03\", \"days_since_10_cases\": 67, \"confirmed_cases\": 217466, \"confirmed_cases_per_million\": 4617.0, \"new_cases\": 884, \"new_deaths\": 164, \"new_recovered\": 1654}]}}, {\"mode\": \"vega-lite\"});\n",
       "</script>"
      ],
      "text/plain": [
       "alt.LayerChart(...)"
      ]
     },
     "execution_count": 88,
     "metadata": {},
     "output_type": "execute_result"
    }
   ],
   "source": [
    "#hide_input\n",
    "\n",
    "alt.layer(cases_per_million_ie_plot, cases_per_million_it_plot, cases_per_million_es_plot).properties(\n",
    "    width=800, height=600\n",
    ").resolve_scale(\n",
    "    color='independent',\n",
    "    shape='independent'\n",
    ")"
   ]
  },
  {
   "cell_type": "markdown",
   "metadata": {},
   "source": [
    "---\n",
    "### Data Sources\n",
    "- Government of Ireland [https://www.gov.ie/]\n",
    "- 2019 Novel Coronavirus COVID-19 (2019-nCoV) Data Repository by Johns Hopkins CSSE [https://github.com/CSSEGISandData/COVID-19]\n",
    "\n",
    "---\n",
    "\n",
    "<div align=\"right\">Notebook and graphics by Dr. Ernesto Diaz-Aviles, <a href=\"https://twitter.com/vedax\" target=\"_blank\">@vedax</a><br/><a href=\"https://libreai.com\" target=\"_blank\">Libre AI</a><br/><a href=\"https://creativecommons.org/licenses/by-sa/4.0/\" target=\"_blank\">CC BY-SA 4.0</a>, 2020</div>\n",
    "\n",
    "---"
   ]
  },
  {
   "cell_type": "code",
   "execution_count": null,
   "metadata": {},
   "outputs": [],
   "source": []
  }
 ],
 "metadata": {
  "kernelspec": {
   "display_name": "Python 3",
   "language": "python",
   "name": "python3"
  },
  "language_info": {
   "codemirror_mode": {
    "name": "ipython",
    "version": 3
   },
   "file_extension": ".py",
   "mimetype": "text/x-python",
   "name": "python",
   "nbconvert_exporter": "python",
   "pygments_lexer": "ipython3",
   "version": "3.7.5"
  },
  "widgets": {
   "application/vnd.jupyter.widget-state+json": {
    "state": {},
    "version_major": 2,
    "version_minor": 0
   }
  }
 },
 "nbformat": 4,
 "nbformat_minor": 4
}
