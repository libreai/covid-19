{
 "cells": [
  {
   "cell_type": "markdown",
   "metadata": {},
   "source": [
    "# Covid-19 in Ireland\n",
    "> Dashboard\n",
    "\n",
    "- toc: false\n",
    "- branch: master\n",
    "- badges: true\n",
    "- comments: false\n",
    "- image: images/covid-19-ie-cases-per-m.png\n",
    "- permalink: /covid-19-dashboard-ie/\n",
    "- author: \"Libre AI\"\n",
    "- categories: [ireland, covid19]"
   ]
  },
  {
   "cell_type": "markdown",
   "metadata": {},
   "source": [
    "> Last updated on 2020-03-28 10:46 PM IST"
   ]
  },
  {
   "cell_type": "markdown",
   "metadata": {},
   "source": [
    "---"
   ]
  },
  {
   "cell_type": "markdown",
   "metadata": {},
   "source": [
    "<h1>Total Confirmed: <span style=\"color:red\">2,415</span></h1>\n",
    "<h1>Total Deaths: <span style=\"color:red\">36</span></h1>\n",
    "<h1>Total Recovered: <span style=\"color:green\">5</span></h1>"
   ]
  },
  {
   "cell_type": "markdown",
   "metadata": {},
   "source": [
    "---"
   ]
  },
  {
   "cell_type": "markdown",
   "metadata": {},
   "source": [
    "> Important: **Starting on March 16th, 2020, Ireland has more #COVID19 cases per million (and growing quickly) than the most affected countries in Europe, Italy and Spain, at their early stages.** "
   ]
  },
  {
   "cell_type": "code",
   "execution_count": 1,
   "metadata": {},
   "outputs": [],
   "source": [
    "#hide\n",
    "import altair as alt\n",
    "import pandas as pd\n",
    "import numpy as np"
   ]
  },
  {
   "cell_type": "code",
   "execution_count": 2,
   "metadata": {},
   "outputs": [],
   "source": [
    "#hide\n",
    "confirmed = pd.read_csv('data/time_series_covid19_confirmed_global.csv')\n",
    "deaths = pd.read_csv('data/time_series_covid19_deaths_global.csv')\n",
    "recovered = pd.read_csv('data/time_series_covid19_recovered_global.csv')"
   ]
  },
  {
   "cell_type": "code",
   "execution_count": 3,
   "metadata": {},
   "outputs": [],
   "source": [
    "#hide\n",
    "\n",
    "def dmy_to_isodate(dmy):\n",
    "    m, d, y = dmy.split('/')\n",
    "    return '{}-{:02d}-{:02d}'.format(2000 + int(y), int(m), int(d))\n",
    "    \n",
    "def get_count_data(df_all, country, start_count):\n",
    "    df = df_all[df_all['Country/Region'] == country]\n",
    "    counts = list(enumerate([(dmy_to_isodate(x[0]), x[1]) for x in list(zip(df.columns[4:], list(df.values[0][4:]))) if x[1] >= start_count]))\n",
    "    days_since = [x for x,(_, _) in counts]\n",
    "    dates = [x for _,(x, _)  in counts]\n",
    "    freqs = [x for _,(_,x) in counts]\n",
    "    return dates, freqs, days_since\n",
    "\n",
    "def get_confirmed_df(df_all, country, start_count=10):\n",
    "    dates, freqs, days_since = get_count_data(df_all, country, start_count)\n",
    "    x = pd.DataFrame({\n",
    "        'date': dates,\n",
    "        'country': country,\n",
    "        'cases': freqs,\n",
    "        'new_cases': np.hstack((np.array([0]), np.diff(freqs))),\n",
    "        'days_since_{}_cases'.format(start_count): days_since\n",
    "    })\n",
    "    return x\n",
    "\n",
    "def get_deaths_df(df_all, country, start_count=0):\n",
    "    dates, freqs, days_since = get_count_data(df_all, country, start_count)\n",
    "    x = pd.DataFrame({\n",
    "        'date': dates,\n",
    "        'country': country,\n",
    "        'deaths': freqs,\n",
    "        'new_deaths': np.hstack((np.array([0]), np.diff(freqs))),\n",
    "        'days_since_{}_deaths'.format(start_count): days_since\n",
    "    })\n",
    "    return x\n",
    "    "
   ]
  },
  {
   "cell_type": "code",
   "execution_count": 4,
   "metadata": {},
   "outputs": [],
   "source": [
    "#hide\n",
    "cases_ie = get_confirmed_df(confirmed, 'Ireland')\n",
    "cases_it = get_confirmed_df(confirmed, 'Italy')\n",
    "cases_es = get_confirmed_df(confirmed, 'Spain')"
   ]
  },
  {
   "cell_type": "code",
   "execution_count": 6,
   "metadata": {},
   "outputs": [],
   "source": [
    "#hide\n",
    "\n",
    "#figures from https://en.wikipedia.org/wiki/List_of_countries_and_dependencies_by_population\n",
    "population_in_m_ie = 4.9\n",
    "population_in_m_it = 60.2\n",
    "population_in_m_es = 47.1"
   ]
  },
  {
   "cell_type": "code",
   "execution_count": 7,
   "metadata": {},
   "outputs": [],
   "source": [
    "#hide\n",
    "\n",
    "source_ie = pd.DataFrame({\n",
    "    'country': 'Ireland',\n",
    "    'date': cases_ie['date'],\n",
    "    'days_since_10_cases': cases_ie['days_since_10_cases'],\n",
    "    'confirmed_cases': cases_ie['cases'],\n",
    "    'confirmed_cases_per_million': np.round(cases_ie['cases']/population_in_m_ie),\n",
    "    'new_cases': cases_ie['new_cases']\n",
    "})\n",
    "\n",
    "source_it = pd.DataFrame({\n",
    "    'country': 'Italy',\n",
    "    'date': cases_it['date'],\n",
    "    'days_since_10_cases': cases_it['days_since_10_cases'],\n",
    "    'confirmed_cases': cases_it['cases'],\n",
    "    'confirmed_cases_per_million': np.round(cases_it['cases']/population_in_m_it),\n",
    "    'new_cases': cases_it['new_cases']\n",
    "})\n",
    "\n",
    "source_es = pd.DataFrame({\n",
    "    'country': 'Spain',\n",
    "    'date': cases_es['date'],\n",
    "    'days_since_10_cases': cases_es['days_since_10_cases'],\n",
    "    'confirmed_cases': cases_es['cases'],\n",
    "    'confirmed_cases_per_million': np.round(cases_es['cases']/population_in_m_es),\n",
    "    'new_cases': cases_es['new_cases']\n",
    "})\n"
   ]
  },
  {
   "cell_type": "code",
   "execution_count": 19,
   "metadata": {},
   "outputs": [
    {
     "data": {
      "text/html": [
       "\n",
       "<div id=\"altair-viz-e718994b71ac4b18b478454966898b5d\"></div>\n",
       "<script type=\"text/javascript\">\n",
       "  (function(spec, embedOpt){\n",
       "    const outputDiv = document.getElementById(\"altair-viz-e718994b71ac4b18b478454966898b5d\");\n",
       "    const paths = {\n",
       "      \"vega\": \"https://cdn.jsdelivr.net/npm//vega@5?noext\",\n",
       "      \"vega-lib\": \"https://cdn.jsdelivr.net/npm//vega-lib?noext\",\n",
       "      \"vega-lite\": \"https://cdn.jsdelivr.net/npm//vega-lite@4.0.2?noext\",\n",
       "      \"vega-embed\": \"https://cdn.jsdelivr.net/npm//vega-embed@6?noext\",\n",
       "    };\n",
       "\n",
       "    function loadScript(lib) {\n",
       "      return new Promise(function(resolve, reject) {\n",
       "        var s = document.createElement('script');\n",
       "        s.src = paths[lib];\n",
       "        s.async = true;\n",
       "        s.onload = () => resolve(paths[lib]);\n",
       "        s.onerror = () => reject(`Error loading script: ${paths[lib]}`);\n",
       "        document.getElementsByTagName(\"head\")[0].appendChild(s);\n",
       "      });\n",
       "    }\n",
       "\n",
       "    function showError(err) {\n",
       "      outputDiv.innerHTML = `<div class=\"error\" style=\"color:red;\">${err}</div>`;\n",
       "      throw err;\n",
       "    }\n",
       "\n",
       "    function displayChart(vegaEmbed) {\n",
       "      vegaEmbed(outputDiv, spec, embedOpt)\n",
       "        .catch(err => showError(`Javascript Error: ${err.message}<br>This usually means there's a typo in your chart specification. See the javascript console for the full traceback.`));\n",
       "    }\n",
       "\n",
       "    if(typeof define === \"function\" && define.amd) {\n",
       "      requirejs.config({paths});\n",
       "      require([\"vega-embed\"], displayChart, err => showError(`Error loading script: ${err.message}`));\n",
       "    } else if (typeof vegaEmbed === \"function\") {\n",
       "      displayChart(vegaEmbed);\n",
       "    } else {\n",
       "      loadScript(\"vega\")\n",
       "        .then(() => loadScript(\"vega-lite\"))\n",
       "        .then(() => loadScript(\"vega-embed\"))\n",
       "        .catch(showError)\n",
       "        .then(() => displayChart(vegaEmbed));\n",
       "    }\n",
       "  })({\"config\": {\"view\": {\"continuousWidth\": 400, \"continuousHeight\": 300}}, \"data\": {\"name\": \"data-4b656f962742ef0edf51a449fa69f944\"}, \"mark\": {\"type\": \"circle\", \"color\": \"green\", \"opacity\": 0.7}, \"encoding\": {\"size\": {\"type\": \"quantitative\", \"field\": \"new_cases\", \"title\": \"Number of new cases in Ireland\"}, \"tooltip\": [{\"type\": \"nominal\", \"field\": \"country\"}, {\"type\": \"temporal\", \"field\": \"date\"}, {\"type\": \"quantitative\", \"field\": \"confirmed_cases\"}, {\"type\": \"quantitative\", \"field\": \"new_cases\"}], \"x\": {\"type\": \"quantitative\", \"field\": \"days_since_10_cases\"}, \"y\": {\"type\": \"quantitative\", \"field\": \"confirmed_cases\", \"scale\": {\"type\": \"sqrt\"}}}, \"$schema\": \"https://vega.github.io/schema/vega-lite/v4.0.2.json\", \"datasets\": {\"data-4b656f962742ef0edf51a449fa69f944\": [{\"country\": \"Ireland\", \"date\": \"2020-03-06\", \"days_since_10_cases\": 0, \"confirmed_cases\": 18, \"confirmed_cases_per_million\": 4.0, \"new_cases\": 0}, {\"country\": \"Ireland\", \"date\": \"2020-03-07\", \"days_since_10_cases\": 1, \"confirmed_cases\": 18, \"confirmed_cases_per_million\": 4.0, \"new_cases\": 0}, {\"country\": \"Ireland\", \"date\": \"2020-03-08\", \"days_since_10_cases\": 2, \"confirmed_cases\": 19, \"confirmed_cases_per_million\": 4.0, \"new_cases\": 1}, {\"country\": \"Ireland\", \"date\": \"2020-03-09\", \"days_since_10_cases\": 3, \"confirmed_cases\": 21, \"confirmed_cases_per_million\": 4.0, \"new_cases\": 2}, {\"country\": \"Ireland\", \"date\": \"2020-03-10\", \"days_since_10_cases\": 4, \"confirmed_cases\": 34, \"confirmed_cases_per_million\": 7.0, \"new_cases\": 13}, {\"country\": \"Ireland\", \"date\": \"2020-03-11\", \"days_since_10_cases\": 5, \"confirmed_cases\": 43, \"confirmed_cases_per_million\": 9.0, \"new_cases\": 9}, {\"country\": \"Ireland\", \"date\": \"2020-03-12\", \"days_since_10_cases\": 6, \"confirmed_cases\": 43, \"confirmed_cases_per_million\": 9.0, \"new_cases\": 0}, {\"country\": \"Ireland\", \"date\": \"2020-03-13\", \"days_since_10_cases\": 7, \"confirmed_cases\": 90, \"confirmed_cases_per_million\": 18.0, \"new_cases\": 47}, {\"country\": \"Ireland\", \"date\": \"2020-03-14\", \"days_since_10_cases\": 8, \"confirmed_cases\": 129, \"confirmed_cases_per_million\": 26.0, \"new_cases\": 39}, {\"country\": \"Ireland\", \"date\": \"2020-03-15\", \"days_since_10_cases\": 9, \"confirmed_cases\": 129, \"confirmed_cases_per_million\": 26.0, \"new_cases\": 0}, {\"country\": \"Ireland\", \"date\": \"2020-03-16\", \"days_since_10_cases\": 10, \"confirmed_cases\": 169, \"confirmed_cases_per_million\": 34.0, \"new_cases\": 40}, {\"country\": \"Ireland\", \"date\": \"2020-03-17\", \"days_since_10_cases\": 11, \"confirmed_cases\": 223, \"confirmed_cases_per_million\": 46.0, \"new_cases\": 54}, {\"country\": \"Ireland\", \"date\": \"2020-03-18\", \"days_since_10_cases\": 12, \"confirmed_cases\": 292, \"confirmed_cases_per_million\": 60.0, \"new_cases\": 69}, {\"country\": \"Ireland\", \"date\": \"2020-03-19\", \"days_since_10_cases\": 13, \"confirmed_cases\": 557, \"confirmed_cases_per_million\": 114.0, \"new_cases\": 265}, {\"country\": \"Ireland\", \"date\": \"2020-03-20\", \"days_since_10_cases\": 14, \"confirmed_cases\": 683, \"confirmed_cases_per_million\": 139.0, \"new_cases\": 126}, {\"country\": \"Ireland\", \"date\": \"2020-03-21\", \"days_since_10_cases\": 15, \"confirmed_cases\": 785, \"confirmed_cases_per_million\": 160.0, \"new_cases\": 102}, {\"country\": \"Ireland\", \"date\": \"2020-03-22\", \"days_since_10_cases\": 16, \"confirmed_cases\": 906, \"confirmed_cases_per_million\": 185.0, \"new_cases\": 121}, {\"country\": \"Ireland\", \"date\": \"2020-03-23\", \"days_since_10_cases\": 17, \"confirmed_cases\": 1125, \"confirmed_cases_per_million\": 230.0, \"new_cases\": 219}, {\"country\": \"Ireland\", \"date\": \"2020-03-24\", \"days_since_10_cases\": 18, \"confirmed_cases\": 1329, \"confirmed_cases_per_million\": 271.0, \"new_cases\": 204}, {\"country\": \"Ireland\", \"date\": \"2020-03-25\", \"days_since_10_cases\": 19, \"confirmed_cases\": 1564, \"confirmed_cases_per_million\": 319.0, \"new_cases\": 235}, {\"country\": \"Ireland\", \"date\": \"2020-03-26\", \"days_since_10_cases\": 20, \"confirmed_cases\": 1819, \"confirmed_cases_per_million\": 371.0, \"new_cases\": 255}, {\"country\": \"Ireland\", \"date\": \"2020-03-27\", \"days_since_10_cases\": 21, \"confirmed_cases\": 2121, \"confirmed_cases_per_million\": 433.0, \"new_cases\": 302}, {\"country\": \"Ireland\", \"date\": \"2020-03-28\", \"days_since_10_cases\": 22, \"confirmed_cases\": 2415, \"confirmed_cases_per_million\": 493.0, \"new_cases\": 294}]}}, {\"mode\": \"vega-lite\"});\n",
       "</script>"
      ],
      "text/plain": [
       "alt.Chart(...)"
      ]
     },
     "execution_count": 19,
     "metadata": {},
     "output_type": "execute_result"
    }
   ],
   "source": [
    "#hide\n",
    "\n",
    "cases_ie_plot = alt.Chart(source_ie).mark_circle(\n",
    "    color='green',\n",
    "    opacity=0.7).encode(\n",
    "    x='days_since_10_cases:Q',\n",
    "#     y='confirmed_cases:Q',\n",
    "    y=alt.Y('confirmed_cases:Q', scale=alt.Scale(type='sqrt')),\n",
    "    size=alt.Size('new_cases:Q', title=\"Number of new cases in Ireland\"),\n",
    "    tooltip=['country', 'date:T', 'confirmed_cases', 'new_cases']\n",
    ")#.interactive()\n",
    "\n",
    "cases_ie_plot"
   ]
  },
  {
   "cell_type": "code",
   "execution_count": 9,
   "metadata": {},
   "outputs": [
    {
     "data": {
      "text/html": [
       "\n",
       "<div id=\"altair-viz-d8f3454b505b40afb94c8ea5c37e9d77\"></div>\n",
       "<script type=\"text/javascript\">\n",
       "  (function(spec, embedOpt){\n",
       "    const outputDiv = document.getElementById(\"altair-viz-d8f3454b505b40afb94c8ea5c37e9d77\");\n",
       "    const paths = {\n",
       "      \"vega\": \"https://cdn.jsdelivr.net/npm//vega@5?noext\",\n",
       "      \"vega-lib\": \"https://cdn.jsdelivr.net/npm//vega-lib?noext\",\n",
       "      \"vega-lite\": \"https://cdn.jsdelivr.net/npm//vega-lite@4.0.2?noext\",\n",
       "      \"vega-embed\": \"https://cdn.jsdelivr.net/npm//vega-embed@6?noext\",\n",
       "    };\n",
       "\n",
       "    function loadScript(lib) {\n",
       "      return new Promise(function(resolve, reject) {\n",
       "        var s = document.createElement('script');\n",
       "        s.src = paths[lib];\n",
       "        s.async = true;\n",
       "        s.onload = () => resolve(paths[lib]);\n",
       "        s.onerror = () => reject(`Error loading script: ${paths[lib]}`);\n",
       "        document.getElementsByTagName(\"head\")[0].appendChild(s);\n",
       "      });\n",
       "    }\n",
       "\n",
       "    function showError(err) {\n",
       "      outputDiv.innerHTML = `<div class=\"error\" style=\"color:red;\">${err}</div>`;\n",
       "      throw err;\n",
       "    }\n",
       "\n",
       "    function displayChart(vegaEmbed) {\n",
       "      vegaEmbed(outputDiv, spec, embedOpt)\n",
       "        .catch(err => showError(`Javascript Error: ${err.message}<br>This usually means there's a typo in your chart specification. See the javascript console for the full traceback.`));\n",
       "    }\n",
       "\n",
       "    if(typeof define === \"function\" && define.amd) {\n",
       "      requirejs.config({paths});\n",
       "      require([\"vega-embed\"], displayChart, err => showError(`Error loading script: ${err.message}`));\n",
       "    } else if (typeof vegaEmbed === \"function\") {\n",
       "      displayChart(vegaEmbed);\n",
       "    } else {\n",
       "      loadScript(\"vega\")\n",
       "        .then(() => loadScript(\"vega-lite\"))\n",
       "        .then(() => loadScript(\"vega-embed\"))\n",
       "        .catch(showError)\n",
       "        .then(() => displayChart(vegaEmbed));\n",
       "    }\n",
       "  })({\"config\": {\"view\": {\"continuousWidth\": 400, \"continuousHeight\": 300}}, \"data\": {\"name\": \"data-774efa6f17819813874601c0a04312df\"}, \"mark\": {\"type\": \"line\", \"color\": \"blue\", \"opacity\": 0.5, \"point\": true, \"strokeDash\": [4, 4], \"strokeWidth\": 3}, \"encoding\": {\"color\": {\"type\": \"nominal\", \"field\": \"country\", \"scale\": {\"domain\": [\"Italy\"], \"range\": [\"blue\"]}, \"title\": \"Country\"}, \"tooltip\": [{\"type\": \"nominal\", \"field\": \"country\"}, {\"type\": \"temporal\", \"field\": \"date\"}, {\"type\": \"quantitative\", \"field\": \"confirmed_cases\"}, {\"type\": \"quantitative\", \"field\": \"new_cases\"}], \"x\": {\"type\": \"quantitative\", \"field\": \"days_since_10_cases\"}, \"y\": {\"type\": \"quantitative\", \"field\": \"confirmed_cases\", \"scale\": {\"type\": \"sqrt\"}}}, \"$schema\": \"https://vega.github.io/schema/vega-lite/v4.0.2.json\", \"datasets\": {\"data-774efa6f17819813874601c0a04312df\": [{\"country\": \"Italy\", \"date\": \"2020-02-21\", \"days_since_10_cases\": 0, \"confirmed_cases\": 20, \"confirmed_cases_per_million\": 0.0, \"new_cases\": 0}, {\"country\": \"Italy\", \"date\": \"2020-02-22\", \"days_since_10_cases\": 1, \"confirmed_cases\": 62, \"confirmed_cases_per_million\": 1.0, \"new_cases\": 42}, {\"country\": \"Italy\", \"date\": \"2020-02-23\", \"days_since_10_cases\": 2, \"confirmed_cases\": 155, \"confirmed_cases_per_million\": 3.0, \"new_cases\": 93}, {\"country\": \"Italy\", \"date\": \"2020-02-24\", \"days_since_10_cases\": 3, \"confirmed_cases\": 229, \"confirmed_cases_per_million\": 4.0, \"new_cases\": 74}, {\"country\": \"Italy\", \"date\": \"2020-02-25\", \"days_since_10_cases\": 4, \"confirmed_cases\": 322, \"confirmed_cases_per_million\": 5.0, \"new_cases\": 93}, {\"country\": \"Italy\", \"date\": \"2020-02-26\", \"days_since_10_cases\": 5, \"confirmed_cases\": 453, \"confirmed_cases_per_million\": 8.0, \"new_cases\": 131}, {\"country\": \"Italy\", \"date\": \"2020-02-27\", \"days_since_10_cases\": 6, \"confirmed_cases\": 655, \"confirmed_cases_per_million\": 11.0, \"new_cases\": 202}, {\"country\": \"Italy\", \"date\": \"2020-02-28\", \"days_since_10_cases\": 7, \"confirmed_cases\": 888, \"confirmed_cases_per_million\": 15.0, \"new_cases\": 233}, {\"country\": \"Italy\", \"date\": \"2020-02-29\", \"days_since_10_cases\": 8, \"confirmed_cases\": 1128, \"confirmed_cases_per_million\": 19.0, \"new_cases\": 240}, {\"country\": \"Italy\", \"date\": \"2020-03-01\", \"days_since_10_cases\": 9, \"confirmed_cases\": 1694, \"confirmed_cases_per_million\": 28.0, \"new_cases\": 566}, {\"country\": \"Italy\", \"date\": \"2020-03-02\", \"days_since_10_cases\": 10, \"confirmed_cases\": 2036, \"confirmed_cases_per_million\": 34.0, \"new_cases\": 342}, {\"country\": \"Italy\", \"date\": \"2020-03-03\", \"days_since_10_cases\": 11, \"confirmed_cases\": 2502, \"confirmed_cases_per_million\": 42.0, \"new_cases\": 466}, {\"country\": \"Italy\", \"date\": \"2020-03-04\", \"days_since_10_cases\": 12, \"confirmed_cases\": 3089, \"confirmed_cases_per_million\": 51.0, \"new_cases\": 587}, {\"country\": \"Italy\", \"date\": \"2020-03-05\", \"days_since_10_cases\": 13, \"confirmed_cases\": 3858, \"confirmed_cases_per_million\": 64.0, \"new_cases\": 769}, {\"country\": \"Italy\", \"date\": \"2020-03-06\", \"days_since_10_cases\": 14, \"confirmed_cases\": 4636, \"confirmed_cases_per_million\": 77.0, \"new_cases\": 778}, {\"country\": \"Italy\", \"date\": \"2020-03-07\", \"days_since_10_cases\": 15, \"confirmed_cases\": 5883, \"confirmed_cases_per_million\": 98.0, \"new_cases\": 1247}, {\"country\": \"Italy\", \"date\": \"2020-03-08\", \"days_since_10_cases\": 16, \"confirmed_cases\": 7375, \"confirmed_cases_per_million\": 123.0, \"new_cases\": 1492}, {\"country\": \"Italy\", \"date\": \"2020-03-09\", \"days_since_10_cases\": 17, \"confirmed_cases\": 9172, \"confirmed_cases_per_million\": 152.0, \"new_cases\": 1797}, {\"country\": \"Italy\", \"date\": \"2020-03-10\", \"days_since_10_cases\": 18, \"confirmed_cases\": 10149, \"confirmed_cases_per_million\": 169.0, \"new_cases\": 977}, {\"country\": \"Italy\", \"date\": \"2020-03-11\", \"days_since_10_cases\": 19, \"confirmed_cases\": 12462, \"confirmed_cases_per_million\": 207.0, \"new_cases\": 2313}, {\"country\": \"Italy\", \"date\": \"2020-03-12\", \"days_since_10_cases\": 20, \"confirmed_cases\": 12462, \"confirmed_cases_per_million\": 207.0, \"new_cases\": 0}, {\"country\": \"Italy\", \"date\": \"2020-03-13\", \"days_since_10_cases\": 21, \"confirmed_cases\": 17660, \"confirmed_cases_per_million\": 293.0, \"new_cases\": 5198}, {\"country\": \"Italy\", \"date\": \"2020-03-14\", \"days_since_10_cases\": 22, \"confirmed_cases\": 21157, \"confirmed_cases_per_million\": 351.0, \"new_cases\": 3497}, {\"country\": \"Italy\", \"date\": \"2020-03-15\", \"days_since_10_cases\": 23, \"confirmed_cases\": 24747, \"confirmed_cases_per_million\": 411.0, \"new_cases\": 3590}, {\"country\": \"Italy\", \"date\": \"2020-03-16\", \"days_since_10_cases\": 24, \"confirmed_cases\": 27980, \"confirmed_cases_per_million\": 465.0, \"new_cases\": 3233}, {\"country\": \"Italy\", \"date\": \"2020-03-17\", \"days_since_10_cases\": 25, \"confirmed_cases\": 31506, \"confirmed_cases_per_million\": 523.0, \"new_cases\": 3526}, {\"country\": \"Italy\", \"date\": \"2020-03-18\", \"days_since_10_cases\": 26, \"confirmed_cases\": 35713, \"confirmed_cases_per_million\": 593.0, \"new_cases\": 4207}, {\"country\": \"Italy\", \"date\": \"2020-03-19\", \"days_since_10_cases\": 27, \"confirmed_cases\": 41035, \"confirmed_cases_per_million\": 682.0, \"new_cases\": 5322}, {\"country\": \"Italy\", \"date\": \"2020-03-20\", \"days_since_10_cases\": 28, \"confirmed_cases\": 47021, \"confirmed_cases_per_million\": 781.0, \"new_cases\": 5986}, {\"country\": \"Italy\", \"date\": \"2020-03-21\", \"days_since_10_cases\": 29, \"confirmed_cases\": 53578, \"confirmed_cases_per_million\": 890.0, \"new_cases\": 6557}, {\"country\": \"Italy\", \"date\": \"2020-03-22\", \"days_since_10_cases\": 30, \"confirmed_cases\": 59138, \"confirmed_cases_per_million\": 982.0, \"new_cases\": 5560}, {\"country\": \"Italy\", \"date\": \"2020-03-23\", \"days_since_10_cases\": 31, \"confirmed_cases\": 63927, \"confirmed_cases_per_million\": 1062.0, \"new_cases\": 4789}, {\"country\": \"Italy\", \"date\": \"2020-03-24\", \"days_since_10_cases\": 32, \"confirmed_cases\": 69176, \"confirmed_cases_per_million\": 1149.0, \"new_cases\": 5249}, {\"country\": \"Italy\", \"date\": \"2020-03-25\", \"days_since_10_cases\": 33, \"confirmed_cases\": 74386, \"confirmed_cases_per_million\": 1236.0, \"new_cases\": 5210}, {\"country\": \"Italy\", \"date\": \"2020-03-26\", \"days_since_10_cases\": 34, \"confirmed_cases\": 80589, \"confirmed_cases_per_million\": 1339.0, \"new_cases\": 6203}, {\"country\": \"Italy\", \"date\": \"2020-03-27\", \"days_since_10_cases\": 35, \"confirmed_cases\": 86498, \"confirmed_cases_per_million\": 1437.0, \"new_cases\": 5909}, {\"country\": \"Italy\", \"date\": \"2020-03-28\", \"days_since_10_cases\": 36, \"confirmed_cases\": 92472, \"confirmed_cases_per_million\": 1536.0, \"new_cases\": 5974}]}}, {\"mode\": \"vega-lite\"});\n",
       "</script>"
      ],
      "text/plain": [
       "alt.Chart(...)"
      ]
     },
     "execution_count": 9,
     "metadata": {},
     "output_type": "execute_result"
    }
   ],
   "source": [
    "#hide\n",
    "\n",
    "cases_it_plot = alt.Chart(source_it).mark_line(\n",
    "    color='blue',\n",
    "    opacity=0.5,\n",
    "    strokeDash=[4, 4],\n",
    "    strokeWidth=3,\n",
    "    point=True\n",
    ").encode(\n",
    "    x='days_since_10_cases:Q',\n",
    "#     y='confirmed_cases:Q',\n",
    "    y=alt.Y('confirmed_cases:Q', scale=alt.Scale(type='sqrt')),\n",
    "#     size='new_cases:Q',\n",
    "    tooltip=['country', 'date:T', 'confirmed_cases', 'new_cases'],\n",
    "    color=alt.Color('country', scale=alt.Scale(range=['blue'], domain=['Italy']), title=\"Country\")\n",
    ")\n",
    "\n",
    "\n",
    "\n",
    "cases_it_plot"
   ]
  },
  {
   "cell_type": "code",
   "execution_count": 10,
   "metadata": {},
   "outputs": [
    {
     "data": {
      "text/html": [
       "\n",
       "<div id=\"altair-viz-2f536ac0d4a0458a9222d7561ce50a24\"></div>\n",
       "<script type=\"text/javascript\">\n",
       "  (function(spec, embedOpt){\n",
       "    const outputDiv = document.getElementById(\"altair-viz-2f536ac0d4a0458a9222d7561ce50a24\");\n",
       "    const paths = {\n",
       "      \"vega\": \"https://cdn.jsdelivr.net/npm//vega@5?noext\",\n",
       "      \"vega-lib\": \"https://cdn.jsdelivr.net/npm//vega-lib?noext\",\n",
       "      \"vega-lite\": \"https://cdn.jsdelivr.net/npm//vega-lite@4.0.2?noext\",\n",
       "      \"vega-embed\": \"https://cdn.jsdelivr.net/npm//vega-embed@6?noext\",\n",
       "    };\n",
       "\n",
       "    function loadScript(lib) {\n",
       "      return new Promise(function(resolve, reject) {\n",
       "        var s = document.createElement('script');\n",
       "        s.src = paths[lib];\n",
       "        s.async = true;\n",
       "        s.onload = () => resolve(paths[lib]);\n",
       "        s.onerror = () => reject(`Error loading script: ${paths[lib]}`);\n",
       "        document.getElementsByTagName(\"head\")[0].appendChild(s);\n",
       "      });\n",
       "    }\n",
       "\n",
       "    function showError(err) {\n",
       "      outputDiv.innerHTML = `<div class=\"error\" style=\"color:red;\">${err}</div>`;\n",
       "      throw err;\n",
       "    }\n",
       "\n",
       "    function displayChart(vegaEmbed) {\n",
       "      vegaEmbed(outputDiv, spec, embedOpt)\n",
       "        .catch(err => showError(`Javascript Error: ${err.message}<br>This usually means there's a typo in your chart specification. See the javascript console for the full traceback.`));\n",
       "    }\n",
       "\n",
       "    if(typeof define === \"function\" && define.amd) {\n",
       "      requirejs.config({paths});\n",
       "      require([\"vega-embed\"], displayChart, err => showError(`Error loading script: ${err.message}`));\n",
       "    } else if (typeof vegaEmbed === \"function\") {\n",
       "      displayChart(vegaEmbed);\n",
       "    } else {\n",
       "      loadScript(\"vega\")\n",
       "        .then(() => loadScript(\"vega-lite\"))\n",
       "        .then(() => loadScript(\"vega-embed\"))\n",
       "        .catch(showError)\n",
       "        .then(() => displayChart(vegaEmbed));\n",
       "    }\n",
       "  })({\"config\": {\"view\": {\"continuousWidth\": 400, \"continuousHeight\": 300}}, \"data\": {\"name\": \"data-a14ef43bb8e966ff8fbe282c2f68c0ac\"}, \"mark\": {\"type\": \"line\", \"color\": \"red\", \"opacity\": 0.5, \"point\": true, \"strokeDash\": [4, 4], \"strokeWidth\": 3}, \"encoding\": {\"color\": {\"type\": \"nominal\", \"field\": \"country\", \"scale\": {\"domain\": [\"Spain\"], \"range\": [\"red\"]}, \"title\": \"\"}, \"tooltip\": [{\"type\": \"nominal\", \"field\": \"country\"}, {\"type\": \"temporal\", \"field\": \"date\"}, {\"type\": \"quantitative\", \"field\": \"confirmed_cases\"}, {\"type\": \"quantitative\", \"field\": \"new_cases\"}], \"x\": {\"type\": \"quantitative\", \"field\": \"days_since_10_cases\"}, \"y\": {\"type\": \"quantitative\", \"field\": \"confirmed_cases\", \"scale\": {\"type\": \"sqrt\"}}}, \"$schema\": \"https://vega.github.io/schema/vega-lite/v4.0.2.json\", \"datasets\": {\"data-a14ef43bb8e966ff8fbe282c2f68c0ac\": [{\"country\": \"Spain\", \"date\": \"2020-02-26\", \"days_since_10_cases\": 0, \"confirmed_cases\": 13, \"confirmed_cases_per_million\": 0.0, \"new_cases\": 0}, {\"country\": \"Spain\", \"date\": \"2020-02-27\", \"days_since_10_cases\": 1, \"confirmed_cases\": 15, \"confirmed_cases_per_million\": 0.0, \"new_cases\": 2}, {\"country\": \"Spain\", \"date\": \"2020-02-28\", \"days_since_10_cases\": 2, \"confirmed_cases\": 32, \"confirmed_cases_per_million\": 1.0, \"new_cases\": 17}, {\"country\": \"Spain\", \"date\": \"2020-02-29\", \"days_since_10_cases\": 3, \"confirmed_cases\": 45, \"confirmed_cases_per_million\": 1.0, \"new_cases\": 13}, {\"country\": \"Spain\", \"date\": \"2020-03-01\", \"days_since_10_cases\": 4, \"confirmed_cases\": 84, \"confirmed_cases_per_million\": 2.0, \"new_cases\": 39}, {\"country\": \"Spain\", \"date\": \"2020-03-02\", \"days_since_10_cases\": 5, \"confirmed_cases\": 120, \"confirmed_cases_per_million\": 3.0, \"new_cases\": 36}, {\"country\": \"Spain\", \"date\": \"2020-03-03\", \"days_since_10_cases\": 6, \"confirmed_cases\": 165, \"confirmed_cases_per_million\": 4.0, \"new_cases\": 45}, {\"country\": \"Spain\", \"date\": \"2020-03-04\", \"days_since_10_cases\": 7, \"confirmed_cases\": 222, \"confirmed_cases_per_million\": 5.0, \"new_cases\": 57}, {\"country\": \"Spain\", \"date\": \"2020-03-05\", \"days_since_10_cases\": 8, \"confirmed_cases\": 259, \"confirmed_cases_per_million\": 5.0, \"new_cases\": 37}, {\"country\": \"Spain\", \"date\": \"2020-03-06\", \"days_since_10_cases\": 9, \"confirmed_cases\": 400, \"confirmed_cases_per_million\": 8.0, \"new_cases\": 141}, {\"country\": \"Spain\", \"date\": \"2020-03-07\", \"days_since_10_cases\": 10, \"confirmed_cases\": 500, \"confirmed_cases_per_million\": 11.0, \"new_cases\": 100}, {\"country\": \"Spain\", \"date\": \"2020-03-08\", \"days_since_10_cases\": 11, \"confirmed_cases\": 673, \"confirmed_cases_per_million\": 14.0, \"new_cases\": 173}, {\"country\": \"Spain\", \"date\": \"2020-03-09\", \"days_since_10_cases\": 12, \"confirmed_cases\": 1073, \"confirmed_cases_per_million\": 23.0, \"new_cases\": 400}, {\"country\": \"Spain\", \"date\": \"2020-03-10\", \"days_since_10_cases\": 13, \"confirmed_cases\": 1695, \"confirmed_cases_per_million\": 36.0, \"new_cases\": 622}, {\"country\": \"Spain\", \"date\": \"2020-03-11\", \"days_since_10_cases\": 14, \"confirmed_cases\": 2277, \"confirmed_cases_per_million\": 48.0, \"new_cases\": 582}, {\"country\": \"Spain\", \"date\": \"2020-03-12\", \"days_since_10_cases\": 15, \"confirmed_cases\": 2277, \"confirmed_cases_per_million\": 48.0, \"new_cases\": 0}, {\"country\": \"Spain\", \"date\": \"2020-03-13\", \"days_since_10_cases\": 16, \"confirmed_cases\": 5232, \"confirmed_cases_per_million\": 111.0, \"new_cases\": 2955}, {\"country\": \"Spain\", \"date\": \"2020-03-14\", \"days_since_10_cases\": 17, \"confirmed_cases\": 6391, \"confirmed_cases_per_million\": 136.0, \"new_cases\": 1159}, {\"country\": \"Spain\", \"date\": \"2020-03-15\", \"days_since_10_cases\": 18, \"confirmed_cases\": 7798, \"confirmed_cases_per_million\": 166.0, \"new_cases\": 1407}, {\"country\": \"Spain\", \"date\": \"2020-03-16\", \"days_since_10_cases\": 19, \"confirmed_cases\": 9942, \"confirmed_cases_per_million\": 211.0, \"new_cases\": 2144}, {\"country\": \"Spain\", \"date\": \"2020-03-17\", \"days_since_10_cases\": 20, \"confirmed_cases\": 11748, \"confirmed_cases_per_million\": 249.0, \"new_cases\": 1806}, {\"country\": \"Spain\", \"date\": \"2020-03-18\", \"days_since_10_cases\": 21, \"confirmed_cases\": 13910, \"confirmed_cases_per_million\": 295.0, \"new_cases\": 2162}, {\"country\": \"Spain\", \"date\": \"2020-03-19\", \"days_since_10_cases\": 22, \"confirmed_cases\": 17963, \"confirmed_cases_per_million\": 381.0, \"new_cases\": 4053}, {\"country\": \"Spain\", \"date\": \"2020-03-20\", \"days_since_10_cases\": 23, \"confirmed_cases\": 20410, \"confirmed_cases_per_million\": 433.0, \"new_cases\": 2447}, {\"country\": \"Spain\", \"date\": \"2020-03-21\", \"days_since_10_cases\": 24, \"confirmed_cases\": 25374, \"confirmed_cases_per_million\": 539.0, \"new_cases\": 4964}, {\"country\": \"Spain\", \"date\": \"2020-03-22\", \"days_since_10_cases\": 25, \"confirmed_cases\": 28768, \"confirmed_cases_per_million\": 611.0, \"new_cases\": 3394}, {\"country\": \"Spain\", \"date\": \"2020-03-23\", \"days_since_10_cases\": 26, \"confirmed_cases\": 35136, \"confirmed_cases_per_million\": 746.0, \"new_cases\": 6368}, {\"country\": \"Spain\", \"date\": \"2020-03-24\", \"days_since_10_cases\": 27, \"confirmed_cases\": 39885, \"confirmed_cases_per_million\": 847.0, \"new_cases\": 4749}, {\"country\": \"Spain\", \"date\": \"2020-03-25\", \"days_since_10_cases\": 28, \"confirmed_cases\": 49515, \"confirmed_cases_per_million\": 1051.0, \"new_cases\": 9630}, {\"country\": \"Spain\", \"date\": \"2020-03-26\", \"days_since_10_cases\": 29, \"confirmed_cases\": 57786, \"confirmed_cases_per_million\": 1227.0, \"new_cases\": 8271}, {\"country\": \"Spain\", \"date\": \"2020-03-27\", \"days_since_10_cases\": 30, \"confirmed_cases\": 65719, \"confirmed_cases_per_million\": 1395.0, \"new_cases\": 7933}, {\"country\": \"Spain\", \"date\": \"2020-03-28\", \"days_since_10_cases\": 31, \"confirmed_cases\": 73235, \"confirmed_cases_per_million\": 1555.0, \"new_cases\": 7516}]}}, {\"mode\": \"vega-lite\"});\n",
       "</script>"
      ],
      "text/plain": [
       "alt.Chart(...)"
      ]
     },
     "execution_count": 10,
     "metadata": {},
     "output_type": "execute_result"
    }
   ],
   "source": [
    "#hide\n",
    "\n",
    "cases_es_plot = alt.Chart(source_es).mark_line(\n",
    "    color='red',\n",
    "    opacity=0.5,\n",
    "    strokeDash=[4,4],\n",
    "    strokeWidth=3,\n",
    "    point=True\n",
    ").encode(\n",
    "    x='days_since_10_cases:Q',\n",
    "#     y='confirmed_cases:Q',\n",
    "    y=alt.Y('confirmed_cases:Q', scale=alt.Scale(type='sqrt')),\n",
    "#     size='new_cases:Q',\n",
    "    tooltip=['country', 'date:T', 'confirmed_cases', 'new_cases'],\n",
    "    color=alt.Color('country', scale=alt.Scale(range=['red'], domain=['Spain']), title=\"\")\n",
    ")\n",
    "\n",
    "cases_es_plot"
   ]
  },
  {
   "cell_type": "code",
   "execution_count": 11,
   "metadata": {},
   "outputs": [],
   "source": [
    "#hide\n",
    "# # Number of persons tested positive for Covid-19 in Ireland\n",
    "# The figure below shows the total number of persons who tested positive for Covid-19 (_cases_) in Ireland, Italy, and Spain. The `x` axis corresponds to the number of days since at least 10 cases were detected. This allow us to compare Ireland's current situation to the observed in Italy and Spain earlier. The comparison using Italy and Spain is because those countries are still in a critical situation fighting the pandemia, and no country would like to be the next one in such situation. \n",
    "\n",
    "# For Ireland, the size of the circles for each day denotes the number of new persons confirmed infected that day.\n",
    "\n",
    "# **If we consider only the absolute numbers, we can see that the confirmed cases for Covid-19 in Ireland are below the ones observed in Italy and Spain at early stages. However, the populations of the three countries are very different and we have to account for that as well.**"
   ]
  },
  {
   "cell_type": "code",
   "execution_count": 12,
   "metadata": {},
   "outputs": [
    {
     "data": {
      "text/html": [
       "\n",
       "<div id=\"altair-viz-c126cd320299465e9b2fe87c44c85207\"></div>\n",
       "<script type=\"text/javascript\">\n",
       "  (function(spec, embedOpt){\n",
       "    const outputDiv = document.getElementById(\"altair-viz-c126cd320299465e9b2fe87c44c85207\");\n",
       "    const paths = {\n",
       "      \"vega\": \"https://cdn.jsdelivr.net/npm//vega@5?noext\",\n",
       "      \"vega-lib\": \"https://cdn.jsdelivr.net/npm//vega-lib?noext\",\n",
       "      \"vega-lite\": \"https://cdn.jsdelivr.net/npm//vega-lite@4.0.2?noext\",\n",
       "      \"vega-embed\": \"https://cdn.jsdelivr.net/npm//vega-embed@6?noext\",\n",
       "    };\n",
       "\n",
       "    function loadScript(lib) {\n",
       "      return new Promise(function(resolve, reject) {\n",
       "        var s = document.createElement('script');\n",
       "        s.src = paths[lib];\n",
       "        s.async = true;\n",
       "        s.onload = () => resolve(paths[lib]);\n",
       "        s.onerror = () => reject(`Error loading script: ${paths[lib]}`);\n",
       "        document.getElementsByTagName(\"head\")[0].appendChild(s);\n",
       "      });\n",
       "    }\n",
       "\n",
       "    function showError(err) {\n",
       "      outputDiv.innerHTML = `<div class=\"error\" style=\"color:red;\">${err}</div>`;\n",
       "      throw err;\n",
       "    }\n",
       "\n",
       "    function displayChart(vegaEmbed) {\n",
       "      vegaEmbed(outputDiv, spec, embedOpt)\n",
       "        .catch(err => showError(`Javascript Error: ${err.message}<br>This usually means there's a typo in your chart specification. See the javascript console for the full traceback.`));\n",
       "    }\n",
       "\n",
       "    if(typeof define === \"function\" && define.amd) {\n",
       "      requirejs.config({paths});\n",
       "      require([\"vega-embed\"], displayChart, err => showError(`Error loading script: ${err.message}`));\n",
       "    } else if (typeof vegaEmbed === \"function\") {\n",
       "      displayChart(vegaEmbed);\n",
       "    } else {\n",
       "      loadScript(\"vega\")\n",
       "        .then(() => loadScript(\"vega-lite\"))\n",
       "        .then(() => loadScript(\"vega-embed\"))\n",
       "        .catch(showError)\n",
       "        .then(() => displayChart(vegaEmbed));\n",
       "    }\n",
       "  })({\"config\": {\"view\": {\"continuousWidth\": 400, \"continuousHeight\": 300}}, \"layer\": [{\"data\": {\"name\": \"data-774efa6f17819813874601c0a04312df\"}, \"mark\": {\"type\": \"line\", \"color\": \"blue\", \"opacity\": 0.5, \"point\": true, \"strokeDash\": [4, 4], \"strokeWidth\": 3}, \"encoding\": {\"color\": {\"type\": \"nominal\", \"field\": \"country\", \"scale\": {\"domain\": [\"Italy\"], \"range\": [\"blue\"]}, \"title\": \"Country\"}, \"tooltip\": [{\"type\": \"nominal\", \"field\": \"country\"}, {\"type\": \"temporal\", \"field\": \"date\"}, {\"type\": \"quantitative\", \"field\": \"confirmed_cases\"}, {\"type\": \"quantitative\", \"field\": \"new_cases\"}], \"x\": {\"type\": \"quantitative\", \"field\": \"days_since_10_cases\"}, \"y\": {\"type\": \"quantitative\", \"field\": \"confirmed_cases\", \"scale\": {\"type\": \"sqrt\"}}}}, {\"data\": {\"name\": \"data-a14ef43bb8e966ff8fbe282c2f68c0ac\"}, \"mark\": {\"type\": \"line\", \"color\": \"red\", \"opacity\": 0.5, \"point\": true, \"strokeDash\": [4, 4], \"strokeWidth\": 3}, \"encoding\": {\"color\": {\"type\": \"nominal\", \"field\": \"country\", \"scale\": {\"domain\": [\"Spain\"], \"range\": [\"red\"]}, \"title\": \"\"}, \"tooltip\": [{\"type\": \"nominal\", \"field\": \"country\"}, {\"type\": \"temporal\", \"field\": \"date\"}, {\"type\": \"quantitative\", \"field\": \"confirmed_cases\"}, {\"type\": \"quantitative\", \"field\": \"new_cases\"}], \"x\": {\"type\": \"quantitative\", \"field\": \"days_since_10_cases\"}, \"y\": {\"type\": \"quantitative\", \"field\": \"confirmed_cases\", \"scale\": {\"type\": \"sqrt\"}}}}, {\"data\": {\"name\": \"data-4b656f962742ef0edf51a449fa69f944\"}, \"mark\": {\"type\": \"circle\", \"color\": \"green\", \"opacity\": 0.7}, \"encoding\": {\"size\": {\"type\": \"quantitative\", \"field\": \"new_cases\", \"title\": \"Number of new cases in Ireland\"}, \"tooltip\": [{\"type\": \"nominal\", \"field\": \"country\"}, {\"type\": \"temporal\", \"field\": \"date\"}, {\"type\": \"quantitative\", \"field\": \"confirmed_cases\"}, {\"type\": \"quantitative\", \"field\": \"new_cases\"}], \"x\": {\"type\": \"quantitative\", \"field\": \"days_since_10_cases\"}, \"y\": {\"type\": \"quantitative\", \"field\": \"confirmed_cases\", \"scale\": {\"type\": \"sqrt\"}}}}], \"resolve\": {\"scale\": {\"color\": \"independent\", \"shape\": \"independent\"}}, \"$schema\": \"https://vega.github.io/schema/vega-lite/v4.0.2.json\", \"datasets\": {\"data-774efa6f17819813874601c0a04312df\": [{\"country\": \"Italy\", \"date\": \"2020-02-21\", \"days_since_10_cases\": 0, \"confirmed_cases\": 20, \"confirmed_cases_per_million\": 0.0, \"new_cases\": 0}, {\"country\": \"Italy\", \"date\": \"2020-02-22\", \"days_since_10_cases\": 1, \"confirmed_cases\": 62, \"confirmed_cases_per_million\": 1.0, \"new_cases\": 42}, {\"country\": \"Italy\", \"date\": \"2020-02-23\", \"days_since_10_cases\": 2, \"confirmed_cases\": 155, \"confirmed_cases_per_million\": 3.0, \"new_cases\": 93}, {\"country\": \"Italy\", \"date\": \"2020-02-24\", \"days_since_10_cases\": 3, \"confirmed_cases\": 229, \"confirmed_cases_per_million\": 4.0, \"new_cases\": 74}, {\"country\": \"Italy\", \"date\": \"2020-02-25\", \"days_since_10_cases\": 4, \"confirmed_cases\": 322, \"confirmed_cases_per_million\": 5.0, \"new_cases\": 93}, {\"country\": \"Italy\", \"date\": \"2020-02-26\", \"days_since_10_cases\": 5, \"confirmed_cases\": 453, \"confirmed_cases_per_million\": 8.0, \"new_cases\": 131}, {\"country\": \"Italy\", \"date\": \"2020-02-27\", \"days_since_10_cases\": 6, \"confirmed_cases\": 655, \"confirmed_cases_per_million\": 11.0, \"new_cases\": 202}, {\"country\": \"Italy\", \"date\": \"2020-02-28\", \"days_since_10_cases\": 7, \"confirmed_cases\": 888, \"confirmed_cases_per_million\": 15.0, \"new_cases\": 233}, {\"country\": \"Italy\", \"date\": \"2020-02-29\", \"days_since_10_cases\": 8, \"confirmed_cases\": 1128, \"confirmed_cases_per_million\": 19.0, \"new_cases\": 240}, {\"country\": \"Italy\", \"date\": \"2020-03-01\", \"days_since_10_cases\": 9, \"confirmed_cases\": 1694, \"confirmed_cases_per_million\": 28.0, \"new_cases\": 566}, {\"country\": \"Italy\", \"date\": \"2020-03-02\", \"days_since_10_cases\": 10, \"confirmed_cases\": 2036, \"confirmed_cases_per_million\": 34.0, \"new_cases\": 342}, {\"country\": \"Italy\", \"date\": \"2020-03-03\", \"days_since_10_cases\": 11, \"confirmed_cases\": 2502, \"confirmed_cases_per_million\": 42.0, \"new_cases\": 466}, {\"country\": \"Italy\", \"date\": \"2020-03-04\", \"days_since_10_cases\": 12, \"confirmed_cases\": 3089, \"confirmed_cases_per_million\": 51.0, \"new_cases\": 587}, {\"country\": \"Italy\", \"date\": \"2020-03-05\", \"days_since_10_cases\": 13, \"confirmed_cases\": 3858, \"confirmed_cases_per_million\": 64.0, \"new_cases\": 769}, {\"country\": \"Italy\", \"date\": \"2020-03-06\", \"days_since_10_cases\": 14, \"confirmed_cases\": 4636, \"confirmed_cases_per_million\": 77.0, \"new_cases\": 778}, {\"country\": \"Italy\", \"date\": \"2020-03-07\", \"days_since_10_cases\": 15, \"confirmed_cases\": 5883, \"confirmed_cases_per_million\": 98.0, \"new_cases\": 1247}, {\"country\": \"Italy\", \"date\": \"2020-03-08\", \"days_since_10_cases\": 16, \"confirmed_cases\": 7375, \"confirmed_cases_per_million\": 123.0, \"new_cases\": 1492}, {\"country\": \"Italy\", \"date\": \"2020-03-09\", \"days_since_10_cases\": 17, \"confirmed_cases\": 9172, \"confirmed_cases_per_million\": 152.0, \"new_cases\": 1797}, {\"country\": \"Italy\", \"date\": \"2020-03-10\", \"days_since_10_cases\": 18, \"confirmed_cases\": 10149, \"confirmed_cases_per_million\": 169.0, \"new_cases\": 977}, {\"country\": \"Italy\", \"date\": \"2020-03-11\", \"days_since_10_cases\": 19, \"confirmed_cases\": 12462, \"confirmed_cases_per_million\": 207.0, \"new_cases\": 2313}, {\"country\": \"Italy\", \"date\": \"2020-03-12\", \"days_since_10_cases\": 20, \"confirmed_cases\": 12462, \"confirmed_cases_per_million\": 207.0, \"new_cases\": 0}, {\"country\": \"Italy\", \"date\": \"2020-03-13\", \"days_since_10_cases\": 21, \"confirmed_cases\": 17660, \"confirmed_cases_per_million\": 293.0, \"new_cases\": 5198}, {\"country\": \"Italy\", \"date\": \"2020-03-14\", \"days_since_10_cases\": 22, \"confirmed_cases\": 21157, \"confirmed_cases_per_million\": 351.0, \"new_cases\": 3497}, {\"country\": \"Italy\", \"date\": \"2020-03-15\", \"days_since_10_cases\": 23, \"confirmed_cases\": 24747, \"confirmed_cases_per_million\": 411.0, \"new_cases\": 3590}, {\"country\": \"Italy\", \"date\": \"2020-03-16\", \"days_since_10_cases\": 24, \"confirmed_cases\": 27980, \"confirmed_cases_per_million\": 465.0, \"new_cases\": 3233}, {\"country\": \"Italy\", \"date\": \"2020-03-17\", \"days_since_10_cases\": 25, \"confirmed_cases\": 31506, \"confirmed_cases_per_million\": 523.0, \"new_cases\": 3526}, {\"country\": \"Italy\", \"date\": \"2020-03-18\", \"days_since_10_cases\": 26, \"confirmed_cases\": 35713, \"confirmed_cases_per_million\": 593.0, \"new_cases\": 4207}, {\"country\": \"Italy\", \"date\": \"2020-03-19\", \"days_since_10_cases\": 27, \"confirmed_cases\": 41035, \"confirmed_cases_per_million\": 682.0, \"new_cases\": 5322}, {\"country\": \"Italy\", \"date\": \"2020-03-20\", \"days_since_10_cases\": 28, \"confirmed_cases\": 47021, \"confirmed_cases_per_million\": 781.0, \"new_cases\": 5986}, {\"country\": \"Italy\", \"date\": \"2020-03-21\", \"days_since_10_cases\": 29, \"confirmed_cases\": 53578, \"confirmed_cases_per_million\": 890.0, \"new_cases\": 6557}, {\"country\": \"Italy\", \"date\": \"2020-03-22\", \"days_since_10_cases\": 30, \"confirmed_cases\": 59138, \"confirmed_cases_per_million\": 982.0, \"new_cases\": 5560}, {\"country\": \"Italy\", \"date\": \"2020-03-23\", \"days_since_10_cases\": 31, \"confirmed_cases\": 63927, \"confirmed_cases_per_million\": 1062.0, \"new_cases\": 4789}, {\"country\": \"Italy\", \"date\": \"2020-03-24\", \"days_since_10_cases\": 32, \"confirmed_cases\": 69176, \"confirmed_cases_per_million\": 1149.0, \"new_cases\": 5249}, {\"country\": \"Italy\", \"date\": \"2020-03-25\", \"days_since_10_cases\": 33, \"confirmed_cases\": 74386, \"confirmed_cases_per_million\": 1236.0, \"new_cases\": 5210}, {\"country\": \"Italy\", \"date\": \"2020-03-26\", \"days_since_10_cases\": 34, \"confirmed_cases\": 80589, \"confirmed_cases_per_million\": 1339.0, \"new_cases\": 6203}, {\"country\": \"Italy\", \"date\": \"2020-03-27\", \"days_since_10_cases\": 35, \"confirmed_cases\": 86498, \"confirmed_cases_per_million\": 1437.0, \"new_cases\": 5909}, {\"country\": \"Italy\", \"date\": \"2020-03-28\", \"days_since_10_cases\": 36, \"confirmed_cases\": 92472, \"confirmed_cases_per_million\": 1536.0, \"new_cases\": 5974}], \"data-a14ef43bb8e966ff8fbe282c2f68c0ac\": [{\"country\": \"Spain\", \"date\": \"2020-02-26\", \"days_since_10_cases\": 0, \"confirmed_cases\": 13, \"confirmed_cases_per_million\": 0.0, \"new_cases\": 0}, {\"country\": \"Spain\", \"date\": \"2020-02-27\", \"days_since_10_cases\": 1, \"confirmed_cases\": 15, \"confirmed_cases_per_million\": 0.0, \"new_cases\": 2}, {\"country\": \"Spain\", \"date\": \"2020-02-28\", \"days_since_10_cases\": 2, \"confirmed_cases\": 32, \"confirmed_cases_per_million\": 1.0, \"new_cases\": 17}, {\"country\": \"Spain\", \"date\": \"2020-02-29\", \"days_since_10_cases\": 3, \"confirmed_cases\": 45, \"confirmed_cases_per_million\": 1.0, \"new_cases\": 13}, {\"country\": \"Spain\", \"date\": \"2020-03-01\", \"days_since_10_cases\": 4, \"confirmed_cases\": 84, \"confirmed_cases_per_million\": 2.0, \"new_cases\": 39}, {\"country\": \"Spain\", \"date\": \"2020-03-02\", \"days_since_10_cases\": 5, \"confirmed_cases\": 120, \"confirmed_cases_per_million\": 3.0, \"new_cases\": 36}, {\"country\": \"Spain\", \"date\": \"2020-03-03\", \"days_since_10_cases\": 6, \"confirmed_cases\": 165, \"confirmed_cases_per_million\": 4.0, \"new_cases\": 45}, {\"country\": \"Spain\", \"date\": \"2020-03-04\", \"days_since_10_cases\": 7, \"confirmed_cases\": 222, \"confirmed_cases_per_million\": 5.0, \"new_cases\": 57}, {\"country\": \"Spain\", \"date\": \"2020-03-05\", \"days_since_10_cases\": 8, \"confirmed_cases\": 259, \"confirmed_cases_per_million\": 5.0, \"new_cases\": 37}, {\"country\": \"Spain\", \"date\": \"2020-03-06\", \"days_since_10_cases\": 9, \"confirmed_cases\": 400, \"confirmed_cases_per_million\": 8.0, \"new_cases\": 141}, {\"country\": \"Spain\", \"date\": \"2020-03-07\", \"days_since_10_cases\": 10, \"confirmed_cases\": 500, \"confirmed_cases_per_million\": 11.0, \"new_cases\": 100}, {\"country\": \"Spain\", \"date\": \"2020-03-08\", \"days_since_10_cases\": 11, \"confirmed_cases\": 673, \"confirmed_cases_per_million\": 14.0, \"new_cases\": 173}, {\"country\": \"Spain\", \"date\": \"2020-03-09\", \"days_since_10_cases\": 12, \"confirmed_cases\": 1073, \"confirmed_cases_per_million\": 23.0, \"new_cases\": 400}, {\"country\": \"Spain\", \"date\": \"2020-03-10\", \"days_since_10_cases\": 13, \"confirmed_cases\": 1695, \"confirmed_cases_per_million\": 36.0, \"new_cases\": 622}, {\"country\": \"Spain\", \"date\": \"2020-03-11\", \"days_since_10_cases\": 14, \"confirmed_cases\": 2277, \"confirmed_cases_per_million\": 48.0, \"new_cases\": 582}, {\"country\": \"Spain\", \"date\": \"2020-03-12\", \"days_since_10_cases\": 15, \"confirmed_cases\": 2277, \"confirmed_cases_per_million\": 48.0, \"new_cases\": 0}, {\"country\": \"Spain\", \"date\": \"2020-03-13\", \"days_since_10_cases\": 16, \"confirmed_cases\": 5232, \"confirmed_cases_per_million\": 111.0, \"new_cases\": 2955}, {\"country\": \"Spain\", \"date\": \"2020-03-14\", \"days_since_10_cases\": 17, \"confirmed_cases\": 6391, \"confirmed_cases_per_million\": 136.0, \"new_cases\": 1159}, {\"country\": \"Spain\", \"date\": \"2020-03-15\", \"days_since_10_cases\": 18, \"confirmed_cases\": 7798, \"confirmed_cases_per_million\": 166.0, \"new_cases\": 1407}, {\"country\": \"Spain\", \"date\": \"2020-03-16\", \"days_since_10_cases\": 19, \"confirmed_cases\": 9942, \"confirmed_cases_per_million\": 211.0, \"new_cases\": 2144}, {\"country\": \"Spain\", \"date\": \"2020-03-17\", \"days_since_10_cases\": 20, \"confirmed_cases\": 11748, \"confirmed_cases_per_million\": 249.0, \"new_cases\": 1806}, {\"country\": \"Spain\", \"date\": \"2020-03-18\", \"days_since_10_cases\": 21, \"confirmed_cases\": 13910, \"confirmed_cases_per_million\": 295.0, \"new_cases\": 2162}, {\"country\": \"Spain\", \"date\": \"2020-03-19\", \"days_since_10_cases\": 22, \"confirmed_cases\": 17963, \"confirmed_cases_per_million\": 381.0, \"new_cases\": 4053}, {\"country\": \"Spain\", \"date\": \"2020-03-20\", \"days_since_10_cases\": 23, \"confirmed_cases\": 20410, \"confirmed_cases_per_million\": 433.0, \"new_cases\": 2447}, {\"country\": \"Spain\", \"date\": \"2020-03-21\", \"days_since_10_cases\": 24, \"confirmed_cases\": 25374, \"confirmed_cases_per_million\": 539.0, \"new_cases\": 4964}, {\"country\": \"Spain\", \"date\": \"2020-03-22\", \"days_since_10_cases\": 25, \"confirmed_cases\": 28768, \"confirmed_cases_per_million\": 611.0, \"new_cases\": 3394}, {\"country\": \"Spain\", \"date\": \"2020-03-23\", \"days_since_10_cases\": 26, \"confirmed_cases\": 35136, \"confirmed_cases_per_million\": 746.0, \"new_cases\": 6368}, {\"country\": \"Spain\", \"date\": \"2020-03-24\", \"days_since_10_cases\": 27, \"confirmed_cases\": 39885, \"confirmed_cases_per_million\": 847.0, \"new_cases\": 4749}, {\"country\": \"Spain\", \"date\": \"2020-03-25\", \"days_since_10_cases\": 28, \"confirmed_cases\": 49515, \"confirmed_cases_per_million\": 1051.0, \"new_cases\": 9630}, {\"country\": \"Spain\", \"date\": \"2020-03-26\", \"days_since_10_cases\": 29, \"confirmed_cases\": 57786, \"confirmed_cases_per_million\": 1227.0, \"new_cases\": 8271}, {\"country\": \"Spain\", \"date\": \"2020-03-27\", \"days_since_10_cases\": 30, \"confirmed_cases\": 65719, \"confirmed_cases_per_million\": 1395.0, \"new_cases\": 7933}, {\"country\": \"Spain\", \"date\": \"2020-03-28\", \"days_since_10_cases\": 31, \"confirmed_cases\": 73235, \"confirmed_cases_per_million\": 1555.0, \"new_cases\": 7516}], \"data-4b656f962742ef0edf51a449fa69f944\": [{\"country\": \"Ireland\", \"date\": \"2020-03-06\", \"days_since_10_cases\": 0, \"confirmed_cases\": 18, \"confirmed_cases_per_million\": 4.0, \"new_cases\": 0}, {\"country\": \"Ireland\", \"date\": \"2020-03-07\", \"days_since_10_cases\": 1, \"confirmed_cases\": 18, \"confirmed_cases_per_million\": 4.0, \"new_cases\": 0}, {\"country\": \"Ireland\", \"date\": \"2020-03-08\", \"days_since_10_cases\": 2, \"confirmed_cases\": 19, \"confirmed_cases_per_million\": 4.0, \"new_cases\": 1}, {\"country\": \"Ireland\", \"date\": \"2020-03-09\", \"days_since_10_cases\": 3, \"confirmed_cases\": 21, \"confirmed_cases_per_million\": 4.0, \"new_cases\": 2}, {\"country\": \"Ireland\", \"date\": \"2020-03-10\", \"days_since_10_cases\": 4, \"confirmed_cases\": 34, \"confirmed_cases_per_million\": 7.0, \"new_cases\": 13}, {\"country\": \"Ireland\", \"date\": \"2020-03-11\", \"days_since_10_cases\": 5, \"confirmed_cases\": 43, \"confirmed_cases_per_million\": 9.0, \"new_cases\": 9}, {\"country\": \"Ireland\", \"date\": \"2020-03-12\", \"days_since_10_cases\": 6, \"confirmed_cases\": 43, \"confirmed_cases_per_million\": 9.0, \"new_cases\": 0}, {\"country\": \"Ireland\", \"date\": \"2020-03-13\", \"days_since_10_cases\": 7, \"confirmed_cases\": 90, \"confirmed_cases_per_million\": 18.0, \"new_cases\": 47}, {\"country\": \"Ireland\", \"date\": \"2020-03-14\", \"days_since_10_cases\": 8, \"confirmed_cases\": 129, \"confirmed_cases_per_million\": 26.0, \"new_cases\": 39}, {\"country\": \"Ireland\", \"date\": \"2020-03-15\", \"days_since_10_cases\": 9, \"confirmed_cases\": 129, \"confirmed_cases_per_million\": 26.0, \"new_cases\": 0}, {\"country\": \"Ireland\", \"date\": \"2020-03-16\", \"days_since_10_cases\": 10, \"confirmed_cases\": 169, \"confirmed_cases_per_million\": 34.0, \"new_cases\": 40}, {\"country\": \"Ireland\", \"date\": \"2020-03-17\", \"days_since_10_cases\": 11, \"confirmed_cases\": 223, \"confirmed_cases_per_million\": 46.0, \"new_cases\": 54}, {\"country\": \"Ireland\", \"date\": \"2020-03-18\", \"days_since_10_cases\": 12, \"confirmed_cases\": 292, \"confirmed_cases_per_million\": 60.0, \"new_cases\": 69}, {\"country\": \"Ireland\", \"date\": \"2020-03-19\", \"days_since_10_cases\": 13, \"confirmed_cases\": 557, \"confirmed_cases_per_million\": 114.0, \"new_cases\": 265}, {\"country\": \"Ireland\", \"date\": \"2020-03-20\", \"days_since_10_cases\": 14, \"confirmed_cases\": 683, \"confirmed_cases_per_million\": 139.0, \"new_cases\": 126}, {\"country\": \"Ireland\", \"date\": \"2020-03-21\", \"days_since_10_cases\": 15, \"confirmed_cases\": 785, \"confirmed_cases_per_million\": 160.0, \"new_cases\": 102}, {\"country\": \"Ireland\", \"date\": \"2020-03-22\", \"days_since_10_cases\": 16, \"confirmed_cases\": 906, \"confirmed_cases_per_million\": 185.0, \"new_cases\": 121}, {\"country\": \"Ireland\", \"date\": \"2020-03-23\", \"days_since_10_cases\": 17, \"confirmed_cases\": 1125, \"confirmed_cases_per_million\": 230.0, \"new_cases\": 219}, {\"country\": \"Ireland\", \"date\": \"2020-03-24\", \"days_since_10_cases\": 18, \"confirmed_cases\": 1329, \"confirmed_cases_per_million\": 271.0, \"new_cases\": 204}, {\"country\": \"Ireland\", \"date\": \"2020-03-25\", \"days_since_10_cases\": 19, \"confirmed_cases\": 1564, \"confirmed_cases_per_million\": 319.0, \"new_cases\": 235}, {\"country\": \"Ireland\", \"date\": \"2020-03-26\", \"days_since_10_cases\": 20, \"confirmed_cases\": 1819, \"confirmed_cases_per_million\": 371.0, \"new_cases\": 255}, {\"country\": \"Ireland\", \"date\": \"2020-03-27\", \"days_since_10_cases\": 21, \"confirmed_cases\": 2121, \"confirmed_cases_per_million\": 433.0, \"new_cases\": 302}, {\"country\": \"Ireland\", \"date\": \"2020-03-28\", \"days_since_10_cases\": 22, \"confirmed_cases\": 2415, \"confirmed_cases_per_million\": 493.0, \"new_cases\": 294}]}}, {\"mode\": \"vega-lite\"});\n",
       "</script>"
      ],
      "text/plain": [
       "alt.LayerChart(...)"
      ]
     },
     "execution_count": 12,
     "metadata": {},
     "output_type": "execute_result"
    }
   ],
   "source": [
    "#hide\n",
    "\n",
    "alt.layer(cases_it_plot, cases_es_plot, cases_ie_plot).resolve_scale(\n",
    "    color='independent',\n",
    "    shape='independent'\n",
    ")"
   ]
  },
  {
   "cell_type": "markdown",
   "metadata": {},
   "source": [
    "---"
   ]
  },
  {
   "cell_type": "code",
   "execution_count": 13,
   "metadata": {},
   "outputs": [],
   "source": [
    "#hide\n",
    "# Number of Covid-19 cases per million"
   ]
  },
  {
   "cell_type": "markdown",
   "metadata": {},
   "source": [
    "# Number of Covid-19 cases per million\n",
    "The respective population of Ireland, Italy, and Spain is as follows (in millions) [\\[source\\]](https://en.wikipedia.org/wiki/List_of_countries_and_dependencies_by_population):\n",
    "\n",
    "- **Ireland** : 4.9M\n",
    "- **Italy** : 60.2M\n",
    "- **Spain** : 47.1M\n",
    "\n",
    "If we plot a figure dividing the total number of cases reported daily by the population (in millions) we can find how many persons are infected per 1 million, which give us a normalized value we could use to understand the severity of the outbreak.\n",
    "\n",
    "### The figure below shows that in fact Ireland has more cases per million than the most affected countries in Europe starting on March 16th, 2020, and growing quickly."
   ]
  },
  {
   "cell_type": "code",
   "execution_count": 14,
   "metadata": {},
   "outputs": [
    {
     "data": {
      "text/html": [
       "\n",
       "<div id=\"altair-viz-41bcdf45997d46b782c8ec31d2bc61f1\"></div>\n",
       "<script type=\"text/javascript\">\n",
       "  (function(spec, embedOpt){\n",
       "    const outputDiv = document.getElementById(\"altair-viz-41bcdf45997d46b782c8ec31d2bc61f1\");\n",
       "    const paths = {\n",
       "      \"vega\": \"https://cdn.jsdelivr.net/npm//vega@5?noext\",\n",
       "      \"vega-lib\": \"https://cdn.jsdelivr.net/npm//vega-lib?noext\",\n",
       "      \"vega-lite\": \"https://cdn.jsdelivr.net/npm//vega-lite@4.0.2?noext\",\n",
       "      \"vega-embed\": \"https://cdn.jsdelivr.net/npm//vega-embed@6?noext\",\n",
       "    };\n",
       "\n",
       "    function loadScript(lib) {\n",
       "      return new Promise(function(resolve, reject) {\n",
       "        var s = document.createElement('script');\n",
       "        s.src = paths[lib];\n",
       "        s.async = true;\n",
       "        s.onload = () => resolve(paths[lib]);\n",
       "        s.onerror = () => reject(`Error loading script: ${paths[lib]}`);\n",
       "        document.getElementsByTagName(\"head\")[0].appendChild(s);\n",
       "      });\n",
       "    }\n",
       "\n",
       "    function showError(err) {\n",
       "      outputDiv.innerHTML = `<div class=\"error\" style=\"color:red;\">${err}</div>`;\n",
       "      throw err;\n",
       "    }\n",
       "\n",
       "    function displayChart(vegaEmbed) {\n",
       "      vegaEmbed(outputDiv, spec, embedOpt)\n",
       "        .catch(err => showError(`Javascript Error: ${err.message}<br>This usually means there's a typo in your chart specification. See the javascript console for the full traceback.`));\n",
       "    }\n",
       "\n",
       "    if(typeof define === \"function\" && define.amd) {\n",
       "      requirejs.config({paths});\n",
       "      require([\"vega-embed\"], displayChart, err => showError(`Error loading script: ${err.message}`));\n",
       "    } else if (typeof vegaEmbed === \"function\") {\n",
       "      displayChart(vegaEmbed);\n",
       "    } else {\n",
       "      loadScript(\"vega\")\n",
       "        .then(() => loadScript(\"vega-lite\"))\n",
       "        .then(() => loadScript(\"vega-embed\"))\n",
       "        .catch(showError)\n",
       "        .then(() => displayChart(vegaEmbed));\n",
       "    }\n",
       "  })({\"config\": {\"view\": {\"continuousWidth\": 400, \"continuousHeight\": 300}}, \"data\": {\"name\": \"data-4b656f962742ef0edf51a449fa69f944\"}, \"mark\": {\"type\": \"circle\", \"color\": \"green\", \"opacity\": 0.7}, \"encoding\": {\"size\": {\"type\": \"quantitative\", \"field\": \"new_cases\", \"title\": \"Number of new cases in Ireland\"}, \"tooltip\": [{\"type\": \"nominal\", \"field\": \"country\"}, {\"type\": \"temporal\", \"field\": \"date\"}, {\"type\": \"quantitative\", \"field\": \"confirmed_cases\"}, {\"type\": \"quantitative\", \"field\": \"confirmed_cases_per_million\"}, {\"type\": \"quantitative\", \"field\": \"new_cases\"}], \"x\": {\"type\": \"quantitative\", \"field\": \"days_since_10_cases\"}, \"y\": {\"type\": \"quantitative\", \"field\": \"confirmed_cases_per_million\", \"scale\": {\"type\": \"sqrt\"}}}, \"$schema\": \"https://vega.github.io/schema/vega-lite/v4.0.2.json\", \"datasets\": {\"data-4b656f962742ef0edf51a449fa69f944\": [{\"country\": \"Ireland\", \"date\": \"2020-03-06\", \"days_since_10_cases\": 0, \"confirmed_cases\": 18, \"confirmed_cases_per_million\": 4.0, \"new_cases\": 0}, {\"country\": \"Ireland\", \"date\": \"2020-03-07\", \"days_since_10_cases\": 1, \"confirmed_cases\": 18, \"confirmed_cases_per_million\": 4.0, \"new_cases\": 0}, {\"country\": \"Ireland\", \"date\": \"2020-03-08\", \"days_since_10_cases\": 2, \"confirmed_cases\": 19, \"confirmed_cases_per_million\": 4.0, \"new_cases\": 1}, {\"country\": \"Ireland\", \"date\": \"2020-03-09\", \"days_since_10_cases\": 3, \"confirmed_cases\": 21, \"confirmed_cases_per_million\": 4.0, \"new_cases\": 2}, {\"country\": \"Ireland\", \"date\": \"2020-03-10\", \"days_since_10_cases\": 4, \"confirmed_cases\": 34, \"confirmed_cases_per_million\": 7.0, \"new_cases\": 13}, {\"country\": \"Ireland\", \"date\": \"2020-03-11\", \"days_since_10_cases\": 5, \"confirmed_cases\": 43, \"confirmed_cases_per_million\": 9.0, \"new_cases\": 9}, {\"country\": \"Ireland\", \"date\": \"2020-03-12\", \"days_since_10_cases\": 6, \"confirmed_cases\": 43, \"confirmed_cases_per_million\": 9.0, \"new_cases\": 0}, {\"country\": \"Ireland\", \"date\": \"2020-03-13\", \"days_since_10_cases\": 7, \"confirmed_cases\": 90, \"confirmed_cases_per_million\": 18.0, \"new_cases\": 47}, {\"country\": \"Ireland\", \"date\": \"2020-03-14\", \"days_since_10_cases\": 8, \"confirmed_cases\": 129, \"confirmed_cases_per_million\": 26.0, \"new_cases\": 39}, {\"country\": \"Ireland\", \"date\": \"2020-03-15\", \"days_since_10_cases\": 9, \"confirmed_cases\": 129, \"confirmed_cases_per_million\": 26.0, \"new_cases\": 0}, {\"country\": \"Ireland\", \"date\": \"2020-03-16\", \"days_since_10_cases\": 10, \"confirmed_cases\": 169, \"confirmed_cases_per_million\": 34.0, \"new_cases\": 40}, {\"country\": \"Ireland\", \"date\": \"2020-03-17\", \"days_since_10_cases\": 11, \"confirmed_cases\": 223, \"confirmed_cases_per_million\": 46.0, \"new_cases\": 54}, {\"country\": \"Ireland\", \"date\": \"2020-03-18\", \"days_since_10_cases\": 12, \"confirmed_cases\": 292, \"confirmed_cases_per_million\": 60.0, \"new_cases\": 69}, {\"country\": \"Ireland\", \"date\": \"2020-03-19\", \"days_since_10_cases\": 13, \"confirmed_cases\": 557, \"confirmed_cases_per_million\": 114.0, \"new_cases\": 265}, {\"country\": \"Ireland\", \"date\": \"2020-03-20\", \"days_since_10_cases\": 14, \"confirmed_cases\": 683, \"confirmed_cases_per_million\": 139.0, \"new_cases\": 126}, {\"country\": \"Ireland\", \"date\": \"2020-03-21\", \"days_since_10_cases\": 15, \"confirmed_cases\": 785, \"confirmed_cases_per_million\": 160.0, \"new_cases\": 102}, {\"country\": \"Ireland\", \"date\": \"2020-03-22\", \"days_since_10_cases\": 16, \"confirmed_cases\": 906, \"confirmed_cases_per_million\": 185.0, \"new_cases\": 121}, {\"country\": \"Ireland\", \"date\": \"2020-03-23\", \"days_since_10_cases\": 17, \"confirmed_cases\": 1125, \"confirmed_cases_per_million\": 230.0, \"new_cases\": 219}, {\"country\": \"Ireland\", \"date\": \"2020-03-24\", \"days_since_10_cases\": 18, \"confirmed_cases\": 1329, \"confirmed_cases_per_million\": 271.0, \"new_cases\": 204}, {\"country\": \"Ireland\", \"date\": \"2020-03-25\", \"days_since_10_cases\": 19, \"confirmed_cases\": 1564, \"confirmed_cases_per_million\": 319.0, \"new_cases\": 235}, {\"country\": \"Ireland\", \"date\": \"2020-03-26\", \"days_since_10_cases\": 20, \"confirmed_cases\": 1819, \"confirmed_cases_per_million\": 371.0, \"new_cases\": 255}, {\"country\": \"Ireland\", \"date\": \"2020-03-27\", \"days_since_10_cases\": 21, \"confirmed_cases\": 2121, \"confirmed_cases_per_million\": 433.0, \"new_cases\": 302}, {\"country\": \"Ireland\", \"date\": \"2020-03-28\", \"days_since_10_cases\": 22, \"confirmed_cases\": 2415, \"confirmed_cases_per_million\": 493.0, \"new_cases\": 294}]}}, {\"mode\": \"vega-lite\"});\n",
       "</script>"
      ],
      "text/plain": [
       "alt.Chart(...)"
      ]
     },
     "execution_count": 14,
     "metadata": {},
     "output_type": "execute_result"
    }
   ],
   "source": [
    "#hide\n",
    "\n",
    "cases_per_million_ie_plot = alt.Chart(source_ie).mark_circle(\n",
    "    color='green',\n",
    "    opacity=0.7).encode(\n",
    "    x='days_since_10_cases:Q',\n",
    "#     y='confirmed_cases:Q',\n",
    "    y=alt.Y('confirmed_cases_per_million:Q', scale=alt.Scale(type='sqrt')),\n",
    "    size=alt.Size('new_cases:Q', title=\"Number of new cases in Ireland\"),\n",
    "    tooltip=['country', 'date:T', 'confirmed_cases:Q', 'confirmed_cases_per_million:Q', 'new_cases']\n",
    ")#.interactive()\n",
    "\n",
    "cases_per_million_ie_plot"
   ]
  },
  {
   "cell_type": "code",
   "execution_count": 15,
   "metadata": {},
   "outputs": [
    {
     "data": {
      "text/html": [
       "\n",
       "<div id=\"altair-viz-88188445e0c949b49a9c3abaa741d12b\"></div>\n",
       "<script type=\"text/javascript\">\n",
       "  (function(spec, embedOpt){\n",
       "    const outputDiv = document.getElementById(\"altair-viz-88188445e0c949b49a9c3abaa741d12b\");\n",
       "    const paths = {\n",
       "      \"vega\": \"https://cdn.jsdelivr.net/npm//vega@5?noext\",\n",
       "      \"vega-lib\": \"https://cdn.jsdelivr.net/npm//vega-lib?noext\",\n",
       "      \"vega-lite\": \"https://cdn.jsdelivr.net/npm//vega-lite@4.0.2?noext\",\n",
       "      \"vega-embed\": \"https://cdn.jsdelivr.net/npm//vega-embed@6?noext\",\n",
       "    };\n",
       "\n",
       "    function loadScript(lib) {\n",
       "      return new Promise(function(resolve, reject) {\n",
       "        var s = document.createElement('script');\n",
       "        s.src = paths[lib];\n",
       "        s.async = true;\n",
       "        s.onload = () => resolve(paths[lib]);\n",
       "        s.onerror = () => reject(`Error loading script: ${paths[lib]}`);\n",
       "        document.getElementsByTagName(\"head\")[0].appendChild(s);\n",
       "      });\n",
       "    }\n",
       "\n",
       "    function showError(err) {\n",
       "      outputDiv.innerHTML = `<div class=\"error\" style=\"color:red;\">${err}</div>`;\n",
       "      throw err;\n",
       "    }\n",
       "\n",
       "    function displayChart(vegaEmbed) {\n",
       "      vegaEmbed(outputDiv, spec, embedOpt)\n",
       "        .catch(err => showError(`Javascript Error: ${err.message}<br>This usually means there's a typo in your chart specification. See the javascript console for the full traceback.`));\n",
       "    }\n",
       "\n",
       "    if(typeof define === \"function\" && define.amd) {\n",
       "      requirejs.config({paths});\n",
       "      require([\"vega-embed\"], displayChart, err => showError(`Error loading script: ${err.message}`));\n",
       "    } else if (typeof vegaEmbed === \"function\") {\n",
       "      displayChart(vegaEmbed);\n",
       "    } else {\n",
       "      loadScript(\"vega\")\n",
       "        .then(() => loadScript(\"vega-lite\"))\n",
       "        .then(() => loadScript(\"vega-embed\"))\n",
       "        .catch(showError)\n",
       "        .then(() => displayChart(vegaEmbed));\n",
       "    }\n",
       "  })({\"config\": {\"view\": {\"continuousWidth\": 400, \"continuousHeight\": 300}}, \"data\": {\"name\": \"data-774efa6f17819813874601c0a04312df\"}, \"mark\": {\"type\": \"line\", \"color\": \"blue\", \"opacity\": 0.5, \"point\": true, \"strokeDash\": [4, 4], \"strokeWidth\": 3}, \"encoding\": {\"color\": {\"type\": \"nominal\", \"field\": \"country\", \"scale\": {\"domain\": [\"Italy\"], \"range\": [\"blue\"]}, \"title\": \"Country\"}, \"tooltip\": [{\"type\": \"nominal\", \"field\": \"country\"}, {\"type\": \"temporal\", \"field\": \"date\"}, {\"type\": \"quantitative\", \"field\": \"confirmed_cases\"}, {\"type\": \"quantitative\", \"field\": \"confirmed_cases_per_million\"}, {\"type\": \"quantitative\", \"field\": \"new_cases\"}], \"x\": {\"type\": \"quantitative\", \"field\": \"days_since_10_cases\"}, \"y\": {\"type\": \"quantitative\", \"field\": \"confirmed_cases_per_million\", \"scale\": {\"type\": \"sqrt\"}}}, \"$schema\": \"https://vega.github.io/schema/vega-lite/v4.0.2.json\", \"datasets\": {\"data-774efa6f17819813874601c0a04312df\": [{\"country\": \"Italy\", \"date\": \"2020-02-21\", \"days_since_10_cases\": 0, \"confirmed_cases\": 20, \"confirmed_cases_per_million\": 0.0, \"new_cases\": 0}, {\"country\": \"Italy\", \"date\": \"2020-02-22\", \"days_since_10_cases\": 1, \"confirmed_cases\": 62, \"confirmed_cases_per_million\": 1.0, \"new_cases\": 42}, {\"country\": \"Italy\", \"date\": \"2020-02-23\", \"days_since_10_cases\": 2, \"confirmed_cases\": 155, \"confirmed_cases_per_million\": 3.0, \"new_cases\": 93}, {\"country\": \"Italy\", \"date\": \"2020-02-24\", \"days_since_10_cases\": 3, \"confirmed_cases\": 229, \"confirmed_cases_per_million\": 4.0, \"new_cases\": 74}, {\"country\": \"Italy\", \"date\": \"2020-02-25\", \"days_since_10_cases\": 4, \"confirmed_cases\": 322, \"confirmed_cases_per_million\": 5.0, \"new_cases\": 93}, {\"country\": \"Italy\", \"date\": \"2020-02-26\", \"days_since_10_cases\": 5, \"confirmed_cases\": 453, \"confirmed_cases_per_million\": 8.0, \"new_cases\": 131}, {\"country\": \"Italy\", \"date\": \"2020-02-27\", \"days_since_10_cases\": 6, \"confirmed_cases\": 655, \"confirmed_cases_per_million\": 11.0, \"new_cases\": 202}, {\"country\": \"Italy\", \"date\": \"2020-02-28\", \"days_since_10_cases\": 7, \"confirmed_cases\": 888, \"confirmed_cases_per_million\": 15.0, \"new_cases\": 233}, {\"country\": \"Italy\", \"date\": \"2020-02-29\", \"days_since_10_cases\": 8, \"confirmed_cases\": 1128, \"confirmed_cases_per_million\": 19.0, \"new_cases\": 240}, {\"country\": \"Italy\", \"date\": \"2020-03-01\", \"days_since_10_cases\": 9, \"confirmed_cases\": 1694, \"confirmed_cases_per_million\": 28.0, \"new_cases\": 566}, {\"country\": \"Italy\", \"date\": \"2020-03-02\", \"days_since_10_cases\": 10, \"confirmed_cases\": 2036, \"confirmed_cases_per_million\": 34.0, \"new_cases\": 342}, {\"country\": \"Italy\", \"date\": \"2020-03-03\", \"days_since_10_cases\": 11, \"confirmed_cases\": 2502, \"confirmed_cases_per_million\": 42.0, \"new_cases\": 466}, {\"country\": \"Italy\", \"date\": \"2020-03-04\", \"days_since_10_cases\": 12, \"confirmed_cases\": 3089, \"confirmed_cases_per_million\": 51.0, \"new_cases\": 587}, {\"country\": \"Italy\", \"date\": \"2020-03-05\", \"days_since_10_cases\": 13, \"confirmed_cases\": 3858, \"confirmed_cases_per_million\": 64.0, \"new_cases\": 769}, {\"country\": \"Italy\", \"date\": \"2020-03-06\", \"days_since_10_cases\": 14, \"confirmed_cases\": 4636, \"confirmed_cases_per_million\": 77.0, \"new_cases\": 778}, {\"country\": \"Italy\", \"date\": \"2020-03-07\", \"days_since_10_cases\": 15, \"confirmed_cases\": 5883, \"confirmed_cases_per_million\": 98.0, \"new_cases\": 1247}, {\"country\": \"Italy\", \"date\": \"2020-03-08\", \"days_since_10_cases\": 16, \"confirmed_cases\": 7375, \"confirmed_cases_per_million\": 123.0, \"new_cases\": 1492}, {\"country\": \"Italy\", \"date\": \"2020-03-09\", \"days_since_10_cases\": 17, \"confirmed_cases\": 9172, \"confirmed_cases_per_million\": 152.0, \"new_cases\": 1797}, {\"country\": \"Italy\", \"date\": \"2020-03-10\", \"days_since_10_cases\": 18, \"confirmed_cases\": 10149, \"confirmed_cases_per_million\": 169.0, \"new_cases\": 977}, {\"country\": \"Italy\", \"date\": \"2020-03-11\", \"days_since_10_cases\": 19, \"confirmed_cases\": 12462, \"confirmed_cases_per_million\": 207.0, \"new_cases\": 2313}, {\"country\": \"Italy\", \"date\": \"2020-03-12\", \"days_since_10_cases\": 20, \"confirmed_cases\": 12462, \"confirmed_cases_per_million\": 207.0, \"new_cases\": 0}, {\"country\": \"Italy\", \"date\": \"2020-03-13\", \"days_since_10_cases\": 21, \"confirmed_cases\": 17660, \"confirmed_cases_per_million\": 293.0, \"new_cases\": 5198}, {\"country\": \"Italy\", \"date\": \"2020-03-14\", \"days_since_10_cases\": 22, \"confirmed_cases\": 21157, \"confirmed_cases_per_million\": 351.0, \"new_cases\": 3497}, {\"country\": \"Italy\", \"date\": \"2020-03-15\", \"days_since_10_cases\": 23, \"confirmed_cases\": 24747, \"confirmed_cases_per_million\": 411.0, \"new_cases\": 3590}, {\"country\": \"Italy\", \"date\": \"2020-03-16\", \"days_since_10_cases\": 24, \"confirmed_cases\": 27980, \"confirmed_cases_per_million\": 465.0, \"new_cases\": 3233}, {\"country\": \"Italy\", \"date\": \"2020-03-17\", \"days_since_10_cases\": 25, \"confirmed_cases\": 31506, \"confirmed_cases_per_million\": 523.0, \"new_cases\": 3526}, {\"country\": \"Italy\", \"date\": \"2020-03-18\", \"days_since_10_cases\": 26, \"confirmed_cases\": 35713, \"confirmed_cases_per_million\": 593.0, \"new_cases\": 4207}, {\"country\": \"Italy\", \"date\": \"2020-03-19\", \"days_since_10_cases\": 27, \"confirmed_cases\": 41035, \"confirmed_cases_per_million\": 682.0, \"new_cases\": 5322}, {\"country\": \"Italy\", \"date\": \"2020-03-20\", \"days_since_10_cases\": 28, \"confirmed_cases\": 47021, \"confirmed_cases_per_million\": 781.0, \"new_cases\": 5986}, {\"country\": \"Italy\", \"date\": \"2020-03-21\", \"days_since_10_cases\": 29, \"confirmed_cases\": 53578, \"confirmed_cases_per_million\": 890.0, \"new_cases\": 6557}, {\"country\": \"Italy\", \"date\": \"2020-03-22\", \"days_since_10_cases\": 30, \"confirmed_cases\": 59138, \"confirmed_cases_per_million\": 982.0, \"new_cases\": 5560}, {\"country\": \"Italy\", \"date\": \"2020-03-23\", \"days_since_10_cases\": 31, \"confirmed_cases\": 63927, \"confirmed_cases_per_million\": 1062.0, \"new_cases\": 4789}, {\"country\": \"Italy\", \"date\": \"2020-03-24\", \"days_since_10_cases\": 32, \"confirmed_cases\": 69176, \"confirmed_cases_per_million\": 1149.0, \"new_cases\": 5249}, {\"country\": \"Italy\", \"date\": \"2020-03-25\", \"days_since_10_cases\": 33, \"confirmed_cases\": 74386, \"confirmed_cases_per_million\": 1236.0, \"new_cases\": 5210}, {\"country\": \"Italy\", \"date\": \"2020-03-26\", \"days_since_10_cases\": 34, \"confirmed_cases\": 80589, \"confirmed_cases_per_million\": 1339.0, \"new_cases\": 6203}, {\"country\": \"Italy\", \"date\": \"2020-03-27\", \"days_since_10_cases\": 35, \"confirmed_cases\": 86498, \"confirmed_cases_per_million\": 1437.0, \"new_cases\": 5909}, {\"country\": \"Italy\", \"date\": \"2020-03-28\", \"days_since_10_cases\": 36, \"confirmed_cases\": 92472, \"confirmed_cases_per_million\": 1536.0, \"new_cases\": 5974}]}}, {\"mode\": \"vega-lite\"});\n",
       "</script>"
      ],
      "text/plain": [
       "alt.Chart(...)"
      ]
     },
     "execution_count": 15,
     "metadata": {},
     "output_type": "execute_result"
    }
   ],
   "source": [
    "#hide\n",
    "\n",
    "cases_per_million_it_plot = alt.Chart(source_it).mark_line(\n",
    "    color='blue',\n",
    "    opacity=0.5,\n",
    "    strokeDash=[4, 4],\n",
    "    strokeWidth=3,\n",
    "    point=True\n",
    ").encode(\n",
    "    x='days_since_10_cases:Q',\n",
    "#     y='confirmed_cases:Q',\n",
    "    y=alt.Y('confirmed_cases_per_million:Q', scale=alt.Scale(type='sqrt')),\n",
    "#     size='new_cases:Q',\n",
    "    tooltip=['country', 'date:T', 'confirmed_cases:Q', 'confirmed_cases_per_million:Q', 'new_cases'],\n",
    "    color=alt.Color('country', scale=alt.Scale(range=['blue'], domain=['Italy']), title=\"Country\")\n",
    ")\n",
    "\n",
    "cases_per_million_it_plot"
   ]
  },
  {
   "cell_type": "code",
   "execution_count": 16,
   "metadata": {},
   "outputs": [
    {
     "data": {
      "text/html": [
       "\n",
       "<div id=\"altair-viz-d003fc8c4abe4e0ab44edd5cf54caafe\"></div>\n",
       "<script type=\"text/javascript\">\n",
       "  (function(spec, embedOpt){\n",
       "    const outputDiv = document.getElementById(\"altair-viz-d003fc8c4abe4e0ab44edd5cf54caafe\");\n",
       "    const paths = {\n",
       "      \"vega\": \"https://cdn.jsdelivr.net/npm//vega@5?noext\",\n",
       "      \"vega-lib\": \"https://cdn.jsdelivr.net/npm//vega-lib?noext\",\n",
       "      \"vega-lite\": \"https://cdn.jsdelivr.net/npm//vega-lite@4.0.2?noext\",\n",
       "      \"vega-embed\": \"https://cdn.jsdelivr.net/npm//vega-embed@6?noext\",\n",
       "    };\n",
       "\n",
       "    function loadScript(lib) {\n",
       "      return new Promise(function(resolve, reject) {\n",
       "        var s = document.createElement('script');\n",
       "        s.src = paths[lib];\n",
       "        s.async = true;\n",
       "        s.onload = () => resolve(paths[lib]);\n",
       "        s.onerror = () => reject(`Error loading script: ${paths[lib]}`);\n",
       "        document.getElementsByTagName(\"head\")[0].appendChild(s);\n",
       "      });\n",
       "    }\n",
       "\n",
       "    function showError(err) {\n",
       "      outputDiv.innerHTML = `<div class=\"error\" style=\"color:red;\">${err}</div>`;\n",
       "      throw err;\n",
       "    }\n",
       "\n",
       "    function displayChart(vegaEmbed) {\n",
       "      vegaEmbed(outputDiv, spec, embedOpt)\n",
       "        .catch(err => showError(`Javascript Error: ${err.message}<br>This usually means there's a typo in your chart specification. See the javascript console for the full traceback.`));\n",
       "    }\n",
       "\n",
       "    if(typeof define === \"function\" && define.amd) {\n",
       "      requirejs.config({paths});\n",
       "      require([\"vega-embed\"], displayChart, err => showError(`Error loading script: ${err.message}`));\n",
       "    } else if (typeof vegaEmbed === \"function\") {\n",
       "      displayChart(vegaEmbed);\n",
       "    } else {\n",
       "      loadScript(\"vega\")\n",
       "        .then(() => loadScript(\"vega-lite\"))\n",
       "        .then(() => loadScript(\"vega-embed\"))\n",
       "        .catch(showError)\n",
       "        .then(() => displayChart(vegaEmbed));\n",
       "    }\n",
       "  })({\"config\": {\"view\": {\"continuousWidth\": 400, \"continuousHeight\": 300}}, \"data\": {\"name\": \"data-a14ef43bb8e966ff8fbe282c2f68c0ac\"}, \"mark\": {\"type\": \"line\", \"color\": \"red\", \"opacity\": 0.5, \"point\": true, \"strokeDash\": [4, 4], \"strokeWidth\": 3}, \"encoding\": {\"color\": {\"type\": \"nominal\", \"field\": \"country\", \"scale\": {\"domain\": [\"Spain\"], \"range\": [\"red\"]}, \"title\": \"\"}, \"tooltip\": [{\"type\": \"nominal\", \"field\": \"country\"}, {\"type\": \"temporal\", \"field\": \"date\"}, {\"type\": \"quantitative\", \"field\": \"confirmed_cases\"}, {\"type\": \"quantitative\", \"field\": \"confirmed_cases_per_million\"}, {\"type\": \"quantitative\", \"field\": \"new_cases\"}], \"x\": {\"type\": \"quantitative\", \"field\": \"days_since_10_cases\"}, \"y\": {\"type\": \"quantitative\", \"field\": \"confirmed_cases_per_million\", \"scale\": {\"type\": \"sqrt\"}}}, \"$schema\": \"https://vega.github.io/schema/vega-lite/v4.0.2.json\", \"datasets\": {\"data-a14ef43bb8e966ff8fbe282c2f68c0ac\": [{\"country\": \"Spain\", \"date\": \"2020-02-26\", \"days_since_10_cases\": 0, \"confirmed_cases\": 13, \"confirmed_cases_per_million\": 0.0, \"new_cases\": 0}, {\"country\": \"Spain\", \"date\": \"2020-02-27\", \"days_since_10_cases\": 1, \"confirmed_cases\": 15, \"confirmed_cases_per_million\": 0.0, \"new_cases\": 2}, {\"country\": \"Spain\", \"date\": \"2020-02-28\", \"days_since_10_cases\": 2, \"confirmed_cases\": 32, \"confirmed_cases_per_million\": 1.0, \"new_cases\": 17}, {\"country\": \"Spain\", \"date\": \"2020-02-29\", \"days_since_10_cases\": 3, \"confirmed_cases\": 45, \"confirmed_cases_per_million\": 1.0, \"new_cases\": 13}, {\"country\": \"Spain\", \"date\": \"2020-03-01\", \"days_since_10_cases\": 4, \"confirmed_cases\": 84, \"confirmed_cases_per_million\": 2.0, \"new_cases\": 39}, {\"country\": \"Spain\", \"date\": \"2020-03-02\", \"days_since_10_cases\": 5, \"confirmed_cases\": 120, \"confirmed_cases_per_million\": 3.0, \"new_cases\": 36}, {\"country\": \"Spain\", \"date\": \"2020-03-03\", \"days_since_10_cases\": 6, \"confirmed_cases\": 165, \"confirmed_cases_per_million\": 4.0, \"new_cases\": 45}, {\"country\": \"Spain\", \"date\": \"2020-03-04\", \"days_since_10_cases\": 7, \"confirmed_cases\": 222, \"confirmed_cases_per_million\": 5.0, \"new_cases\": 57}, {\"country\": \"Spain\", \"date\": \"2020-03-05\", \"days_since_10_cases\": 8, \"confirmed_cases\": 259, \"confirmed_cases_per_million\": 5.0, \"new_cases\": 37}, {\"country\": \"Spain\", \"date\": \"2020-03-06\", \"days_since_10_cases\": 9, \"confirmed_cases\": 400, \"confirmed_cases_per_million\": 8.0, \"new_cases\": 141}, {\"country\": \"Spain\", \"date\": \"2020-03-07\", \"days_since_10_cases\": 10, \"confirmed_cases\": 500, \"confirmed_cases_per_million\": 11.0, \"new_cases\": 100}, {\"country\": \"Spain\", \"date\": \"2020-03-08\", \"days_since_10_cases\": 11, \"confirmed_cases\": 673, \"confirmed_cases_per_million\": 14.0, \"new_cases\": 173}, {\"country\": \"Spain\", \"date\": \"2020-03-09\", \"days_since_10_cases\": 12, \"confirmed_cases\": 1073, \"confirmed_cases_per_million\": 23.0, \"new_cases\": 400}, {\"country\": \"Spain\", \"date\": \"2020-03-10\", \"days_since_10_cases\": 13, \"confirmed_cases\": 1695, \"confirmed_cases_per_million\": 36.0, \"new_cases\": 622}, {\"country\": \"Spain\", \"date\": \"2020-03-11\", \"days_since_10_cases\": 14, \"confirmed_cases\": 2277, \"confirmed_cases_per_million\": 48.0, \"new_cases\": 582}, {\"country\": \"Spain\", \"date\": \"2020-03-12\", \"days_since_10_cases\": 15, \"confirmed_cases\": 2277, \"confirmed_cases_per_million\": 48.0, \"new_cases\": 0}, {\"country\": \"Spain\", \"date\": \"2020-03-13\", \"days_since_10_cases\": 16, \"confirmed_cases\": 5232, \"confirmed_cases_per_million\": 111.0, \"new_cases\": 2955}, {\"country\": \"Spain\", \"date\": \"2020-03-14\", \"days_since_10_cases\": 17, \"confirmed_cases\": 6391, \"confirmed_cases_per_million\": 136.0, \"new_cases\": 1159}, {\"country\": \"Spain\", \"date\": \"2020-03-15\", \"days_since_10_cases\": 18, \"confirmed_cases\": 7798, \"confirmed_cases_per_million\": 166.0, \"new_cases\": 1407}, {\"country\": \"Spain\", \"date\": \"2020-03-16\", \"days_since_10_cases\": 19, \"confirmed_cases\": 9942, \"confirmed_cases_per_million\": 211.0, \"new_cases\": 2144}, {\"country\": \"Spain\", \"date\": \"2020-03-17\", \"days_since_10_cases\": 20, \"confirmed_cases\": 11748, \"confirmed_cases_per_million\": 249.0, \"new_cases\": 1806}, {\"country\": \"Spain\", \"date\": \"2020-03-18\", \"days_since_10_cases\": 21, \"confirmed_cases\": 13910, \"confirmed_cases_per_million\": 295.0, \"new_cases\": 2162}, {\"country\": \"Spain\", \"date\": \"2020-03-19\", \"days_since_10_cases\": 22, \"confirmed_cases\": 17963, \"confirmed_cases_per_million\": 381.0, \"new_cases\": 4053}, {\"country\": \"Spain\", \"date\": \"2020-03-20\", \"days_since_10_cases\": 23, \"confirmed_cases\": 20410, \"confirmed_cases_per_million\": 433.0, \"new_cases\": 2447}, {\"country\": \"Spain\", \"date\": \"2020-03-21\", \"days_since_10_cases\": 24, \"confirmed_cases\": 25374, \"confirmed_cases_per_million\": 539.0, \"new_cases\": 4964}, {\"country\": \"Spain\", \"date\": \"2020-03-22\", \"days_since_10_cases\": 25, \"confirmed_cases\": 28768, \"confirmed_cases_per_million\": 611.0, \"new_cases\": 3394}, {\"country\": \"Spain\", \"date\": \"2020-03-23\", \"days_since_10_cases\": 26, \"confirmed_cases\": 35136, \"confirmed_cases_per_million\": 746.0, \"new_cases\": 6368}, {\"country\": \"Spain\", \"date\": \"2020-03-24\", \"days_since_10_cases\": 27, \"confirmed_cases\": 39885, \"confirmed_cases_per_million\": 847.0, \"new_cases\": 4749}, {\"country\": \"Spain\", \"date\": \"2020-03-25\", \"days_since_10_cases\": 28, \"confirmed_cases\": 49515, \"confirmed_cases_per_million\": 1051.0, \"new_cases\": 9630}, {\"country\": \"Spain\", \"date\": \"2020-03-26\", \"days_since_10_cases\": 29, \"confirmed_cases\": 57786, \"confirmed_cases_per_million\": 1227.0, \"new_cases\": 8271}, {\"country\": \"Spain\", \"date\": \"2020-03-27\", \"days_since_10_cases\": 30, \"confirmed_cases\": 65719, \"confirmed_cases_per_million\": 1395.0, \"new_cases\": 7933}, {\"country\": \"Spain\", \"date\": \"2020-03-28\", \"days_since_10_cases\": 31, \"confirmed_cases\": 73235, \"confirmed_cases_per_million\": 1555.0, \"new_cases\": 7516}]}}, {\"mode\": \"vega-lite\"});\n",
       "</script>"
      ],
      "text/plain": [
       "alt.Chart(...)"
      ]
     },
     "execution_count": 16,
     "metadata": {},
     "output_type": "execute_result"
    }
   ],
   "source": [
    "#hide\n",
    "\n",
    "cases_per_million_es_plot = alt.Chart(source_es).mark_line(\n",
    "    color='red',\n",
    "    opacity=0.5,\n",
    "    strokeDash=[4,4],\n",
    "    strokeWidth=3,\n",
    "    point=True\n",
    ").encode(\n",
    "    x='days_since_10_cases:Q',\n",
    "#     y='confirmed_cases:Q',\n",
    "    y=alt.Y('confirmed_cases_per_million:Q', scale=alt.Scale(type='sqrt')),\n",
    "#     size='new_cases:Q',\n",
    "    tooltip=['country', 'date:T', 'confirmed_cases:Q', 'confirmed_cases_per_million:Q', 'new_cases'],\n",
    "    color=alt.Color('country', scale=alt.Scale(range=['red'], domain=['Spain']), title=\"\")\n",
    ")\n",
    "\n",
    "cases_per_million_es_plot"
   ]
  },
  {
   "cell_type": "code",
   "execution_count": 17,
   "metadata": {},
   "outputs": [
    {
     "data": {
      "text/html": [
       "\n",
       "<div id=\"altair-viz-25ca9e4fee36408dbdae4eaa4fa49b9a\"></div>\n",
       "<script type=\"text/javascript\">\n",
       "  (function(spec, embedOpt){\n",
       "    const outputDiv = document.getElementById(\"altair-viz-25ca9e4fee36408dbdae4eaa4fa49b9a\");\n",
       "    const paths = {\n",
       "      \"vega\": \"https://cdn.jsdelivr.net/npm//vega@5?noext\",\n",
       "      \"vega-lib\": \"https://cdn.jsdelivr.net/npm//vega-lib?noext\",\n",
       "      \"vega-lite\": \"https://cdn.jsdelivr.net/npm//vega-lite@4.0.2?noext\",\n",
       "      \"vega-embed\": \"https://cdn.jsdelivr.net/npm//vega-embed@6?noext\",\n",
       "    };\n",
       "\n",
       "    function loadScript(lib) {\n",
       "      return new Promise(function(resolve, reject) {\n",
       "        var s = document.createElement('script');\n",
       "        s.src = paths[lib];\n",
       "        s.async = true;\n",
       "        s.onload = () => resolve(paths[lib]);\n",
       "        s.onerror = () => reject(`Error loading script: ${paths[lib]}`);\n",
       "        document.getElementsByTagName(\"head\")[0].appendChild(s);\n",
       "      });\n",
       "    }\n",
       "\n",
       "    function showError(err) {\n",
       "      outputDiv.innerHTML = `<div class=\"error\" style=\"color:red;\">${err}</div>`;\n",
       "      throw err;\n",
       "    }\n",
       "\n",
       "    function displayChart(vegaEmbed) {\n",
       "      vegaEmbed(outputDiv, spec, embedOpt)\n",
       "        .catch(err => showError(`Javascript Error: ${err.message}<br>This usually means there's a typo in your chart specification. See the javascript console for the full traceback.`));\n",
       "    }\n",
       "\n",
       "    if(typeof define === \"function\" && define.amd) {\n",
       "      requirejs.config({paths});\n",
       "      require([\"vega-embed\"], displayChart, err => showError(`Error loading script: ${err.message}`));\n",
       "    } else if (typeof vegaEmbed === \"function\") {\n",
       "      displayChart(vegaEmbed);\n",
       "    } else {\n",
       "      loadScript(\"vega\")\n",
       "        .then(() => loadScript(\"vega-lite\"))\n",
       "        .then(() => loadScript(\"vega-embed\"))\n",
       "        .catch(showError)\n",
       "        .then(() => displayChart(vegaEmbed));\n",
       "    }\n",
       "  })({\"config\": {\"view\": {\"continuousWidth\": 400, \"continuousHeight\": 300}}, \"layer\": [{\"data\": {\"name\": \"data-4b656f962742ef0edf51a449fa69f944\"}, \"mark\": {\"type\": \"circle\", \"color\": \"green\", \"opacity\": 0.7}, \"encoding\": {\"size\": {\"type\": \"quantitative\", \"field\": \"new_cases\", \"title\": \"Number of new cases in Ireland\"}, \"tooltip\": [{\"type\": \"nominal\", \"field\": \"country\"}, {\"type\": \"temporal\", \"field\": \"date\"}, {\"type\": \"quantitative\", \"field\": \"confirmed_cases\"}, {\"type\": \"quantitative\", \"field\": \"confirmed_cases_per_million\"}, {\"type\": \"quantitative\", \"field\": \"new_cases\"}], \"x\": {\"type\": \"quantitative\", \"field\": \"days_since_10_cases\"}, \"y\": {\"type\": \"quantitative\", \"field\": \"confirmed_cases_per_million\", \"scale\": {\"type\": \"sqrt\"}}}}, {\"data\": {\"name\": \"data-774efa6f17819813874601c0a04312df\"}, \"mark\": {\"type\": \"line\", \"color\": \"blue\", \"opacity\": 0.5, \"point\": true, \"strokeDash\": [4, 4], \"strokeWidth\": 3}, \"encoding\": {\"color\": {\"type\": \"nominal\", \"field\": \"country\", \"scale\": {\"domain\": [\"Italy\"], \"range\": [\"blue\"]}, \"title\": \"Country\"}, \"tooltip\": [{\"type\": \"nominal\", \"field\": \"country\"}, {\"type\": \"temporal\", \"field\": \"date\"}, {\"type\": \"quantitative\", \"field\": \"confirmed_cases\"}, {\"type\": \"quantitative\", \"field\": \"confirmed_cases_per_million\"}, {\"type\": \"quantitative\", \"field\": \"new_cases\"}], \"x\": {\"type\": \"quantitative\", \"field\": \"days_since_10_cases\"}, \"y\": {\"type\": \"quantitative\", \"field\": \"confirmed_cases_per_million\", \"scale\": {\"type\": \"sqrt\"}}}}, {\"data\": {\"name\": \"data-a14ef43bb8e966ff8fbe282c2f68c0ac\"}, \"mark\": {\"type\": \"line\", \"color\": \"red\", \"opacity\": 0.5, \"point\": true, \"strokeDash\": [4, 4], \"strokeWidth\": 3}, \"encoding\": {\"color\": {\"type\": \"nominal\", \"field\": \"country\", \"scale\": {\"domain\": [\"Spain\"], \"range\": [\"red\"]}, \"title\": \"\"}, \"tooltip\": [{\"type\": \"nominal\", \"field\": \"country\"}, {\"type\": \"temporal\", \"field\": \"date\"}, {\"type\": \"quantitative\", \"field\": \"confirmed_cases\"}, {\"type\": \"quantitative\", \"field\": \"confirmed_cases_per_million\"}, {\"type\": \"quantitative\", \"field\": \"new_cases\"}], \"x\": {\"type\": \"quantitative\", \"field\": \"days_since_10_cases\"}, \"y\": {\"type\": \"quantitative\", \"field\": \"confirmed_cases_per_million\", \"scale\": {\"type\": \"sqrt\"}}}}], \"height\": 600, \"resolve\": {\"scale\": {\"color\": \"independent\", \"shape\": \"independent\"}}, \"width\": 800, \"$schema\": \"https://vega.github.io/schema/vega-lite/v4.0.2.json\", \"datasets\": {\"data-4b656f962742ef0edf51a449fa69f944\": [{\"country\": \"Ireland\", \"date\": \"2020-03-06\", \"days_since_10_cases\": 0, \"confirmed_cases\": 18, \"confirmed_cases_per_million\": 4.0, \"new_cases\": 0}, {\"country\": \"Ireland\", \"date\": \"2020-03-07\", \"days_since_10_cases\": 1, \"confirmed_cases\": 18, \"confirmed_cases_per_million\": 4.0, \"new_cases\": 0}, {\"country\": \"Ireland\", \"date\": \"2020-03-08\", \"days_since_10_cases\": 2, \"confirmed_cases\": 19, \"confirmed_cases_per_million\": 4.0, \"new_cases\": 1}, {\"country\": \"Ireland\", \"date\": \"2020-03-09\", \"days_since_10_cases\": 3, \"confirmed_cases\": 21, \"confirmed_cases_per_million\": 4.0, \"new_cases\": 2}, {\"country\": \"Ireland\", \"date\": \"2020-03-10\", \"days_since_10_cases\": 4, \"confirmed_cases\": 34, \"confirmed_cases_per_million\": 7.0, \"new_cases\": 13}, {\"country\": \"Ireland\", \"date\": \"2020-03-11\", \"days_since_10_cases\": 5, \"confirmed_cases\": 43, \"confirmed_cases_per_million\": 9.0, \"new_cases\": 9}, {\"country\": \"Ireland\", \"date\": \"2020-03-12\", \"days_since_10_cases\": 6, \"confirmed_cases\": 43, \"confirmed_cases_per_million\": 9.0, \"new_cases\": 0}, {\"country\": \"Ireland\", \"date\": \"2020-03-13\", \"days_since_10_cases\": 7, \"confirmed_cases\": 90, \"confirmed_cases_per_million\": 18.0, \"new_cases\": 47}, {\"country\": \"Ireland\", \"date\": \"2020-03-14\", \"days_since_10_cases\": 8, \"confirmed_cases\": 129, \"confirmed_cases_per_million\": 26.0, \"new_cases\": 39}, {\"country\": \"Ireland\", \"date\": \"2020-03-15\", \"days_since_10_cases\": 9, \"confirmed_cases\": 129, \"confirmed_cases_per_million\": 26.0, \"new_cases\": 0}, {\"country\": \"Ireland\", \"date\": \"2020-03-16\", \"days_since_10_cases\": 10, \"confirmed_cases\": 169, \"confirmed_cases_per_million\": 34.0, \"new_cases\": 40}, {\"country\": \"Ireland\", \"date\": \"2020-03-17\", \"days_since_10_cases\": 11, \"confirmed_cases\": 223, \"confirmed_cases_per_million\": 46.0, \"new_cases\": 54}, {\"country\": \"Ireland\", \"date\": \"2020-03-18\", \"days_since_10_cases\": 12, \"confirmed_cases\": 292, \"confirmed_cases_per_million\": 60.0, \"new_cases\": 69}, {\"country\": \"Ireland\", \"date\": \"2020-03-19\", \"days_since_10_cases\": 13, \"confirmed_cases\": 557, \"confirmed_cases_per_million\": 114.0, \"new_cases\": 265}, {\"country\": \"Ireland\", \"date\": \"2020-03-20\", \"days_since_10_cases\": 14, \"confirmed_cases\": 683, \"confirmed_cases_per_million\": 139.0, \"new_cases\": 126}, {\"country\": \"Ireland\", \"date\": \"2020-03-21\", \"days_since_10_cases\": 15, \"confirmed_cases\": 785, \"confirmed_cases_per_million\": 160.0, \"new_cases\": 102}, {\"country\": \"Ireland\", \"date\": \"2020-03-22\", \"days_since_10_cases\": 16, \"confirmed_cases\": 906, \"confirmed_cases_per_million\": 185.0, \"new_cases\": 121}, {\"country\": \"Ireland\", \"date\": \"2020-03-23\", \"days_since_10_cases\": 17, \"confirmed_cases\": 1125, \"confirmed_cases_per_million\": 230.0, \"new_cases\": 219}, {\"country\": \"Ireland\", \"date\": \"2020-03-24\", \"days_since_10_cases\": 18, \"confirmed_cases\": 1329, \"confirmed_cases_per_million\": 271.0, \"new_cases\": 204}, {\"country\": \"Ireland\", \"date\": \"2020-03-25\", \"days_since_10_cases\": 19, \"confirmed_cases\": 1564, \"confirmed_cases_per_million\": 319.0, \"new_cases\": 235}, {\"country\": \"Ireland\", \"date\": \"2020-03-26\", \"days_since_10_cases\": 20, \"confirmed_cases\": 1819, \"confirmed_cases_per_million\": 371.0, \"new_cases\": 255}, {\"country\": \"Ireland\", \"date\": \"2020-03-27\", \"days_since_10_cases\": 21, \"confirmed_cases\": 2121, \"confirmed_cases_per_million\": 433.0, \"new_cases\": 302}, {\"country\": \"Ireland\", \"date\": \"2020-03-28\", \"days_since_10_cases\": 22, \"confirmed_cases\": 2415, \"confirmed_cases_per_million\": 493.0, \"new_cases\": 294}], \"data-774efa6f17819813874601c0a04312df\": [{\"country\": \"Italy\", \"date\": \"2020-02-21\", \"days_since_10_cases\": 0, \"confirmed_cases\": 20, \"confirmed_cases_per_million\": 0.0, \"new_cases\": 0}, {\"country\": \"Italy\", \"date\": \"2020-02-22\", \"days_since_10_cases\": 1, \"confirmed_cases\": 62, \"confirmed_cases_per_million\": 1.0, \"new_cases\": 42}, {\"country\": \"Italy\", \"date\": \"2020-02-23\", \"days_since_10_cases\": 2, \"confirmed_cases\": 155, \"confirmed_cases_per_million\": 3.0, \"new_cases\": 93}, {\"country\": \"Italy\", \"date\": \"2020-02-24\", \"days_since_10_cases\": 3, \"confirmed_cases\": 229, \"confirmed_cases_per_million\": 4.0, \"new_cases\": 74}, {\"country\": \"Italy\", \"date\": \"2020-02-25\", \"days_since_10_cases\": 4, \"confirmed_cases\": 322, \"confirmed_cases_per_million\": 5.0, \"new_cases\": 93}, {\"country\": \"Italy\", \"date\": \"2020-02-26\", \"days_since_10_cases\": 5, \"confirmed_cases\": 453, \"confirmed_cases_per_million\": 8.0, \"new_cases\": 131}, {\"country\": \"Italy\", \"date\": \"2020-02-27\", \"days_since_10_cases\": 6, \"confirmed_cases\": 655, \"confirmed_cases_per_million\": 11.0, \"new_cases\": 202}, {\"country\": \"Italy\", \"date\": \"2020-02-28\", \"days_since_10_cases\": 7, \"confirmed_cases\": 888, \"confirmed_cases_per_million\": 15.0, \"new_cases\": 233}, {\"country\": \"Italy\", \"date\": \"2020-02-29\", \"days_since_10_cases\": 8, \"confirmed_cases\": 1128, \"confirmed_cases_per_million\": 19.0, \"new_cases\": 240}, {\"country\": \"Italy\", \"date\": \"2020-03-01\", \"days_since_10_cases\": 9, \"confirmed_cases\": 1694, \"confirmed_cases_per_million\": 28.0, \"new_cases\": 566}, {\"country\": \"Italy\", \"date\": \"2020-03-02\", \"days_since_10_cases\": 10, \"confirmed_cases\": 2036, \"confirmed_cases_per_million\": 34.0, \"new_cases\": 342}, {\"country\": \"Italy\", \"date\": \"2020-03-03\", \"days_since_10_cases\": 11, \"confirmed_cases\": 2502, \"confirmed_cases_per_million\": 42.0, \"new_cases\": 466}, {\"country\": \"Italy\", \"date\": \"2020-03-04\", \"days_since_10_cases\": 12, \"confirmed_cases\": 3089, \"confirmed_cases_per_million\": 51.0, \"new_cases\": 587}, {\"country\": \"Italy\", \"date\": \"2020-03-05\", \"days_since_10_cases\": 13, \"confirmed_cases\": 3858, \"confirmed_cases_per_million\": 64.0, \"new_cases\": 769}, {\"country\": \"Italy\", \"date\": \"2020-03-06\", \"days_since_10_cases\": 14, \"confirmed_cases\": 4636, \"confirmed_cases_per_million\": 77.0, \"new_cases\": 778}, {\"country\": \"Italy\", \"date\": \"2020-03-07\", \"days_since_10_cases\": 15, \"confirmed_cases\": 5883, \"confirmed_cases_per_million\": 98.0, \"new_cases\": 1247}, {\"country\": \"Italy\", \"date\": \"2020-03-08\", \"days_since_10_cases\": 16, \"confirmed_cases\": 7375, \"confirmed_cases_per_million\": 123.0, \"new_cases\": 1492}, {\"country\": \"Italy\", \"date\": \"2020-03-09\", \"days_since_10_cases\": 17, \"confirmed_cases\": 9172, \"confirmed_cases_per_million\": 152.0, \"new_cases\": 1797}, {\"country\": \"Italy\", \"date\": \"2020-03-10\", \"days_since_10_cases\": 18, \"confirmed_cases\": 10149, \"confirmed_cases_per_million\": 169.0, \"new_cases\": 977}, {\"country\": \"Italy\", \"date\": \"2020-03-11\", \"days_since_10_cases\": 19, \"confirmed_cases\": 12462, \"confirmed_cases_per_million\": 207.0, \"new_cases\": 2313}, {\"country\": \"Italy\", \"date\": \"2020-03-12\", \"days_since_10_cases\": 20, \"confirmed_cases\": 12462, \"confirmed_cases_per_million\": 207.0, \"new_cases\": 0}, {\"country\": \"Italy\", \"date\": \"2020-03-13\", \"days_since_10_cases\": 21, \"confirmed_cases\": 17660, \"confirmed_cases_per_million\": 293.0, \"new_cases\": 5198}, {\"country\": \"Italy\", \"date\": \"2020-03-14\", \"days_since_10_cases\": 22, \"confirmed_cases\": 21157, \"confirmed_cases_per_million\": 351.0, \"new_cases\": 3497}, {\"country\": \"Italy\", \"date\": \"2020-03-15\", \"days_since_10_cases\": 23, \"confirmed_cases\": 24747, \"confirmed_cases_per_million\": 411.0, \"new_cases\": 3590}, {\"country\": \"Italy\", \"date\": \"2020-03-16\", \"days_since_10_cases\": 24, \"confirmed_cases\": 27980, \"confirmed_cases_per_million\": 465.0, \"new_cases\": 3233}, {\"country\": \"Italy\", \"date\": \"2020-03-17\", \"days_since_10_cases\": 25, \"confirmed_cases\": 31506, \"confirmed_cases_per_million\": 523.0, \"new_cases\": 3526}, {\"country\": \"Italy\", \"date\": \"2020-03-18\", \"days_since_10_cases\": 26, \"confirmed_cases\": 35713, \"confirmed_cases_per_million\": 593.0, \"new_cases\": 4207}, {\"country\": \"Italy\", \"date\": \"2020-03-19\", \"days_since_10_cases\": 27, \"confirmed_cases\": 41035, \"confirmed_cases_per_million\": 682.0, \"new_cases\": 5322}, {\"country\": \"Italy\", \"date\": \"2020-03-20\", \"days_since_10_cases\": 28, \"confirmed_cases\": 47021, \"confirmed_cases_per_million\": 781.0, \"new_cases\": 5986}, {\"country\": \"Italy\", \"date\": \"2020-03-21\", \"days_since_10_cases\": 29, \"confirmed_cases\": 53578, \"confirmed_cases_per_million\": 890.0, \"new_cases\": 6557}, {\"country\": \"Italy\", \"date\": \"2020-03-22\", \"days_since_10_cases\": 30, \"confirmed_cases\": 59138, \"confirmed_cases_per_million\": 982.0, \"new_cases\": 5560}, {\"country\": \"Italy\", \"date\": \"2020-03-23\", \"days_since_10_cases\": 31, \"confirmed_cases\": 63927, \"confirmed_cases_per_million\": 1062.0, \"new_cases\": 4789}, {\"country\": \"Italy\", \"date\": \"2020-03-24\", \"days_since_10_cases\": 32, \"confirmed_cases\": 69176, \"confirmed_cases_per_million\": 1149.0, \"new_cases\": 5249}, {\"country\": \"Italy\", \"date\": \"2020-03-25\", \"days_since_10_cases\": 33, \"confirmed_cases\": 74386, \"confirmed_cases_per_million\": 1236.0, \"new_cases\": 5210}, {\"country\": \"Italy\", \"date\": \"2020-03-26\", \"days_since_10_cases\": 34, \"confirmed_cases\": 80589, \"confirmed_cases_per_million\": 1339.0, \"new_cases\": 6203}, {\"country\": \"Italy\", \"date\": \"2020-03-27\", \"days_since_10_cases\": 35, \"confirmed_cases\": 86498, \"confirmed_cases_per_million\": 1437.0, \"new_cases\": 5909}, {\"country\": \"Italy\", \"date\": \"2020-03-28\", \"days_since_10_cases\": 36, \"confirmed_cases\": 92472, \"confirmed_cases_per_million\": 1536.0, \"new_cases\": 5974}], \"data-a14ef43bb8e966ff8fbe282c2f68c0ac\": [{\"country\": \"Spain\", \"date\": \"2020-02-26\", \"days_since_10_cases\": 0, \"confirmed_cases\": 13, \"confirmed_cases_per_million\": 0.0, \"new_cases\": 0}, {\"country\": \"Spain\", \"date\": \"2020-02-27\", \"days_since_10_cases\": 1, \"confirmed_cases\": 15, \"confirmed_cases_per_million\": 0.0, \"new_cases\": 2}, {\"country\": \"Spain\", \"date\": \"2020-02-28\", \"days_since_10_cases\": 2, \"confirmed_cases\": 32, \"confirmed_cases_per_million\": 1.0, \"new_cases\": 17}, {\"country\": \"Spain\", \"date\": \"2020-02-29\", \"days_since_10_cases\": 3, \"confirmed_cases\": 45, \"confirmed_cases_per_million\": 1.0, \"new_cases\": 13}, {\"country\": \"Spain\", \"date\": \"2020-03-01\", \"days_since_10_cases\": 4, \"confirmed_cases\": 84, \"confirmed_cases_per_million\": 2.0, \"new_cases\": 39}, {\"country\": \"Spain\", \"date\": \"2020-03-02\", \"days_since_10_cases\": 5, \"confirmed_cases\": 120, \"confirmed_cases_per_million\": 3.0, \"new_cases\": 36}, {\"country\": \"Spain\", \"date\": \"2020-03-03\", \"days_since_10_cases\": 6, \"confirmed_cases\": 165, \"confirmed_cases_per_million\": 4.0, \"new_cases\": 45}, {\"country\": \"Spain\", \"date\": \"2020-03-04\", \"days_since_10_cases\": 7, \"confirmed_cases\": 222, \"confirmed_cases_per_million\": 5.0, \"new_cases\": 57}, {\"country\": \"Spain\", \"date\": \"2020-03-05\", \"days_since_10_cases\": 8, \"confirmed_cases\": 259, \"confirmed_cases_per_million\": 5.0, \"new_cases\": 37}, {\"country\": \"Spain\", \"date\": \"2020-03-06\", \"days_since_10_cases\": 9, \"confirmed_cases\": 400, \"confirmed_cases_per_million\": 8.0, \"new_cases\": 141}, {\"country\": \"Spain\", \"date\": \"2020-03-07\", \"days_since_10_cases\": 10, \"confirmed_cases\": 500, \"confirmed_cases_per_million\": 11.0, \"new_cases\": 100}, {\"country\": \"Spain\", \"date\": \"2020-03-08\", \"days_since_10_cases\": 11, \"confirmed_cases\": 673, \"confirmed_cases_per_million\": 14.0, \"new_cases\": 173}, {\"country\": \"Spain\", \"date\": \"2020-03-09\", \"days_since_10_cases\": 12, \"confirmed_cases\": 1073, \"confirmed_cases_per_million\": 23.0, \"new_cases\": 400}, {\"country\": \"Spain\", \"date\": \"2020-03-10\", \"days_since_10_cases\": 13, \"confirmed_cases\": 1695, \"confirmed_cases_per_million\": 36.0, \"new_cases\": 622}, {\"country\": \"Spain\", \"date\": \"2020-03-11\", \"days_since_10_cases\": 14, \"confirmed_cases\": 2277, \"confirmed_cases_per_million\": 48.0, \"new_cases\": 582}, {\"country\": \"Spain\", \"date\": \"2020-03-12\", \"days_since_10_cases\": 15, \"confirmed_cases\": 2277, \"confirmed_cases_per_million\": 48.0, \"new_cases\": 0}, {\"country\": \"Spain\", \"date\": \"2020-03-13\", \"days_since_10_cases\": 16, \"confirmed_cases\": 5232, \"confirmed_cases_per_million\": 111.0, \"new_cases\": 2955}, {\"country\": \"Spain\", \"date\": \"2020-03-14\", \"days_since_10_cases\": 17, \"confirmed_cases\": 6391, \"confirmed_cases_per_million\": 136.0, \"new_cases\": 1159}, {\"country\": \"Spain\", \"date\": \"2020-03-15\", \"days_since_10_cases\": 18, \"confirmed_cases\": 7798, \"confirmed_cases_per_million\": 166.0, \"new_cases\": 1407}, {\"country\": \"Spain\", \"date\": \"2020-03-16\", \"days_since_10_cases\": 19, \"confirmed_cases\": 9942, \"confirmed_cases_per_million\": 211.0, \"new_cases\": 2144}, {\"country\": \"Spain\", \"date\": \"2020-03-17\", \"days_since_10_cases\": 20, \"confirmed_cases\": 11748, \"confirmed_cases_per_million\": 249.0, \"new_cases\": 1806}, {\"country\": \"Spain\", \"date\": \"2020-03-18\", \"days_since_10_cases\": 21, \"confirmed_cases\": 13910, \"confirmed_cases_per_million\": 295.0, \"new_cases\": 2162}, {\"country\": \"Spain\", \"date\": \"2020-03-19\", \"days_since_10_cases\": 22, \"confirmed_cases\": 17963, \"confirmed_cases_per_million\": 381.0, \"new_cases\": 4053}, {\"country\": \"Spain\", \"date\": \"2020-03-20\", \"days_since_10_cases\": 23, \"confirmed_cases\": 20410, \"confirmed_cases_per_million\": 433.0, \"new_cases\": 2447}, {\"country\": \"Spain\", \"date\": \"2020-03-21\", \"days_since_10_cases\": 24, \"confirmed_cases\": 25374, \"confirmed_cases_per_million\": 539.0, \"new_cases\": 4964}, {\"country\": \"Spain\", \"date\": \"2020-03-22\", \"days_since_10_cases\": 25, \"confirmed_cases\": 28768, \"confirmed_cases_per_million\": 611.0, \"new_cases\": 3394}, {\"country\": \"Spain\", \"date\": \"2020-03-23\", \"days_since_10_cases\": 26, \"confirmed_cases\": 35136, \"confirmed_cases_per_million\": 746.0, \"new_cases\": 6368}, {\"country\": \"Spain\", \"date\": \"2020-03-24\", \"days_since_10_cases\": 27, \"confirmed_cases\": 39885, \"confirmed_cases_per_million\": 847.0, \"new_cases\": 4749}, {\"country\": \"Spain\", \"date\": \"2020-03-25\", \"days_since_10_cases\": 28, \"confirmed_cases\": 49515, \"confirmed_cases_per_million\": 1051.0, \"new_cases\": 9630}, {\"country\": \"Spain\", \"date\": \"2020-03-26\", \"days_since_10_cases\": 29, \"confirmed_cases\": 57786, \"confirmed_cases_per_million\": 1227.0, \"new_cases\": 8271}, {\"country\": \"Spain\", \"date\": \"2020-03-27\", \"days_since_10_cases\": 30, \"confirmed_cases\": 65719, \"confirmed_cases_per_million\": 1395.0, \"new_cases\": 7933}, {\"country\": \"Spain\", \"date\": \"2020-03-28\", \"days_since_10_cases\": 31, \"confirmed_cases\": 73235, \"confirmed_cases_per_million\": 1555.0, \"new_cases\": 7516}]}}, {\"mode\": \"vega-lite\"});\n",
       "</script>"
      ],
      "text/plain": [
       "alt.LayerChart(...)"
      ]
     },
     "execution_count": 17,
     "metadata": {},
     "output_type": "execute_result"
    }
   ],
   "source": [
    "#hide_input\n",
    "\n",
    "alt.layer(cases_per_million_ie_plot, cases_per_million_it_plot, cases_per_million_es_plot).properties(\n",
    "    width=800, height=600\n",
    ").resolve_scale(\n",
    "    color='independent',\n",
    "    shape='independent'\n",
    ")"
   ]
  },
  {
   "cell_type": "markdown",
   "metadata": {},
   "source": [
    "---\n",
    "### Data Sources\n",
    "- Government of Ireland [https://www.gov.ie/]\n",
    "- 2019 Novel Coronavirus COVID-19 (2019-nCoV) Data Repository by Johns Hopkins CSSE [https://github.com/CSSEGISandData/COVID-19]\n"
   ]
  }
 ],
 "metadata": {
  "kernelspec": {
   "display_name": "Python 3",
   "language": "python",
   "name": "python3"
  },
  "language_info": {
   "codemirror_mode": {
    "name": "ipython",
    "version": 3
   },
   "file_extension": ".py",
   "mimetype": "text/x-python",
   "name": "python",
   "nbconvert_exporter": "python",
   "pygments_lexer": "ipython3",
   "version": "3.7.5"
  }
 },
 "nbformat": 4,
 "nbformat_minor": 4
}
